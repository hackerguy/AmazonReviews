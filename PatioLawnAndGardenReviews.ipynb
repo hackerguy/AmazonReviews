{
 "cells": [
  {
   "cell_type": "markdown",
   "metadata": {},
   "source": [
    "<img src=\"data:image/png;base64,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\" style=\"width:200px; float: left; padding-right: 10px\"/>\n",
    "<h2 style=\"font-face: verdana; font-size: 32px;\">Amazon Reviews</h2>\n",
    "<h3 style=\"font-face: verdana; font-size: 16px;\">Derive rich features for Machine Learning with the Watson Cognitive APIs</h3>\n",
    "<br><br>\n",
    "\n",
    "<h3 style=\"font-face: verdana; font-size: 16px;\">The objective of this machine learning model is to predict the rating a user would give a product based on his or her customer review.</h3>\n",
    "\n",
    "The dataset contains the ID of the reviewer, the product ID, the reviewer's name, a helpfulness rating of the review by other users, the review text, an overall rating of the product, a summary of the review and the time of the review. In this machine learning model, we will only be using the review text and the user's overall rating of the product.\n",
    "<br><br>\n",
    "\n",
    "Data fields in the dataset:\n",
    "\n",
    "\n",
    "    reviewerID - ID of the reviewer, e.g. A2SUAM1J3GNN3B\n",
    "    asin - ID of the product, e.g. 0000013714\n",
    "    reviewerName - name of the reviewer\n",
    "    helpful - helpfulness rating of the review, e.g. 2/3\n",
    "    reviewText - text of the review\n",
    "    overall - rating of the product\n",
    "    summary - summary of the review\n",
    "    unixReviewTime - time of the review (unix time)\n",
    "    reviewTime - time of the review (raw)\n",
    "\n",
    "<br><br>\n",
    "<img src=\"https://github.com/hackerguy/Amazon/blob/master/SampleReview.jpg?raw=true/\">\n",
    "<br><br>\n",
    "\n",
    "<h3 style=\"font-face: verdana; font-size: 16px;\">Approach</h3>\n",
    "\n",
    "We will approach this challenge by first using a traditional multiclassification machine learning approach. We will then explore using IBM Watson Natural Language Understanding to derive additional enhanced features on which to learn a machine learning model.\n",
    "\n",
    "<h3 style=\"font-face: verdana; font-size: 16px;\">IBM Watson Natural Language Understanding</h3>\n",
    "\n",
    "IBM Watson™ Natural Language Understanding (NLU) can analyze semantic features of text input, including categories, concepts, emotion, entities, keywords, metadata, relations, semantic roles, and sentiment. In this example, we will utilize the emotion and sentiment features of NLU to create enhanced machine learning features.\n",
    "\n",
    "\n",
    "<h4 style=\"font-face: verdana; font-size: 16px;\">Emotion</h4>\n",
    "\n",
    "The emotion feature of NLU allows you to analyze emotion conveyed by specific target phrases or by the document as a whole. You can also enable emotion analysis for entities and keywords that are automatically detected by the service. In this example, we will simply analyze the spooky excerpt as a whole. The emotions we will derive features for are \n",
    "\n",
    "- Anger\n",
    "- Joy\n",
    "- Sadness\n",
    "- Fear\n",
    "- Disgust\n",
    "\n",
    "Emotion scores range from 0 to 1 for sadness, joy, fear, disgust, and anger. A 0 means the text doesn't convey the emotion, and a 1 means the text definitely carries the emotion.\n",
    "\n",
    "<h4 style=\"font-face: verdana; font-size: 16px;\">Sentiment</h4>\n",
    "\n",
    "The sentiment feature of NLU allows you to analyze the sentiment toward specific target phrases and the sentiment of the document as a whole. You can also get sentiment information for detected entities and keywords by enabling the sentiment option for those features. In this example, we will simply analyze the spooky excerpt as a whole.\n",
    "\n",
    "The sentiment score ranges from -1 (negative sentiment) to 1 (positive sentiment).\n",
    "\n"
   ]
  },
  {
   "cell_type": "markdown",
   "metadata": {},
   "source": [
    "# Notebook Flow\n",
    "\n",
    "\n",
    "**Part 1: [Traditional Machine Learning](#Part-1:-Traditional-Machine-Learning)**\n",
    "  1. [Read in the Data](#1.-Read-in-the-Data)<br>\n",
    "  2. [Clean the Data](#2.-Clean-the-Data)<br>\n",
    "  3. [Feature Engineering](#3.-Feature-Engineering)<br>\n",
    "  4. [Build ML Pipeline and Learn a Model](#4.-Build-ML-Pipeline-and-Learn-a-Model)<br>\n",
    "  5. [Evaluate the Model](#5.-Evaluate-the-Model)\n",
    "    \n",
    "**Part 2: [Machine Learning using Watson Cognitive APIs](#Part-2:-Machine-Learning-using-Watson-Cognitive-APIs)**\n",
    "  1. [Set up for Use of the Natural Language Understanding Service](#1.-Set-up-for-Use-of-the-Natural-Language-Understanding-Service)<br>\n",
    "  2. [Create Enhanced Features using the NLU Service](#2.-Create-Enhanced-Features-using-the-NLU-Service)<br>\n",
    "  3. [Retrain Model with NLU Features Added](#3.-Retrain-Model-with-NLU-Features-Added)\n",
    "  4. [Evaluate the Model Learned with NLU Features](#4.-Evaluate-the-Model-Learned-with-NLU-Features)\n"
   ]
  },
  {
   "cell_type": "markdown",
   "metadata": {},
   "source": [
    "# Part 1: Traditional Machine Learning\n",
    "\n",
    "This section will employ a traditional multiclassification machine learning approach to learning a model."
   ]
  },
  {
   "cell_type": "markdown",
   "metadata": {},
   "source": [
    "## 1. Read in the Data"
   ]
  },
  {
   "cell_type": "markdown",
   "metadata": {},
   "source": [
    "### Download and unzip the dataset"
   ]
  },
  {
   "cell_type": "code",
   "execution_count": 1,
   "metadata": {},
   "outputs": [],
   "source": [
    "import os\n",
    "if os.path.isfile('reviews_Patio_Lawn_and_Garden_5.gz'):\n",
    "    os.remove(\"reviews_Patio_Lawn_and_Garden_5.gz\")\n",
    "if os.path.isfile('reviews_Patio_Lawn_and_Garden_5.json'):\n",
    "    os.remove(\"reviews_Patio_Lawn_and_Garden_5.json\")\n",
    "\n",
    "import wget\n",
    "url = 'https://github.com/hackerguy/Amazon/blob/master/reviews_Patio_Lawn_and_Garden_5.gz?raw=true?raw=true -O reviews_Patio_Lawn_and_Garden_5.json'\n",
    "wget.download(url)\n",
    "\n",
    "import gzip\n",
    "with gzip.open('reviews_Patio_Lawn_and_Garden_5.gz', 'rb') as f:\n",
    "    file_content = f.read() \n",
    "\n",
    "file = open('reviews_Patio_Lawn_and_Garden_5.json','w') \n",
    "file.write(file_content) \n",
    "file.close() "
   ]
  },
  {
   "cell_type": "markdown",
   "metadata": {},
   "source": [
    "### Read in the data set as a Spark DataFrame\n",
    "#### Infer schema and column names"
   ]
  },
  {
   "cell_type": "code",
   "execution_count": 22,
   "metadata": {},
   "outputs": [],
   "source": [
    "from pyspark.sql import SparkSession\n",
    "spark = SparkSession.builder.getOrCreate()\n",
    "\n",
    "data = (spark.read\n",
    "  .format('json')\n",
    "  .option(\"inferSchema\", \"true\")\n",
    "  .load('reviews_Patio_Lawn_and_Garden_5.json'))"
   ]
  },
  {
   "cell_type": "markdown",
   "metadata": {},
   "source": [
    "### Display the dataframe"
   ]
  },
  {
   "cell_type": "code",
   "execution_count": 23,
   "metadata": {
    "scrolled": true
   },
   "outputs": [
    {
     "data": {
      "text/html": [
       "<div>\n",
       "<table border=\"1\" class=\"dataframe\">\n",
       "  <thead>\n",
       "    <tr style=\"text-align: right;\">\n",
       "      <th></th>\n",
       "      <th>asin</th>\n",
       "      <th>helpful</th>\n",
       "      <th>overall</th>\n",
       "      <th>reviewText</th>\n",
       "      <th>reviewTime</th>\n",
       "      <th>reviewerID</th>\n",
       "      <th>reviewerName</th>\n",
       "      <th>summary</th>\n",
       "      <th>unixReviewTime</th>\n",
       "    </tr>\n",
       "  </thead>\n",
       "  <tbody>\n",
       "    <tr>\n",
       "      <th>0</th>\n",
       "      <td>B00002N674</td>\n",
       "      <td>[4, 4]</td>\n",
       "      <td>4</td>\n",
       "      <td>Good USA company that stands behind their products. I have had to warranty two hoses and they send replacements right out to you. I had one burst after awhile, you could see it buldge for weeks before it went so no suprises. The other one was winter related as I am bad and leave them out most of the time. Highly reccomend. Note the hundred footer is heavy and like wresting an anaconda when its time to put away, but it does have a far reach.</td>\n",
       "      <td>06 21, 2011</td>\n",
       "      <td>A1JZFGZEZVWQPY</td>\n",
       "      <td>Carter H \"1amazonreviewer@gmail . com\"</td>\n",
       "      <td>Great Hoses</td>\n",
       "      <td>1308614400</td>\n",
       "    </tr>\n",
       "    <tr>\n",
       "      <th>1</th>\n",
       "      <td>B00002N674</td>\n",
       "      <td>[0, 0]</td>\n",
       "      <td>5</td>\n",
       "      <td>This is a high quality 8 ply hose. I have had good luck with Gilmour hoses in the past. A good choice in hoses.</td>\n",
       "      <td>06 9, 2014</td>\n",
       "      <td>A32JCI4AK2JTTG</td>\n",
       "      <td>Darryl Bennett \"Fuzzy342\"</td>\n",
       "      <td>Gilmour 10-58050 8-ply Flexogen Hose 5/8-Inch by 50-Foot, Green</td>\n",
       "      <td>1402272000</td>\n",
       "    </tr>\n",
       "    <tr>\n",
       "      <th>2</th>\n",
       "      <td>B00002N674</td>\n",
       "      <td>[2, 3]</td>\n",
       "      <td>4</td>\n",
       "      <td>It's probably one of the best hoses I've ever had.Pro's:- It's good enough for most front yards, or small back yards.- It has enough flow (and with the right head) to water plants 25ft away from the nozzle, and water your garden.- It's light weight, and flexible (it does not pose as much of a problem unrolling this hose with kinks as with other hoses I've owned)- The hose is flexible, yet strong. I haven't cut the outside yet.- This hose has been in full sunlight for more than 3 months, and the rubber hasn't cracked yet! I believe it's good quality rubber.cons:- Like with every hose, keeping it outside in the sunshine, the water warms up and starts smelling.My dog don't want to drink from the water coming from this hose.- The hose is only in one color (I wished it was a little less visible in the gardenOtherwise this hose is an excellent garden tool!I bought 2 of them, one 25ft for my front garden, and 50ft for my rear garden.3-4months and still in excellent condition!</td>\n",
       "      <td>05 5, 2012</td>\n",
       "      <td>A3N0P5AAMP6XD2</td>\n",
       "      <td>H B</td>\n",
       "      <td>Very satisfied!</td>\n",
       "      <td>1336176000</td>\n",
       "    </tr>\n",
       "    <tr>\n",
       "      <th>3</th>\n",
       "      <td>B00002N674</td>\n",
       "      <td>[0, 0]</td>\n",
       "      <td>5</td>\n",
       "      <td>I probably should have bought something a bit more flexible and less rugged since I constantly coil/uncoil it for washing cars, but that's my fault not a product fault.</td>\n",
       "      <td>07 15, 2013</td>\n",
       "      <td>A2QK7UNJ857YG</td>\n",
       "      <td>Jason</td>\n",
       "      <td>Very high quality</td>\n",
       "      <td>1373846400</td>\n",
       "    </tr>\n",
       "    <tr>\n",
       "      <th>4</th>\n",
       "      <td>B00002N674</td>\n",
       "      <td>[1, 1]</td>\n",
       "      <td>5</td>\n",
       "      <td>I bought three of these 5/8-inch Flexogen hoses--50, 75, and 100 feet--for different areas of yard around the house.  After a season of use they've proven to be good hoses.  Of course, it's very favorable that they don't leak.  But what particularly impresses me about them is their notably light weight and flexibility, which make them a lot easier to handle than my previous hoses.  The flexibility diminishes in cold weather, but a garden hose is less useful then anyway.They're not especially prone to kinking, but they're not kink-proof, either, nor do they claim to be.  They kink a lot less than one of my old hoses and more than a couple of others, but the latter were fairly stiff, so there was a trade-off.Bottom line:  this was a good purchase.</td>\n",
       "      <td>08 5, 2013</td>\n",
       "      <td>AS0CYBAN6EM06</td>\n",
       "      <td>jimmy</td>\n",
       "      <td>Good Hoses</td>\n",
       "      <td>1375660800</td>\n",
       "    </tr>\n",
       "  </tbody>\n",
       "</table>\n",
       "</div>"
      ],
      "text/plain": [
       "         asin helpful  overall  \\\n",
       "0  B00002N674  [4, 4]  4         \n",
       "1  B00002N674  [0, 0]  5         \n",
       "2  B00002N674  [2, 3]  4         \n",
       "3  B00002N674  [0, 0]  5         \n",
       "4  B00002N674  [1, 1]  5         \n",
       "\n",
       "                                                                                                                                                                                                                                                                                                                                                                                                                                                                                                                                                                                                                                                                                                                                                                                                                                                                                                                                                                                                                reviewText  \\\n",
       "0  Good USA company that stands behind their products. I have had to warranty two hoses and they send replacements right out to you. I had one burst after awhile, you could see it buldge for weeks before it went so no suprises. The other one was winter related as I am bad and leave them out most of the time. Highly reccomend. Note the hundred footer is heavy and like wresting an anaconda when its time to put away, but it does have a far reach.                                                                                                                                                                                                                                                                                                                                                                                                                                                                                                                                                              \n",
       "1  This is a high quality 8 ply hose. I have had good luck with Gilmour hoses in the past. A good choice in hoses.                                                                                                                                                                                                                                                                                                                                                                                                                                                                                                                                                                                                                                                                                                                                                                                                                                                                                                           \n",
       "2  It's probably one of the best hoses I've ever had.Pro's:- It's good enough for most front yards, or small back yards.- It has enough flow (and with the right head) to water plants 25ft away from the nozzle, and water your garden.- It's light weight, and flexible (it does not pose as much of a problem unrolling this hose with kinks as with other hoses I've owned)- The hose is flexible, yet strong. I haven't cut the outside yet.- This hose has been in full sunlight for more than 3 months, and the rubber hasn't cracked yet! I believe it's good quality rubber.cons:- Like with every hose, keeping it outside in the sunshine, the water warms up and starts smelling.My dog don't want to drink from the water coming from this hose.- The hose is only in one color (I wished it was a little less visible in the gardenOtherwise this hose is an excellent garden tool!I bought 2 of them, one 25ft for my front garden, and 50ft for my rear garden.3-4months and still in excellent condition!   \n",
       "3  I probably should have bought something a bit more flexible and less rugged since I constantly coil/uncoil it for washing cars, but that's my fault not a product fault.                                                                                                                                                                                                                                                                                                                                                                                                                                                                                                                                                                                                                                                                                                                                                                                                                                                  \n",
       "4  I bought three of these 5/8-inch Flexogen hoses--50, 75, and 100 feet--for different areas of yard around the house.  After a season of use they've proven to be good hoses.  Of course, it's very favorable that they don't leak.  But what particularly impresses me about them is their notably light weight and flexibility, which make them a lot easier to handle than my previous hoses.  The flexibility diminishes in cold weather, but a garden hose is less useful then anyway.They're not especially prone to kinking, but they're not kink-proof, either, nor do they claim to be.  They kink a lot less than one of my old hoses and more than a couple of others, but the latter were fairly stiff, so there was a trade-off.Bottom line:  this was a good purchase.                                                                                                                                                                                                                                       \n",
       "\n",
       "    reviewTime      reviewerID                            reviewerName  \\\n",
       "0  06 21, 2011  A1JZFGZEZVWQPY  Carter H \"1amazonreviewer@gmail . com\"   \n",
       "1  06 9, 2014   A32JCI4AK2JTTG  Darryl Bennett \"Fuzzy342\"                \n",
       "2  05 5, 2012   A3N0P5AAMP6XD2  H B                                      \n",
       "3  07 15, 2013  A2QK7UNJ857YG   Jason                                    \n",
       "4  08 5, 2013   AS0CYBAN6EM06   jimmy                                    \n",
       "\n",
       "                                                           summary  \\\n",
       "0  Great Hoses                                                       \n",
       "1  Gilmour 10-58050 8-ply Flexogen Hose 5/8-Inch by 50-Foot, Green   \n",
       "2  Very satisfied!                                                   \n",
       "3  Very high quality                                                 \n",
       "4  Good Hoses                                                        \n",
       "\n",
       "   unixReviewTime  \n",
       "0  1308614400      \n",
       "1  1402272000      \n",
       "2  1336176000      \n",
       "3  1373846400      \n",
       "4  1375660800      "
      ]
     },
     "execution_count": 23,
     "metadata": {},
     "output_type": "execute_result"
    }
   ],
   "source": [
    "import pandas as pd\n",
    "pd.set_option('display.max_colwidth', -1)\n",
    "data.toPandas().head()"
   ]
  },
  {
   "cell_type": "markdown",
   "metadata": {},
   "source": [
    "### Drop all but the text and overall rating columns and rename the text review column"
   ]
  },
  {
   "cell_type": "code",
   "execution_count": 24,
   "metadata": {},
   "outputs": [],
   "source": [
    "data = data.select('reviewText', 'overall')\n",
    "data = data.withColumnRenamed('reviewText', 'text')"
   ]
  },
  {
   "cell_type": "markdown",
   "metadata": {},
   "source": [
    "### Show the schema of the data including data types"
   ]
  },
  {
   "cell_type": "code",
   "execution_count": 25,
   "metadata": {},
   "outputs": [
    {
     "name": "stdout",
     "output_type": "stream",
     "text": [
      "root\n",
      " |-- text: string (nullable = true)\n",
      " |-- overall: double (nullable = true)\n",
      "\n"
     ]
    }
   ],
   "source": [
    "data.printSchema()"
   ]
  },
  {
   "cell_type": "markdown",
   "metadata": {},
   "source": [
    "### Dataset Overview - number of rows and columns"
   ]
  },
  {
   "cell_type": "code",
   "execution_count": 26,
   "metadata": {},
   "outputs": [
    {
     "name": "stdout",
     "output_type": "stream",
     "text": [
      "There are 13272 rows in the dataset.\n",
      "There are 2 columns in the dataset.\n"
     ]
    }
   ],
   "source": [
    "print(\"There are {} rows in the dataset.\".format(str(data.count())))\n",
    "print(\"There are {} columns in the dataset.\".format(str(len(data.columns))))"
   ]
  },
  {
   "cell_type": "markdown",
   "metadata": {},
   "source": [
    "## 2. Clean the Data"
   ]
  },
  {
   "cell_type": "markdown",
   "metadata": {},
   "source": [
    "### Drop any rows with null values"
   ]
  },
  {
   "cell_type": "code",
   "execution_count": 27,
   "metadata": {},
   "outputs": [
    {
     "name": "stdout",
     "output_type": "stream",
     "text": [
      "There are 13272 rows in the dataset.\n",
      "There are 2 columns in the dataset.\n"
     ]
    }
   ],
   "source": [
    "data = data.na.drop()\n",
    "print(\"There are {} rows in the dataset.\".format(str(data.count())))\n",
    "print(\"There are {} columns in the dataset.\".format(str(len(data.columns))))"
   ]
  },
  {
   "cell_type": "markdown",
   "metadata": {},
   "source": [
    "### Convert numerical rating into positive (1.0) score if overall rating is a 4 or 5 and a negative (0.0) score if the overall rating is a 1, 2 or 3"
   ]
  },
  {
   "cell_type": "code",
   "execution_count": 28,
   "metadata": {},
   "outputs": [],
   "source": [
    "from pyspark.sql.types import FloatType\n",
    "from pyspark.sql.functions import udf\n",
    "udf = udf(lambda overall: 1.0 if overall > 3 else 0.0, FloatType())"
   ]
  },
  {
   "cell_type": "code",
   "execution_count": 29,
   "metadata": {},
   "outputs": [],
   "source": [
    "data = (data.withColumn('label', udf(data['overall'])))"
   ]
  },
  {
   "cell_type": "code",
   "execution_count": 30,
   "metadata": {},
   "outputs": [
    {
     "data": {
      "text/html": [
       "<div>\n",
       "<table border=\"1\" class=\"dataframe\">\n",
       "  <thead>\n",
       "    <tr style=\"text-align: right;\">\n",
       "      <th></th>\n",
       "      <th>overall</th>\n",
       "      <th>label</th>\n",
       "    </tr>\n",
       "  </thead>\n",
       "  <tbody>\n",
       "    <tr>\n",
       "      <th>0</th>\n",
       "      <td>4</td>\n",
       "      <td>1</td>\n",
       "    </tr>\n",
       "    <tr>\n",
       "      <th>1</th>\n",
       "      <td>5</td>\n",
       "      <td>1</td>\n",
       "    </tr>\n",
       "    <tr>\n",
       "      <th>2</th>\n",
       "      <td>5</td>\n",
       "      <td>1</td>\n",
       "    </tr>\n",
       "    <tr>\n",
       "      <th>3</th>\n",
       "      <td>2</td>\n",
       "      <td>0</td>\n",
       "    </tr>\n",
       "    <tr>\n",
       "      <th>4</th>\n",
       "      <td>3</td>\n",
       "      <td>0</td>\n",
       "    </tr>\n",
       "  </tbody>\n",
       "</table>\n",
       "</div>"
      ],
      "text/plain": [
       "   overall  label\n",
       "0  4        1    \n",
       "1  5        1    \n",
       "2  5        1    \n",
       "3  2        0    \n",
       "4  3        0    "
      ]
     },
     "execution_count": 30,
     "metadata": {},
     "output_type": "execute_result"
    }
   ],
   "source": [
    "data.select('overall', 'label').sample(False, 0.1, 1).toPandas().head()"
   ]
  },
  {
   "cell_type": "markdown",
   "metadata": {},
   "source": [
    "### Drop the original overall rating column"
   ]
  },
  {
   "cell_type": "code",
   "execution_count": 31,
   "metadata": {},
   "outputs": [
    {
     "data": {
      "text/html": [
       "<div>\n",
       "<table border=\"1\" class=\"dataframe\">\n",
       "  <thead>\n",
       "    <tr style=\"text-align: right;\">\n",
       "      <th></th>\n",
       "      <th>text</th>\n",
       "      <th>label</th>\n",
       "    </tr>\n",
       "  </thead>\n",
       "  <tbody>\n",
       "    <tr>\n",
       "      <th>0</th>\n",
       "      <td>It's probably one of the best hoses I've ever had.Pro's:- It's good enough for most front yards, or small back yards.- It has enough flow (and with the right head) to water plants 25ft away from the nozzle, and water your garden.- It's light weight, and flexible (it does not pose as much of a problem unrolling this hose with kinks as with other hoses I've owned)- The hose is flexible, yet strong. I haven't cut the outside yet.- This hose has been in full sunlight for more than 3 months, and the rubber hasn't cracked yet! I believe it's good quality rubber.cons:- Like with every hose, keeping it outside in the sunshine, the water warms up and starts smelling.My dog don't want to drink from the water coming from this hose.- The hose is only in one color (I wished it was a little less visible in the gardenOtherwise this hose is an excellent garden tool!I bought 2 of them, one 25ft for my front garden, and 50ft for my rear garden.3-4months and still in excellent condition!</td>\n",
       "      <td>1</td>\n",
       "    </tr>\n",
       "    <tr>\n",
       "      <th>1</th>\n",
       "      <td>I'll buy more of these come  Spring. Holding up very well to the extreme heat and cold of Idaho.  A bit on the heavy side, but that is what makes them last so well.</td>\n",
       "      <td>1</td>\n",
       "    </tr>\n",
       "    <tr>\n",
       "      <th>2</th>\n",
       "      <td>It's been outside in the hot (South Florida) sunshine 24/7, and still flexible. No crackles, and remains in great shape!A real bargain!</td>\n",
       "      <td>1</td>\n",
       "    </tr>\n",
       "    <tr>\n",
       "      <th>3</th>\n",
       "      <td>metal too soft, its all wore out after light use, the thread on front already smooth out.lots rust on the back puller/handle part, need something with better material, rather buy once and be done with it for many year.</td>\n",
       "      <td>0</td>\n",
       "    </tr>\n",
       "    <tr>\n",
       "      <th>4</th>\n",
       "      <td>I've had my Raintrain for a little over a year now.  I was initially very enthusiastic about it, but over time, I grew less satisfied with it.Pros:&gt;For some reason, it's mesmerizing to watch.  After I get it set up, I always watch for a few moments to make sure the water throw is adjusted properly, and then I find myself watching it longer than necessary.  There's just something cool and relaxing about how the arms spin and the wheels turn and how it slowly moves along.  From talking to some other people who own this and similar products, \"sprinkler watching\" seems to be a common phenomenon.&gt;The coarse spray is ideal for use in windy areas.  You'll get a lot less drift and evaporation using this than you would with a finer-droplet sprinkler.&gt;The adjustability is impressive.  I have a long, 4-foot swatch of grass that would be difficult to water with most other sprinklers, but on the Raintrain, I can point the arms way down and keep the water where I want it.  But I can also point the arms way up and throw the water for at least 50 feet.&gt;It's quiet.  The only sound it makes is the water hitting the grass.&gt;The shut-off feature is very handy and worked quite well (initially).&gt;It stands up well to neglect.  I left both my sprinkler and the stop block sitting outside in the sun and snow all winter, and come spring, they seemed no worse for wear.  Also, you are supposed to disconnect the sprinkler and let it drain after each use, and I've never done that, with no apparent effect yet.Cons:&gt;This thing is really heavy, as it needs to be, but when you're hauling it out to the north forty (okay, the back of a 6500-square-foot lawn), it's a little cumbersome.&gt;The hose connection is awkwardly placed.  It's in the somewhat narrow space at the back between the wheels, so I find it a little difficult to get a good grip on the connector.  There are also two inexplicable protrusions in the body of the sprinkler right next to the connector, and this makes it even harder to grip.  This is why I never drain my sprinkler like I'm supposed to; I hate connecting it.&gt;The connector always leaks, even after I put in a gasket, and the hose sometimes loosens while it's traveling.&gt;Getting the water to throw just the right distance is a pain.  You have to turn on the water, see where it's throwing, turn it off, walk out to the sprinkler, adjust the arms, walk back to the faucet, turn it on, see if that's right, and then repeat until you have it where you want it, which might involve several tries.&gt;The water is thrown in a circle, but only to the outside of the circle.  This is easily seen if you have the sprinkler set where it will be thrown on concrete.  You can see the arc of the circle and the dry area inside it.  The way the Raintrain gets all the ground covered is by advancing this outline through the yard.  For this reason, the stationary setting on the sprinkler is useless.  It will water the outline of the circle only.&gt;Because of the circle outline problem, the area at the beginning and end of the course will get half as much water as the rest of the yard (the beginning of the course will only be hit by the trailing edge of the circle, and the end of the course will only be hit by the front edge).  To compensate for this, I turn off the water, pick up the Raintrain, and move it back at both the beginning and end so that the areas get covered by the half circle twice.  This creates a lot of extra work for what I was hoping would be a labor-saver.&gt;I found that the Raintrain doesn't deliver nearly as much water as it says it will.  The farther you throw the water, the less depth of water you'll put out (because the same amount of water is being spread out over a bigger area), but when I had the arms adjusted for a pretty narrow path, I only measured about a quarter inch of water (even on \"low gear,\" which makes it travel more slowly).  This likely explains why I've struggled so much with keeping my lawn green since I got the Raintrain.  With stationary sprinklers, you can leave them running as long as necessary to achieve the water delivery you need.  But with the Raintrain, if you need more water than it delivers, your only option is to lay out the hose again and start it over, which is a lot of extra work.&gt;While the sprinkler seems overall pretty solid and durable, I knocked a big chip of paint off the \"nose\" when I set it up on end to attach the hose, and the bare spot rusted immediately.&gt;Laying out the hose for a straight line is simple, but if you want to do any curves, it takes a lot of practice and trial and error to create a path that won't make the Raintrain \"jump the track.\"  The tightness of curve it can handle depends on several factors, such as the height and density of the grass, the softness of the ground, and any small bits of yard debris the wheels might go over.&gt;The stop valve on the underside (which is triggered by the stop block) stopped working on mine during its second season.  Now when it runs over the stop block, it slows down, and the arms start turning more slowly, but it doesn't actually stop.  This greatly reduced the handiness of the Raintrain for me.Overall, this is a fun sprinkler, and it has its uses, but I've decided to try something else this summer.  The Raintrain is just too cumbersome and time-consuming to set up for my particular needs.</td>\n",
       "      <td>0</td>\n",
       "    </tr>\n",
       "  </tbody>\n",
       "</table>\n",
       "</div>"
      ],
      "text/plain": [
       "                                                                                                                                                                                                                                                                                                                                                                                                                                                                                                                                                                                                                                                                                                                                                                                                                                                                                                                                                                                                                                                                                                                                                                                                                                                                                                                                                                                                                                                                                                                                                                                                                                                                                                                                                                                                                                                                                                                                                                                                                                                                                                                                                                                                                                                                                                                                                                                                                                                                                                                                                                                                                                                                                                                                                                                                                                                                                                                                                                                                                                                                                                                                                                                                                                                                                                                                                                                                                                                                                                                                                                                                                                                                                                                                                                                                                                                                                                                                                                                                                                                                                                                                                                                                                                                                                                                                                                                                                                                                                                                                                                                                                                                                                                                                                                                                                                                                                                                                                                                                                                                                                                                                                                                                                                                                                                                                                                                                                                                                                                                                                                   text  \\\n",
       "0  It's probably one of the best hoses I've ever had.Pro's:- It's good enough for most front yards, or small back yards.- It has enough flow (and with the right head) to water plants 25ft away from the nozzle, and water your garden.- It's light weight, and flexible (it does not pose as much of a problem unrolling this hose with kinks as with other hoses I've owned)- The hose is flexible, yet strong. I haven't cut the outside yet.- This hose has been in full sunlight for more than 3 months, and the rubber hasn't cracked yet! I believe it's good quality rubber.cons:- Like with every hose, keeping it outside in the sunshine, the water warms up and starts smelling.My dog don't want to drink from the water coming from this hose.- The hose is only in one color (I wished it was a little less visible in the gardenOtherwise this hose is an excellent garden tool!I bought 2 of them, one 25ft for my front garden, and 50ft for my rear garden.3-4months and still in excellent condition!                                                                                                                                                                                                                                                                                                                                                                                                                                                                                                                                                                                                                                                                                                                                                                                                                                                                                                                                                                                                                                                                                                                                                                                                                                                                                                                                                                                                                                                                                                                                                                                                                                                                                                                                                                                                                                                                                                                                                                                                                                                                                                                                                                                                                                                                                                                                                                                                                                                                                                                                                                                                                                                                                                                                                                                                                                                                                                                                                                                                                                                                                                                                                                                                                                                                                                                                                                                                                                                                                                                                                                                                                                                                                                                                                                                                                                                                                                                                                                                                                                                                                                                                                                                                                                                                                                                                                                                                                                                                                                                                                \n",
       "1  I'll buy more of these come  Spring. Holding up very well to the extreme heat and cold of Idaho.  A bit on the heavy side, but that is what makes them last so well.                                                                                                                                                                                                                                                                                                                                                                                                                                                                                                                                                                                                                                                                                                                                                                                                                                                                                                                                                                                                                                                                                                                                                                                                                                                                                                                                                                                                                                                                                                                                                                                                                                                                                                                                                                                                                                                                                                                                                                                                                                                                                                                                                                                                                                                                                                                                                                                                                                                                                                                                                                                                                                                                                                                                                                                                                                                                                                                                                                                                                                                                                                                                                                                                                                                                                                                                                                                                                                                                                                                                                                                                                                                                                                                                                                                                                                                                                                                                                                                                                                                                                                                                                                                                                                                                                                                                                                                                                                                                                                                                                                                                                                                                                                                                                                                                                                                                                                                                                                                                                                                                                                                                                                                                                                                                                                                                                                                                   \n",
       "2  It's been outside in the hot (South Florida) sunshine 24/7, and still flexible. No crackles, and remains in great shape!A real bargain!                                                                                                                                                                                                                                                                                                                                                                                                                                                                                                                                                                                                                                                                                                                                                                                                                                                                                                                                                                                                                                                                                                                                                                                                                                                                                                                                                                                                                                                                                                                                                                                                                                                                                                                                                                                                                                                                                                                                                                                                                                                                                                                                                                                                                                                                                                                                                                                                                                                                                                                                                                                                                                                                                                                                                                                                                                                                                                                                                                                                                                                                                                                                                                                                                                                                                                                                                                                                                                                                                                                                                                                                                                                                                                                                                                                                                                                                                                                                                                                                                                                                                                                                                                                                                                                                                                                                                                                                                                                                                                                                                                                                                                                                                                                                                                                                                                                                                                                                                                                                                                                                                                                                                                                                                                                                                                                                                                                                                                \n",
       "3  metal too soft, its all wore out after light use, the thread on front already smooth out.lots rust on the back puller/handle part, need something with better material, rather buy once and be done with it for many year.                                                                                                                                                                                                                                                                                                                                                                                                                                                                                                                                                                                                                                                                                                                                                                                                                                                                                                                                                                                                                                                                                                                                                                                                                                                                                                                                                                                                                                                                                                                                                                                                                                                                                                                                                                                                                                                                                                                                                                                                                                                                                                                                                                                                                                                                                                                                                                                                                                                                                                                                                                                                                                                                                                                                                                                                                                                                                                                                                                                                                                                                                                                                                                                                                                                                                                                                                                                                                                                                                                                                                                                                                                                                                                                                                                                                                                                                                                                                                                                                                                                                                                                                                                                                                                                                                                                                                                                                                                                                                                                                                                                                                                                                                                                                                                                                                                                                                                                                                                                                                                                                                                                                                                                                                                                                                                                                             \n",
       "4  I've had my Raintrain for a little over a year now.  I was initially very enthusiastic about it, but over time, I grew less satisfied with it.Pros:>For some reason, it's mesmerizing to watch.  After I get it set up, I always watch for a few moments to make sure the water throw is adjusted properly, and then I find myself watching it longer than necessary.  There's just something cool and relaxing about how the arms spin and the wheels turn and how it slowly moves along.  From talking to some other people who own this and similar products, \"sprinkler watching\" seems to be a common phenomenon.>The coarse spray is ideal for use in windy areas.  You'll get a lot less drift and evaporation using this than you would with a finer-droplet sprinkler.>The adjustability is impressive.  I have a long, 4-foot swatch of grass that would be difficult to water with most other sprinklers, but on the Raintrain, I can point the arms way down and keep the water where I want it.  But I can also point the arms way up and throw the water for at least 50 feet.>It's quiet.  The only sound it makes is the water hitting the grass.>The shut-off feature is very handy and worked quite well (initially).>It stands up well to neglect.  I left both my sprinkler and the stop block sitting outside in the sun and snow all winter, and come spring, they seemed no worse for wear.  Also, you are supposed to disconnect the sprinkler and let it drain after each use, and I've never done that, with no apparent effect yet.Cons:>This thing is really heavy, as it needs to be, but when you're hauling it out to the north forty (okay, the back of a 6500-square-foot lawn), it's a little cumbersome.>The hose connection is awkwardly placed.  It's in the somewhat narrow space at the back between the wheels, so I find it a little difficult to get a good grip on the connector.  There are also two inexplicable protrusions in the body of the sprinkler right next to the connector, and this makes it even harder to grip.  This is why I never drain my sprinkler like I'm supposed to; I hate connecting it.>The connector always leaks, even after I put in a gasket, and the hose sometimes loosens while it's traveling.>Getting the water to throw just the right distance is a pain.  You have to turn on the water, see where it's throwing, turn it off, walk out to the sprinkler, adjust the arms, walk back to the faucet, turn it on, see if that's right, and then repeat until you have it where you want it, which might involve several tries.>The water is thrown in a circle, but only to the outside of the circle.  This is easily seen if you have the sprinkler set where it will be thrown on concrete.  You can see the arc of the circle and the dry area inside it.  The way the Raintrain gets all the ground covered is by advancing this outline through the yard.  For this reason, the stationary setting on the sprinkler is useless.  It will water the outline of the circle only.>Because of the circle outline problem, the area at the beginning and end of the course will get half as much water as the rest of the yard (the beginning of the course will only be hit by the trailing edge of the circle, and the end of the course will only be hit by the front edge).  To compensate for this, I turn off the water, pick up the Raintrain, and move it back at both the beginning and end so that the areas get covered by the half circle twice.  This creates a lot of extra work for what I was hoping would be a labor-saver.>I found that the Raintrain doesn't deliver nearly as much water as it says it will.  The farther you throw the water, the less depth of water you'll put out (because the same amount of water is being spread out over a bigger area), but when I had the arms adjusted for a pretty narrow path, I only measured about a quarter inch of water (even on \"low gear,\" which makes it travel more slowly).  This likely explains why I've struggled so much with keeping my lawn green since I got the Raintrain.  With stationary sprinklers, you can leave them running as long as necessary to achieve the water delivery you need.  But with the Raintrain, if you need more water than it delivers, your only option is to lay out the hose again and start it over, which is a lot of extra work.>While the sprinkler seems overall pretty solid and durable, I knocked a big chip of paint off the \"nose\" when I set it up on end to attach the hose, and the bare spot rusted immediately.>Laying out the hose for a straight line is simple, but if you want to do any curves, it takes a lot of practice and trial and error to create a path that won't make the Raintrain \"jump the track.\"  The tightness of curve it can handle depends on several factors, such as the height and density of the grass, the softness of the ground, and any small bits of yard debris the wheels might go over.>The stop valve on the underside (which is triggered by the stop block) stopped working on mine during its second season.  Now when it runs over the stop block, it slows down, and the arms start turning more slowly, but it doesn't actually stop.  This greatly reduced the handiness of the Raintrain for me.Overall, this is a fun sprinkler, and it has its uses, but I've decided to try something else this summer.  The Raintrain is just too cumbersome and time-consuming to set up for my particular needs.   \n",
       "\n",
       "   label  \n",
       "0  1      \n",
       "1  1      \n",
       "2  1      \n",
       "3  0      \n",
       "4  0      "
      ]
     },
     "execution_count": 31,
     "metadata": {},
     "output_type": "execute_result"
    }
   ],
   "source": [
    "data = data.drop('overall')\n",
    "data.sample(False, 0.1, 1).toPandas().head()"
   ]
  },
  {
   "cell_type": "markdown",
   "metadata": {},
   "source": [
    "### Balance the data label values and use a subset of the data for processing efficiency"
   ]
  },
  {
   "cell_type": "code",
   "execution_count": 32,
   "metadata": {},
   "outputs": [
    {
     "name": "stdout",
     "output_type": "stream",
     "text": [
      "The number of records in the original data set is 13272.\n",
      "The number of rows labeled 0.0 in the original data set is 2851.\n",
      "The number of rows labeled 1.0 in the original data set is 10421.\n"
     ]
    }
   ],
   "source": [
    "print('The number of records in the original data set is {}.'.format(data.count()))\n",
    "print('The number of rows labeled 0.0 in the original data set is {}.'.format(data.filter(data['label'] == 0.0).count()))\n",
    "print('The number of rows labeled 1.0 in the original data set is {}.'.format(data.filter(data['label'] == 1.0).count()))"
   ]
  },
  {
   "cell_type": "code",
   "execution_count": 33,
   "metadata": {},
   "outputs": [],
   "source": [
    "# Set a limit to the number of rows associated with each label\n",
    "limit = 100"
   ]
  },
  {
   "cell_type": "code",
   "execution_count": 34,
   "metadata": {},
   "outputs": [],
   "source": [
    "data = data.sample(False, 0.1, 0)\n",
    "data0 = data.filter(data['label'] == 0.0).limit(limit)\n",
    "data1 = data.filter(data['label'] == 1.0).limit(limit)\n",
    "data = data0.union(data1)"
   ]
  },
  {
   "cell_type": "code",
   "execution_count": 35,
   "metadata": {},
   "outputs": [
    {
     "name": "stdout",
     "output_type": "stream",
     "text": [
      "The number of records in the data set is now 200.\n",
      "The number of rows labeled 0.0 in the data set is now 100.\n",
      "The number of rows labeled 1.0 in the data set is now 100.\n"
     ]
    }
   ],
   "source": [
    "print('The number of records in the data set is now {}.'.format(data.count()))\n",
    "print('The number of rows labeled 0.0 in the data set is now {}.'.format(data.filter(data['label'] == 0.0).count()))\n",
    "print('The number of rows labeled 1.0 in the data set is now {}.'.format(data.filter(data['label'] == 1.0).count()))"
   ]
  },
  {
   "cell_type": "markdown",
   "metadata": {},
   "source": [
    "### Remove punctuation from the text"
   ]
  },
  {
   "cell_type": "code",
   "execution_count": 36,
   "metadata": {},
   "outputs": [
    {
     "data": {
      "text/html": [
       "<div>\n",
       "<table border=\"1\" class=\"dataframe\">\n",
       "  <thead>\n",
       "    <tr style=\"text-align: right;\">\n",
       "      <th></th>\n",
       "      <th>text</th>\n",
       "      <th>textNoPunctuation</th>\n",
       "    </tr>\n",
       "  </thead>\n",
       "  <tbody>\n",
       "    <tr>\n",
       "      <th>0</th>\n",
       "      <td>I remember my dad using a sprinkler like this when I was a kid (I'm 61).  We are in the middle of a drought here in Texas and I was tired of having to move the sprinkler and thought this would solve my problem.  First of all, this is a VERY heavy sprinkler and is awkward to pick up and move.  If you have any trouble lifting heavy objects, get something else.  It has to be moved.  You can't drag it and you can't turn it around and make it go the other direction.  I have found I have to check on it as often, if not more often, than I was moving my oscillating sprinkler.  First, it jumped off the hose/track and was climbing the fence.  Then, it kinked the hose and cut off the water.  Finally, it dug itself a hole and had mud all over the back wheels.  Tried it another time and it just stopped spraying water.  No kink this time, checked the button on the bottom, couldn't get it going again.  I went back to my oscillating sprinkler.  At least it's easy to move around.  I think you need to use this on a very flat, very straight lawn.  Mine is bumpy and I need it to make a couple of gentle curves.  It didn't work for me.  I like the spray it puts out and would use it as a stationery sprinkler if it weren't so heavy to move.</td>\n",
       "      <td>I remember my dad using a sprinkler like this when I was a kid I'm 61  We are in the middle of a drought here in Texas and I was tired of having to move the sprinkler and thought this would solve my problem  First of all this is a VERY heavy sprinkler and is awkward to pick up and move  If you have any trouble lifting heavy objects get something else  It has to be moved  You can't drag it and you can't turn it around and make it go the other direction  I have found I have to check on it as often if not more often than I was moving my oscillating sprinkler  First it jumped off the hosetrack and was climbing the fence  Then it kinked the hose and cut off the water  Finally it dug itself a hole and had mud all over the back wheels  Tried it another time and it just stopped spraying water  No kink this time checked the button on the bottom couldn't get it going again  I went back to my oscillating sprinkler  At least it's easy to move around  I think you need to use this on a very flat very straight lawn  Mine is bumpy and I need it to make a couple of gentle curves  It didn't work for me  I like the spray it puts out and would use it as a stationery sprinkler if it weren't so heavy to move</td>\n",
       "    </tr>\n",
       "    <tr>\n",
       "      <th>1</th>\n",
       "      <td>I purchased 6 of these hoses with what was supposed to be a lifetime guarantee. After a short time, the end on one of the hoses started leaking so I contacted the manufacturer and got a replacement. A year later another hose started leaking and I got another replacement. Then another hose started leaking but the company would no longer honor the warranty! Now Gilmour is selling them. But it's the same hose - \"Flexogen\". The hose itself it actually quite good if you don't mind replacing the hose ends eventually, I've had to replace every end on every Flexogen hose that I have.Keep in mind that I bought hoses from Flexogen but that company no longer exists and Gilmour would not honor the warranty on those hoses even though Gilmour is now selling them. Also note that Flexogen is a patented hose. Lifetime warranty isn't much good when the company gets bought or taken over by another company and the new company (Gilmour) won't honor the warranty. And who wants to have to keep sending in hose parts to get a replacement every year or two.Let me reiterate, Gilmour would not honor the warranty on my Flexogen hoses. I wrote to them multiple times and was told (without explanation) that Gilmour would not replace the defective hoses. If you buy these hoses expecting a lifetime warranty, you may not get it.On the Gilmour website, there is no longer any information relating to Flexogen hose warranty or on how to have a Flexogen hose replaced.  On Amazon, it does say \"This heavy-duty garden hose is made in the USA and backed by a lifetime guarantee\". It also says Lifetime Guarantee on the front of the hose package. Gilmour is now owned by the Robert Bosch Corp., so probably even less chance of getting a warranty replacement.</td>\n",
       "      <td>I purchased 6 of these hoses with what was supposed to be a lifetime guarantee After a short time the end on one of the hoses started leaking so I contacted the manufacturer and got a replacement A year later another hose started leaking and I got another replacement Then another hose started leaking but the company would no longer honor the warranty Now Gilmour is selling them But it's the same hose  Flexogen The hose itself it actually quite good if you don't mind replacing the hose ends eventually I've had to replace every end on every Flexogen hose that I haveKeep in mind that I bought hoses from Flexogen but that company no longer exists and Gilmour would not honor the warranty on those hoses even though Gilmour is now selling them Also note that Flexogen is a patented hose Lifetime warranty isn't much good when the company gets bought or taken over by another company and the new company Gilmour won't honor the warranty And who wants to have to keep sending in hose parts to get a replacement every year or twoLet me reiterate Gilmour would not honor the warranty on my Flexogen hoses I wrote to them multiple times and was told without explanation that Gilmour would not replace the defective hoses If you buy these hoses expecting a lifetime warranty you may not get itOn the Gilmour website there is no longer any information relating to Flexogen hose warranty or on how to have a Flexogen hose replaced  On Amazon it does say This heavyduty garden hose is made in the USA and backed by a lifetime guarantee It also says Lifetime Guarantee on the front of the hose package Gilmour is now owned by the Robert Bosch Corp so probably even less chance of getting a warranty replacement</td>\n",
       "    </tr>\n",
       "    <tr>\n",
       "      <th>2</th>\n",
       "      <td>The bee guards worked great but the reason I gave it only three stars is the price. Over a buck a piece is more than it should be in my option. If it wasn't a gift to my dad who enjoys his hummingbirds I would have kept looking for a cheaper place to purchase them.</td>\n",
       "      <td>The bee guards worked great but the reason I gave it only three stars is the price Over a buck a piece is more than it should be in my option If it wasn't a gift to my dad who enjoys his hummingbirds I would have kept looking for a cheaper place to purchase them</td>\n",
       "    </tr>\n",
       "    <tr>\n",
       "      <th>3</th>\n",
       "      <td>I read the other reviewers who had similar problems before I bought this.  I also read the reviews raving about this hose.  Since these hoses are maid from remnants; I suppose its a matter of luck as to which hose you get.  My luck wasn't good.  The hose had permanent kinks and the vinyl skin had bubbles where it was separating from the hose.Returned it immediately.</td>\n",
       "      <td>I read the other reviewers who had similar problems before I bought this  I also read the reviews raving about this hose  Since these hoses are maid from remnants I suppose its a matter of luck as to which hose you get  My luck wasn't good  The hose had permanent kinks and the vinyl skin had bubbles where it was separating from the hoseReturned it immediately</td>\n",
       "    </tr>\n",
       "    <tr>\n",
       "      <th>4</th>\n",
       "      <td>Am writing this while cooking some chicken on a WSJ i found last week in new condition for a Hamilton. Let me preface my comments by stating that I have a 22-inch Weber with hinged grate that I love.The WSJ is small, somewhat solidly constructed (mine, while unused, has rust rings around the handle welds that go through the cover - not good).However, most folks use this Weber as a portable grill. Weber, for gawd's sakes, incorporate some form of simple mechanism ON ALL MODELS to keep the lid on in order to use the carry handle! (i use a pair of bungees looped every 45 degrees).The stove's best feature, the ability to cook using fewer coals, is also its drawback. This stove is best suited for slow cooking, delicate kebabs, fish, hot dogs, and burgers - not for hot, quick searing and grilling of thick steaks.Other drawbacks are the vents, which do not (at least on my unit) rotate smoothly. And trying to adjust the bottom vent to control air flow will result in your burning the beegeebees out of your fingers - i suggest fireproof mitts handling this stove.Also, being lightweight, this stove can dramatically shift during your cooking session, resulting in the potential for spillage of hot coals - especially if used on a light platform to increase cooking height (cooking on the ground with this thing can be down, but for many folks, may be uncomfortable). I'd suggest at least some holes for securing the stove legs to a platform or a way to weigh down the legs?All in all, this stove is OK - it gets the job done. I like Weber products, even if some of the QC and build quality has gone downhill in the last 10 years.I hope to enjoy my WSJ for as many years as my 18-inch (given away), my 22-inch (8 years going strong), and newest acquistion, the Smokey Joe Silver.</td>\n",
       "      <td>Am writing this while cooking some chicken on a WSJ i found last week in new condition for a Hamilton Let me preface my comments by stating that I have a 22inch Weber with hinged grate that I loveThe WSJ is small somewhat solidly constructed mine while unused has rust rings around the handle welds that go through the cover  not goodHowever most folks use this Weber as a portable grill Weber for gawd's sakes incorporate some form of simple mechanism ON ALL MODELS to keep the lid on in order to use the carry handle i use a pair of bungees looped every 45 degreesThe stove's best feature the ability to cook using fewer coals is also its drawback This stove is best suited for slow cooking delicate kebabs fish hot dogs and burgers  not for hot quick searing and grilling of thick steaksOther drawbacks are the vents which do not at least on my unit rotate smoothly And trying to adjust the bottom vent to control air flow will result in your burning the beegeebees out of your fingers  i suggest fireproof mitts handling this stoveAlso being lightweight this stove can dramatically shift during your cooking session resulting in the potential for spillage of hot coals  especially if used on a light platform to increase cooking height cooking on the ground with this thing can be down but for many folks may be uncomfortable I'd suggest at least some holes for securing the stove legs to a platform or a way to weigh down the legsAll in all this stove is OK  it gets the job done I like Weber products even if some of the QC and build quality has gone downhill in the last 10 yearsI hope to enjoy my WSJ for as many years as my 18inch given away my 22inch 8 years going strong and newest acquistion the Smokey Joe Silver</td>\n",
       "    </tr>\n",
       "  </tbody>\n",
       "</table>\n",
       "</div>"
      ],
      "text/plain": [
       "                                                                                                                                                                                                                                                                                                                                                                                                                                                                                                                                                                                                                                                                                                                                                                                                                                                                                                                                                                                                                                                                                                                                                                                                                                                                                                                                                                                                                                                                                                                                                                                                                                                                                                                                                                                                                                                       text  \\\n",
       "0  I remember my dad using a sprinkler like this when I was a kid (I'm 61).  We are in the middle of a drought here in Texas and I was tired of having to move the sprinkler and thought this would solve my problem.  First of all, this is a VERY heavy sprinkler and is awkward to pick up and move.  If you have any trouble lifting heavy objects, get something else.  It has to be moved.  You can't drag it and you can't turn it around and make it go the other direction.  I have found I have to check on it as often, if not more often, than I was moving my oscillating sprinkler.  First, it jumped off the hose/track and was climbing the fence.  Then, it kinked the hose and cut off the water.  Finally, it dug itself a hole and had mud all over the back wheels.  Tried it another time and it just stopped spraying water.  No kink this time, checked the button on the bottom, couldn't get it going again.  I went back to my oscillating sprinkler.  At least it's easy to move around.  I think you need to use this on a very flat, very straight lawn.  Mine is bumpy and I need it to make a couple of gentle curves.  It didn't work for me.  I like the spray it puts out and would use it as a stationery sprinkler if it weren't so heavy to move.                                                                                                                                                                                                                                                                                                                                                                                                                                                                                                                                                                       \n",
       "1  I purchased 6 of these hoses with what was supposed to be a lifetime guarantee. After a short time, the end on one of the hoses started leaking so I contacted the manufacturer and got a replacement. A year later another hose started leaking and I got another replacement. Then another hose started leaking but the company would no longer honor the warranty! Now Gilmour is selling them. But it's the same hose - \"Flexogen\". The hose itself it actually quite good if you don't mind replacing the hose ends eventually, I've had to replace every end on every Flexogen hose that I have.Keep in mind that I bought hoses from Flexogen but that company no longer exists and Gilmour would not honor the warranty on those hoses even though Gilmour is now selling them. Also note that Flexogen is a patented hose. Lifetime warranty isn't much good when the company gets bought or taken over by another company and the new company (Gilmour) won't honor the warranty. And who wants to have to keep sending in hose parts to get a replacement every year or two.Let me reiterate, Gilmour would not honor the warranty on my Flexogen hoses. I wrote to them multiple times and was told (without explanation) that Gilmour would not replace the defective hoses. If you buy these hoses expecting a lifetime warranty, you may not get it.On the Gilmour website, there is no longer any information relating to Flexogen hose warranty or on how to have a Flexogen hose replaced.  On Amazon, it does say \"This heavy-duty garden hose is made in the USA and backed by a lifetime guarantee\". It also says Lifetime Guarantee on the front of the hose package. Gilmour is now owned by the Robert Bosch Corp., so probably even less chance of getting a warranty replacement.                                                \n",
       "2  The bee guards worked great but the reason I gave it only three stars is the price. Over a buck a piece is more than it should be in my option. If it wasn't a gift to my dad who enjoys his hummingbirds I would have kept looking for a cheaper place to purchase them.                                                                                                                                                                                                                                                                                                                                                                                                                                                                                                                                                                                                                                                                                                                                                                                                                                                                                                                                                                                                                                                                                                                                                                                                                                                                                                                                                                                                                                                                                                                                                                                  \n",
       "3  I read the other reviewers who had similar problems before I bought this.  I also read the reviews raving about this hose.  Since these hoses are maid from remnants; I suppose its a matter of luck as to which hose you get.  My luck wasn't good.  The hose had permanent kinks and the vinyl skin had bubbles where it was separating from the hose.Returned it immediately.                                                                                                                                                                                                                                                                                                                                                                                                                                                                                                                                                                                                                                                                                                                                                                                                                                                                                                                                                                                                                                                                                                                                                                                                                                                                                                                                                                                                                                                                           \n",
       "4  Am writing this while cooking some chicken on a WSJ i found last week in new condition for a Hamilton. Let me preface my comments by stating that I have a 22-inch Weber with hinged grate that I love.The WSJ is small, somewhat solidly constructed (mine, while unused, has rust rings around the handle welds that go through the cover - not good).However, most folks use this Weber as a portable grill. Weber, for gawd's sakes, incorporate some form of simple mechanism ON ALL MODELS to keep the lid on in order to use the carry handle! (i use a pair of bungees looped every 45 degrees).The stove's best feature, the ability to cook using fewer coals, is also its drawback. This stove is best suited for slow cooking, delicate kebabs, fish, hot dogs, and burgers - not for hot, quick searing and grilling of thick steaks.Other drawbacks are the vents, which do not (at least on my unit) rotate smoothly. And trying to adjust the bottom vent to control air flow will result in your burning the beegeebees out of your fingers - i suggest fireproof mitts handling this stove.Also, being lightweight, this stove can dramatically shift during your cooking session, resulting in the potential for spillage of hot coals - especially if used on a light platform to increase cooking height (cooking on the ground with this thing can be down, but for many folks, may be uncomfortable). I'd suggest at least some holes for securing the stove legs to a platform or a way to weigh down the legs?All in all, this stove is OK - it gets the job done. I like Weber products, even if some of the QC and build quality has gone downhill in the last 10 years.I hope to enjoy my WSJ for as many years as my 18-inch (given away), my 22-inch (8 years going strong), and newest acquistion, the Smokey Joe Silver.   \n",
       "\n",
       "                                                                                                                                                                                                                                                                                                                                                                                                                                                                                                                                                                                                                                                                                                                                                                                                                                                                                                                                                                                                                                                                                                                                                                                                                                                                                                                                                                                                                                                                                                                                                                                                                                                                                                                                                                               textNoPunctuation  \n",
       "0  I remember my dad using a sprinkler like this when I was a kid I'm 61  We are in the middle of a drought here in Texas and I was tired of having to move the sprinkler and thought this would solve my problem  First of all this is a VERY heavy sprinkler and is awkward to pick up and move  If you have any trouble lifting heavy objects get something else  It has to be moved  You can't drag it and you can't turn it around and make it go the other direction  I have found I have to check on it as often if not more often than I was moving my oscillating sprinkler  First it jumped off the hosetrack and was climbing the fence  Then it kinked the hose and cut off the water  Finally it dug itself a hole and had mud all over the back wheels  Tried it another time and it just stopped spraying water  No kink this time checked the button on the bottom couldn't get it going again  I went back to my oscillating sprinkler  At least it's easy to move around  I think you need to use this on a very flat very straight lawn  Mine is bumpy and I need it to make a couple of gentle curves  It didn't work for me  I like the spray it puts out and would use it as a stationery sprinkler if it weren't so heavy to move                                                                                                                                                                                                                                                                                                                                                                                                                                                                                                                                          \n",
       "1  I purchased 6 of these hoses with what was supposed to be a lifetime guarantee After a short time the end on one of the hoses started leaking so I contacted the manufacturer and got a replacement A year later another hose started leaking and I got another replacement Then another hose started leaking but the company would no longer honor the warranty Now Gilmour is selling them But it's the same hose  Flexogen The hose itself it actually quite good if you don't mind replacing the hose ends eventually I've had to replace every end on every Flexogen hose that I haveKeep in mind that I bought hoses from Flexogen but that company no longer exists and Gilmour would not honor the warranty on those hoses even though Gilmour is now selling them Also note that Flexogen is a patented hose Lifetime warranty isn't much good when the company gets bought or taken over by another company and the new company Gilmour won't honor the warranty And who wants to have to keep sending in hose parts to get a replacement every year or twoLet me reiterate Gilmour would not honor the warranty on my Flexogen hoses I wrote to them multiple times and was told without explanation that Gilmour would not replace the defective hoses If you buy these hoses expecting a lifetime warranty you may not get itOn the Gilmour website there is no longer any information relating to Flexogen hose warranty or on how to have a Flexogen hose replaced  On Amazon it does say This heavyduty garden hose is made in the USA and backed by a lifetime guarantee It also says Lifetime Guarantee on the front of the hose package Gilmour is now owned by the Robert Bosch Corp so probably even less chance of getting a warranty replacement                        \n",
       "2  The bee guards worked great but the reason I gave it only three stars is the price Over a buck a piece is more than it should be in my option If it wasn't a gift to my dad who enjoys his hummingbirds I would have kept looking for a cheaper place to purchase them                                                                                                                                                                                                                                                                                                                                                                                                                                                                                                                                                                                                                                                                                                                                                                                                                                                                                                                                                                                                                                                                                                                                                                                                                                                                                                                                                                                                                                                                                                                         \n",
       "3  I read the other reviewers who had similar problems before I bought this  I also read the reviews raving about this hose  Since these hoses are maid from remnants I suppose its a matter of luck as to which hose you get  My luck wasn't good  The hose had permanent kinks and the vinyl skin had bubbles where it was separating from the hoseReturned it immediately                                                                                                                                                                                                                                                                                                                                                                                                                                                                                                                                                                                                                                                                                                                                                                                                                                                                                                                                                                                                                                                                                                                                                                                                                                                                                                                                                                                                                      \n",
       "4  Am writing this while cooking some chicken on a WSJ i found last week in new condition for a Hamilton Let me preface my comments by stating that I have a 22inch Weber with hinged grate that I loveThe WSJ is small somewhat solidly constructed mine while unused has rust rings around the handle welds that go through the cover  not goodHowever most folks use this Weber as a portable grill Weber for gawd's sakes incorporate some form of simple mechanism ON ALL MODELS to keep the lid on in order to use the carry handle i use a pair of bungees looped every 45 degreesThe stove's best feature the ability to cook using fewer coals is also its drawback This stove is best suited for slow cooking delicate kebabs fish hot dogs and burgers  not for hot quick searing and grilling of thick steaksOther drawbacks are the vents which do not at least on my unit rotate smoothly And trying to adjust the bottom vent to control air flow will result in your burning the beegeebees out of your fingers  i suggest fireproof mitts handling this stoveAlso being lightweight this stove can dramatically shift during your cooking session resulting in the potential for spillage of hot coals  especially if used on a light platform to increase cooking height cooking on the ground with this thing can be down but for many folks may be uncomfortable I'd suggest at least some holes for securing the stove legs to a platform or a way to weigh down the legsAll in all this stove is OK  it gets the job done I like Weber products even if some of the QC and build quality has gone downhill in the last 10 yearsI hope to enjoy my WSJ for as many years as my 18inch given away my 22inch 8 years going strong and newest acquistion the Smokey Joe Silver  "
      ]
     },
     "execution_count": 36,
     "metadata": {},
     "output_type": "execute_result"
    }
   ],
   "source": [
    "from pyspark.ml.feature import SQLTransformer\n",
    "removePunctuationTrans = SQLTransformer(\n",
    "    statement=\"\"\"SELECT *, TRANSLATE(text,',.:;!?@#$%^&*()+=-`~{}[]|\\/''\"<>','') AS textNoPunctuation FROM __THIS__\"\"\")\n",
    "data = removePunctuationTrans.transform(data)\n",
    "data.select('text', 'textNoPunctuation').toPandas().head()"
   ]
  },
  {
   "cell_type": "code",
   "execution_count": 37,
   "metadata": {},
   "outputs": [
    {
     "data": {
      "text/html": [
       "<div>\n",
       "<table border=\"1\" class=\"dataframe\">\n",
       "  <thead>\n",
       "    <tr style=\"text-align: right;\">\n",
       "      <th></th>\n",
       "      <th>label</th>\n",
       "      <th>text</th>\n",
       "    </tr>\n",
       "  </thead>\n",
       "  <tbody>\n",
       "    <tr>\n",
       "      <th>0</th>\n",
       "      <td>0</td>\n",
       "      <td>I remember my dad using a sprinkler like this when I was a kid I'm 61  We are in the middle of a drought here in Texas and I was tired of having to move the sprinkler and thought this would solve my problem  First of all this is a VERY heavy sprinkler and is awkward to pick up and move  If you have any trouble lifting heavy objects get something else  It has to be moved  You can't drag it and you can't turn it around and make it go the other direction  I have found I have to check on it as often if not more often than I was moving my oscillating sprinkler  First it jumped off the hosetrack and was climbing the fence  Then it kinked the hose and cut off the water  Finally it dug itself a hole and had mud all over the back wheels  Tried it another time and it just stopped spraying water  No kink this time checked the button on the bottom couldn't get it going again  I went back to my oscillating sprinkler  At least it's easy to move around  I think you need to use this on a very flat very straight lawn  Mine is bumpy and I need it to make a couple of gentle curves  It didn't work for me  I like the spray it puts out and would use it as a stationery sprinkler if it weren't so heavy to move</td>\n",
       "    </tr>\n",
       "    <tr>\n",
       "      <th>1</th>\n",
       "      <td>0</td>\n",
       "      <td>I purchased 6 of these hoses with what was supposed to be a lifetime guarantee After a short time the end on one of the hoses started leaking so I contacted the manufacturer and got a replacement A year later another hose started leaking and I got another replacement Then another hose started leaking but the company would no longer honor the warranty Now Gilmour is selling them But it's the same hose  Flexogen The hose itself it actually quite good if you don't mind replacing the hose ends eventually I've had to replace every end on every Flexogen hose that I haveKeep in mind that I bought hoses from Flexogen but that company no longer exists and Gilmour would not honor the warranty on those hoses even though Gilmour is now selling them Also note that Flexogen is a patented hose Lifetime warranty isn't much good when the company gets bought or taken over by another company and the new company Gilmour won't honor the warranty And who wants to have to keep sending in hose parts to get a replacement every year or twoLet me reiterate Gilmour would not honor the warranty on my Flexogen hoses I wrote to them multiple times and was told without explanation that Gilmour would not replace the defective hoses If you buy these hoses expecting a lifetime warranty you may not get itOn the Gilmour website there is no longer any information relating to Flexogen hose warranty or on how to have a Flexogen hose replaced  On Amazon it does say This heavyduty garden hose is made in the USA and backed by a lifetime guarantee It also says Lifetime Guarantee on the front of the hose package Gilmour is now owned by the Robert Bosch Corp so probably even less chance of getting a warranty replacement</td>\n",
       "    </tr>\n",
       "    <tr>\n",
       "      <th>2</th>\n",
       "      <td>0</td>\n",
       "      <td>The bee guards worked great but the reason I gave it only three stars is the price Over a buck a piece is more than it should be in my option If it wasn't a gift to my dad who enjoys his hummingbirds I would have kept looking for a cheaper place to purchase them</td>\n",
       "    </tr>\n",
       "    <tr>\n",
       "      <th>3</th>\n",
       "      <td>0</td>\n",
       "      <td>I read the other reviewers who had similar problems before I bought this  I also read the reviews raving about this hose  Since these hoses are maid from remnants I suppose its a matter of luck as to which hose you get  My luck wasn't good  The hose had permanent kinks and the vinyl skin had bubbles where it was separating from the hoseReturned it immediately</td>\n",
       "    </tr>\n",
       "    <tr>\n",
       "      <th>4</th>\n",
       "      <td>0</td>\n",
       "      <td>Am writing this while cooking some chicken on a WSJ i found last week in new condition for a Hamilton Let me preface my comments by stating that I have a 22inch Weber with hinged grate that I loveThe WSJ is small somewhat solidly constructed mine while unused has rust rings around the handle welds that go through the cover  not goodHowever most folks use this Weber as a portable grill Weber for gawd's sakes incorporate some form of simple mechanism ON ALL MODELS to keep the lid on in order to use the carry handle i use a pair of bungees looped every 45 degreesThe stove's best feature the ability to cook using fewer coals is also its drawback This stove is best suited for slow cooking delicate kebabs fish hot dogs and burgers  not for hot quick searing and grilling of thick steaksOther drawbacks are the vents which do not at least on my unit rotate smoothly And trying to adjust the bottom vent to control air flow will result in your burning the beegeebees out of your fingers  i suggest fireproof mitts handling this stoveAlso being lightweight this stove can dramatically shift during your cooking session resulting in the potential for spillage of hot coals  especially if used on a light platform to increase cooking height cooking on the ground with this thing can be down but for many folks may be uncomfortable I'd suggest at least some holes for securing the stove legs to a platform or a way to weigh down the legsAll in all this stove is OK  it gets the job done I like Weber products even if some of the QC and build quality has gone downhill in the last 10 yearsI hope to enjoy my WSJ for as many years as my 18inch given away my 22inch 8 years going strong and newest acquistion the Smokey Joe Silver</td>\n",
       "    </tr>\n",
       "  </tbody>\n",
       "</table>\n",
       "</div>"
      ],
      "text/plain": [
       "   label  \\\n",
       "0  0       \n",
       "1  0       \n",
       "2  0       \n",
       "3  0       \n",
       "4  0       \n",
       "\n",
       "                                                                                                                                                                                                                                                                                                                                                                                                                                                                                                                                                                                                                                                                                                                                                                                                                                                                                                                                                                                                                                                                                                                                                                                                                                                                                                                                                                                                                                                                                                                                                                                                                                                                                                                                                                                            text  \n",
       "0  I remember my dad using a sprinkler like this when I was a kid I'm 61  We are in the middle of a drought here in Texas and I was tired of having to move the sprinkler and thought this would solve my problem  First of all this is a VERY heavy sprinkler and is awkward to pick up and move  If you have any trouble lifting heavy objects get something else  It has to be moved  You can't drag it and you can't turn it around and make it go the other direction  I have found I have to check on it as often if not more often than I was moving my oscillating sprinkler  First it jumped off the hosetrack and was climbing the fence  Then it kinked the hose and cut off the water  Finally it dug itself a hole and had mud all over the back wheels  Tried it another time and it just stopped spraying water  No kink this time checked the button on the bottom couldn't get it going again  I went back to my oscillating sprinkler  At least it's easy to move around  I think you need to use this on a very flat very straight lawn  Mine is bumpy and I need it to make a couple of gentle curves  It didn't work for me  I like the spray it puts out and would use it as a stationery sprinkler if it weren't so heavy to move                                                                                                                                                                                                                                                                                                                                                                                                                                                                                                                                          \n",
       "1  I purchased 6 of these hoses with what was supposed to be a lifetime guarantee After a short time the end on one of the hoses started leaking so I contacted the manufacturer and got a replacement A year later another hose started leaking and I got another replacement Then another hose started leaking but the company would no longer honor the warranty Now Gilmour is selling them But it's the same hose  Flexogen The hose itself it actually quite good if you don't mind replacing the hose ends eventually I've had to replace every end on every Flexogen hose that I haveKeep in mind that I bought hoses from Flexogen but that company no longer exists and Gilmour would not honor the warranty on those hoses even though Gilmour is now selling them Also note that Flexogen is a patented hose Lifetime warranty isn't much good when the company gets bought or taken over by another company and the new company Gilmour won't honor the warranty And who wants to have to keep sending in hose parts to get a replacement every year or twoLet me reiterate Gilmour would not honor the warranty on my Flexogen hoses I wrote to them multiple times and was told without explanation that Gilmour would not replace the defective hoses If you buy these hoses expecting a lifetime warranty you may not get itOn the Gilmour website there is no longer any information relating to Flexogen hose warranty or on how to have a Flexogen hose replaced  On Amazon it does say This heavyduty garden hose is made in the USA and backed by a lifetime guarantee It also says Lifetime Guarantee on the front of the hose package Gilmour is now owned by the Robert Bosch Corp so probably even less chance of getting a warranty replacement                        \n",
       "2  The bee guards worked great but the reason I gave it only three stars is the price Over a buck a piece is more than it should be in my option If it wasn't a gift to my dad who enjoys his hummingbirds I would have kept looking for a cheaper place to purchase them                                                                                                                                                                                                                                                                                                                                                                                                                                                                                                                                                                                                                                                                                                                                                                                                                                                                                                                                                                                                                                                                                                                                                                                                                                                                                                                                                                                                                                                                                                                         \n",
       "3  I read the other reviewers who had similar problems before I bought this  I also read the reviews raving about this hose  Since these hoses are maid from remnants I suppose its a matter of luck as to which hose you get  My luck wasn't good  The hose had permanent kinks and the vinyl skin had bubbles where it was separating from the hoseReturned it immediately                                                                                                                                                                                                                                                                                                                                                                                                                                                                                                                                                                                                                                                                                                                                                                                                                                                                                                                                                                                                                                                                                                                                                                                                                                                                                                                                                                                                                      \n",
       "4  Am writing this while cooking some chicken on a WSJ i found last week in new condition for a Hamilton Let me preface my comments by stating that I have a 22inch Weber with hinged grate that I loveThe WSJ is small somewhat solidly constructed mine while unused has rust rings around the handle welds that go through the cover  not goodHowever most folks use this Weber as a portable grill Weber for gawd's sakes incorporate some form of simple mechanism ON ALL MODELS to keep the lid on in order to use the carry handle i use a pair of bungees looped every 45 degreesThe stove's best feature the ability to cook using fewer coals is also its drawback This stove is best suited for slow cooking delicate kebabs fish hot dogs and burgers  not for hot quick searing and grilling of thick steaksOther drawbacks are the vents which do not at least on my unit rotate smoothly And trying to adjust the bottom vent to control air flow will result in your burning the beegeebees out of your fingers  i suggest fireproof mitts handling this stoveAlso being lightweight this stove can dramatically shift during your cooking session resulting in the potential for spillage of hot coals  especially if used on a light platform to increase cooking height cooking on the ground with this thing can be down but for many folks may be uncomfortable I'd suggest at least some holes for securing the stove legs to a platform or a way to weigh down the legsAll in all this stove is OK  it gets the job done I like Weber products even if some of the QC and build quality has gone downhill in the last 10 yearsI hope to enjoy my WSJ for as many years as my 18inch given away my 22inch 8 years going strong and newest acquistion the Smokey Joe Silver  "
      ]
     },
     "execution_count": 37,
     "metadata": {},
     "output_type": "execute_result"
    }
   ],
   "source": [
    "data = data.drop('text').withColumnRenamed('textNoPunctuation', 'text')\n",
    "data.toPandas().head()"
   ]
  },
  {
   "cell_type": "markdown",
   "metadata": {},
   "source": [
    "## 3. Feature Engineering"
   ]
  },
  {
   "cell_type": "markdown",
   "metadata": {},
   "source": [
    "### Tokenize the text"
   ]
  },
  {
   "cell_type": "code",
   "execution_count": 38,
   "metadata": {},
   "outputs": [
    {
     "data": {
      "text/html": [
       "<div>\n",
       "<table border=\"1\" class=\"dataframe\">\n",
       "  <thead>\n",
       "    <tr style=\"text-align: right;\">\n",
       "      <th></th>\n",
       "      <th>text</th>\n",
       "      <th>words</th>\n",
       "      <th>#tokens</th>\n",
       "    </tr>\n",
       "  </thead>\n",
       "  <tbody>\n",
       "    <tr>\n",
       "      <th>0</th>\n",
       "      <td>I remember my dad using a sprinkler like this when I was a kid I'm 61  We are in the middle of a drought here in Texas and I was tired of having to move the sprinkler and thought this would solve my problem  First of all this is a VERY heavy sprinkler and is awkward to pick up and move  If you have any trouble lifting heavy objects get something else  It has to be moved  You can't drag it and you can't turn it around and make it go the other direction  I have found I have to check on it as often if not more often than I was moving my oscillating sprinkler  First it jumped off the hosetrack and was climbing the fence  Then it kinked the hose and cut off the water  Finally it dug itself a hole and had mud all over the back wheels  Tried it another time and it just stopped spraying water  No kink this time checked the button on the bottom couldn't get it going again  I went back to my oscillating sprinkler  At least it's easy to move around  I think you need to use this on a very flat very straight lawn  Mine is bumpy and I need it to make a couple of gentle curves  It didn't work for me  I like the spray it puts out and would use it as a stationery sprinkler if it weren't so heavy to move</td>\n",
       "      <td>[i, remember, my, dad, using, a, sprinkler, like, this, when, i, was, a, kid, i'm, 61, , we, are, in, the, middle, of, a, drought, here, in, texas, and, i, was, tired, of, having, to, move, the, sprinkler, and, thought, this, would, solve, my, problem, , first, of, all, this, is, a, very, heavy, sprinkler, and, is, awkward, to, pick, up, and, move, , if, you, have, any, trouble, lifting, heavy, objects, get, something, else, , it, has, to, be, moved, , you, can't, drag, it, and, you, can't, turn, it, around, and, make, it, go, the, other, direction, , ...]</td>\n",
       "      <td>262</td>\n",
       "    </tr>\n",
       "    <tr>\n",
       "      <th>1</th>\n",
       "      <td>I purchased 6 of these hoses with what was supposed to be a lifetime guarantee After a short time the end on one of the hoses started leaking so I contacted the manufacturer and got a replacement A year later another hose started leaking and I got another replacement Then another hose started leaking but the company would no longer honor the warranty Now Gilmour is selling them But it's the same hose  Flexogen The hose itself it actually quite good if you don't mind replacing the hose ends eventually I've had to replace every end on every Flexogen hose that I haveKeep in mind that I bought hoses from Flexogen but that company no longer exists and Gilmour would not honor the warranty on those hoses even though Gilmour is now selling them Also note that Flexogen is a patented hose Lifetime warranty isn't much good when the company gets bought or taken over by another company and the new company Gilmour won't honor the warranty And who wants to have to keep sending in hose parts to get a replacement every year or twoLet me reiterate Gilmour would not honor the warranty on my Flexogen hoses I wrote to them multiple times and was told without explanation that Gilmour would not replace the defective hoses If you buy these hoses expecting a lifetime warranty you may not get itOn the Gilmour website there is no longer any information relating to Flexogen hose warranty or on how to have a Flexogen hose replaced  On Amazon it does say This heavyduty garden hose is made in the USA and backed by a lifetime guarantee It also says Lifetime Guarantee on the front of the hose package Gilmour is now owned by the Robert Bosch Corp so probably even less chance of getting a warranty replacement</td>\n",
       "      <td>[i, purchased, 6, of, these, hoses, with, what, was, supposed, to, be, a, lifetime, guarantee, after, a, short, time, the, end, on, one, of, the, hoses, started, leaking, so, i, contacted, the, manufacturer, and, got, a, replacement, a, year, later, another, hose, started, leaking, and, i, got, another, replacement, then, another, hose, started, leaking, but, the, company, would, no, longer, honor, the, warranty, now, gilmour, is, selling, them, but, it's, the, same, hose, , flexogen, the, hose, itself, it, actually, quite, good, if, you, don't, mind, replacing, the, hose, ends, eventually, i've, had, to, replace, every, end, on, every, flexogen, ...]</td>\n",
       "      <td>307</td>\n",
       "    </tr>\n",
       "    <tr>\n",
       "      <th>2</th>\n",
       "      <td>The bee guards worked great but the reason I gave it only three stars is the price Over a buck a piece is more than it should be in my option If it wasn't a gift to my dad who enjoys his hummingbirds I would have kept looking for a cheaper place to purchase them</td>\n",
       "      <td>[the, bee, guards, worked, great, but, the, reason, i, gave, it, only, three, stars, is, the, price, over, a, buck, a, piece, is, more, than, it, should, be, in, my, option, if, it, wasn't, a, gift, to, my, dad, who, enjoys, his, hummingbirds, i, would, have, kept, looking, for, a, cheaper, place, to, purchase, them]</td>\n",
       "      <td>55</td>\n",
       "    </tr>\n",
       "    <tr>\n",
       "      <th>3</th>\n",
       "      <td>I read the other reviewers who had similar problems before I bought this  I also read the reviews raving about this hose  Since these hoses are maid from remnants I suppose its a matter of luck as to which hose you get  My luck wasn't good  The hose had permanent kinks and the vinyl skin had bubbles where it was separating from the hoseReturned it immediately</td>\n",
       "      <td>[i, read, the, other, reviewers, who, had, similar, problems, before, i, bought, this, , i, also, read, the, reviews, raving, about, this, hose, , since, these, hoses, are, maid, from, remnants, i, suppose, its, a, matter, of, luck, as, to, which, hose, you, get, , my, luck, wasn't, good, , the, hose, had, permanent, kinks, and, the, vinyl, skin, had, bubbles, where, it, was, separating, from, the, hosereturned, it, immediately]</td>\n",
       "      <td>70</td>\n",
       "    </tr>\n",
       "    <tr>\n",
       "      <th>4</th>\n",
       "      <td>Am writing this while cooking some chicken on a WSJ i found last week in new condition for a Hamilton Let me preface my comments by stating that I have a 22inch Weber with hinged grate that I loveThe WSJ is small somewhat solidly constructed mine while unused has rust rings around the handle welds that go through the cover  not goodHowever most folks use this Weber as a portable grill Weber for gawd's sakes incorporate some form of simple mechanism ON ALL MODELS to keep the lid on in order to use the carry handle i use a pair of bungees looped every 45 degreesThe stove's best feature the ability to cook using fewer coals is also its drawback This stove is best suited for slow cooking delicate kebabs fish hot dogs and burgers  not for hot quick searing and grilling of thick steaksOther drawbacks are the vents which do not at least on my unit rotate smoothly And trying to adjust the bottom vent to control air flow will result in your burning the beegeebees out of your fingers  i suggest fireproof mitts handling this stoveAlso being lightweight this stove can dramatically shift during your cooking session resulting in the potential for spillage of hot coals  especially if used on a light platform to increase cooking height cooking on the ground with this thing can be down but for many folks may be uncomfortable I'd suggest at least some holes for securing the stove legs to a platform or a way to weigh down the legsAll in all this stove is OK  it gets the job done I like Weber products even if some of the QC and build quality has gone downhill in the last 10 yearsI hope to enjoy my WSJ for as many years as my 18inch given away my 22inch 8 years going strong and newest acquistion the Smokey Joe Silver</td>\n",
       "      <td>[am, writing, this, while, cooking, some, chicken, on, a, wsj, i, found, last, week, in, new, condition, for, a, hamilton, let, me, preface, my, comments, by, stating, that, i, have, a, 22inch, weber, with, hinged, grate, that, i, lovethe, wsj, is, small, somewhat, solidly, constructed, mine, while, unused, has, rust, rings, around, the, handle, welds, that, go, through, the, cover, , not, goodhowever, most, folks, use, this, weber, as, a, portable, grill, weber, for, gawd's, sakes, incorporate, some, form, of, simple, mechanism, on, all, models, to, keep, the, lid, on, in, order, to, use, the, carry, handle, i, use, a, ...]</td>\n",
       "      <td>322</td>\n",
       "    </tr>\n",
       "  </tbody>\n",
       "</table>\n",
       "</div>"
      ],
      "text/plain": [
       "                                                                                                                                                                                                                                                                                                                                                                                                                                                                                                                                                                                                                                                                                                                                                                                                                                                                                                                                                                                                                                                                                                                                                                                                                                                                                                                                                                                                                                                                                                                                                                                                                                                                                                                                                                                            text  \\\n",
       "0  I remember my dad using a sprinkler like this when I was a kid I'm 61  We are in the middle of a drought here in Texas and I was tired of having to move the sprinkler and thought this would solve my problem  First of all this is a VERY heavy sprinkler and is awkward to pick up and move  If you have any trouble lifting heavy objects get something else  It has to be moved  You can't drag it and you can't turn it around and make it go the other direction  I have found I have to check on it as often if not more often than I was moving my oscillating sprinkler  First it jumped off the hosetrack and was climbing the fence  Then it kinked the hose and cut off the water  Finally it dug itself a hole and had mud all over the back wheels  Tried it another time and it just stopped spraying water  No kink this time checked the button on the bottom couldn't get it going again  I went back to my oscillating sprinkler  At least it's easy to move around  I think you need to use this on a very flat very straight lawn  Mine is bumpy and I need it to make a couple of gentle curves  It didn't work for me  I like the spray it puts out and would use it as a stationery sprinkler if it weren't so heavy to move                                                                                                                                                                                                                                                                                                                                                                                                                                                                                                                                           \n",
       "1  I purchased 6 of these hoses with what was supposed to be a lifetime guarantee After a short time the end on one of the hoses started leaking so I contacted the manufacturer and got a replacement A year later another hose started leaking and I got another replacement Then another hose started leaking but the company would no longer honor the warranty Now Gilmour is selling them But it's the same hose  Flexogen The hose itself it actually quite good if you don't mind replacing the hose ends eventually I've had to replace every end on every Flexogen hose that I haveKeep in mind that I bought hoses from Flexogen but that company no longer exists and Gilmour would not honor the warranty on those hoses even though Gilmour is now selling them Also note that Flexogen is a patented hose Lifetime warranty isn't much good when the company gets bought or taken over by another company and the new company Gilmour won't honor the warranty And who wants to have to keep sending in hose parts to get a replacement every year or twoLet me reiterate Gilmour would not honor the warranty on my Flexogen hoses I wrote to them multiple times and was told without explanation that Gilmour would not replace the defective hoses If you buy these hoses expecting a lifetime warranty you may not get itOn the Gilmour website there is no longer any information relating to Flexogen hose warranty or on how to have a Flexogen hose replaced  On Amazon it does say This heavyduty garden hose is made in the USA and backed by a lifetime guarantee It also says Lifetime Guarantee on the front of the hose package Gilmour is now owned by the Robert Bosch Corp so probably even less chance of getting a warranty replacement                         \n",
       "2  The bee guards worked great but the reason I gave it only three stars is the price Over a buck a piece is more than it should be in my option If it wasn't a gift to my dad who enjoys his hummingbirds I would have kept looking for a cheaper place to purchase them                                                                                                                                                                                                                                                                                                                                                                                                                                                                                                                                                                                                                                                                                                                                                                                                                                                                                                                                                                                                                                                                                                                                                                                                                                                                                                                                                                                                                                                                                                                          \n",
       "3  I read the other reviewers who had similar problems before I bought this  I also read the reviews raving about this hose  Since these hoses are maid from remnants I suppose its a matter of luck as to which hose you get  My luck wasn't good  The hose had permanent kinks and the vinyl skin had bubbles where it was separating from the hoseReturned it immediately                                                                                                                                                                                                                                                                                                                                                                                                                                                                                                                                                                                                                                                                                                                                                                                                                                                                                                                                                                                                                                                                                                                                                                                                                                                                                                                                                                                                                       \n",
       "4  Am writing this while cooking some chicken on a WSJ i found last week in new condition for a Hamilton Let me preface my comments by stating that I have a 22inch Weber with hinged grate that I loveThe WSJ is small somewhat solidly constructed mine while unused has rust rings around the handle welds that go through the cover  not goodHowever most folks use this Weber as a portable grill Weber for gawd's sakes incorporate some form of simple mechanism ON ALL MODELS to keep the lid on in order to use the carry handle i use a pair of bungees looped every 45 degreesThe stove's best feature the ability to cook using fewer coals is also its drawback This stove is best suited for slow cooking delicate kebabs fish hot dogs and burgers  not for hot quick searing and grilling of thick steaksOther drawbacks are the vents which do not at least on my unit rotate smoothly And trying to adjust the bottom vent to control air flow will result in your burning the beegeebees out of your fingers  i suggest fireproof mitts handling this stoveAlso being lightweight this stove can dramatically shift during your cooking session resulting in the potential for spillage of hot coals  especially if used on a light platform to increase cooking height cooking on the ground with this thing can be down but for many folks may be uncomfortable I'd suggest at least some holes for securing the stove legs to a platform or a way to weigh down the legsAll in all this stove is OK  it gets the job done I like Weber products even if some of the QC and build quality has gone downhill in the last 10 yearsI hope to enjoy my WSJ for as many years as my 18inch given away my 22inch 8 years going strong and newest acquistion the Smokey Joe Silver   \n",
       "\n",
       "                                                                                                                                                                                                                                                                                                                                                                                                                                                                                                                                                                                                                                                                                 words  \\\n",
       "0  [i, remember, my, dad, using, a, sprinkler, like, this, when, i, was, a, kid, i'm, 61, , we, are, in, the, middle, of, a, drought, here, in, texas, and, i, was, tired, of, having, to, move, the, sprinkler, and, thought, this, would, solve, my, problem, , first, of, all, this, is, a, very, heavy, sprinkler, and, is, awkward, to, pick, up, and, move, , if, you, have, any, trouble, lifting, heavy, objects, get, something, else, , it, has, to, be, moved, , you, can't, drag, it, and, you, can't, turn, it, around, and, make, it, go, the, other, direction, , ...]                                                                                                    \n",
       "1  [i, purchased, 6, of, these, hoses, with, what, was, supposed, to, be, a, lifetime, guarantee, after, a, short, time, the, end, on, one, of, the, hoses, started, leaking, so, i, contacted, the, manufacturer, and, got, a, replacement, a, year, later, another, hose, started, leaking, and, i, got, another, replacement, then, another, hose, started, leaking, but, the, company, would, no, longer, honor, the, warranty, now, gilmour, is, selling, them, but, it's, the, same, hose, , flexogen, the, hose, itself, it, actually, quite, good, if, you, don't, mind, replacing, the, hose, ends, eventually, i've, had, to, replace, every, end, on, every, flexogen, ...]   \n",
       "2  [the, bee, guards, worked, great, but, the, reason, i, gave, it, only, three, stars, is, the, price, over, a, buck, a, piece, is, more, than, it, should, be, in, my, option, if, it, wasn't, a, gift, to, my, dad, who, enjoys, his, hummingbirds, i, would, have, kept, looking, for, a, cheaper, place, to, purchase, them]                                                                                                                                                                                                                                                                                                                                                        \n",
       "3  [i, read, the, other, reviewers, who, had, similar, problems, before, i, bought, this, , i, also, read, the, reviews, raving, about, this, hose, , since, these, hoses, are, maid, from, remnants, i, suppose, its, a, matter, of, luck, as, to, which, hose, you, get, , my, luck, wasn't, good, , the, hose, had, permanent, kinks, and, the, vinyl, skin, had, bubbles, where, it, was, separating, from, the, hosereturned, it, immediately]                                                                                                                                                                                                                                      \n",
       "4  [am, writing, this, while, cooking, some, chicken, on, a, wsj, i, found, last, week, in, new, condition, for, a, hamilton, let, me, preface, my, comments, by, stating, that, i, have, a, 22inch, weber, with, hinged, grate, that, i, lovethe, wsj, is, small, somewhat, solidly, constructed, mine, while, unused, has, rust, rings, around, the, handle, welds, that, go, through, the, cover, , not, goodhowever, most, folks, use, this, weber, as, a, portable, grill, weber, for, gawd's, sakes, incorporate, some, form, of, simple, mechanism, on, all, models, to, keep, the, lid, on, in, order, to, use, the, carry, handle, i, use, a, ...]                              \n",
       "\n",
       "   #tokens  \n",
       "0  262      \n",
       "1  307      \n",
       "2  55       \n",
       "3  70       \n",
       "4  322      "
      ]
     },
     "execution_count": 38,
     "metadata": {},
     "output_type": "execute_result"
    }
   ],
   "source": [
    "from pyspark.ml.feature import Tokenizer\n",
    "from pyspark.sql.functions import col, udf\n",
    "from pyspark.sql.types import IntegerType\n",
    "\n",
    "tokenizer = Tokenizer(inputCol=\"text\", outputCol=\"words\")\n",
    "\n",
    "countTokens = udf(lambda words: len(words), IntegerType())\n",
    "\n",
    "tokenized = tokenizer.transform(data)\n",
    "(tokenized.select(\"text\", \"words\")\n",
    "    .withColumn(\"#tokens\", countTokens(col(\"words\"))).toPandas().head())"
   ]
  },
  {
   "cell_type": "markdown",
   "metadata": {},
   "source": [
    "### Remove common words"
   ]
  },
  {
   "cell_type": "code",
   "execution_count": 39,
   "metadata": {},
   "outputs": [
    {
     "data": {
      "text/html": [
       "<div>\n",
       "<table border=\"1\" class=\"dataframe\">\n",
       "  <thead>\n",
       "    <tr style=\"text-align: right;\">\n",
       "      <th></th>\n",
       "      <th>text</th>\n",
       "      <th>words</th>\n",
       "      <th>filtered</th>\n",
       "    </tr>\n",
       "  </thead>\n",
       "  <tbody>\n",
       "    <tr>\n",
       "      <th>0</th>\n",
       "      <td>I was excited to try this out because about a month ago we had a mice problem in our house I used the Nooski in an area that the mice seemed to love and I also had two snap traps down I ended up catching 5 mice with the snap traps and none with the Nooski all using the same bait We may have also had a misfire once we're not sure if it was a mouse or something we didOne positive about the Nooski is that it is supposed to be safe for your pets That's one thing that concerns me with the snap traps and I have to make sure I put them only in places the pets can't get toI wish this would have worked but we just didn't have any luck with it The snap traps remain the most effective for us</td>\n",
       "      <td>[i, was, excited, to, try, this, out, because, about, a, month, ago, we, had, a, mice, problem, in, our, house, i, used, the, nooski, in, an, area, that, the, mice, seemed, to, love, and, i, also, had, two, snap, traps, down, i, ended, up, catching, 5, mice, with, the, snap, traps, and, none, with, the, nooski, all, using, the, same, bait, we, may, have, also, had, a, misfire, once, we're, not, sure, if, it, was, a, mouse, or, something, we, didone, positive, about, the, nooski, is, that, it, is, supposed, to, be, safe, for, your, pets, that's, one, thing, that, ...]</td>\n",
       "      <td>[excited, try, month, ago, mice, problem, house, used, nooski, area, mice, seemed, love, also, two, snap, traps, ended, catching, 5, mice, snap, traps, none, nooski, using, bait, may, also, misfire, we're, sure, mouse, something, didone, positive, nooski, supposed, safe, pets, that's, one, thing, concerns, snap, traps, make, sure, put, places, pets, can't, get, toi, wish, would, worked, didn't, luck, snap, traps, remain, effective, us]</td>\n",
       "    </tr>\n",
       "    <tr>\n",
       "      <th>1</th>\n",
       "      <td>This trap uses a tight fitting rubber band that is ejected from the device and placed around the neck of the mouse  It is supposed to kill the mouse quickly with the mouse being dead immediately  There are 10 rubber bands in the package so that the device can be used 10 timesI've tried a number of mouse traps over the years  This one works very effectively as judged by killing the mouse however the mouse seems to be strangled and not killed with a broken neck  The fact that the jaw seemed to be dislocated and that the mouse had moved several feet from the trap indicates that it lived a while trying to escape the situation  I was not happy about this and would not purchase the product nor use it again  I know that other traps are also hit and miss but this one had placed the rubber band directly around the neck as it should but still the result was not as predicted  While it worked I was not happy with the thought that the mouse might have suffered as it died</td>\n",
       "      <td>[this, trap, uses, a, tight, fitting, rubber, band, that, is, ejected, from, the, device, and, placed, around, the, neck, of, the, mouse, , it, is, supposed, to, kill, the, mouse, quickly, with, the, mouse, being, dead, immediately, , there, are, 10, rubber, bands, in, the, package, so, that, the, device, can, be, used, 10, timesi've, tried, a, number, of, mouse, traps, over, the, years, , this, one, works, very, effectively, as, judged, by, killing, the, mouse, however, the, mouse, seems, to, be, strangled, and, not, killed, with, a, broken, neck, , the, fact, that, the, jaw, seemed, to, be, dislocated, ...]</td>\n",
       "      <td>[trap, uses, tight, fitting, rubber, band, ejected, device, placed, around, neck, mouse, , supposed, kill, mouse, quickly, mouse, dead, immediately, , 10, rubber, bands, package, device, used, 10, timesi've, tried, number, mouse, traps, years, , one, works, effectively, judged, killing, mouse, however, mouse, seems, strangled, killed, broken, neck, , fact, jaw, seemed, dislocated, mouse, moved, several, feet, trap, indicates, lived, trying, escape, situation, , happy, would, purchase, product, use, , know, traps, also, hit, miss, one, placed, rubber, band, directly, around, neck, still, result, predicted, , worked, happy, thought, mouse, might, suffered, died]</td>\n",
       "    </tr>\n",
       "    <tr>\n",
       "      <th>2</th>\n",
       "      <td>Yesterday I found a telltale sign that a mouse had come in for the winter a ragged hole in the side of a dog snacks bag So I got the Nooski trap out of its package and tried to set it upYikes You have to roll this tiny rubber ring onto the cylinder and although I got it started I just couldn't get it all the way on Actually I couldn't get it half way on So I asked my husband to help since he has strong hands With some effort he got it almost in place then PING The ring shot off across the room He started over and after several such instances he did get the trap set I placed it in the drawer where the mouse had been nibblingWhen I checked it this morning sure enough there was a dead mouse next to the trap strangled by the ring As other reviewers have pointed out this is not necessarily the fastest way to die So while the trap is more humane than a glue trap which can be awful it can be horrifying for the unfortunate critter who just wanted to get out of the coldI started this review by mentioning dog food and the trap is safer for pets than poison or spring traps However if your pet should eat the dead mouse it would probably ingest the rubber ring too I set the trap in a drawer so this was not a concern the dead mouse was still in the drawer</td>\n",
       "      <td>[yesterday, i, found, a, telltale, sign, that, a, mouse, had, come, in, for, the, winter, a, ragged, hole, in, the, side, of, a, dog, snacks, bag, so, i, got, the, nooski, trap, out, of, its, package, and, tried, to, set, it, upyikes, you, have, to, roll, this, tiny, rubber, ring, onto, the, cylinder, and, although, i, got, it, started, i, just, couldn't, get, it, all, the, way, on, actually, i, couldn't, get, it, half, way, on, so, i, asked, my, husband, to, help, since, he, has, strong, hands, with, some, effort, he, got, it, almost, in, place, then, ping, the, ...]</td>\n",
       "      <td>[yesterday, found, telltale, sign, mouse, come, winter, ragged, hole, side, dog, snacks, bag, got, nooski, trap, package, tried, set, upyikes, roll, tiny, rubber, ring, onto, cylinder, although, got, started, couldn't, get, way, actually, couldn't, get, half, way, asked, husband, help, since, strong, hands, effort, got, almost, place, ping, ring, shot, across, room, started, several, instances, get, trap, set, placed, drawer, mouse, nibblingwhen, checked, morning, sure, enough, dead, mouse, next, trap, strangled, ring, reviewers, pointed, necessarily, fastest, way, die, trap, humane, glue, trap, awful, horrifying, unfortunate, critter, wanted, get, coldi, started, review, mentioning, dog, food, trap, safer, pets, poison, spring, traps, ...]</td>\n",
       "    </tr>\n",
       "    <tr>\n",
       "      <th>3</th>\n",
       "      <td>There are some occasional mice scurrying around my properties so I decided to give this Nooski Mouse trap a tryLikesVery inventive trap design using an elastic ring that chokes little critters when they enter the plastic trap to get at the bait peanut butter cheese or chocolate recommended by Nooski and trip the triggering deviceSimple to set up and place along a wall or in a cornerDislikesFairly tiny trap considering I've occasionally seen a large rodent boldly running across the street around our hilltop suburban neighborhoodDid kill a tiny 4 mouse that was wandering around my backyardDidn't get the mole moles that was digging multiple holes around my backyard lawnKills more by suffocation compared to large old fashioned mouse traps that usually snaps a neck or spine in an instantOverallEven pests deserve a quick painless demise  This trap is way too small and movable for an 8 large rodent that was seen digging a hole in the garage wall of my rental property  I ended up using a large traditional springloaded trap baited with a sesame oil laced piece of meat tied securely to the trigger rodents are smart sneakily stealing baits from traps  Snapped that big critter's back about 5 minutes after placing the trap by the hole  Disposed of properly</td>\n",
       "      <td>[there, are, some, occasional, mice, scurrying, around, my, properties, so, i, decided, to, give, this, nooski, mouse, trap, a, trylikesvery, inventive, trap, design, using, an, elastic, ring, that, chokes, little, critters, when, they, enter, the, plastic, trap, to, get, at, the, bait, peanut, butter, cheese, or, chocolate, recommended, by, nooski, and, trip, the, triggering, devicesimple, to, set, up, and, place, along, a, wall, or, in, a, cornerdislikesfairly, tiny, trap, considering, i've, occasionally, seen, a, large, rodent, boldly, running, across, the, street, around, our, hilltop, suburban, neighborhooddid, kill, a, tiny, 4, mouse, that, was, wandering, around, my, backyarddidn't, get, the, mole, ...]</td>\n",
       "      <td>[occasional, mice, scurrying, around, properties, decided, give, nooski, mouse, trap, trylikesvery, inventive, trap, design, using, elastic, ring, chokes, little, critters, enter, plastic, trap, get, bait, peanut, butter, cheese, chocolate, recommended, nooski, trip, triggering, devicesimple, set, place, along, wall, cornerdislikesfairly, tiny, trap, considering, i've, occasionally, seen, large, rodent, boldly, running, across, street, around, hilltop, suburban, neighborhooddid, kill, tiny, 4, mouse, wandering, around, backyarddidn't, get, mole, moles, digging, multiple, holes, around, backyard, lawnkills, suffocation, compared, large, old, fashioned, mouse, traps, usually, snaps, neck, spine, instantoveralleven, pests, deserve, quick, painless, demise, , trap, way, small, movable, 8, large, rodent, seen, digging, hole, garage, ...]</td>\n",
       "    </tr>\n",
       "    <tr>\n",
       "      <th>4</th>\n",
       "      <td>I hate traditional mouse traps  I am always setting them off when I place them where I think the mouse will go  I like this trap's concept of placing a tight rubber ring around the rodent's neck thus quickly suffocating it andor breaking its neck  It was easy to set and to put the bait in the trap but so far not a single mouse has gotten near it  I don't know if my problem is the trap itself or where I have placed the trap but I know I have mice  I've seen them  I recommend trying this trap if you are like me and don't like setting the more traditional kind  If you don't want to kill your mouse try a live trap</td>\n",
       "      <td>[i, hate, traditional, mouse, traps, , i, am, always, setting, them, off, when, i, place, them, where, i, think, the, mouse, will, go, , i, like, this, trap's, concept, of, placing, a, tight, rubber, ring, around, the, rodent's, neck, thus, quickly, suffocating, it, andor, breaking, its, neck, , it, was, easy, to, set, and, to, put, the, bait, in, the, trap, but, so, far, not, a, single, mouse, has, gotten, near, it, , i, don't, know, if, my, problem, is, the, trap, itself, or, where, i, have, placed, the, trap, but, i, know, i, have, mice, , i've, seen, them, ...]</td>\n",
       "      <td>[hate, traditional, mouse, traps, , always, setting, place, think, mouse, go, , like, trap's, concept, placing, tight, rubber, ring, around, rodent's, neck, thus, quickly, suffocating, andor, breaking, neck, , easy, set, put, bait, trap, far, single, mouse, gotten, near, , don't, know, problem, trap, placed, trap, know, mice, , i've, seen, , recommend, trying, trap, like, don't, like, setting, traditional, kind, , don't, want, kill, mouse, try, live, trap]</td>\n",
       "    </tr>\n",
       "  </tbody>\n",
       "</table>\n",
       "</div>"
      ],
      "text/plain": [
       "                                                                                                                                                                                                                                                                                                                                                                                                                                                                                                                                                                                                                                                                                                                                                                                                                                                                                                                                                                                                                                                                                                                                                                                                                                                                                                              text  \\\n",
       "0  I was excited to try this out because about a month ago we had a mice problem in our house I used the Nooski in an area that the mice seemed to love and I also had two snap traps down I ended up catching 5 mice with the snap traps and none with the Nooski all using the same bait We may have also had a misfire once we're not sure if it was a mouse or something we didOne positive about the Nooski is that it is supposed to be safe for your pets That's one thing that concerns me with the snap traps and I have to make sure I put them only in places the pets can't get toI wish this would have worked but we just didn't have any luck with it The snap traps remain the most effective for us                                                                                                                                                                                                                                                                                                                                                                                                                                                                                                                                                                                                 \n",
       "1  This trap uses a tight fitting rubber band that is ejected from the device and placed around the neck of the mouse  It is supposed to kill the mouse quickly with the mouse being dead immediately  There are 10 rubber bands in the package so that the device can be used 10 timesI've tried a number of mouse traps over the years  This one works very effectively as judged by killing the mouse however the mouse seems to be strangled and not killed with a broken neck  The fact that the jaw seemed to be dislocated and that the mouse had moved several feet from the trap indicates that it lived a while trying to escape the situation  I was not happy about this and would not purchase the product nor use it again  I know that other traps are also hit and miss but this one had placed the rubber band directly around the neck as it should but still the result was not as predicted  While it worked I was not happy with the thought that the mouse might have suffered as it died                                                                                                                                                                                                                                                                                                      \n",
       "2  Yesterday I found a telltale sign that a mouse had come in for the winter a ragged hole in the side of a dog snacks bag So I got the Nooski trap out of its package and tried to set it upYikes You have to roll this tiny rubber ring onto the cylinder and although I got it started I just couldn't get it all the way on Actually I couldn't get it half way on So I asked my husband to help since he has strong hands With some effort he got it almost in place then PING The ring shot off across the room He started over and after several such instances he did get the trap set I placed it in the drawer where the mouse had been nibblingWhen I checked it this morning sure enough there was a dead mouse next to the trap strangled by the ring As other reviewers have pointed out this is not necessarily the fastest way to die So while the trap is more humane than a glue trap which can be awful it can be horrifying for the unfortunate critter who just wanted to get out of the coldI started this review by mentioning dog food and the trap is safer for pets than poison or spring traps However if your pet should eat the dead mouse it would probably ingest the rubber ring too I set the trap in a drawer so this was not a concern the dead mouse was still in the drawer     \n",
       "3  There are some occasional mice scurrying around my properties so I decided to give this Nooski Mouse trap a tryLikesVery inventive trap design using an elastic ring that chokes little critters when they enter the plastic trap to get at the bait peanut butter cheese or chocolate recommended by Nooski and trip the triggering deviceSimple to set up and place along a wall or in a cornerDislikesFairly tiny trap considering I've occasionally seen a large rodent boldly running across the street around our hilltop suburban neighborhoodDid kill a tiny 4 mouse that was wandering around my backyardDidn't get the mole moles that was digging multiple holes around my backyard lawnKills more by suffocation compared to large old fashioned mouse traps that usually snaps a neck or spine in an instantOverallEven pests deserve a quick painless demise  This trap is way too small and movable for an 8 large rodent that was seen digging a hole in the garage wall of my rental property  I ended up using a large traditional springloaded trap baited with a sesame oil laced piece of meat tied securely to the trigger rodents are smart sneakily stealing baits from traps  Snapped that big critter's back about 5 minutes after placing the trap by the hole  Disposed of properly   \n",
       "4  I hate traditional mouse traps  I am always setting them off when I place them where I think the mouse will go  I like this trap's concept of placing a tight rubber ring around the rodent's neck thus quickly suffocating it andor breaking its neck  It was easy to set and to put the bait in the trap but so far not a single mouse has gotten near it  I don't know if my problem is the trap itself or where I have placed the trap but I know I have mice  I've seen them  I recommend trying this trap if you are like me and don't like setting the more traditional kind  If you don't want to kill your mouse try a live trap                                                                                                                                                                                                                                                                                                                                                                                                                                                                                                                                                                                                                                                                         \n",
       "\n",
       "                                                                                                                                                                                                                                                                                                                                                                                                                                                                                                                                                                                                                                                                                                                                             words  \\\n",
       "0  [i, was, excited, to, try, this, out, because, about, a, month, ago, we, had, a, mice, problem, in, our, house, i, used, the, nooski, in, an, area, that, the, mice, seemed, to, love, and, i, also, had, two, snap, traps, down, i, ended, up, catching, 5, mice, with, the, snap, traps, and, none, with, the, nooski, all, using, the, same, bait, we, may, have, also, had, a, misfire, once, we're, not, sure, if, it, was, a, mouse, or, something, we, didone, positive, about, the, nooski, is, that, it, is, supposed, to, be, safe, for, your, pets, that's, one, thing, that, ...]                                                                                                                                                     \n",
       "1  [this, trap, uses, a, tight, fitting, rubber, band, that, is, ejected, from, the, device, and, placed, around, the, neck, of, the, mouse, , it, is, supposed, to, kill, the, mouse, quickly, with, the, mouse, being, dead, immediately, , there, are, 10, rubber, bands, in, the, package, so, that, the, device, can, be, used, 10, timesi've, tried, a, number, of, mouse, traps, over, the, years, , this, one, works, very, effectively, as, judged, by, killing, the, mouse, however, the, mouse, seems, to, be, strangled, and, not, killed, with, a, broken, neck, , the, fact, that, the, jaw, seemed, to, be, dislocated, ...]                                                                                                          \n",
       "2  [yesterday, i, found, a, telltale, sign, that, a, mouse, had, come, in, for, the, winter, a, ragged, hole, in, the, side, of, a, dog, snacks, bag, so, i, got, the, nooski, trap, out, of, its, package, and, tried, to, set, it, upyikes, you, have, to, roll, this, tiny, rubber, ring, onto, the, cylinder, and, although, i, got, it, started, i, just, couldn't, get, it, all, the, way, on, actually, i, couldn't, get, it, half, way, on, so, i, asked, my, husband, to, help, since, he, has, strong, hands, with, some, effort, he, got, it, almost, in, place, then, ping, the, ...]                                                                                                                                                    \n",
       "3  [there, are, some, occasional, mice, scurrying, around, my, properties, so, i, decided, to, give, this, nooski, mouse, trap, a, trylikesvery, inventive, trap, design, using, an, elastic, ring, that, chokes, little, critters, when, they, enter, the, plastic, trap, to, get, at, the, bait, peanut, butter, cheese, or, chocolate, recommended, by, nooski, and, trip, the, triggering, devicesimple, to, set, up, and, place, along, a, wall, or, in, a, cornerdislikesfairly, tiny, trap, considering, i've, occasionally, seen, a, large, rodent, boldly, running, across, the, street, around, our, hilltop, suburban, neighborhooddid, kill, a, tiny, 4, mouse, that, was, wandering, around, my, backyarddidn't, get, the, mole, ...]   \n",
       "4  [i, hate, traditional, mouse, traps, , i, am, always, setting, them, off, when, i, place, them, where, i, think, the, mouse, will, go, , i, like, this, trap's, concept, of, placing, a, tight, rubber, ring, around, the, rodent's, neck, thus, quickly, suffocating, it, andor, breaking, its, neck, , it, was, easy, to, set, and, to, put, the, bait, in, the, trap, but, so, far, not, a, single, mouse, has, gotten, near, it, , i, don't, know, if, my, problem, is, the, trap, itself, or, where, i, have, placed, the, trap, but, i, know, i, have, mice, , i've, seen, them, ...]                                                                                                                                                       \n",
       "\n",
       "                                                                                                                                                                                                                                                                                                                                                                                                                                                                                                                                                                                                                                                                                                                                                                                                                                                                       filtered  \n",
       "0  [excited, try, month, ago, mice, problem, house, used, nooski, area, mice, seemed, love, also, two, snap, traps, ended, catching, 5, mice, snap, traps, none, nooski, using, bait, may, also, misfire, we're, sure, mouse, something, didone, positive, nooski, supposed, safe, pets, that's, one, thing, concerns, snap, traps, make, sure, put, places, pets, can't, get, toi, wish, would, worked, didn't, luck, snap, traps, remain, effective, us]                                                                                                                                                                                                                                                                                                                                                                                                                       \n",
       "1  [trap, uses, tight, fitting, rubber, band, ejected, device, placed, around, neck, mouse, , supposed, kill, mouse, quickly, mouse, dead, immediately, , 10, rubber, bands, package, device, used, 10, timesi've, tried, number, mouse, traps, years, , one, works, effectively, judged, killing, mouse, however, mouse, seems, strangled, killed, broken, neck, , fact, jaw, seemed, dislocated, mouse, moved, several, feet, trap, indicates, lived, trying, escape, situation, , happy, would, purchase, product, use, , know, traps, also, hit, miss, one, placed, rubber, band, directly, around, neck, still, result, predicted, , worked, happy, thought, mouse, might, suffered, died]                                                                                                                                                                                  \n",
       "2  [yesterday, found, telltale, sign, mouse, come, winter, ragged, hole, side, dog, snacks, bag, got, nooski, trap, package, tried, set, upyikes, roll, tiny, rubber, ring, onto, cylinder, although, got, started, couldn't, get, way, actually, couldn't, get, half, way, asked, husband, help, since, strong, hands, effort, got, almost, place, ping, ring, shot, across, room, started, several, instances, get, trap, set, placed, drawer, mouse, nibblingwhen, checked, morning, sure, enough, dead, mouse, next, trap, strangled, ring, reviewers, pointed, necessarily, fastest, way, die, trap, humane, glue, trap, awful, horrifying, unfortunate, critter, wanted, get, coldi, started, review, mentioning, dog, food, trap, safer, pets, poison, spring, traps, ...]                                                                                                \n",
       "3  [occasional, mice, scurrying, around, properties, decided, give, nooski, mouse, trap, trylikesvery, inventive, trap, design, using, elastic, ring, chokes, little, critters, enter, plastic, trap, get, bait, peanut, butter, cheese, chocolate, recommended, nooski, trip, triggering, devicesimple, set, place, along, wall, cornerdislikesfairly, tiny, trap, considering, i've, occasionally, seen, large, rodent, boldly, running, across, street, around, hilltop, suburban, neighborhooddid, kill, tiny, 4, mouse, wandering, around, backyarddidn't, get, mole, moles, digging, multiple, holes, around, backyard, lawnkills, suffocation, compared, large, old, fashioned, mouse, traps, usually, snaps, neck, spine, instantoveralleven, pests, deserve, quick, painless, demise, , trap, way, small, movable, 8, large, rodent, seen, digging, hole, garage, ...]  \n",
       "4  [hate, traditional, mouse, traps, , always, setting, place, think, mouse, go, , like, trap's, concept, placing, tight, rubber, ring, around, rodent's, neck, thus, quickly, suffocating, andor, breaking, neck, , easy, set, put, bait, trap, far, single, mouse, gotten, near, , don't, know, problem, trap, placed, trap, know, mice, , i've, seen, , recommend, trying, trap, like, don't, like, setting, traditional, kind, , don't, want, kill, mouse, try, live, trap]                                                                                                                                                                                                                                                                                                                                                                                                  "
      ]
     },
     "execution_count": 39,
     "metadata": {},
     "output_type": "execute_result"
    }
   ],
   "source": [
    "from pyspark.ml.feature import StopWordsRemover\n",
    "\n",
    "remover = StopWordsRemover(inputCol=\"words\", outputCol=\"filtered\").setCaseSensitive(False)\n",
    "removed = remover.transform(tokenized)\n",
    "removed.select(\"text\", \"words\", \"filtered\" ).toPandas().head()"
   ]
  },
  {
   "cell_type": "markdown",
   "metadata": {},
   "source": [
    "### Show list of common words removed"
   ]
  },
  {
   "cell_type": "code",
   "execution_count": 40,
   "metadata": {},
   "outputs": [
    {
     "name": "stdout",
     "output_type": "stream",
     "text": [
      "i\n",
      "me\n",
      "my\n",
      "myself\n",
      "we\n",
      "our\n",
      "ours\n",
      "ourselves\n",
      "you\n",
      "your\n",
      "yours\n",
      "yourself\n",
      "yourselves\n",
      "he\n",
      "him\n",
      "his\n",
      "himself\n",
      "she\n",
      "her\n",
      "hers\n",
      "herself\n",
      "it\n",
      "its\n",
      "itself\n",
      "they\n",
      "them\n",
      "their\n",
      "theirs\n",
      "themselves\n",
      "what\n",
      "which\n",
      "who\n",
      "whom\n",
      "this\n",
      "that\n",
      "these\n",
      "those\n",
      "am\n",
      "is\n",
      "are\n",
      "was\n",
      "were\n",
      "be\n",
      "been\n",
      "being\n",
      "have\n",
      "has\n",
      "had\n",
      "having\n",
      "do\n",
      "does\n",
      "did\n",
      "doing\n",
      "a\n",
      "an\n",
      "the\n",
      "and\n",
      "but\n",
      "if\n",
      "or\n",
      "because\n",
      "as\n",
      "until\n",
      "while\n",
      "of\n",
      "at\n",
      "by\n",
      "for\n",
      "with\n",
      "about\n",
      "against\n",
      "between\n",
      "into\n",
      "through\n",
      "during\n",
      "before\n",
      "after\n",
      "above\n",
      "below\n",
      "to\n",
      "from\n",
      "up\n",
      "down\n",
      "in\n",
      "out\n",
      "on\n",
      "off\n",
      "over\n",
      "under\n",
      "again\n",
      "further\n",
      "then\n",
      "once\n",
      "here\n",
      "there\n",
      "when\n",
      "where\n",
      "why\n",
      "how\n",
      "all\n",
      "any\n",
      "both\n",
      "each\n",
      "few\n",
      "more\n",
      "most\n",
      "other\n",
      "some\n",
      "such\n",
      "no\n",
      "nor\n",
      "not\n",
      "only\n",
      "own\n",
      "same\n",
      "so\n",
      "than\n",
      "too\n",
      "very\n",
      "s\n",
      "t\n",
      "can\n",
      "will\n",
      "just\n",
      "don\n",
      "should\n",
      "now\n",
      "d\n",
      "ll\n",
      "m\n",
      "o\n",
      "re\n",
      "ve\n",
      "y\n",
      "ain\n",
      "aren\n",
      "couldn\n",
      "didn\n",
      "doesn\n",
      "hadn\n",
      "hasn\n",
      "haven\n",
      "isn\n",
      "ma\n",
      "mightn\n",
      "mustn\n",
      "needn\n",
      "shan\n",
      "shouldn\n",
      "wasn\n",
      "weren\n",
      "won\n",
      "wouldn\n"
     ]
    },
    {
     "data": {
      "text/plain": [
       "[None,\n",
       " None,\n",
       " None,\n",
       " None,\n",
       " None,\n",
       " None,\n",
       " None,\n",
       " None,\n",
       " None,\n",
       " None,\n",
       " None,\n",
       " None,\n",
       " None,\n",
       " None,\n",
       " None,\n",
       " None,\n",
       " None,\n",
       " None,\n",
       " None,\n",
       " None,\n",
       " None,\n",
       " None,\n",
       " None,\n",
       " None,\n",
       " None,\n",
       " None,\n",
       " None,\n",
       " None,\n",
       " None,\n",
       " None,\n",
       " None,\n",
       " None,\n",
       " None,\n",
       " None,\n",
       " None,\n",
       " None,\n",
       " None,\n",
       " None,\n",
       " None,\n",
       " None,\n",
       " None,\n",
       " None,\n",
       " None,\n",
       " None,\n",
       " None,\n",
       " None,\n",
       " None,\n",
       " None,\n",
       " None,\n",
       " None,\n",
       " None,\n",
       " None,\n",
       " None,\n",
       " None,\n",
       " None,\n",
       " None,\n",
       " None,\n",
       " None,\n",
       " None,\n",
       " None,\n",
       " None,\n",
       " None,\n",
       " None,\n",
       " None,\n",
       " None,\n",
       " None,\n",
       " None,\n",
       " None,\n",
       " None,\n",
       " None,\n",
       " None,\n",
       " None,\n",
       " None,\n",
       " None,\n",
       " None,\n",
       " None,\n",
       " None,\n",
       " None,\n",
       " None,\n",
       " None,\n",
       " None,\n",
       " None,\n",
       " None,\n",
       " None,\n",
       " None,\n",
       " None,\n",
       " None,\n",
       " None,\n",
       " None,\n",
       " None,\n",
       " None,\n",
       " None,\n",
       " None,\n",
       " None,\n",
       " None,\n",
       " None,\n",
       " None,\n",
       " None,\n",
       " None,\n",
       " None,\n",
       " None,\n",
       " None,\n",
       " None,\n",
       " None,\n",
       " None,\n",
       " None,\n",
       " None,\n",
       " None,\n",
       " None,\n",
       " None,\n",
       " None,\n",
       " None,\n",
       " None,\n",
       " None,\n",
       " None,\n",
       " None,\n",
       " None,\n",
       " None,\n",
       " None,\n",
       " None,\n",
       " None,\n",
       " None,\n",
       " None,\n",
       " None,\n",
       " None,\n",
       " None,\n",
       " None,\n",
       " None,\n",
       " None,\n",
       " None,\n",
       " None,\n",
       " None,\n",
       " None,\n",
       " None,\n",
       " None,\n",
       " None,\n",
       " None,\n",
       " None,\n",
       " None,\n",
       " None,\n",
       " None,\n",
       " None,\n",
       " None,\n",
       " None,\n",
       " None,\n",
       " None,\n",
       " None,\n",
       " None,\n",
       " None,\n",
       " None,\n",
       " None,\n",
       " None,\n",
       " None]"
      ]
     },
     "execution_count": 40,
     "metadata": {},
     "output_type": "execute_result"
    }
   ],
   "source": [
    "from __future__ import print_function\n",
    "[print(x) for x in remover.getStopWords()]"
   ]
  },
  {
   "cell_type": "markdown",
   "metadata": {},
   "source": [
    "### Hash the words"
   ]
  },
  {
   "cell_type": "code",
   "execution_count": 41,
   "metadata": {},
   "outputs": [
    {
     "data": {
      "text/html": [
       "<div>\n",
       "<table border=\"1\" class=\"dataframe\">\n",
       "  <thead>\n",
       "    <tr style=\"text-align: right;\">\n",
       "      <th></th>\n",
       "      <th>text</th>\n",
       "      <th>filtered</th>\n",
       "      <th>rawFeatures</th>\n",
       "    </tr>\n",
       "  </thead>\n",
       "  <tbody>\n",
       "    <tr>\n",
       "      <th>0</th>\n",
       "      <td>I remember my dad using a sprinkler like this when I was a kid I'm 61  We are in the middle of a drought here in Texas and I was tired of having to move the sprinkler and thought this would solve my problem  First of all this is a VERY heavy sprinkler and is awkward to pick up and move  If you have any trouble lifting heavy objects get something else  It has to be moved  You can't drag it and you can't turn it around and make it go the other direction  I have found I have to check on it as often if not more often than I was moving my oscillating sprinkler  First it jumped off the hosetrack and was climbing the fence  Then it kinked the hose and cut off the water  Finally it dug itself a hole and had mud all over the back wheels  Tried it another time and it just stopped spraying water  No kink this time checked the button on the bottom couldn't get it going again  I went back to my oscillating sprinkler  At least it's easy to move around  I think you need to use this on a very flat very straight lawn  Mine is bumpy and I need it to make a couple of gentle curves  It didn't work for me  I like the spray it puts out and would use it as a stationery sprinkler if it weren't so heavy to move</td>\n",
       "      <td>[remember, dad, using, sprinkler, like, kid, i'm, 61, , middle, drought, texas, tired, move, sprinkler, thought, would, solve, problem, , first, heavy, sprinkler, awkward, pick, move, , trouble, lifting, heavy, objects, get, something, else, , moved, , can't, drag, can't, turn, around, make, go, direction, , found, check, often, often, moving, oscillating, sprinkler, , first, jumped, hosetrack, climbing, fence, , kinked, hose, cut, water, , finally, dug, hole, mud, back, wheels, , tried, another, time, stopped, spraying, water, , kink, time, checked, button, bottom, couldn't, get, going, , went, back, oscillating, sprinkler, , least, it's, easy, move, around, , think, ...]</td>\n",
       "      <td>(1.0, 5.0, 1.0, 0.0, 0.0, 1.0, 0.0, 0.0, 1.0, 1.0, 0.0, 1.0, 0.0, 1.0, 0.0, 0.0, 1.0, 0.0, 1.0, 1.0, 1.0, 0.0, 0.0, 0.0, 3.0, 2.0, 7.0, 1.0, 1.0, 0.0, 4.0, 1.0, 0.0, 0.0, 2.0, 1.0, 1.0, 5.0, 1.0, 0.0, 1.0, 0.0, 1.0, 1.0, 0.0, 1.0, 0.0, 1.0, 4.0, 0.0, 0.0, 0.0, 1.0, 4.0, 0.0, 5.0, 0.0, 3.0, 1.0, 3.0, 3.0, 1.0, 0.0, 2.0, 2.0, 1.0, 0.0, 0.0, 0.0, 2.0, 0.0, 1.0, 18.0, 0.0, 0.0, 0.0, 1.0, 2.0, 0.0, 2.0, 1.0, 0.0, 7.0, 2.0, 0.0, 1.0, 2.0, 0.0, 1.0, 2.0, 0.0, 0.0, 1.0, 1.0, 0.0, 0.0, 0.0, 1.0, 1.0, 1.0)</td>\n",
       "    </tr>\n",
       "    <tr>\n",
       "      <th>1</th>\n",
       "      <td>I purchased 6 of these hoses with what was supposed to be a lifetime guarantee After a short time the end on one of the hoses started leaking so I contacted the manufacturer and got a replacement A year later another hose started leaking and I got another replacement Then another hose started leaking but the company would no longer honor the warranty Now Gilmour is selling them But it's the same hose  Flexogen The hose itself it actually quite good if you don't mind replacing the hose ends eventually I've had to replace every end on every Flexogen hose that I haveKeep in mind that I bought hoses from Flexogen but that company no longer exists and Gilmour would not honor the warranty on those hoses even though Gilmour is now selling them Also note that Flexogen is a patented hose Lifetime warranty isn't much good when the company gets bought or taken over by another company and the new company Gilmour won't honor the warranty And who wants to have to keep sending in hose parts to get a replacement every year or twoLet me reiterate Gilmour would not honor the warranty on my Flexogen hoses I wrote to them multiple times and was told without explanation that Gilmour would not replace the defective hoses If you buy these hoses expecting a lifetime warranty you may not get itOn the Gilmour website there is no longer any information relating to Flexogen hose warranty or on how to have a Flexogen hose replaced  On Amazon it does say This heavyduty garden hose is made in the USA and backed by a lifetime guarantee It also says Lifetime Guarantee on the front of the hose package Gilmour is now owned by the Robert Bosch Corp so probably even less chance of getting a warranty replacement</td>\n",
       "      <td>[purchased, 6, hoses, supposed, lifetime, guarantee, short, time, end, one, hoses, started, leaking, contacted, manufacturer, got, replacement, year, later, another, hose, started, leaking, got, another, replacement, another, hose, started, leaking, company, would, longer, honor, warranty, gilmour, selling, it's, hose, , flexogen, hose, actually, quite, good, don't, mind, replacing, hose, ends, eventually, i've, replace, every, end, every, flexogen, hose, havekeep, mind, bought, hoses, flexogen, company, longer, exists, gilmour, would, honor, warranty, hoses, even, though, gilmour, selling, also, note, flexogen, patented, hose, lifetime, warranty, isn't, much, good, company, gets, bought, taken, another, company, new, company, gilmour, won't, honor, warranty, wants, keep, sending, ...]</td>\n",
       "      <td>(0.0, 1.0, 0.0, 2.0, 0.0, 0.0, 2.0, 2.0, 0.0, 13.0, 1.0, 2.0, 0.0, 2.0, 0.0, 0.0, 0.0, 0.0, 5.0, 2.0, 1.0, 0.0, 0.0, 0.0, 1.0, 1.0, 1.0, 0.0, 1.0, 4.0, 1.0, 0.0, 1.0, 0.0, 0.0, 0.0, 3.0, 2.0, 1.0, 5.0, 4.0, 16.0, 1.0, 0.0, 2.0, 0.0, 0.0, 1.0, 1.0, 0.0, 1.0, 0.0, 2.0, 1.0, 0.0, 1.0, 0.0, 6.0, 1.0, 3.0, 0.0, 1.0, 2.0, 5.0, 1.0, 1.0, 8.0, 0.0, 12.0, 0.0, 0.0, 1.0, 3.0, 8.0, 1.0, 1.0, 0.0, 0.0, 2.0, 5.0, 0.0, 0.0, 1.0, 0.0, 5.0, 0.0, 0.0, 3.0, 1.0, 1.0, 0.0, 1.0, 8.0, 1.0, 1.0, 1.0, 2.0, 1.0, 0.0, 3.0)</td>\n",
       "    </tr>\n",
       "    <tr>\n",
       "      <th>2</th>\n",
       "      <td>The bee guards worked great but the reason I gave it only three stars is the price Over a buck a piece is more than it should be in my option If it wasn't a gift to my dad who enjoys his hummingbirds I would have kept looking for a cheaper place to purchase them</td>\n",
       "      <td>[bee, guards, worked, great, reason, gave, three, stars, price, buck, piece, option, wasn't, gift, dad, enjoys, hummingbirds, would, kept, looking, cheaper, place, purchase]</td>\n",
       "      <td>(0.0, 1.0, 1.0, 0.0, 0.0, 0.0, 0.0, 0.0, 0.0, 0.0, 0.0, 0.0, 0.0, 0.0, 0.0, 1.0, 0.0, 0.0, 1.0, 0.0, 0.0, 0.0, 1.0, 2.0, 0.0, 0.0, 0.0, 0.0, 0.0, 0.0, 0.0, 0.0, 0.0, 0.0, 0.0, 0.0, 1.0, 0.0, 0.0, 1.0, 0.0, 0.0, 0.0, 0.0, 1.0, 0.0, 0.0, 1.0, 1.0, 0.0, 0.0, 0.0, 1.0, 0.0, 0.0, 0.0, 0.0, 0.0, 1.0, 0.0, 1.0, 0.0, 0.0, 2.0, 1.0, 0.0, 0.0, 0.0, 2.0, 0.0, 0.0, 0.0, 0.0, 0.0, 0.0, 0.0, 0.0, 1.0, 0.0, 0.0, 0.0, 0.0, 0.0, 0.0, 0.0, 0.0, 0.0, 0.0, 0.0, 0.0, 0.0, 1.0, 0.0, 0.0, 0.0, 0.0, 0.0, 0.0, 1.0, 0.0)</td>\n",
       "    </tr>\n",
       "    <tr>\n",
       "      <th>3</th>\n",
       "      <td>I read the other reviewers who had similar problems before I bought this  I also read the reviews raving about this hose  Since these hoses are maid from remnants I suppose its a matter of luck as to which hose you get  My luck wasn't good  The hose had permanent kinks and the vinyl skin had bubbles where it was separating from the hoseReturned it immediately</td>\n",
       "      <td>[read, reviewers, similar, problems, bought, , also, read, reviews, raving, hose, , since, hoses, maid, remnants, suppose, matter, luck, hose, get, , luck, wasn't, good, , hose, permanent, kinks, vinyl, skin, bubbles, separating, hosereturned, immediately]</td>\n",
       "      <td>(0.0, 0.0, 1.0, 1.0, 0.0, 0.0, 0.0, 0.0, 0.0, 3.0, 1.0, 0.0, 1.0, 1.0, 0.0, 0.0, 0.0, 2.0, 0.0, 0.0, 0.0, 0.0, 0.0, 0.0, 0.0, 0.0, 0.0, 0.0, 0.0, 0.0, 0.0, 0.0, 0.0, 1.0, 0.0, 0.0, 0.0, 0.0, 0.0, 0.0, 0.0, 0.0, 0.0, 0.0, 0.0, 0.0, 0.0, 0.0, 0.0, 1.0, 2.0, 0.0, 1.0, 0.0, 0.0, 0.0, 0.0, 0.0, 0.0, 1.0, 0.0, 0.0, 0.0, 0.0, 0.0, 0.0, 0.0, 0.0, 2.0, 0.0, 1.0, 2.0, 4.0, 0.0, 1.0, 0.0, 1.0, 1.0, 1.0, 0.0, 0.0, 0.0, 0.0, 0.0, 0.0, 3.0, 0.0, 0.0, 0.0, 1.0, 0.0, 0.0, 1.0, 0.0, 0.0, 1.0, 0.0, 0.0, 0.0, 0.0)</td>\n",
       "    </tr>\n",
       "    <tr>\n",
       "      <th>4</th>\n",
       "      <td>Am writing this while cooking some chicken on a WSJ i found last week in new condition for a Hamilton Let me preface my comments by stating that I have a 22inch Weber with hinged grate that I loveThe WSJ is small somewhat solidly constructed mine while unused has rust rings around the handle welds that go through the cover  not goodHowever most folks use this Weber as a portable grill Weber for gawd's sakes incorporate some form of simple mechanism ON ALL MODELS to keep the lid on in order to use the carry handle i use a pair of bungees looped every 45 degreesThe stove's best feature the ability to cook using fewer coals is also its drawback This stove is best suited for slow cooking delicate kebabs fish hot dogs and burgers  not for hot quick searing and grilling of thick steaksOther drawbacks are the vents which do not at least on my unit rotate smoothly And trying to adjust the bottom vent to control air flow will result in your burning the beegeebees out of your fingers  i suggest fireproof mitts handling this stoveAlso being lightweight this stove can dramatically shift during your cooking session resulting in the potential for spillage of hot coals  especially if used on a light platform to increase cooking height cooking on the ground with this thing can be down but for many folks may be uncomfortable I'd suggest at least some holes for securing the stove legs to a platform or a way to weigh down the legsAll in all this stove is OK  it gets the job done I like Weber products even if some of the QC and build quality has gone downhill in the last 10 yearsI hope to enjoy my WSJ for as many years as my 18inch given away my 22inch 8 years going strong and newest acquistion the Smokey Joe Silver</td>\n",
       "      <td>[writing, cooking, chicken, wsj, found, last, week, new, condition, hamilton, let, preface, comments, stating, 22inch, weber, hinged, grate, lovethe, wsj, small, somewhat, solidly, constructed, mine, unused, rust, rings, around, handle, welds, go, cover, , goodhowever, folks, use, weber, portable, grill, weber, gawd's, sakes, incorporate, form, simple, mechanism, models, keep, lid, order, use, carry, handle, use, pair, bungees, looped, every, 45, degreesthe, stove's, best, feature, ability, cook, using, fewer, coals, also, drawback, stove, best, suited, slow, cooking, delicate, kebabs, fish, hot, dogs, burgers, , hot, quick, searing, grilling, thick, steaksother, drawbacks, vents, least, unit, rotate, smoothly, trying, adjust, bottom, vent, control, ...]</td>\n",
       "      <td>(1.0, 0.0, 2.0, 6.0, 1.0, 3.0, 1.0, 1.0, 1.0, 0.0, 0.0, 0.0, 1.0, 1.0, 2.0, 2.0, 0.0, 2.0, 2.0, 1.0, 2.0, 3.0, 2.0, 4.0, 1.0, 3.0, 1.0, 1.0, 1.0, 2.0, 3.0, 3.0, 7.0, 2.0, 0.0, 2.0, 7.0, 2.0, 0.0, 1.0, 0.0, 1.0, 2.0, 2.0, 0.0, 2.0, 1.0, 0.0, 0.0, 3.0, 0.0, 0.0, 1.0, 2.0, 0.0, 5.0, 4.0, 2.0, 3.0, 2.0, 1.0, 1.0, 1.0, 3.0, 2.0, 4.0, 2.0, 3.0, 1.0, 2.0, 1.0, 1.0, 6.0, 1.0, 2.0, 2.0, 3.0, 4.0, 0.0, 0.0, 1.0, 0.0, 3.0, 1.0, 1.0, 4.0, 2.0, 0.0, 8.0, 7.0, 3.0, 0.0, 1.0, 5.0, 2.0, 0.0, 1.0, 0.0, 0.0, 2.0)</td>\n",
       "    </tr>\n",
       "  </tbody>\n",
       "</table>\n",
       "</div>"
      ],
      "text/plain": [
       "                                                                                                                                                                                                                                                                                                                                                                                                                                                                                                                                                                                                                                                                                                                                                                                                                                                                                                                                                                                                                                                                                                                                                                                                                                                                                                                                                                                                                                                                                                                                                                                                                                                                                                                                                                                            text  \\\n",
       "0  I remember my dad using a sprinkler like this when I was a kid I'm 61  We are in the middle of a drought here in Texas and I was tired of having to move the sprinkler and thought this would solve my problem  First of all this is a VERY heavy sprinkler and is awkward to pick up and move  If you have any trouble lifting heavy objects get something else  It has to be moved  You can't drag it and you can't turn it around and make it go the other direction  I have found I have to check on it as often if not more often than I was moving my oscillating sprinkler  First it jumped off the hosetrack and was climbing the fence  Then it kinked the hose and cut off the water  Finally it dug itself a hole and had mud all over the back wheels  Tried it another time and it just stopped spraying water  No kink this time checked the button on the bottom couldn't get it going again  I went back to my oscillating sprinkler  At least it's easy to move around  I think you need to use this on a very flat very straight lawn  Mine is bumpy and I need it to make a couple of gentle curves  It didn't work for me  I like the spray it puts out and would use it as a stationery sprinkler if it weren't so heavy to move                                                                                                                                                                                                                                                                                                                                                                                                                                                                                                                                           \n",
       "1  I purchased 6 of these hoses with what was supposed to be a lifetime guarantee After a short time the end on one of the hoses started leaking so I contacted the manufacturer and got a replacement A year later another hose started leaking and I got another replacement Then another hose started leaking but the company would no longer honor the warranty Now Gilmour is selling them But it's the same hose  Flexogen The hose itself it actually quite good if you don't mind replacing the hose ends eventually I've had to replace every end on every Flexogen hose that I haveKeep in mind that I bought hoses from Flexogen but that company no longer exists and Gilmour would not honor the warranty on those hoses even though Gilmour is now selling them Also note that Flexogen is a patented hose Lifetime warranty isn't much good when the company gets bought or taken over by another company and the new company Gilmour won't honor the warranty And who wants to have to keep sending in hose parts to get a replacement every year or twoLet me reiterate Gilmour would not honor the warranty on my Flexogen hoses I wrote to them multiple times and was told without explanation that Gilmour would not replace the defective hoses If you buy these hoses expecting a lifetime warranty you may not get itOn the Gilmour website there is no longer any information relating to Flexogen hose warranty or on how to have a Flexogen hose replaced  On Amazon it does say This heavyduty garden hose is made in the USA and backed by a lifetime guarantee It also says Lifetime Guarantee on the front of the hose package Gilmour is now owned by the Robert Bosch Corp so probably even less chance of getting a warranty replacement                         \n",
       "2  The bee guards worked great but the reason I gave it only three stars is the price Over a buck a piece is more than it should be in my option If it wasn't a gift to my dad who enjoys his hummingbirds I would have kept looking for a cheaper place to purchase them                                                                                                                                                                                                                                                                                                                                                                                                                                                                                                                                                                                                                                                                                                                                                                                                                                                                                                                                                                                                                                                                                                                                                                                                                                                                                                                                                                                                                                                                                                                          \n",
       "3  I read the other reviewers who had similar problems before I bought this  I also read the reviews raving about this hose  Since these hoses are maid from remnants I suppose its a matter of luck as to which hose you get  My luck wasn't good  The hose had permanent kinks and the vinyl skin had bubbles where it was separating from the hoseReturned it immediately                                                                                                                                                                                                                                                                                                                                                                                                                                                                                                                                                                                                                                                                                                                                                                                                                                                                                                                                                                                                                                                                                                                                                                                                                                                                                                                                                                                                                       \n",
       "4  Am writing this while cooking some chicken on a WSJ i found last week in new condition for a Hamilton Let me preface my comments by stating that I have a 22inch Weber with hinged grate that I loveThe WSJ is small somewhat solidly constructed mine while unused has rust rings around the handle welds that go through the cover  not goodHowever most folks use this Weber as a portable grill Weber for gawd's sakes incorporate some form of simple mechanism ON ALL MODELS to keep the lid on in order to use the carry handle i use a pair of bungees looped every 45 degreesThe stove's best feature the ability to cook using fewer coals is also its drawback This stove is best suited for slow cooking delicate kebabs fish hot dogs and burgers  not for hot quick searing and grilling of thick steaksOther drawbacks are the vents which do not at least on my unit rotate smoothly And trying to adjust the bottom vent to control air flow will result in your burning the beegeebees out of your fingers  i suggest fireproof mitts handling this stoveAlso being lightweight this stove can dramatically shift during your cooking session resulting in the potential for spillage of hot coals  especially if used on a light platform to increase cooking height cooking on the ground with this thing can be down but for many folks may be uncomfortable I'd suggest at least some holes for securing the stove legs to a platform or a way to weigh down the legsAll in all this stove is OK  it gets the job done I like Weber products even if some of the QC and build quality has gone downhill in the last 10 yearsI hope to enjoy my WSJ for as many years as my 18inch given away my 22inch 8 years going strong and newest acquistion the Smokey Joe Silver   \n",
       "\n",
       "                                                                                                                                                                                                                                                                                                                                                                                                                                                                                                                                                                                                                                                                                                                                                                                                                       filtered  \\\n",
       "0  [remember, dad, using, sprinkler, like, kid, i'm, 61, , middle, drought, texas, tired, move, sprinkler, thought, would, solve, problem, , first, heavy, sprinkler, awkward, pick, move, , trouble, lifting, heavy, objects, get, something, else, , moved, , can't, drag, can't, turn, around, make, go, direction, , found, check, often, often, moving, oscillating, sprinkler, , first, jumped, hosetrack, climbing, fence, , kinked, hose, cut, water, , finally, dug, hole, mud, back, wheels, , tried, another, time, stopped, spraying, water, , kink, time, checked, button, bottom, couldn't, get, going, , went, back, oscillating, sprinkler, , least, it's, easy, move, around, , think, ...]                                                                                                                      \n",
       "1  [purchased, 6, hoses, supposed, lifetime, guarantee, short, time, end, one, hoses, started, leaking, contacted, manufacturer, got, replacement, year, later, another, hose, started, leaking, got, another, replacement, another, hose, started, leaking, company, would, longer, honor, warranty, gilmour, selling, it's, hose, , flexogen, hose, actually, quite, good, don't, mind, replacing, hose, ends, eventually, i've, replace, every, end, every, flexogen, hose, havekeep, mind, bought, hoses, flexogen, company, longer, exists, gilmour, would, honor, warranty, hoses, even, though, gilmour, selling, also, note, flexogen, patented, hose, lifetime, warranty, isn't, much, good, company, gets, bought, taken, another, company, new, company, gilmour, won't, honor, warranty, wants, keep, sending, ...]   \n",
       "2  [bee, guards, worked, great, reason, gave, three, stars, price, buck, piece, option, wasn't, gift, dad, enjoys, hummingbirds, would, kept, looking, cheaper, place, purchase]                                                                                                                                                                                                                                                                                                                                                                                                                                                                                                                                                                                                                                                  \n",
       "3  [read, reviewers, similar, problems, bought, , also, read, reviews, raving, hose, , since, hoses, maid, remnants, suppose, matter, luck, hose, get, , luck, wasn't, good, , hose, permanent, kinks, vinyl, skin, bubbles, separating, hosereturned, immediately]                                                                                                                                                                                                                                                                                                                                                                                                                                                                                                                                                               \n",
       "4  [writing, cooking, chicken, wsj, found, last, week, new, condition, hamilton, let, preface, comments, stating, 22inch, weber, hinged, grate, lovethe, wsj, small, somewhat, solidly, constructed, mine, unused, rust, rings, around, handle, welds, go, cover, , goodhowever, folks, use, weber, portable, grill, weber, gawd's, sakes, incorporate, form, simple, mechanism, models, keep, lid, order, use, carry, handle, use, pair, bungees, looped, every, 45, degreesthe, stove's, best, feature, ability, cook, using, fewer, coals, also, drawback, stove, best, suited, slow, cooking, delicate, kebabs, fish, hot, dogs, burgers, , hot, quick, searing, grilling, thick, steaksother, drawbacks, vents, least, unit, rotate, smoothly, trying, adjust, bottom, vent, control, ...]                                   \n",
       "\n",
       "                                                                                                                                                                                                                                                                                                                                                                                                                                                                                                               rawFeatures  \n",
       "0  (1.0, 5.0, 1.0, 0.0, 0.0, 1.0, 0.0, 0.0, 1.0, 1.0, 0.0, 1.0, 0.0, 1.0, 0.0, 0.0, 1.0, 0.0, 1.0, 1.0, 1.0, 0.0, 0.0, 0.0, 3.0, 2.0, 7.0, 1.0, 1.0, 0.0, 4.0, 1.0, 0.0, 0.0, 2.0, 1.0, 1.0, 5.0, 1.0, 0.0, 1.0, 0.0, 1.0, 1.0, 0.0, 1.0, 0.0, 1.0, 4.0, 0.0, 0.0, 0.0, 1.0, 4.0, 0.0, 5.0, 0.0, 3.0, 1.0, 3.0, 3.0, 1.0, 0.0, 2.0, 2.0, 1.0, 0.0, 0.0, 0.0, 2.0, 0.0, 1.0, 18.0, 0.0, 0.0, 0.0, 1.0, 2.0, 0.0, 2.0, 1.0, 0.0, 7.0, 2.0, 0.0, 1.0, 2.0, 0.0, 1.0, 2.0, 0.0, 0.0, 1.0, 1.0, 0.0, 0.0, 0.0, 1.0, 1.0, 1.0)    \n",
       "1  (0.0, 1.0, 0.0, 2.0, 0.0, 0.0, 2.0, 2.0, 0.0, 13.0, 1.0, 2.0, 0.0, 2.0, 0.0, 0.0, 0.0, 0.0, 5.0, 2.0, 1.0, 0.0, 0.0, 0.0, 1.0, 1.0, 1.0, 0.0, 1.0, 4.0, 1.0, 0.0, 1.0, 0.0, 0.0, 0.0, 3.0, 2.0, 1.0, 5.0, 4.0, 16.0, 1.0, 0.0, 2.0, 0.0, 0.0, 1.0, 1.0, 0.0, 1.0, 0.0, 2.0, 1.0, 0.0, 1.0, 0.0, 6.0, 1.0, 3.0, 0.0, 1.0, 2.0, 5.0, 1.0, 1.0, 8.0, 0.0, 12.0, 0.0, 0.0, 1.0, 3.0, 8.0, 1.0, 1.0, 0.0, 0.0, 2.0, 5.0, 0.0, 0.0, 1.0, 0.0, 5.0, 0.0, 0.0, 3.0, 1.0, 1.0, 0.0, 1.0, 8.0, 1.0, 1.0, 1.0, 2.0, 1.0, 0.0, 3.0)  \n",
       "2  (0.0, 1.0, 1.0, 0.0, 0.0, 0.0, 0.0, 0.0, 0.0, 0.0, 0.0, 0.0, 0.0, 0.0, 0.0, 1.0, 0.0, 0.0, 1.0, 0.0, 0.0, 0.0, 1.0, 2.0, 0.0, 0.0, 0.0, 0.0, 0.0, 0.0, 0.0, 0.0, 0.0, 0.0, 0.0, 0.0, 1.0, 0.0, 0.0, 1.0, 0.0, 0.0, 0.0, 0.0, 1.0, 0.0, 0.0, 1.0, 1.0, 0.0, 0.0, 0.0, 1.0, 0.0, 0.0, 0.0, 0.0, 0.0, 1.0, 0.0, 1.0, 0.0, 0.0, 2.0, 1.0, 0.0, 0.0, 0.0, 2.0, 0.0, 0.0, 0.0, 0.0, 0.0, 0.0, 0.0, 0.0, 1.0, 0.0, 0.0, 0.0, 0.0, 0.0, 0.0, 0.0, 0.0, 0.0, 0.0, 0.0, 0.0, 0.0, 1.0, 0.0, 0.0, 0.0, 0.0, 0.0, 0.0, 1.0, 0.0)     \n",
       "3  (0.0, 0.0, 1.0, 1.0, 0.0, 0.0, 0.0, 0.0, 0.0, 3.0, 1.0, 0.0, 1.0, 1.0, 0.0, 0.0, 0.0, 2.0, 0.0, 0.0, 0.0, 0.0, 0.0, 0.0, 0.0, 0.0, 0.0, 0.0, 0.0, 0.0, 0.0, 0.0, 0.0, 1.0, 0.0, 0.0, 0.0, 0.0, 0.0, 0.0, 0.0, 0.0, 0.0, 0.0, 0.0, 0.0, 0.0, 0.0, 0.0, 1.0, 2.0, 0.0, 1.0, 0.0, 0.0, 0.0, 0.0, 0.0, 0.0, 1.0, 0.0, 0.0, 0.0, 0.0, 0.0, 0.0, 0.0, 0.0, 2.0, 0.0, 1.0, 2.0, 4.0, 0.0, 1.0, 0.0, 1.0, 1.0, 1.0, 0.0, 0.0, 0.0, 0.0, 0.0, 0.0, 3.0, 0.0, 0.0, 0.0, 1.0, 0.0, 0.0, 1.0, 0.0, 0.0, 1.0, 0.0, 0.0, 0.0, 0.0)     \n",
       "4  (1.0, 0.0, 2.0, 6.0, 1.0, 3.0, 1.0, 1.0, 1.0, 0.0, 0.0, 0.0, 1.0, 1.0, 2.0, 2.0, 0.0, 2.0, 2.0, 1.0, 2.0, 3.0, 2.0, 4.0, 1.0, 3.0, 1.0, 1.0, 1.0, 2.0, 3.0, 3.0, 7.0, 2.0, 0.0, 2.0, 7.0, 2.0, 0.0, 1.0, 0.0, 1.0, 2.0, 2.0, 0.0, 2.0, 1.0, 0.0, 0.0, 3.0, 0.0, 0.0, 1.0, 2.0, 0.0, 5.0, 4.0, 2.0, 3.0, 2.0, 1.0, 1.0, 1.0, 3.0, 2.0, 4.0, 2.0, 3.0, 1.0, 2.0, 1.0, 1.0, 6.0, 1.0, 2.0, 2.0, 3.0, 4.0, 0.0, 0.0, 1.0, 0.0, 3.0, 1.0, 1.0, 4.0, 2.0, 0.0, 8.0, 7.0, 3.0, 0.0, 1.0, 5.0, 2.0, 0.0, 1.0, 0.0, 0.0, 2.0)     "
      ]
     },
     "execution_count": 41,
     "metadata": {},
     "output_type": "execute_result"
    }
   ],
   "source": [
    "from pyspark.ml.feature import HashingTF\n",
    "\n",
    "hashingTF = HashingTF(inputCol=\"filtered\", outputCol=\"rawFeatures\", numFeatures=100)\n",
    "featurizedData = hashingTF.transform(removed)\n",
    "featurizedData.select(\"text\", \"filtered\", \"rawFeatures\").toPandas().head()"
   ]
  },
  {
   "cell_type": "markdown",
   "metadata": {},
   "source": [
    "### Inverse weight words that occur frequently across all text"
   ]
  },
  {
   "cell_type": "code",
   "execution_count": 42,
   "metadata": {},
   "outputs": [
    {
     "data": {
      "text/html": [
       "<div>\n",
       "<table border=\"1\" class=\"dataframe\">\n",
       "  <thead>\n",
       "    <tr style=\"text-align: right;\">\n",
       "      <th></th>\n",
       "      <th>text</th>\n",
       "      <th>rawFeatures</th>\n",
       "      <th>features</th>\n",
       "    </tr>\n",
       "  </thead>\n",
       "  <tbody>\n",
       "    <tr>\n",
       "      <th>0</th>\n",
       "      <td>I was excited to try this out because about a month ago we had a mice problem in our house I used the Nooski in an area that the mice seemed to love and I also had two snap traps down I ended up catching 5 mice with the snap traps and none with the Nooski all using the same bait We may have also had a misfire once we're not sure if it was a mouse or something we didOne positive about the Nooski is that it is supposed to be safe for your pets That's one thing that concerns me with the snap traps and I have to make sure I put them only in places the pets can't get toI wish this would have worked but we just didn't have any luck with it The snap traps remain the most effective for us</td>\n",
       "      <td>(0.0, 3.0, 0.0, 0.0, 0.0, 1.0, 0.0, 0.0, 2.0, 0.0, 0.0, 0.0, 0.0, 0.0, 4.0, 0.0, 0.0, 1.0, 1.0, 0.0, 0.0, 2.0, 1.0, 0.0, 1.0, 2.0, 1.0, 1.0, 0.0, 0.0, 1.0, 1.0, 1.0, 0.0, 0.0, 0.0, 0.0, 0.0, 3.0, 1.0, 1.0, 0.0, 1.0, 0.0, 1.0, 0.0, 0.0, 3.0, 2.0, 2.0, 0.0, 1.0, 1.0, 1.0, 1.0, 0.0, 1.0, 2.0, 0.0, 3.0, 0.0, 1.0, 0.0, 1.0, 0.0, 1.0, 1.0, 0.0, 0.0, 0.0, 0.0, 0.0, 0.0, 0.0, 0.0, 1.0, 0.0, 1.0, 0.0, 1.0, 1.0, 1.0, 0.0, 0.0, 0.0, 0.0, 0.0, 0.0, 0.0, 0.0, 0.0, 0.0, 7.0, 0.0, 0.0, 1.0, 0.0, 0.0, 0.0, 0.0)</td>\n",
       "      <td>(0.0, 2.68975698238, 0.0, 0.0, 0.0, 0.668575919829, 0.0, 0.0, 1.91899897241, 0.0, 0.0, 0.0, 0.0, 0.0, 4.16250012407, 0.0, 0.0, 1.17617052301, 0.884464300262, 0.0, 0.0, 2.08125006204, 1.37147927533, 0.0, 0.860653651569, 1.35666418955, 0.792445401542, 0.770705414906, 0.0, 0.0, 0.728593929556, 0.921278273385, 0.999239814855, 0.0, 0.0, 0.0, 0.0, 0.0, 3.72858569254, 0.792445401542, 0.933857055592, 0.0, 1.02663878904, 0.0, 0.541130973261, 0.0, 0.0, 3.3409504981, 1.58489080308, 2.35234104603, 0.0, 1.39128190263, 1.19243104389, 1.22576746415, 1.24286189751, 0.0, 1.27795321732, 1.08226194652, 0.0, 2.09440416621, 0.0, 1.11365016603, 0.0, 0.61195702583, 0.0, 0.946596081369, 0.946596081369, 0.0, 0.0, 0.0, 0.0, 0.0, 0.0, 0.0, 0.0, 0.803495237729, 0.0, 0.803495237729, 0.0, 1.04062503102, 0.860653651569, 1.26025364022, 0.0, 0.0, 0.0, 0.0, 0.0, 0.0, 0.0, 0.0, 0.0, 0.0, 5.78177665507, 0.0, 0.0, 0.933857055592, 0.0, 0.0, 0.0, 0.0)</td>\n",
       "    </tr>\n",
       "    <tr>\n",
       "      <th>1</th>\n",
       "      <td>This trap uses a tight fitting rubber band that is ejected from the device and placed around the neck of the mouse  It is supposed to kill the mouse quickly with the mouse being dead immediately  There are 10 rubber bands in the package so that the device can be used 10 timesI've tried a number of mouse traps over the years  This one works very effectively as judged by killing the mouse however the mouse seems to be strangled and not killed with a broken neck  The fact that the jaw seemed to be dislocated and that the mouse had moved several feet from the trap indicates that it lived a while trying to escape the situation  I was not happy about this and would not purchase the product nor use it again  I know that other traps are also hit and miss but this one had placed the rubber band directly around the neck as it should but still the result was not as predicted  While it worked I was not happy with the thought that the mouse might have suffered as it died</td>\n",
       "      <td>(1.0, 1.0, 3.0, 1.0, 0.0, 3.0, 0.0, 0.0, 0.0, 1.0, 0.0, 1.0, 3.0, 1.0, 3.0, 1.0, 0.0, 0.0, 2.0, 0.0, 2.0, 0.0, 1.0, 0.0, 0.0, 8.0, 0.0, 1.0, 0.0, 0.0, 1.0, 1.0, 0.0, 0.0, 0.0, 0.0, 0.0, 3.0, 1.0, 0.0, 1.0, 2.0, 0.0, 0.0, 2.0, 0.0, 1.0, 1.0, 1.0, 0.0, 0.0, 2.0, 0.0, 0.0, 0.0, 2.0, 1.0, 0.0, 0.0, 0.0, 0.0, 0.0, 2.0, 1.0, 1.0, 3.0, 2.0, 0.0, 1.0, 0.0, 0.0, 5.0, 7.0, 1.0, 0.0, 1.0, 0.0, 0.0, 0.0, 1.0, 0.0, 1.0, 0.0, 1.0, 1.0, 1.0, 2.0, 0.0, 1.0, 1.0, 1.0, 2.0, 2.0, 0.0, 0.0, 1.0, 0.0, 1.0, 1.0, 0.0)</td>\n",
       "      <td>(0.933857055592, 0.896585660795, 5.15935790881, 1.05480966601, 0.0, 2.00572775949, 0.0, 0.0, 0.0, 1.22576746415, 0.0, 1.17617052301, 2.65339290079, 0.621173680935, 3.12187509305, 0.708185057924, 0.0, 0.0, 1.76892860052, 0.0, 1.43667485878, 0.0, 1.37147927533, 0.0, 0.0, 5.4266567582, 0.0, 0.770705414906, 0.0, 0.0, 0.728593929556, 0.921278273385, 0.0, 0.0, 0.0, 0.0, 0.0, 1.70131937899, 1.24286189751, 0.0, 0.933857055592, 1.74497621843, 0.0, 0.0, 1.08226194652, 0.0, 1.19243104389, 1.11365016603, 0.792445401542, 0.0, 0.0, 2.78256380526, 0.0, 0.0, 0.0, 1.94514313555, 1.27795321732, 0.0, 0.0, 0.0, 0.0, 0.0, 1.65193618716, 0.61195702583, 0.848957611806, 2.83978824411, 1.89319216274, 0.0, 0.825968093581, 0.0, 0.0, 6.21430948756, 2.00217549871, 1.08379720288, 0.0, 0.803495237729, 0.0, 0.0, 0.0, 1.04062503102, 0.0, 1.26025364022, 0.0, 0.985816794523, 0.728593929556, 1.08379720288, 2.19722457734, 0.0, 0.668575919829, 0.390650022323, 0.896585660795, 1.54141082981, 1.65193618716, 0.0, 0.0, 0.933857055592, 0.0, 0.837396789404, 1.06919840346, 0.0)</td>\n",
       "    </tr>\n",
       "    <tr>\n",
       "      <th>2</th>\n",
       "      <td>Yesterday I found a telltale sign that a mouse had come in for the winter a ragged hole in the side of a dog snacks bag So I got the Nooski trap out of its package and tried to set it upYikes You have to roll this tiny rubber ring onto the cylinder and although I got it started I just couldn't get it all the way on Actually I couldn't get it half way on So I asked my husband to help since he has strong hands With some effort he got it almost in place then PING The ring shot off across the room He started over and after several such instances he did get the trap set I placed it in the drawer where the mouse had been nibblingWhen I checked it this morning sure enough there was a dead mouse next to the trap strangled by the ring As other reviewers have pointed out this is not necessarily the fastest way to die So while the trap is more humane than a glue trap which can be awful it can be horrifying for the unfortunate critter who just wanted to get out of the coldI started this review by mentioning dog food and the trap is safer for pets than poison or spring traps However if your pet should eat the dead mouse it would probably ingest the rubber ring too I set the trap in a drawer so this was not a concern the dead mouse was still in the drawer</td>\n",
       "      <td>(1.0, 0.0, 0.0, 1.0, 0.0, 0.0, 0.0, 3.0, 0.0, 0.0, 3.0, 1.0, 3.0, 4.0, 2.0, 0.0, 1.0, 0.0, 0.0, 1.0, 2.0, 1.0, 0.0, 0.0, 0.0, 5.0, 1.0, 0.0, 0.0, 1.0, 0.0, 3.0, 2.0, 1.0, 1.0, 0.0, 0.0, 0.0, 0.0, 3.0, 0.0, 2.0, 0.0, 0.0, 1.0, 0.0, 4.0, 5.0, 1.0, 2.0, 1.0, 0.0, 0.0, 1.0, 1.0, 3.0, 1.0, 1.0, 0.0, 7.0, 4.0, 0.0, 0.0, 1.0, 2.0, 0.0, 1.0, 1.0, 1.0, 1.0, 0.0, 2.0, 0.0, 2.0, 1.0, 0.0, 0.0, 0.0, 0.0, 1.0, 2.0, 1.0, 2.0, 0.0, 0.0, 1.0, 0.0, 0.0, 1.0, 0.0, 0.0, 8.0, 4.0, 0.0, 2.0, 6.0, 2.0, 2.0, 0.0, 0.0)</td>\n",
       "      <td>(0.933857055592, 0.0, 0.0, 1.05480966601, 0.0, 0.0, 0.0, 3.52851156904, 0.0, 0.0, 2.09440416621, 1.17617052301, 2.65339290079, 2.48469472374, 2.08125006204, 0.0, 1.26025364022, 0.0, 0.0, 1.37147927533, 1.43667485878, 1.04062503102, 0.0, 0.0, 0.0, 3.39166047387, 0.792445401542, 0.0, 0.0, 1.26025364022, 0.0, 2.76383482016, 1.99847962971, 1.16017018167, 0.946596081369, 0.0, 0.0, 0.0, 0.0, 2.37733620463, 0.0, 1.74497621843, 0.0, 0.0, 0.541130973261, 0.0, 4.76972417554, 5.56825083016, 0.792445401542, 2.35234104603, 1.16017018167, 0.0, 0.0, 1.22576746415, 1.24286189751, 2.91771470332, 1.27795321732, 0.541130973261, 0.0, 4.8869430545, 2.95582686636, 0.0, 0.0, 0.61195702583, 1.69791522361, 0.0, 0.946596081369, 1.11365016603, 0.825968093581, 0.999239814855, 0.0, 2.48572379503, 0.0, 2.16759440577, 0.933857055592, 0.0, 0.0, 0.0, 0.0, 1.04062503102, 1.72130730314, 1.26025364022, 1.97163358905, 0.0, 0.0, 1.08379720288, 0.0, 0.0, 0.668575919829, 0.0, 0.0, 6.16564331925, 3.30387237432, 0.0, 1.74497621843, 5.60314233355, 2.13839680692, 1.67479357881, 0.0, 0.0)</td>\n",
       "    </tr>\n",
       "    <tr>\n",
       "      <th>3</th>\n",
       "      <td>There are some occasional mice scurrying around my properties so I decided to give this Nooski Mouse trap a tryLikesVery inventive trap design using an elastic ring that chokes little critters when they enter the plastic trap to get at the bait peanut butter cheese or chocolate recommended by Nooski and trip the triggering deviceSimple to set up and place along a wall or in a cornerDislikesFairly tiny trap considering I've occasionally seen a large rodent boldly running across the street around our hilltop suburban neighborhoodDid kill a tiny 4 mouse that was wandering around my backyardDidn't get the mole moles that was digging multiple holes around my backyard lawnKills more by suffocation compared to large old fashioned mouse traps that usually snaps a neck or spine in an instantOverallEven pests deserve a quick painless demise  This trap is way too small and movable for an 8 large rodent that was seen digging a hole in the garage wall of my rental property  I ended up using a large traditional springloaded trap baited with a sesame oil laced piece of meat tied securely to the trigger rodents are smart sneakily stealing baits from traps  Snapped that big critter's back about 5 minutes after placing the trap by the hole  Disposed of properly</td>\n",
       "      <td>(0.0, 0.0, 2.0, 0.0, 2.0, 0.0, 1.0, 0.0, 3.0, 1.0, 3.0, 0.0, 1.0, 5.0, 3.0, 0.0, 0.0, 2.0, 1.0, 0.0, 0.0, 0.0, 1.0, 2.0, 3.0, 3.0, 1.0, 0.0, 0.0, 1.0, 4.0, 1.0, 0.0, 2.0, 1.0, 2.0, 0.0, 5.0, 1.0, 2.0, 1.0, 0.0, 1.0, 0.0, 1.0, 2.0, 2.0, 2.0, 0.0, 2.0, 1.0, 0.0, 1.0, 0.0, 0.0, 2.0, 1.0, 0.0, 2.0, 4.0, 0.0, 0.0, 1.0, 2.0, 2.0, 2.0, 1.0, 0.0, 2.0, 2.0, 0.0, 1.0, 7.0, 1.0, 0.0, 2.0, 0.0, 3.0, 0.0, 2.0, 0.0, 0.0, 6.0, 1.0, 1.0, 0.0, 1.0, 0.0, 1.0, 1.0, 0.0, 9.0, 3.0, 0.0, 3.0, 1.0, 2.0, 2.0, 3.0, 1.0)</td>\n",
       "      <td>(0.0, 0.0, 3.43957193921, 0.0, 2.16759440577, 0.0, 1.11365016603, 0.0, 2.87849845862, 1.22576746415, 2.09440416621, 0.0, 0.884464300262, 3.10586840467, 3.12187509305, 0.0, 0.0, 2.35234104603, 0.884464300262, 0.0, 0.0, 0.0, 1.37147927533, 1.91899897241, 2.58196095471, 2.03499628432, 0.792445401542, 0.0, 0.0, 1.26025364022, 2.91437571822, 0.921278273385, 0.0, 2.32034036334, 0.946596081369, 1.86771411118, 0.0, 2.83553229832, 1.24286189751, 1.58489080308, 0.933857055592, 0.0, 1.02663878904, 0.0, 0.541130973261, 2.78256380526, 2.38486208777, 2.22730033207, 0.0, 2.35234104603, 1.16017018167, 0.0, 1.19243104389, 0.0, 0.0, 1.94514313555, 1.27795321732, 0.0, 2.62864172299, 2.79253888828, 0.0, 0.0, 0.825968093581, 1.22391405166, 1.69791522361, 1.89319216274, 0.946596081369, 0.0, 1.65193618716, 1.99847962971, 0.0, 1.24286189751, 2.00217549871, 1.08379720288, 0.0, 1.60699047546, 0.0, 2.41048571319, 0.0, 2.08125006204, 0.0, 0.0, 5.91490076714, 0.985816794523, 0.728593929556, 0.0, 1.09861228867, 0.0, 0.668575919829, 0.390650022323, 0.0, 6.93634873415, 2.47790428074, 0.0, 2.61746432765, 0.933857055592, 2.13839680692, 1.67479357881, 3.20759521039, 1.11365016603)</td>\n",
       "    </tr>\n",
       "    <tr>\n",
       "      <th>4</th>\n",
       "      <td>I hate traditional mouse traps  I am always setting them off when I place them where I think the mouse will go  I like this trap's concept of placing a tight rubber ring around the rodent's neck thus quickly suffocating it andor breaking its neck  It was easy to set and to put the bait in the trap but so far not a single mouse has gotten near it  I don't know if my problem is the trap itself or where I have placed the trap but I know I have mice  I've seen them  I recommend trying this trap if you are like me and don't like setting the more traditional kind  If you don't want to kill your mouse try a live trap</td>\n",
       "      <td>(0.0, 1.0, 2.0, 0.0, 0.0, 1.0, 2.0, 0.0, 0.0, 0.0, 1.0, 0.0, 2.0, 3.0, 2.0, 0.0, 0.0, 1.0, 1.0, 0.0, 0.0, 0.0, 0.0, 0.0, 0.0, 4.0, 3.0, 1.0, 0.0, 0.0, 3.0, 1.0, 0.0, 0.0, 0.0, 0.0, 0.0, 1.0, 1.0, 1.0, 0.0, 0.0, 0.0, 0.0, 2.0, 0.0, 1.0, 0.0, 0.0, 0.0, 0.0, 0.0, 0.0, 0.0, 0.0, 1.0, 0.0, 0.0, 0.0, 3.0, 1.0, 0.0, 0.0, 0.0, 1.0, 0.0, 0.0, 0.0, 0.0, 2.0, 0.0, 1.0, 7.0, 0.0, 1.0, 1.0, 0.0, 2.0, 0.0, 2.0, 0.0, 1.0, 0.0, 0.0, 1.0, 0.0, 1.0, 0.0, 0.0, 0.0, 3.0, 6.0, 0.0, 1.0, 0.0, 0.0, 0.0, 0.0, 0.0, 0.0)</td>\n",
       "      <td>(0.0, 0.896585660795, 3.43957193921, 0.0, 0.0, 0.668575919829, 2.22730033207, 0.0, 0.0, 0.0, 0.698134722071, 0.0, 1.76892860052, 1.8635210428, 2.08125006204, 0.0, 0.0, 1.17617052301, 0.884464300262, 0.0, 0.0, 0.0, 0.0, 0.0, 0.0, 2.7133283791, 2.37733620463, 0.770705414906, 0.0, 0.0, 2.18578178867, 0.921278273385, 0.0, 0.0, 0.0, 0.0, 0.0, 0.567106459665, 1.24286189751, 0.792445401542, 0.0, 0.0, 0.0, 0.0, 1.08226194652, 0.0, 1.19243104389, 0.0, 0.0, 0.0, 0.0, 0.0, 0.0, 0.0, 0.0, 0.972571567773, 0.0, 0.0, 0.0, 2.09440416621, 0.738956716591, 0.0, 0.0, 0.0, 0.848957611806, 0.0, 0.0, 0.0, 0.0, 1.99847962971, 0.0, 1.24286189751, 2.00217549871, 0.0, 0.933857055592, 0.803495237729, 0.0, 1.60699047546, 0.0, 2.08125006204, 0.0, 1.26025364022, 0.0, 0.0, 0.728593929556, 0.0, 1.09861228867, 0.0, 0.0, 0.0, 2.68975698238, 4.62423248943, 0.0, 0.946596081369, 0.0, 0.0, 0.0, 0.0, 0.0, 0.0)</td>\n",
       "    </tr>\n",
       "  </tbody>\n",
       "</table>\n",
       "</div>"
      ],
      "text/plain": [
       "                                                                                                                                                                                                                                                                                                                                                                                                                                                                                                                                                                                                                                                                                                                                                                                                                                                                                                                                                                                                                                                                                                                                                                                                                                                                                                              text  \\\n",
       "0  I was excited to try this out because about a month ago we had a mice problem in our house I used the Nooski in an area that the mice seemed to love and I also had two snap traps down I ended up catching 5 mice with the snap traps and none with the Nooski all using the same bait We may have also had a misfire once we're not sure if it was a mouse or something we didOne positive about the Nooski is that it is supposed to be safe for your pets That's one thing that concerns me with the snap traps and I have to make sure I put them only in places the pets can't get toI wish this would have worked but we just didn't have any luck with it The snap traps remain the most effective for us                                                                                                                                                                                                                                                                                                                                                                                                                                                                                                                                                                                                 \n",
       "1  This trap uses a tight fitting rubber band that is ejected from the device and placed around the neck of the mouse  It is supposed to kill the mouse quickly with the mouse being dead immediately  There are 10 rubber bands in the package so that the device can be used 10 timesI've tried a number of mouse traps over the years  This one works very effectively as judged by killing the mouse however the mouse seems to be strangled and not killed with a broken neck  The fact that the jaw seemed to be dislocated and that the mouse had moved several feet from the trap indicates that it lived a while trying to escape the situation  I was not happy about this and would not purchase the product nor use it again  I know that other traps are also hit and miss but this one had placed the rubber band directly around the neck as it should but still the result was not as predicted  While it worked I was not happy with the thought that the mouse might have suffered as it died                                                                                                                                                                                                                                                                                                      \n",
       "2  Yesterday I found a telltale sign that a mouse had come in for the winter a ragged hole in the side of a dog snacks bag So I got the Nooski trap out of its package and tried to set it upYikes You have to roll this tiny rubber ring onto the cylinder and although I got it started I just couldn't get it all the way on Actually I couldn't get it half way on So I asked my husband to help since he has strong hands With some effort he got it almost in place then PING The ring shot off across the room He started over and after several such instances he did get the trap set I placed it in the drawer where the mouse had been nibblingWhen I checked it this morning sure enough there was a dead mouse next to the trap strangled by the ring As other reviewers have pointed out this is not necessarily the fastest way to die So while the trap is more humane than a glue trap which can be awful it can be horrifying for the unfortunate critter who just wanted to get out of the coldI started this review by mentioning dog food and the trap is safer for pets than poison or spring traps However if your pet should eat the dead mouse it would probably ingest the rubber ring too I set the trap in a drawer so this was not a concern the dead mouse was still in the drawer     \n",
       "3  There are some occasional mice scurrying around my properties so I decided to give this Nooski Mouse trap a tryLikesVery inventive trap design using an elastic ring that chokes little critters when they enter the plastic trap to get at the bait peanut butter cheese or chocolate recommended by Nooski and trip the triggering deviceSimple to set up and place along a wall or in a cornerDislikesFairly tiny trap considering I've occasionally seen a large rodent boldly running across the street around our hilltop suburban neighborhoodDid kill a tiny 4 mouse that was wandering around my backyardDidn't get the mole moles that was digging multiple holes around my backyard lawnKills more by suffocation compared to large old fashioned mouse traps that usually snaps a neck or spine in an instantOverallEven pests deserve a quick painless demise  This trap is way too small and movable for an 8 large rodent that was seen digging a hole in the garage wall of my rental property  I ended up using a large traditional springloaded trap baited with a sesame oil laced piece of meat tied securely to the trigger rodents are smart sneakily stealing baits from traps  Snapped that big critter's back about 5 minutes after placing the trap by the hole  Disposed of properly   \n",
       "4  I hate traditional mouse traps  I am always setting them off when I place them where I think the mouse will go  I like this trap's concept of placing a tight rubber ring around the rodent's neck thus quickly suffocating it andor breaking its neck  It was easy to set and to put the bait in the trap but so far not a single mouse has gotten near it  I don't know if my problem is the trap itself or where I have placed the trap but I know I have mice  I've seen them  I recommend trying this trap if you are like me and don't like setting the more traditional kind  If you don't want to kill your mouse try a live trap                                                                                                                                                                                                                                                                                                                                                                                                                                                                                                                                                                                                                                                                         \n",
       "\n",
       "                                                                                                                                                                                                                                                                                                                                                                                                                                                                                                            rawFeatures  \\\n",
       "0  (0.0, 3.0, 0.0, 0.0, 0.0, 1.0, 0.0, 0.0, 2.0, 0.0, 0.0, 0.0, 0.0, 0.0, 4.0, 0.0, 0.0, 1.0, 1.0, 0.0, 0.0, 2.0, 1.0, 0.0, 1.0, 2.0, 1.0, 1.0, 0.0, 0.0, 1.0, 1.0, 1.0, 0.0, 0.0, 0.0, 0.0, 0.0, 3.0, 1.0, 1.0, 0.0, 1.0, 0.0, 1.0, 0.0, 0.0, 3.0, 2.0, 2.0, 0.0, 1.0, 1.0, 1.0, 1.0, 0.0, 1.0, 2.0, 0.0, 3.0, 0.0, 1.0, 0.0, 1.0, 0.0, 1.0, 1.0, 0.0, 0.0, 0.0, 0.0, 0.0, 0.0, 0.0, 0.0, 1.0, 0.0, 1.0, 0.0, 1.0, 1.0, 1.0, 0.0, 0.0, 0.0, 0.0, 0.0, 0.0, 0.0, 0.0, 0.0, 0.0, 7.0, 0.0, 0.0, 1.0, 0.0, 0.0, 0.0, 0.0)   \n",
       "1  (1.0, 1.0, 3.0, 1.0, 0.0, 3.0, 0.0, 0.0, 0.0, 1.0, 0.0, 1.0, 3.0, 1.0, 3.0, 1.0, 0.0, 0.0, 2.0, 0.0, 2.0, 0.0, 1.0, 0.0, 0.0, 8.0, 0.0, 1.0, 0.0, 0.0, 1.0, 1.0, 0.0, 0.0, 0.0, 0.0, 0.0, 3.0, 1.0, 0.0, 1.0, 2.0, 0.0, 0.0, 2.0, 0.0, 1.0, 1.0, 1.0, 0.0, 0.0, 2.0, 0.0, 0.0, 0.0, 2.0, 1.0, 0.0, 0.0, 0.0, 0.0, 0.0, 2.0, 1.0, 1.0, 3.0, 2.0, 0.0, 1.0, 0.0, 0.0, 5.0, 7.0, 1.0, 0.0, 1.0, 0.0, 0.0, 0.0, 1.0, 0.0, 1.0, 0.0, 1.0, 1.0, 1.0, 2.0, 0.0, 1.0, 1.0, 1.0, 2.0, 2.0, 0.0, 0.0, 1.0, 0.0, 1.0, 1.0, 0.0)   \n",
       "2  (1.0, 0.0, 0.0, 1.0, 0.0, 0.0, 0.0, 3.0, 0.0, 0.0, 3.0, 1.0, 3.0, 4.0, 2.0, 0.0, 1.0, 0.0, 0.0, 1.0, 2.0, 1.0, 0.0, 0.0, 0.0, 5.0, 1.0, 0.0, 0.0, 1.0, 0.0, 3.0, 2.0, 1.0, 1.0, 0.0, 0.0, 0.0, 0.0, 3.0, 0.0, 2.0, 0.0, 0.0, 1.0, 0.0, 4.0, 5.0, 1.0, 2.0, 1.0, 0.0, 0.0, 1.0, 1.0, 3.0, 1.0, 1.0, 0.0, 7.0, 4.0, 0.0, 0.0, 1.0, 2.0, 0.0, 1.0, 1.0, 1.0, 1.0, 0.0, 2.0, 0.0, 2.0, 1.0, 0.0, 0.0, 0.0, 0.0, 1.0, 2.0, 1.0, 2.0, 0.0, 0.0, 1.0, 0.0, 0.0, 1.0, 0.0, 0.0, 8.0, 4.0, 0.0, 2.0, 6.0, 2.0, 2.0, 0.0, 0.0)   \n",
       "3  (0.0, 0.0, 2.0, 0.0, 2.0, 0.0, 1.0, 0.0, 3.0, 1.0, 3.0, 0.0, 1.0, 5.0, 3.0, 0.0, 0.0, 2.0, 1.0, 0.0, 0.0, 0.0, 1.0, 2.0, 3.0, 3.0, 1.0, 0.0, 0.0, 1.0, 4.0, 1.0, 0.0, 2.0, 1.0, 2.0, 0.0, 5.0, 1.0, 2.0, 1.0, 0.0, 1.0, 0.0, 1.0, 2.0, 2.0, 2.0, 0.0, 2.0, 1.0, 0.0, 1.0, 0.0, 0.0, 2.0, 1.0, 0.0, 2.0, 4.0, 0.0, 0.0, 1.0, 2.0, 2.0, 2.0, 1.0, 0.0, 2.0, 2.0, 0.0, 1.0, 7.0, 1.0, 0.0, 2.0, 0.0, 3.0, 0.0, 2.0, 0.0, 0.0, 6.0, 1.0, 1.0, 0.0, 1.0, 0.0, 1.0, 1.0, 0.0, 9.0, 3.0, 0.0, 3.0, 1.0, 2.0, 2.0, 3.0, 1.0)   \n",
       "4  (0.0, 1.0, 2.0, 0.0, 0.0, 1.0, 2.0, 0.0, 0.0, 0.0, 1.0, 0.0, 2.0, 3.0, 2.0, 0.0, 0.0, 1.0, 1.0, 0.0, 0.0, 0.0, 0.0, 0.0, 0.0, 4.0, 3.0, 1.0, 0.0, 0.0, 3.0, 1.0, 0.0, 0.0, 0.0, 0.0, 0.0, 1.0, 1.0, 1.0, 0.0, 0.0, 0.0, 0.0, 2.0, 0.0, 1.0, 0.0, 0.0, 0.0, 0.0, 0.0, 0.0, 0.0, 0.0, 1.0, 0.0, 0.0, 0.0, 3.0, 1.0, 0.0, 0.0, 0.0, 1.0, 0.0, 0.0, 0.0, 0.0, 2.0, 0.0, 1.0, 7.0, 0.0, 1.0, 1.0, 0.0, 2.0, 0.0, 2.0, 0.0, 1.0, 0.0, 0.0, 1.0, 0.0, 1.0, 0.0, 0.0, 0.0, 3.0, 6.0, 0.0, 1.0, 0.0, 0.0, 0.0, 0.0, 0.0, 0.0)   \n",
       "\n",
       "                                                                                                                                                                                                                                                                                                                                                                                                                                                                                                                                                                                                                                                                                                                                                                                                                                                                                                                                                                                                                                                                                                                                                                                                       features  \n",
       "0  (0.0, 2.68975698238, 0.0, 0.0, 0.0, 0.668575919829, 0.0, 0.0, 1.91899897241, 0.0, 0.0, 0.0, 0.0, 0.0, 4.16250012407, 0.0, 0.0, 1.17617052301, 0.884464300262, 0.0, 0.0, 2.08125006204, 1.37147927533, 0.0, 0.860653651569, 1.35666418955, 0.792445401542, 0.770705414906, 0.0, 0.0, 0.728593929556, 0.921278273385, 0.999239814855, 0.0, 0.0, 0.0, 0.0, 0.0, 3.72858569254, 0.792445401542, 0.933857055592, 0.0, 1.02663878904, 0.0, 0.541130973261, 0.0, 0.0, 3.3409504981, 1.58489080308, 2.35234104603, 0.0, 1.39128190263, 1.19243104389, 1.22576746415, 1.24286189751, 0.0, 1.27795321732, 1.08226194652, 0.0, 2.09440416621, 0.0, 1.11365016603, 0.0, 0.61195702583, 0.0, 0.946596081369, 0.946596081369, 0.0, 0.0, 0.0, 0.0, 0.0, 0.0, 0.0, 0.0, 0.803495237729, 0.0, 0.803495237729, 0.0, 1.04062503102, 0.860653651569, 1.26025364022, 0.0, 0.0, 0.0, 0.0, 0.0, 0.0, 0.0, 0.0, 0.0, 0.0, 5.78177665507, 0.0, 0.0, 0.933857055592, 0.0, 0.0, 0.0, 0.0)                                                                                                                                                                                                                                                \n",
       "1  (0.933857055592, 0.896585660795, 5.15935790881, 1.05480966601, 0.0, 2.00572775949, 0.0, 0.0, 0.0, 1.22576746415, 0.0, 1.17617052301, 2.65339290079, 0.621173680935, 3.12187509305, 0.708185057924, 0.0, 0.0, 1.76892860052, 0.0, 1.43667485878, 0.0, 1.37147927533, 0.0, 0.0, 5.4266567582, 0.0, 0.770705414906, 0.0, 0.0, 0.728593929556, 0.921278273385, 0.0, 0.0, 0.0, 0.0, 0.0, 1.70131937899, 1.24286189751, 0.0, 0.933857055592, 1.74497621843, 0.0, 0.0, 1.08226194652, 0.0, 1.19243104389, 1.11365016603, 0.792445401542, 0.0, 0.0, 2.78256380526, 0.0, 0.0, 0.0, 1.94514313555, 1.27795321732, 0.0, 0.0, 0.0, 0.0, 0.0, 1.65193618716, 0.61195702583, 0.848957611806, 2.83978824411, 1.89319216274, 0.0, 0.825968093581, 0.0, 0.0, 6.21430948756, 2.00217549871, 1.08379720288, 0.0, 0.803495237729, 0.0, 0.0, 0.0, 1.04062503102, 0.0, 1.26025364022, 0.0, 0.985816794523, 0.728593929556, 1.08379720288, 2.19722457734, 0.0, 0.668575919829, 0.390650022323, 0.896585660795, 1.54141082981, 1.65193618716, 0.0, 0.0, 0.933857055592, 0.0, 0.837396789404, 1.06919840346, 0.0)                                                                                                                      \n",
       "2  (0.933857055592, 0.0, 0.0, 1.05480966601, 0.0, 0.0, 0.0, 3.52851156904, 0.0, 0.0, 2.09440416621, 1.17617052301, 2.65339290079, 2.48469472374, 2.08125006204, 0.0, 1.26025364022, 0.0, 0.0, 1.37147927533, 1.43667485878, 1.04062503102, 0.0, 0.0, 0.0, 3.39166047387, 0.792445401542, 0.0, 0.0, 1.26025364022, 0.0, 2.76383482016, 1.99847962971, 1.16017018167, 0.946596081369, 0.0, 0.0, 0.0, 0.0, 2.37733620463, 0.0, 1.74497621843, 0.0, 0.0, 0.541130973261, 0.0, 4.76972417554, 5.56825083016, 0.792445401542, 2.35234104603, 1.16017018167, 0.0, 0.0, 1.22576746415, 1.24286189751, 2.91771470332, 1.27795321732, 0.541130973261, 0.0, 4.8869430545, 2.95582686636, 0.0, 0.0, 0.61195702583, 1.69791522361, 0.0, 0.946596081369, 1.11365016603, 0.825968093581, 0.999239814855, 0.0, 2.48572379503, 0.0, 2.16759440577, 0.933857055592, 0.0, 0.0, 0.0, 0.0, 1.04062503102, 1.72130730314, 1.26025364022, 1.97163358905, 0.0, 0.0, 1.08379720288, 0.0, 0.0, 0.668575919829, 0.0, 0.0, 6.16564331925, 3.30387237432, 0.0, 1.74497621843, 5.60314233355, 2.13839680692, 1.67479357881, 0.0, 0.0)                                                                                                          \n",
       "3  (0.0, 0.0, 3.43957193921, 0.0, 2.16759440577, 0.0, 1.11365016603, 0.0, 2.87849845862, 1.22576746415, 2.09440416621, 0.0, 0.884464300262, 3.10586840467, 3.12187509305, 0.0, 0.0, 2.35234104603, 0.884464300262, 0.0, 0.0, 0.0, 1.37147927533, 1.91899897241, 2.58196095471, 2.03499628432, 0.792445401542, 0.0, 0.0, 1.26025364022, 2.91437571822, 0.921278273385, 0.0, 2.32034036334, 0.946596081369, 1.86771411118, 0.0, 2.83553229832, 1.24286189751, 1.58489080308, 0.933857055592, 0.0, 1.02663878904, 0.0, 0.541130973261, 2.78256380526, 2.38486208777, 2.22730033207, 0.0, 2.35234104603, 1.16017018167, 0.0, 1.19243104389, 0.0, 0.0, 1.94514313555, 1.27795321732, 0.0, 2.62864172299, 2.79253888828, 0.0, 0.0, 0.825968093581, 1.22391405166, 1.69791522361, 1.89319216274, 0.946596081369, 0.0, 1.65193618716, 1.99847962971, 0.0, 1.24286189751, 2.00217549871, 1.08379720288, 0.0, 1.60699047546, 0.0, 2.41048571319, 0.0, 2.08125006204, 0.0, 0.0, 5.91490076714, 0.985816794523, 0.728593929556, 0.0, 1.09861228867, 0.0, 0.668575919829, 0.390650022323, 0.0, 6.93634873415, 2.47790428074, 0.0, 2.61746432765, 0.933857055592, 2.13839680692, 1.67479357881, 3.20759521039, 1.11365016603)  \n",
       "4  (0.0, 0.896585660795, 3.43957193921, 0.0, 0.0, 0.668575919829, 2.22730033207, 0.0, 0.0, 0.0, 0.698134722071, 0.0, 1.76892860052, 1.8635210428, 2.08125006204, 0.0, 0.0, 1.17617052301, 0.884464300262, 0.0, 0.0, 0.0, 0.0, 0.0, 0.0, 2.7133283791, 2.37733620463, 0.770705414906, 0.0, 0.0, 2.18578178867, 0.921278273385, 0.0, 0.0, 0.0, 0.0, 0.0, 0.567106459665, 1.24286189751, 0.792445401542, 0.0, 0.0, 0.0, 0.0, 1.08226194652, 0.0, 1.19243104389, 0.0, 0.0, 0.0, 0.0, 0.0, 0.0, 0.0, 0.0, 0.972571567773, 0.0, 0.0, 0.0, 2.09440416621, 0.738956716591, 0.0, 0.0, 0.0, 0.848957611806, 0.0, 0.0, 0.0, 0.0, 1.99847962971, 0.0, 1.24286189751, 2.00217549871, 0.0, 0.933857055592, 0.803495237729, 0.0, 1.60699047546, 0.0, 2.08125006204, 0.0, 1.26025364022, 0.0, 0.0, 0.728593929556, 0.0, 1.09861228867, 0.0, 0.0, 0.0, 2.68975698238, 4.62423248943, 0.0, 0.946596081369, 0.0, 0.0, 0.0, 0.0, 0.0, 0.0)                                                                                                                                                                                                                                                                                           "
      ]
     },
     "execution_count": 42,
     "metadata": {},
     "output_type": "execute_result"
    }
   ],
   "source": [
    "from pyspark.ml.feature import IDF\n",
    "\n",
    "idf = IDF(inputCol=\"rawFeatures\", outputCol=\"features\")\n",
    "idfModel = idf.fit(featurizedData)\n",
    "rescaledData = idfModel.transform(featurizedData)\n",
    "\n",
    "rescaledData.select(\"text\", \"rawFeatures\", \"features\").toPandas().head()"
   ]
  },
  {
   "cell_type": "markdown",
   "metadata": {},
   "source": [
    "## 4. Build ML Pipeline and Learn a Model"
   ]
  },
  {
   "cell_type": "markdown",
   "metadata": {},
   "source": [
    "### Use Logistic Regression Algorithm to predict author"
   ]
  },
  {
   "cell_type": "code",
   "execution_count": 43,
   "metadata": {},
   "outputs": [],
   "source": [
    "from pyspark.ml.classification import LogisticRegression\n",
    "lr = LogisticRegression(labelCol = \"label\", regParam=0.0, threshold=0.5)"
   ]
  },
  {
   "cell_type": "markdown",
   "metadata": {},
   "source": [
    "### Define the machine learning pipeline"
   ]
  },
  {
   "cell_type": "code",
   "execution_count": 44,
   "metadata": {},
   "outputs": [],
   "source": [
    "stages = [removePunctuationTrans, tokenizer, remover, hashingTF, idf, lr]\n",
    "from pyspark.ml import Pipeline\n",
    "pipeline = Pipeline(stages = stages)"
   ]
  },
  {
   "cell_type": "markdown",
   "metadata": {},
   "source": [
    "### Display the parameter setting of the pipeline stages"
   ]
  },
  {
   "cell_type": "code",
   "execution_count": 45,
   "metadata": {
    "scrolled": true
   },
   "outputs": [
    {
     "name": "stdout",
     "output_type": "stream",
     "text": [
      "Remove Punctuation SQL Transformer:\n",
      "statement: SQL statement (current: SELECT *, TRANSLATE(text,',.:;!?@#$%^&*()+=-`~{}[]|\\/''\"<>','') AS textNoPunctuation FROM __THIS__)\n",
      "*************************\n",
      "inputCol: input column name. (current: text)\n",
      "outputCol: output column name. (default: Tokenizer_47c8b801072eece644fc__output, current: words)\n",
      "*************************\n",
      "Tokenizer:\n",
      "inputCol: input column name. (current: text)\n",
      "outputCol: output column name. (default: Tokenizer_47c8b801072eece644fc__output, current: words)\n",
      "*************************\n",
      "Remover:\n",
      "caseSensitive: whether to do a case sensitive comparison over the stop words (default: False, current: False)\n",
      "inputCol: input column name. (current: words)\n",
      "outputCol: output column name. (default: StopWordsRemover_425bad82d4a97af0430f__output, current: filtered)\n",
      "stopWords: The words to be filtered out (default: [u'i', u'me', u'my', u'myself', u'we', u'our', u'ours', u'ourselves', u'you', u'your', u'yours', u'yourself', u'yourselves', u'he', u'him', u'his', u'himself', u'she', u'her', u'hers', u'herself', u'it', u'its', u'itself', u'they', u'them', u'their', u'theirs', u'themselves', u'what', u'which', u'who', u'whom', u'this', u'that', u'these', u'those', u'am', u'is', u'are', u'was', u'were', u'be', u'been', u'being', u'have', u'has', u'had', u'having', u'do', u'does', u'did', u'doing', u'a', u'an', u'the', u'and', u'but', u'if', u'or', u'because', u'as', u'until', u'while', u'of', u'at', u'by', u'for', u'with', u'about', u'against', u'between', u'into', u'through', u'during', u'before', u'after', u'above', u'below', u'to', u'from', u'up', u'down', u'in', u'out', u'on', u'off', u'over', u'under', u'again', u'further', u'then', u'once', u'here', u'there', u'when', u'where', u'why', u'how', u'all', u'any', u'both', u'each', u'few', u'more', u'most', u'other', u'some', u'such', u'no', u'nor', u'not', u'only', u'own', u'same', u'so', u'than', u'too', u'very', u's', u't', u'can', u'will', u'just', u'don', u'should', u'now', u'd', u'll', u'm', u'o', u're', u've', u'y', u'ain', u'aren', u'couldn', u'didn', u'doesn', u'hadn', u'hasn', u'haven', u'isn', u'ma', u'mightn', u'mustn', u'needn', u'shan', u'shouldn', u'wasn', u'weren', u'won', u'wouldn'])\n",
      "*************************\n",
      "HashingTF:\n",
      "binary: If True, all non zero counts are set to 1. This is useful for discrete probabilistic models that model binary events rather than integer counts. Default False. (default: False)\n",
      "inputCol: input column name. (current: filtered)\n",
      "numFeatures: number of features. (default: 262144, current: 100)\n",
      "outputCol: output column name. (default: HashingTF_437bb82aeaebd44b2912__output, current: rawFeatures)\n",
      "*************************\n",
      "IDF:\n",
      "inputCol: input column name. (current: rawFeatures)\n",
      "minDocFreq: minimum number of documents in which a term should appear for filtering (default: 0)\n",
      "outputCol: output column name. (default: IDF_4e518bccc92b494a25f1__output, current: features)\n",
      "*************************\n",
      "LogisticRegression:\n",
      "aggregationDepth: suggested depth for treeAggregate (>= 2). (default: 2)\n",
      "elasticNetParam: the ElasticNet mixing parameter, in range [0, 1]. For alpha = 0, the penalty is an L2 penalty. For alpha = 1, it is an L1 penalty. (default: 0.0)\n",
      "family: The name of family which is a description of the label distribution to be used in the model. Supported options: auto, binomial, multinomial (default: auto)\n",
      "featuresCol: features column name. (default: features)\n",
      "fitIntercept: whether to fit an intercept term. (default: True)\n",
      "labelCol: label column name. (default: label, current: label)\n",
      "maxIter: max number of iterations (>= 0). (default: 100)\n",
      "predictionCol: prediction column name. (default: prediction)\n",
      "probabilityCol: Column name for predicted class conditional probabilities. Note: Not all models output well-calibrated probability estimates! These probabilities should be treated as confidences, not precise probabilities. (default: probability)\n",
      "rawPredictionCol: raw prediction (a.k.a. confidence) column name. (default: rawPrediction)\n",
      "regParam: regularization parameter (>= 0). (default: 0.0, current: 0.0)\n",
      "standardization: whether to standardize the training features before fitting the model. (default: True)\n",
      "threshold: Threshold in binary classification prediction, in range [0, 1]. If threshold and thresholds are both set, they must match.e.g. if threshold is p, then thresholds must be equal to [1-p, p]. (default: 0.5, current: 0.5)\n",
      "thresholds: Thresholds in multi-class classification to adjust the probability of predicting each class. Array must have length equal to the number of classes, with values > 0, excepting that at most one value may be 0. The class with largest value p/t is predicted, where p is the original probability of that class and t is the class's threshold. (undefined)\n",
      "tol: the convergence tolerance for iterative algorithms (>= 0). (default: 1e-06)\n",
      "weightCol: weight column name. If this is not set or empty, we treat all instance weights as 1.0. (undefined)\n",
      "*************************\n",
      "Pipeline:\n",
      "stages: a list of pipeline stages (current: [SQLTransformer_437d8021e5302158e2f7, Tokenizer_47c8b801072eece644fc, StopWordsRemover_425bad82d4a97af0430f, HashingTF_437bb82aeaebd44b2912, IDF_4e518bccc92b494a25f1, LogisticRegression_4129b6f0ca4fb6edc4df])\n"
     ]
    }
   ],
   "source": [
    "print(\"Remove Punctuation SQL Transformer:\")\n",
    "print(removePunctuationTrans.explainParams())\n",
    "print(\"*************************\")\n",
    "print(tokenizer.explainParams())\n",
    "print(\"*************************\")\n",
    "print(\"Tokenizer:\")\n",
    "print(tokenizer.explainParams())\n",
    "print(\"*************************\")\n",
    "print(\"Remover:\")\n",
    "print(remover.explainParams())\n",
    "print(\"*************************\")\n",
    "print(\"HashingTF:\")\n",
    "print(hashingTF.explainParams())\n",
    "print(\"*************************\")\n",
    "print(\"IDF:\")\n",
    "print(idf.explainParams())\n",
    "print(\"*************************\")\n",
    "print(\"LogisticRegression:\")\n",
    "print(lr.explainParams())\n",
    "print(\"*************************\")\n",
    "print(\"Pipeline:\")\n",
    "print(pipeline.explainParams())"
   ]
  },
  {
   "cell_type": "markdown",
   "metadata": {},
   "source": [
    "### Split the dataset into training and test data sets"
   ]
  },
  {
   "cell_type": "code",
   "execution_count": 46,
   "metadata": {},
   "outputs": [
    {
     "name": "stdout",
     "output_type": "stream",
     "text": [
      "The number of records in the training data set is 144.\n",
      "The number of rows labeled 0.0 in the training data set is 77.\n",
      "The number of rows labeled 1.0 in the training data set is 67.\n",
      "\n",
      "The number of records in the test data set is 56.\n",
      "The number of rows labeled 0.0 in the test data set is 23.\n",
      "The number of rows labeled 1.0 in the test data set is 33.\n"
     ]
    }
   ],
   "source": [
    "train, test = data.randomSplit([70.0,30.0], seed=1)\n",
    "print('The number of records in the training data set is {}.'.format(train.count()))\n",
    "print('The number of rows labeled 0.0 in the training data set is {}.'.format(train.filter(train['label'] == 0.0).count()))\n",
    "print('The number of rows labeled 1.0 in the training data set is {}.'.format(train.filter(train['label'] == 1.0).count()))\n",
    "print(\"\")\n",
    "print('The number of records in the test data set is {}.'.format(test.count()))\n",
    "print('The number of rows labeled 0.0 in the test data set is {}.'.format(test.filter(test['label'] == 0.0).count()))\n",
    "print('The number of rows labeled 1.0 in the test data set is {}.'.format(test.filter(test['label'] == 1.0).count()))"
   ]
  },
  {
   "cell_type": "markdown",
   "metadata": {},
   "source": [
    "### Train the model using the training data set"
   ]
  },
  {
   "cell_type": "code",
   "execution_count": 47,
   "metadata": {},
   "outputs": [],
   "source": [
    "model = pipeline.fit(train)"
   ]
  },
  {
   "cell_type": "markdown",
   "metadata": {},
   "source": [
    "## 5. Evaluate the Model"
   ]
  },
  {
   "cell_type": "markdown",
   "metadata": {},
   "source": [
    "### Make predictions using the test data set"
   ]
  },
  {
   "cell_type": "code",
   "execution_count": 48,
   "metadata": {},
   "outputs": [],
   "source": [
    "predictions = model.transform(test)"
   ]
  },
  {
   "cell_type": "code",
   "execution_count": 49,
   "metadata": {},
   "outputs": [
    {
     "name": "stdout",
     "output_type": "stream",
     "text": [
      "The number of rows with prediction of 0.0 is 22.\n",
      "The number of rows with prediction of 1.0 is 35.\n"
     ]
    }
   ],
   "source": [
    "print('The number of rows with prediction of 0.0 is {}.'.format(predictions.filter(predictions['prediction'] == 0.0).count()))\n",
    "print('The number of rows with prediction of 1.0 is {}.'.format(predictions.filter(predictions['prediction'] == 1.0).count()))"
   ]
  },
  {
   "cell_type": "code",
   "execution_count": 50,
   "metadata": {},
   "outputs": [
    {
     "data": {
      "text/html": [
       "<div>\n",
       "<table border=\"1\" class=\"dataframe\">\n",
       "  <thead>\n",
       "    <tr style=\"text-align: right;\">\n",
       "      <th></th>\n",
       "      <th>label</th>\n",
       "      <th>prediction</th>\n",
       "      <th>text</th>\n",
       "    </tr>\n",
       "  </thead>\n",
       "  <tbody>\n",
       "    <tr>\n",
       "      <th>0</th>\n",
       "      <td>0</td>\n",
       "      <td>0</td>\n",
       "      <td>I have a small backyard garden and it can really be a chore to pull on a heavy hose and to keep it from crushing plants as I move around the garden to water  So yesterday I disconnected the heavyduty rubber hose and connected this Lime Green expanding hose  Even before turning on the water I could feel how lightweight it wasI turned on the water medium hard and the hose began to expand  The flip switch at the end of the hose allowed me to adjust the spray somewhat but the water would not spray out of the hose with very much force  Actually that's alright because I don't want to blast my plants out of the ground  The only thing that worries me about the hose is that with the flip switch in the off position the hose continued to fill up with water to the point I really thought it was going to burst  So I would not advise anyone to expect this hose to contain the pressure like a heavy rubber hose canIt was much easier to walk around the garden and water the plants with this hose  I just don't think this hose will last very long  It doesn't appear to have longlasting durability but I could be wrong about that  Only time and usage will tell  I will continue to use this hose for the rest of the season and into next season  When I turned the water off the hose slowly contracted as the water pressure left it  It was very easy to roll up and place on the hose stand  I don't think it should be left outside because the lime green cover may not be able to handle intense sunshine and other weather effectsIf it continues to function without breaking for the rest of the year I will upgrade it one star</td>\n",
       "    </tr>\n",
       "    <tr>\n",
       "      <th>1</th>\n",
       "      <td>0</td>\n",
       "      <td>0</td>\n",
       "      <td>I was offered this about a month ago in midJuly for review  Given the time it takes for seeds to germinate and then produce it meant that I had to sprout indoors without the possibility of transplanting outdoors into my vegetable garden before frost  I am in Zone 56 So for the purpose of this review the entire process from germination to harvest will be in containers and  rotated between my sunny kitchen window the deck and my enclosed sunroomPros Biodegradeable individual pods that contain MiracleGro plant food a bit of soil and supposedly a seed or two to produce a plant Small easyread leaflet that indicates how far away to plant them from each other  Simple concise and easy to follow instructions A small paper tape measure so you don't have to go and find one A small packet of additional MiracleGro plant food for additional fertilization that is the correct quantity for the number of pods in the kit  There is no need to go out and buy an additional container of fertilizer only to have most of the bottlebag leftover Allinone kit is convenient and portableCons Not practical for the established garden or gardener for economical reasons May contain the occasional dud Output would be low and is only really enough for a few saladsPerfect for Beginners and those who want to try growing their own but have never ever tried growing a thing in their life a giftproject for kids interested in beginning gardening to start their own garden alongside mummy or daddy's garden Vacation gardening away from home for those lucky enough to have a place to go to for the summer months but would like to garden a bit without having to schlep all their gardening things up to the holiday rental Container gardeners or those short of space to store full sized versions of seeds and fertilizers Housewarming gift for a new family moving into their first house for the convenience factorExperienceSo far I have planted the pods according to the instructions on the packet into large terracotta pots  The lettuce has sprouted as has some of the herbs and a tomato plant  A few that I expected to sprout have not and may be duds  I will update this as the season progresses  The plants have been sprouted in a sunny kitchen window and are going through the hardening process in and out from the kitchen to deck before being left on the deck in their pots for the remainder of the growing season here and then will be brought indoors into the sunroom to see how long they are able to produce</td>\n",
       "    </tr>\n",
       "    <tr>\n",
       "      <th>2</th>\n",
       "      <td>0</td>\n",
       "      <td>1</td>\n",
       "      <td>Okay I have to remember that BBQing is NOT the same as cooking indoors  And I have to remember that you Amazon shopper probably have a bigger grill than me  This infusion cooker is very good for small tasty portions of food you want cooked simultaneously on the grill with your regular food  It works best with a large gas  propane grill with dual controls</td>\n",
       "    </tr>\n",
       "    <tr>\n",
       "      <th>3</th>\n",
       "      <td>1</td>\n",
       "      <td>1</td>\n",
       "      <td>I received this as an amazon vine reviewer and thought it would work nicely to attract different kinds of birds  It actually does have more space and now the Robins Blue Jays and Woodpeckers don't look so awkward when feeding on the more sparrow friendlyDroll Yankee B7F 20Inch Pewter 6Port Sunflower Wild Bird FeederHowever the pretty cap does not look so pretty once you put a squirrel proof cap on it  This one more or leas matches if you hang it 10 inches or more above the bird feeder's built in capWoodlink Wrap Around BCBAF22 4 x 4 Baffle 22 Inch  Bronze ColorYou could probably attach the bird feeder to a poll but there is no way to securely attach it to a poll without some specialized equipement You need to depend on gravity and better ingenuity to connect to a poll  You could then try this to keep the squirrels awayDroll Yankees SQPM Pole Mount Squirrel GuardOverall the design is very nice  The push button release takes a bit getting used to  If squirrels aren't a problem this is a great bird feeder especially if you have birds larger than sparrows that you wish to feed</td>\n",
       "    </tr>\n",
       "    <tr>\n",
       "      <th>4</th>\n",
       "      <td>1</td>\n",
       "      <td>0</td>\n",
       "      <td>I received this glass feeder and was so excited to open it  The bottle is reminiscent of an old coke bottle  The base is metal and decorative with small flowers and holes for the birds to feed  I also like the metal clasp to hang it with a hook from my gutter  I just ordered nectar so I am sure I will see hummingbirds as soon as I load it up as I also have flowers right next to my home that also attract hummingbirds  My suggestion for those of you who are having trouble attracting hummingbirds just to the feeder place it near flowers to draw them in  I was grateful too that they packaged this one correctly as the other one I ordered also glass came broken</td>\n",
       "    </tr>\n",
       "  </tbody>\n",
       "</table>\n",
       "</div>"
      ],
      "text/plain": [
       "   label  prediction  \\\n",
       "0  0      0            \n",
       "1  0      0            \n",
       "2  0      1            \n",
       "3  1      1            \n",
       "4  1      0            \n",
       "\n",
       "                                                                                                                                                                                                                                                                                                                                                                                                                                                                                                                                                                                                                                                                                                                                                                                                                                                                                                                                                                                                                                                                                                                                                                                                                                                                                                                                                                                                                                                                                                                                                                                                                                                                                                                                                                                                                                                                                                                                                                                                                                                                                                                                                                                                                                                                                                                                                                                                                                                                                                                                                                                       text  \n",
       "0  I have a small backyard garden and it can really be a chore to pull on a heavy hose and to keep it from crushing plants as I move around the garden to water  So yesterday I disconnected the heavyduty rubber hose and connected this Lime Green expanding hose  Even before turning on the water I could feel how lightweight it wasI turned on the water medium hard and the hose began to expand  The flip switch at the end of the hose allowed me to adjust the spray somewhat but the water would not spray out of the hose with very much force  Actually that's alright because I don't want to blast my plants out of the ground  The only thing that worries me about the hose is that with the flip switch in the off position the hose continued to fill up with water to the point I really thought it was going to burst  So I would not advise anyone to expect this hose to contain the pressure like a heavy rubber hose canIt was much easier to walk around the garden and water the plants with this hose  I just don't think this hose will last very long  It doesn't appear to have longlasting durability but I could be wrong about that  Only time and usage will tell  I will continue to use this hose for the rest of the season and into next season  When I turned the water off the hose slowly contracted as the water pressure left it  It was very easy to roll up and place on the hose stand  I don't think it should be left outside because the lime green cover may not be able to handle intense sunshine and other weather effectsIf it continues to function without breaking for the rest of the year I will upgrade it one star                                                                                                                                                                                                                                                                                                                                                                                                                                                                                                                                                                                                                                                                                                                                                                                                                                                                                                             \n",
       "1  I was offered this about a month ago in midJuly for review  Given the time it takes for seeds to germinate and then produce it meant that I had to sprout indoors without the possibility of transplanting outdoors into my vegetable garden before frost  I am in Zone 56 So for the purpose of this review the entire process from germination to harvest will be in containers and  rotated between my sunny kitchen window the deck and my enclosed sunroomPros Biodegradeable individual pods that contain MiracleGro plant food a bit of soil and supposedly a seed or two to produce a plant Small easyread leaflet that indicates how far away to plant them from each other  Simple concise and easy to follow instructions A small paper tape measure so you don't have to go and find one A small packet of additional MiracleGro plant food for additional fertilization that is the correct quantity for the number of pods in the kit  There is no need to go out and buy an additional container of fertilizer only to have most of the bottlebag leftover Allinone kit is convenient and portableCons Not practical for the established garden or gardener for economical reasons May contain the occasional dud Output would be low and is only really enough for a few saladsPerfect for Beginners and those who want to try growing their own but have never ever tried growing a thing in their life a giftproject for kids interested in beginning gardening to start their own garden alongside mummy or daddy's garden Vacation gardening away from home for those lucky enough to have a place to go to for the summer months but would like to garden a bit without having to schlep all their gardening things up to the holiday rental Container gardeners or those short of space to store full sized versions of seeds and fertilizers Housewarming gift for a new family moving into their first house for the convenience factorExperienceSo far I have planted the pods according to the instructions on the packet into large terracotta pots  The lettuce has sprouted as has some of the herbs and a tomato plant  A few that I expected to sprout have not and may be duds  I will update this as the season progresses  The plants have been sprouted in a sunny kitchen window and are going through the hardening process in and out from the kitchen to deck before being left on the deck in their pots for the remainder of the growing season here and then will be brought indoors into the sunroom to see how long they are able to produce  \n",
       "2  Okay I have to remember that BBQing is NOT the same as cooking indoors  And I have to remember that you Amazon shopper probably have a bigger grill than me  This infusion cooker is very good for small tasty portions of food you want cooked simultaneously on the grill with your regular food  It works best with a large gas  propane grill with dual controls                                                                                                                                                                                                                                                                                                                                                                                                                                                                                                                                                                                                                                                                                                                                                                                                                                                                                                                                                                                                                                                                                                                                                                                                                                                                                                                                                                                                                                                                                                                                                                                                                                                                                                                                                                                                                                                                                                                                                                                                                                                                                                                                                                                                                      \n",
       "3  I received this as an amazon vine reviewer and thought it would work nicely to attract different kinds of birds  It actually does have more space and now the Robins Blue Jays and Woodpeckers don't look so awkward when feeding on the more sparrow friendlyDroll Yankee B7F 20Inch Pewter 6Port Sunflower Wild Bird FeederHowever the pretty cap does not look so pretty once you put a squirrel proof cap on it  This one more or leas matches if you hang it 10 inches or more above the bird feeder's built in capWoodlink Wrap Around BCBAF22 4 x 4 Baffle 22 Inch  Bronze ColorYou could probably attach the bird feeder to a poll but there is no way to securely attach it to a poll without some specialized equipement You need to depend on gravity and better ingenuity to connect to a poll  You could then try this to keep the squirrels awayDroll Yankees SQPM Pole Mount Squirrel GuardOverall the design is very nice  The push button release takes a bit getting used to  If squirrels aren't a problem this is a great bird feeder especially if you have birds larger than sparrows that you wish to feed                                                                                                                                                                                                                                                                                                                                                                                                                                                                                                                                                                                                                                                                                                                                                                                                                                                                                                                                                                                                                                                                                                                                                                                                                                                                                                                                                                                                                                                         \n",
       "4  I received this glass feeder and was so excited to open it  The bottle is reminiscent of an old coke bottle  The base is metal and decorative with small flowers and holes for the birds to feed  I also like the metal clasp to hang it with a hook from my gutter  I just ordered nectar so I am sure I will see hummingbirds as soon as I load it up as I also have flowers right next to my home that also attract hummingbirds  My suggestion for those of you who are having trouble attracting hummingbirds just to the feeder place it near flowers to draw them in  I was grateful too that they packaged this one correctly as the other one I ordered also glass came broken                                                                                                                                                                                                                                                                                                                                                                                                                                                                                                                                                                                                                                                                                                                                                                                                                                                                                                                                                                                                                                                                                                                                                                                                                                                                                                                                                                                                                                                                                                                                                                                                                                                                                                                                                                                                                                                                                                   "
      ]
     },
     "execution_count": 50,
     "metadata": {},
     "output_type": "execute_result"
    }
   ],
   "source": [
    "predictions.select('label', 'prediction', 'text').sample(False, 0.1, 1).toPandas().head()"
   ]
  },
  {
   "cell_type": "markdown",
   "metadata": {},
   "source": [
    "### Evaluate the model performance by calculating the area under the ROC curve"
   ]
  },
  {
   "cell_type": "code",
   "execution_count": 51,
   "metadata": {},
   "outputs": [
    {
     "name": "stdout",
     "output_type": "stream",
     "text": [
      "Accuracy = 58.93%.\n",
      "Area under the ROC curve = 0.61.\n"
     ]
    }
   ],
   "source": [
    "from pyspark.ml.evaluation import MulticlassClassificationEvaluator\n",
    "evaluator = MulticlassClassificationEvaluator(labelCol = \"label\", predictionCol=\"prediction\").setMetricName(\"accuracy\")\n",
    "print('Accuracy = {:0.2f}%.'.format(evaluator.evaluate(predictions)*100))\n",
    "\n",
    "from pyspark.ml.evaluation import BinaryClassificationEvaluator\n",
    "evaluator = BinaryClassificationEvaluator().setLabelCol(\"label\").setMetricName(\"areaUnderROC\")\n",
    "print('Area under the ROC curve = {:0.2f}.'.format(evaluator.evaluate(predictions)))"
   ]
  },
  {
   "cell_type": "markdown",
   "metadata": {},
   "source": [
    "# Part 2: Machine Learning using Watson Cognitive APIs"
   ]
  },
  {
   "cell_type": "markdown",
   "metadata": {},
   "source": [
    "This section will employ Watson Natrual Language Understanding to create rich features and learn a new model."
   ]
  },
  {
   "cell_type": "markdown",
   "metadata": {},
   "source": [
    "## 1. Set up for Use of the Natural Language Understanding Service"
   ]
  },
  {
   "cell_type": "markdown",
   "metadata": {},
   "source": [
    "### Setup configuration for the Watson Natural Language Understanding (NLU) service"
   ]
  },
  {
   "cell_type": "code",
   "execution_count": 52,
   "metadata": {},
   "outputs": [],
   "source": [
    "import watson_developer_cloud\n",
    "from watson_developer_cloud import NaturalLanguageUnderstandingV1\n",
    "import watson_developer_cloud.natural_language_understanding.features.v1 as Features\n",
    "import json"
   ]
  },
  {
   "cell_type": "code",
   "execution_count": 53,
   "metadata": {},
   "outputs": [],
   "source": [
    "NLU_USERNAME = '9fc5aad0-64f8-4feb-9fa6-560b1a6e8917'\n",
    "NLU_PASSWORD = 'ImBGbcIpeKUL'\n",
    "natural_language_understanding = NaturalLanguageUnderstandingV1(\n",
    "  username=NLU_USERNAME,\n",
    "  password=NLU_PASSWORD,\n",
    "  version=\"2017-02-27\")"
   ]
  },
  {
   "cell_type": "markdown",
   "metadata": {
    "collapsed": true
   },
   "source": [
    "### Split up the dataframe - this will be important in order to limit the API call rate to the NLU Service"
   ]
  },
  {
   "cell_type": "code",
   "execution_count": 54,
   "metadata": {},
   "outputs": [],
   "source": [
    "data00,data01,data02,data03,data04,data05,data06,data07,data08,data09,data10,data11,data12,data13,data14,data15,data16,data17,data18,data19, \\\n",
    "data20,data21,data22,data23,data24,data25,data26,data27,data28,data29,data30,data31,data32,data33,data34,data35,data36,data37,data38,data39, \\\n",
    "data40,data41,data42,data43,data44,data45,data46,data47,data48,data49,data50,data51,data52,data53,data54,data55,data56,data57,data58,data59, \\\n",
    "data60,data61,data62,data63,data64,data65,data66,data67,data68,data69,data70,data71,data72,data73,data74,data75,data76,data77,data78,data79, \\\n",
    "data80,data81,data82,data83,data84,data85,data86,data87,data88,data89,data90,data91,data92,data93,data94,data95,data96,data97,data98,data99 \\\n",
    " = data.randomSplit([1.0]*100, 0)"
   ]
  },
  {
   "cell_type": "markdown",
   "metadata": {},
   "source": [
    "### Show example of employing NLU API on single row of the data set"
   ]
  },
  {
   "cell_type": "code",
   "execution_count": 55,
   "metadata": {
    "scrolled": false
   },
   "outputs": [
    {
     "name": "stdout",
     "output_type": "stream",
     "text": [
      "\"I had a few houseplants whose leaves were looking very dull lately I also had just gotten a few new plants that I used this on as wellI took them all outside because I was concerned with overspray and gave them a generous spritzing with this It does say you should wipe very dusty plant leaves with a cloth after spraying but I didn't actually do this It was effective even without this step for me It made my very dusty plants leaves shine and had a nice effect on the newer ones tooIt's amazing what a difference it makes in the home when your plants look healthy and shiny\"\n",
      "\n",
      "Anger = 0.009695\n",
      "Joy = 0.830311\n",
      "Sadness = 0.125471\n",
      "Fear = 0.041938\n",
      "Disgust = 0.004445\n",
      "Sentiment = 0.993921\n",
      "\n",
      "{\n",
      "  \"usage\": {\n",
      "    \"text_characters\": 577, \n",
      "    \"features\": 2, \n",
      "    \"text_units\": 1\n",
      "  }, \n",
      "  \"emotion\": {\n",
      "    \"document\": {\n",
      "      \"emotion\": {\n",
      "        \"anger\": 0.009695, \n",
      "        \"joy\": 0.830311, \n",
      "        \"sadness\": 0.125471, \n",
      "        \"fear\": 0.041938, \n",
      "        \"disgust\": 0.004445\n",
      "      }\n",
      "    }\n",
      "  }, \n",
      "  \"language\": \"en\", \n",
      "  \"sentiment\": {\n",
      "    \"document\": {\n",
      "      \"score\": 0.993921, \n",
      "      \"label\": \"positive\"\n",
      "    }\n",
      "  }\n",
      "}\n"
     ]
    }
   ],
   "source": [
    "dataNLUtest = data00.select(data00[\"text\"]).toJSON().collect()[0][8:-1]\n",
    "print(dataNLUtest)\n",
    "import json\n",
    "features=[\n",
    "    Features.Emotion(),\n",
    "    Features.Sentiment()\n",
    "  ]\n",
    "nlu = natural_language_understanding.analyze(text=dataNLUtest, features=features, language='en', clean='true')\n",
    "anger = nlu['emotion']['document']['emotion']['anger']\n",
    "joy = nlu['emotion']['document']['emotion']['joy']\n",
    "sadness = nlu['emotion']['document']['emotion']['sadness']\n",
    "fear = nlu['emotion']['document']['emotion']['fear']\n",
    "disgust = nlu['emotion']['document']['emotion']['disgust']\n",
    "sentiment = nlu['sentiment']['document']['score']\n",
    "\n",
    "print(\"\")\n",
    "print(\"Anger = {}\".format(anger))\n",
    "print(\"Joy = {}\".format(joy))\n",
    "print(\"Sadness = {}\".format(sadness))\n",
    "print(\"Fear = {}\".format(fear))\n",
    "print(\"Disgust = {}\".format(disgust))\n",
    "print(\"Sentiment = {}\".format(sentiment))\n",
    "print(\"\")\n",
    "print(json.dumps(nlu, indent=2))"
   ]
  },
  {
   "cell_type": "markdown",
   "metadata": {},
   "source": [
    "## 2. Create Enhanced Features using the NLU Service"
   ]
  },
  {
   "cell_type": "markdown",
   "metadata": {},
   "source": [
    "### Define UDF to create NLU derived features"
   ]
  },
  {
   "cell_type": "code",
   "execution_count": 56,
   "metadata": {},
   "outputs": [],
   "source": [
    "from pyspark.sql.functions import udf\n",
    "udfNLU = (udf(lambda text: json.dumps(NaturalLanguageUnderstandingV1(\n",
    "    username=NLU_USERNAME, password=NLU_PASSWORD, version=\"2017-02-27\")\n",
    "    .analyze(text=text, features=features, language='en', clean='true'))))"
   ]
  },
  {
   "cell_type": "markdown",
   "metadata": {},
   "source": [
    "### Invoke UDF to create new column with NLU output"
   ]
  },
  {
   "cell_type": "code",
   "execution_count": 57,
   "metadata": {},
   "outputs": [],
   "source": [
    "data00NLU = data00.withColumn('nlu', udfNLU(data00['text']))\n",
    "data01NLU = data01.withColumn('nlu', udfNLU(data01['text']))\n",
    "data02NLU = data02.withColumn('nlu', udfNLU(data02['text']))\n",
    "data03NLU = data03.withColumn('nlu', udfNLU(data03['text']))\n",
    "data04NLU = data04.withColumn('nlu', udfNLU(data04['text']))\n",
    "data05NLU = data05.withColumn('nlu', udfNLU(data05['text']))\n",
    "data06NLU = data06.withColumn('nlu', udfNLU(data06['text']))\n",
    "data07NLU = data07.withColumn('nlu', udfNLU(data07['text']))\n",
    "data08NLU = data08.withColumn('nlu', udfNLU(data08['text']))\n",
    "data09NLU = data09.withColumn('nlu', udfNLU(data09['text']))\n",
    "data10NLU = data10.withColumn('nlu', udfNLU(data10['text']))\n",
    "data11NLU = data11.withColumn('nlu', udfNLU(data11['text']))\n",
    "data12NLU = data12.withColumn('nlu', udfNLU(data12['text']))\n",
    "data13NLU = data13.withColumn('nlu', udfNLU(data13['text']))\n",
    "data14NLU = data14.withColumn('nlu', udfNLU(data14['text']))\n",
    "data15NLU = data15.withColumn('nlu', udfNLU(data15['text']))\n",
    "data16NLU = data16.withColumn('nlu', udfNLU(data16['text']))\n",
    "data17NLU = data17.withColumn('nlu', udfNLU(data17['text']))\n",
    "data18NLU = data18.withColumn('nlu', udfNLU(data18['text']))\n",
    "data19NLU = data19.withColumn('nlu', udfNLU(data19['text']))\n",
    "data20NLU = data20.withColumn('nlu', udfNLU(data20['text']))\n",
    "data21NLU = data21.withColumn('nlu', udfNLU(data21['text']))\n",
    "data22NLU = data22.withColumn('nlu', udfNLU(data22['text']))\n",
    "data23NLU = data23.withColumn('nlu', udfNLU(data23['text']))\n",
    "data24NLU = data24.withColumn('nlu', udfNLU(data24['text']))\n",
    "data25NLU = data25.withColumn('nlu', udfNLU(data25['text']))\n",
    "data26NLU = data26.withColumn('nlu', udfNLU(data26['text']))\n",
    "data27NLU = data27.withColumn('nlu', udfNLU(data27['text']))\n",
    "data28NLU = data28.withColumn('nlu', udfNLU(data28['text']))\n",
    "data29NLU = data29.withColumn('nlu', udfNLU(data29['text']))\n",
    "data30NLU = data30.withColumn('nlu', udfNLU(data30['text']))\n",
    "data31NLU = data31.withColumn('nlu', udfNLU(data31['text']))\n",
    "data32NLU = data32.withColumn('nlu', udfNLU(data32['text']))\n",
    "data33NLU = data33.withColumn('nlu', udfNLU(data33['text']))\n",
    "data34NLU = data34.withColumn('nlu', udfNLU(data34['text']))\n",
    "data35NLU = data35.withColumn('nlu', udfNLU(data35['text']))\n",
    "data36NLU = data36.withColumn('nlu', udfNLU(data36['text']))\n",
    "data37NLU = data37.withColumn('nlu', udfNLU(data37['text']))\n",
    "data38NLU = data38.withColumn('nlu', udfNLU(data38['text']))\n",
    "data39NLU = data39.withColumn('nlu', udfNLU(data39['text']))\n",
    "data40NLU = data40.withColumn('nlu', udfNLU(data40['text']))\n",
    "data41NLU = data41.withColumn('nlu', udfNLU(data41['text']))\n",
    "data42NLU = data42.withColumn('nlu', udfNLU(data42['text']))\n",
    "data43NLU = data43.withColumn('nlu', udfNLU(data43['text']))\n",
    "data44NLU = data44.withColumn('nlu', udfNLU(data44['text']))\n",
    "data45NLU = data45.withColumn('nlu', udfNLU(data45['text']))\n",
    "data46NLU = data46.withColumn('nlu', udfNLU(data46['text']))\n",
    "data47NLU = data47.withColumn('nlu', udfNLU(data47['text']))\n",
    "data48NLU = data48.withColumn('nlu', udfNLU(data48['text']))\n",
    "data49NLU = data49.withColumn('nlu', udfNLU(data49['text']))\n",
    "data50NLU = data50.withColumn('nlu', udfNLU(data50['text']))\n",
    "data51NLU = data51.withColumn('nlu', udfNLU(data51['text']))\n",
    "data52NLU = data52.withColumn('nlu', udfNLU(data52['text']))\n",
    "data53NLU = data53.withColumn('nlu', udfNLU(data53['text']))\n",
    "data54NLU = data54.withColumn('nlu', udfNLU(data54['text']))\n",
    "data55NLU = data55.withColumn('nlu', udfNLU(data55['text']))\n",
    "data56NLU = data56.withColumn('nlu', udfNLU(data56['text']))\n",
    "data57NLU = data57.withColumn('nlu', udfNLU(data57['text']))\n",
    "data58NLU = data58.withColumn('nlu', udfNLU(data58['text']))\n",
    "data59NLU = data59.withColumn('nlu', udfNLU(data59['text']))\n",
    "data60NLU = data60.withColumn('nlu', udfNLU(data60['text']))\n",
    "data61NLU = data61.withColumn('nlu', udfNLU(data61['text']))\n",
    "data62NLU = data62.withColumn('nlu', udfNLU(data62['text']))\n",
    "data63NLU = data63.withColumn('nlu', udfNLU(data63['text']))\n",
    "data64NLU = data64.withColumn('nlu', udfNLU(data64['text']))\n",
    "data65NLU = data65.withColumn('nlu', udfNLU(data65['text']))\n",
    "data66NLU = data66.withColumn('nlu', udfNLU(data66['text']))\n",
    "data67NLU = data67.withColumn('nlu', udfNLU(data67['text']))\n",
    "data68NLU = data68.withColumn('nlu', udfNLU(data68['text']))\n",
    "data69NLU = data69.withColumn('nlu', udfNLU(data69['text']))\n",
    "data70NLU = data70.withColumn('nlu', udfNLU(data70['text']))\n",
    "data71NLU = data71.withColumn('nlu', udfNLU(data71['text']))\n",
    "data72NLU = data72.withColumn('nlu', udfNLU(data72['text']))\n",
    "data73NLU = data73.withColumn('nlu', udfNLU(data73['text']))\n",
    "data74NLU = data74.withColumn('nlu', udfNLU(data74['text']))\n",
    "data75NLU = data75.withColumn('nlu', udfNLU(data75['text']))\n",
    "data76NLU = data76.withColumn('nlu', udfNLU(data76['text']))\n",
    "data77NLU = data77.withColumn('nlu', udfNLU(data77['text']))\n",
    "data78NLU = data78.withColumn('nlu', udfNLU(data78['text']))\n",
    "data79NLU = data79.withColumn('nlu', udfNLU(data79['text']))\n",
    "data80NLU = data80.withColumn('nlu', udfNLU(data80['text']))\n",
    "data81NLU = data81.withColumn('nlu', udfNLU(data81['text']))\n",
    "data82NLU = data82.withColumn('nlu', udfNLU(data82['text']))\n",
    "data83NLU = data83.withColumn('nlu', udfNLU(data83['text']))\n",
    "data84NLU = data84.withColumn('nlu', udfNLU(data84['text']))\n",
    "data85NLU = data85.withColumn('nlu', udfNLU(data85['text']))\n",
    "data86NLU = data86.withColumn('nlu', udfNLU(data86['text']))\n",
    "data87NLU = data87.withColumn('nlu', udfNLU(data87['text']))\n",
    "data88NLU = data88.withColumn('nlu', udfNLU(data88['text']))\n",
    "data89NLU = data89.withColumn('nlu', udfNLU(data89['text']))\n",
    "data90NLU = data90.withColumn('nlu', udfNLU(data90['text']))\n",
    "data91NLU = data91.withColumn('nlu', udfNLU(data91['text']))\n",
    "data92NLU = data92.withColumn('nlu', udfNLU(data92['text']))\n",
    "data93NLU = data93.withColumn('nlu', udfNLU(data93['text']))\n",
    "data94NLU = data94.withColumn('nlu', udfNLU(data94['text']))\n",
    "data95NLU = data95.withColumn('nlu', udfNLU(data95['text']))\n",
    "data96NLU = data96.withColumn('nlu', udfNLU(data96['text']))\n",
    "data97NLU = data97.withColumn('nlu', udfNLU(data97['text']))\n",
    "data98NLU = data98.withColumn('nlu', udfNLU(data98['text']))\n",
    "data99NLU = data99.withColumn('nlu', udfNLU(data99['text']))"
   ]
  },
  {
   "cell_type": "code",
   "execution_count": 58,
   "metadata": {},
   "outputs": [
    {
     "name": "stdout",
     "output_type": "stream",
     "text": [
      "The combined dataset contains 200 rows.\n"
     ]
    }
   ],
   "source": [
    "dataNLU= (data00NLU.union(data01NLU).union(data02NLU).union(data03NLU).union(data04NLU).union(data05NLU).union(data06NLU).union(data07NLU).union(data08NLU).union(data09NLU)\n",
    "            .union(data10NLU).union(data11NLU).union(data12NLU).union(data13NLU).union(data14NLU).union(data15NLU).union(data16NLU).union(data17NLU).union(data18NLU).union(data19NLU)\n",
    "            .union(data20NLU).union(data21NLU).union(data22NLU).union(data23NLU).union(data24NLU).union(data25NLU).union(data26NLU).union(data27NLU).union(data28NLU).union(data29NLU)\n",
    "            .union(data30NLU).union(data31NLU).union(data32NLU).union(data33NLU).union(data34NLU).union(data35NLU).union(data36NLU).union(data37NLU).union(data38NLU).union(data39NLU)\n",
    "            .union(data40NLU).union(data41NLU).union(data42NLU).union(data43NLU).union(data44NLU).union(data45NLU).union(data46NLU).union(data47NLU).union(data48NLU).union(data49NLU)\n",
    "            .union(data50NLU).union(data51NLU).union(data52NLU).union(data53NLU).union(data54NLU).union(data55NLU).union(data56NLU).union(data57NLU).union(data58NLU).union(data59NLU)\n",
    "            .union(data60NLU).union(data61NLU).union(data62NLU).union(data63NLU).union(data64NLU).union(data65NLU).union(data66NLU).union(data67NLU).union(data68NLU).union(data69NLU)\n",
    "            .union(data70NLU).union(data71NLU).union(data72NLU).union(data73NLU).union(data74NLU).union(data75NLU).union(data76NLU).union(data77NLU).union(data78NLU).union(data79NLU)\n",
    "            .union(data80NLU).union(data81NLU).union(data82NLU).union(data83NLU).union(data84NLU).union(data85NLU).union(data86NLU).union(data87NLU).union(data88NLU).union(data89NLU)\n",
    "            .union(data90NLU).union(data91NLU).union(data92NLU).union(data93NLU).union(data94NLU).union(data95NLU).union(data96NLU).union(data97NLU).union(data98NLU).union(data99NLU)\n",
    "            .cache())\n",
    "\n",
    "print(\"The combined dataset contains {} rows.\".format(dataNLU.count()))"
   ]
  },
  {
   "cell_type": "markdown",
   "metadata": {},
   "source": [
    "### Define UDFs to identify bad rows retuned by NLU"
   ]
  },
  {
   "cell_type": "code",
   "execution_count": 59,
   "metadata": {},
   "outputs": [],
   "source": [
    "from pyspark.sql.types import DoubleType\n",
    "udfAngerTest = udf(lambda nlu: json.loads(nlu))\n",
    "udfJoyTest = udf(lambda nlu: json.loads(nlu))\n",
    "udfSadnessTest = udf(lambda nlu: json.loads(nlu))\n",
    "udfFearTest = udf(lambda nlu: json.loads(nlu))\n",
    "udfDisgustTest = udf(lambda nlu: json.loads(nlu))\n",
    "udfSentimentTest = udf(lambda nlu: json.loads(nlu))"
   ]
  },
  {
   "cell_type": "code",
   "execution_count": 60,
   "metadata": {},
   "outputs": [],
   "source": [
    "dataNLUtest = (dataNLU.withColumn('AngerTest', udfAngerTest(dataNLU['nlu']))\n",
    "        .withColumn('JoyTest', udfJoyTest(dataNLU['nlu']))\n",
    "        .withColumn('SadnessTest', udfSadnessTest(dataNLU['nlu']))\n",
    "        .withColumn('FearTest', udfFearTest(dataNLU['nlu']))\n",
    "        .withColumn('DisgustTest', udfDisgustTest(dataNLU['nlu']))\n",
    "        .withColumn('SentimentTest', udfSentimentTest(dataNLU['nlu'])))"
   ]
  },
  {
   "cell_type": "code",
   "execution_count": 61,
   "metadata": {},
   "outputs": [
    {
     "name": "stdout",
     "output_type": "stream",
     "text": [
      "Number of bad rows found = 0\n",
      "Number of bad rows found = 0\n",
      "Number of bad rows found = 0\n",
      "Number of bad rows found = 0\n",
      "Number of bad rows found = 0\n",
      "Number of bad rows found = 0\n"
     ]
    }
   ],
   "source": [
    "print(\"Number of bad rows found = {}\".format(dataNLUtest.filter(~ col('AngerTest').like('%anger%')).count()))\n",
    "print(\"Number of bad rows found = {}\".format(dataNLUtest.filter(~ col('JoyTest').like('%joy%')).count()))\n",
    "print(\"Number of bad rows found = {}\".format(dataNLUtest.filter(~ col('SadnessTest').like('%sadness%')).count()))\n",
    "print(\"Number of bad rows found = {}\".format(dataNLUtest.filter(~ col('FearTest').like('%fear%')).count()))\n",
    "print(\"Number of bad rows found = {}\".format(dataNLUtest.filter(~ col('DisgustTest').like('%disgust%')).count()))\n",
    "print(\"Number of bad rows found = {}\".format(dataNLUtest.filter(~ col('SentimentTest').like('%sentiment%')).count()))"
   ]
  },
  {
   "cell_type": "markdown",
   "metadata": {},
   "source": [
    "### Remove bad rows returned from NLU"
   ]
  },
  {
   "cell_type": "code",
   "execution_count": 62,
   "metadata": {},
   "outputs": [],
   "source": [
    "dataNLU = (dataNLUtest.filter(col('AngerTest').like('%anger%'))\n",
    "            .filter(col('JoyTest').like('%joy%'))\n",
    "            .filter(col('SadnessTest').like('%sadness%'))\n",
    "            .filter(col('FearTest').like('%fear%'))\n",
    "            .filter(col('DisgustTest').like('%disgust%'))\n",
    "            .filter(col('SentimentTest').like('%sentiment%')))"
   ]
  },
  {
   "cell_type": "code",
   "execution_count": 63,
   "metadata": {},
   "outputs": [
    {
     "name": "stdout",
     "output_type": "stream",
     "text": [
      "Number of bad rows removed = 0\n",
      "Number of bad rows removed = 0\n",
      "Number of bad rows removed = 0\n",
      "Number of bad rows removed = 0\n",
      "Number of bad rows removed = 0\n",
      "Number of bad rows removed = 0\n"
     ]
    }
   ],
   "source": [
    "print(\"Number of bad rows removed = {}\".format(dataNLU.filter(~ col('AngerTest').like('%anger%')).count()))\n",
    "print(\"Number of bad rows removed = {}\".format(dataNLU.filter(~ col('JoyTest').like('%joy%')).count()))\n",
    "print(\"Number of bad rows removed = {}\".format(dataNLU.filter(~ col('SadnessTest').like('%sadness%')).count()))\n",
    "print(\"Number of bad rows removed = {}\".format(dataNLU.filter(~ col('FearTest').like('%fear%')).count()))\n",
    "print(\"Number of bad rows removed = {}\".format(dataNLU.filter(~ col('DisgustTest').like('%disgust%')).count()))\n",
    "print(\"Number of bad rows removed = {}\".format(dataNLU.filter(~ col('SentimentTest').like('%sentiment%')).count()))"
   ]
  },
  {
   "cell_type": "code",
   "execution_count": 64,
   "metadata": {},
   "outputs": [],
   "source": [
    "#Drop NLU test columns\n",
    "dataNLU = dataNLU.drop('AngerTest','JoyTest', 'SadnessTest', 'FearTest', 'DisgustTest', 'SentimentTest')"
   ]
  },
  {
   "cell_type": "markdown",
   "metadata": {},
   "source": [
    "### Define UDFs to extract NLU derived features"
   ]
  },
  {
   "cell_type": "code",
   "execution_count": 65,
   "metadata": {},
   "outputs": [],
   "source": [
    "from pyspark.sql.types import DoubleType\n",
    "udfAnger = udf(lambda nlu: json.loads(nlu)[\"emotion\"][\"document\"][\"emotion\"][\"anger\"], DoubleType())\n",
    "udfJoy = udf(lambda nlu: json.loads(nlu)[\"emotion\"][\"document\"][\"emotion\"][\"joy\"], DoubleType())\n",
    "udfSadness = udf(lambda nlu: json.loads(nlu)[\"emotion\"][\"document\"][\"emotion\"][\"sadness\"], DoubleType())\n",
    "udfFear = udf(lambda nlu: json.loads(nlu)[\"emotion\"][\"document\"][\"emotion\"][\"fear\"], DoubleType())\n",
    "udfDisgust = udf(lambda nlu: json.loads(nlu)[\"emotion\"][\"document\"][\"emotion\"][\"disgust\"], DoubleType())\n",
    "udfSentiment = udf(lambda nlu: json.loads(nlu)['sentiment']['document']['score'], DoubleType())"
   ]
  },
  {
   "cell_type": "markdown",
   "metadata": {},
   "source": [
    "### Invoke UDFs to create new columns for the enhanced emotion and sentiment features"
   ]
  },
  {
   "cell_type": "code",
   "execution_count": 66,
   "metadata": {},
   "outputs": [],
   "source": [
    "dataNLU = (dataNLU.withColumn('Anger', udfAnger(dataNLU['nlu']))\n",
    "        .withColumn('Joy', udfJoy(dataNLU['nlu']))\n",
    "        .withColumn('Sadness', udfSadness(dataNLU['nlu']))\n",
    "        .withColumn('Fear', udfFear(dataNLU['nlu']))\n",
    "        .withColumn('Disgust', udfDisgust(dataNLU['nlu']))\n",
    "        .withColumn('Sentiment', udfSentiment(dataNLU['nlu'])))"
   ]
  },
  {
   "cell_type": "code",
   "execution_count": 67,
   "metadata": {},
   "outputs": [
    {
     "data": {
      "text/html": [
       "<div>\n",
       "<table border=\"1\" class=\"dataframe\">\n",
       "  <thead>\n",
       "    <tr style=\"text-align: right;\">\n",
       "      <th></th>\n",
       "      <th>text</th>\n",
       "      <th>Anger</th>\n",
       "      <th>Joy</th>\n",
       "      <th>Sadness</th>\n",
       "      <th>Fear</th>\n",
       "      <th>Disgust</th>\n",
       "      <th>Sentiment</th>\n",
       "    </tr>\n",
       "  </thead>\n",
       "  <tbody>\n",
       "    <tr>\n",
       "      <th>0</th>\n",
       "      <td>Great trimmming sissors for a great priceGets right in were i needto go to trim with out getting my hands dirty and snips off cleanlyLovem</td>\n",
       "      <td>0.018103</td>\n",
       "      <td>0.698583</td>\n",
       "      <td>0.039579</td>\n",
       "      <td>0.072911</td>\n",
       "      <td>0.215349</td>\n",
       "      <td>0.539652</td>\n",
       "    </tr>\n",
       "    <tr>\n",
       "      <th>1</th>\n",
       "      <td>I have this attached to my rails on my back porch  I just planted a bunch of geraniumsred and whiteand put the pot into the holder when I was done  Very sturdythat was one thing that I was afraid of was that it was going to fall over But the brackets are very firmdont think I will have a problem with them this summerNice product It looks better when you get it When I saw it on Amazon it looked very cheap but not when you get itMight buy a couple more to match the one I just got</td>\n",
       "      <td>0.086083</td>\n",
       "      <td>0.107491</td>\n",
       "      <td>0.361607</td>\n",
       "      <td>0.572950</td>\n",
       "      <td>0.101869</td>\n",
       "      <td>-0.532535</td>\n",
       "    </tr>\n",
       "    <tr>\n",
       "      <th>2</th>\n",
       "      <td>I've been using this brand of fly trap for about 5  years now and it's never disappointed me It will catch all the nasty types of flies you normally find during the summer time This is perfect for pet owners like myself in case the dog dumps its love bundles and I don't see it which can atrack fliesA couple of things you should know about this productFirst it will probably not catch any flies the first day and let me explain why the material in the trap and water that you add need to mix for about a day at which type a very strong smell will start to come out of the trap which means it is now working After the first day and during the hot ones trust me it will be gross yet amazing thing what this trap can doSecond you have to constantly add water to the level indicated on the bag specially during the hot days and if the trap is under direct sun light This is easy to do with a paper cup or any other small cupThird when hanging it place it away from your doors and windows or be ready for some nasty smells The trap has a mixture of eggsdried and other products to create a strong odor that flies can't resistIn conclusion this product DOES NOT USE chemicals at all it is all natural and catches a great number of fly species it won't let you down It works</td>\n",
       "      <td>0.037353</td>\n",
       "      <td>0.781848</td>\n",
       "      <td>0.035392</td>\n",
       "      <td>0.074048</td>\n",
       "      <td>0.125214</td>\n",
       "      <td>0.942827</td>\n",
       "    </tr>\n",
       "    <tr>\n",
       "      <th>3</th>\n",
       "      <td>Never splitting wood before I went into this venture a bit nervous  But I did end up splitting a 14 cord of wood from big logs rather easily  I heard the trick was speed However I found just the normal almost over the head with 34no extra push34 but having good control worked every time  The bade did exhibit tiny chips but I kept it sharpened as several recommended  The price is great and it feels virtually impossible to break Although I read some had broken the handle I did over swing once but it did not seem to mark the handle It did make me concentrate that much harder I did find stepping back a half of step kept me from compensating as I bent coming forward I am sure each person swing is a bit different</td>\n",
       "      <td>0.118855</td>\n",
       "      <td>0.042156</td>\n",
       "      <td>0.667298</td>\n",
       "      <td>0.399193</td>\n",
       "      <td>0.018477</td>\n",
       "      <td>-0.814318</td>\n",
       "    </tr>\n",
       "    <tr>\n",
       "      <th>4</th>\n",
       "      <td>I have tried two of these hoses at this pointfirst of all I would like to say that they do indeed work as advertised  When no water is running to them they can be made very compact and stored almost in a cargo shorts pocket spacewhen you turn the water on you get a nice thin lightweight 50ft hose  All great  Rumford even includes a carrying pouch so you can store the hose when not in useI started using these as someone normally wouldfor light duty yard work cleaning the deck etcnothing major  The hose was always around a wooden deck or a soil filled flower bednever near brick or concrete  The first hose ripped after about 3 weeks and the Rumford after about 4 weeks  DisappointingIt should be duly noted that I live in a home that has WELL water with very little pressure  Yes it was enough to expand this hosebut not enough to make it rip apartPersonally I feel that this is a great product that may need a bit more work before I would recommend it  I give it 2 stars because it does work and because Rumford is the only company that includes a carrying pouch25</td>\n",
       "      <td>0.187293</td>\n",
       "      <td>0.273684</td>\n",
       "      <td>0.433226</td>\n",
       "      <td>0.228026</td>\n",
       "      <td>0.011968</td>\n",
       "      <td>0.000000</td>\n",
       "    </tr>\n",
       "    <tr>\n",
       "      <th>5</th>\n",
       "      <td>After splitting hundreds of cords of firewood this is the best splitting maul that I've used  The hollow handle cuts down on the weight and the efficient design of the wedge make splitting wood much easier  I was able to split 3foot cedar rounds relatively easily after failing to be able to with my old splitting maul  I use the 36 inch handle but sometimes choke up a bit to get more force  This is an excellent design that allows you to split wood more quickly with less effort</td>\n",
       "      <td>0.137045</td>\n",
       "      <td>0.439042</td>\n",
       "      <td>0.290218</td>\n",
       "      <td>0.154726</td>\n",
       "      <td>0.059720</td>\n",
       "      <td>0.733052</td>\n",
       "    </tr>\n",
       "    <tr>\n",
       "      <th>6</th>\n",
       "      <td>I wanted to use this Havahart Spray Away Elite II Motion Detector Sprinkler Animal Repeller for one reason to keep freeroaming cats away from my bird feeders and squirrels while at the same time not frightening off my birds and squirrelsFrom a behavior perspective the device has a lot going for it  It provides a sudden negative sound visual and tactile experience for an animal  The theory of effective animal harassment encourages multiple unpredictable negative sensory experiences to provoke fear and reduce the onset of habituation  So the spray of water tactile and certainly unpleasant for cats and the sight and sound of the water along with the fact that the spray doesn't occur at regular pulsed intervals should help in the effectiveness of this device  And I like that it isn't connected to a hose and is solar poweredUnfortunately I am having difficulty in getting the sensors to work for smaller animals like cats I want it to be like those automated guns in the movie Aliens  I will keep trying</td>\n",
       "      <td>0.249734</td>\n",
       "      <td>0.116538</td>\n",
       "      <td>0.212687</td>\n",
       "      <td>0.513592</td>\n",
       "      <td>0.167886</td>\n",
       "      <td>-0.695427</td>\n",
       "    </tr>\n",
       "    <tr>\n",
       "      <th>7</th>\n",
       "      <td>I've had this bird feeder for about two years and like it so much that I got another  The feeder gets a lot of clinging bird action much more than other wired feeders in our yard  The birds seem to prefer the flythrough openings and they have no problems pulling out sunflower seed through the wires  Squirrels extract seeds too but with difficulty  They can wriggle through two circular holes at once with a tail poking out one end and a head sticking out the other  While that's comical to watch it's not fun seeing determined squirrels try to bend and break the wire mesh  The feeder is now offlimits to themI like the easyfill cap allmetal construction and the fact birds can land anywhere to get a seed  It does create somewhat of a mess on the ground but that goes with the territory of bird feeding  I never tire watching birds at this feeder especially during wintertime when activity is highUPDATE  While the second feeder I just received resembles the first feeder in looks it is apparent PerkyPet has cut some corners  The wire construction particularly where connecting with the metal framework is shoddy workmanship  I can easily push the interior wires in leaving an open gap  They used to be solidly connected soldered to the metal square and circle framework  Just imagine what a pesky squirrel could do with those wires now  The wire itself is no longer coated either so I wonder how long it will take before rusting begins  The easy fill cap design has also changed for the worse  My original feeder's roof clamped down on the body so no thieving varmints could pry it off  This new one has one of those awful buttons that supposedly locks the roof in place but every feeder I've used that has one operates poorlyI'm disappointed PerkyPet took a good product and turned it into junk  Even though my first feeder is a little beat up I have the feeling it will outlast the second one I just received  Five stars for an entertaining feeder that birds actively like and use but two stars for inferior quality</td>\n",
       "      <td>0.169854</td>\n",
       "      <td>0.122575</td>\n",
       "      <td>0.734224</td>\n",
       "      <td>0.064832</td>\n",
       "      <td>0.065693</td>\n",
       "      <td>0.000000</td>\n",
       "    </tr>\n",
       "    <tr>\n",
       "      <th>8</th>\n",
       "      <td>Put this around our fenced in back yard  Still had a snake crawl over it into the yard  It's just 'okay'</td>\n",
       "      <td>0.196076</td>\n",
       "      <td>0.071238</td>\n",
       "      <td>0.144916</td>\n",
       "      <td>0.483341</td>\n",
       "      <td>0.426467</td>\n",
       "      <td>0.000000</td>\n",
       "    </tr>\n",
       "    <tr>\n",
       "      <th>9</th>\n",
       "      <td>I see some reviews state that this is just a smaller version of the larger kettle grills8230 and that8217s not quite true This one is not portable unless you grab the whole grill8230 there8217s no way to pick up the whole unit by the handle The kettles have a handle and wheels so you can roll it around8230once lit this unit isn8217t going anywhere Also there8217s no place to put the lid once it8217s removed8230 the kettles have a hook so you can hang the lid right on the kettle but all you can do with this one is lay it on a table or the ground Other than that8230 it8217s a perfect grill for the two of us it8217s easy to assemble it8217s built rugged and it8217s easily worth 5stars I would have given it 4stars had I not known beforehand that it cannot be moved with the handle8230 when it8217s cold you can just throw a bungee cord on and you8217re good to go</td>\n",
       "      <td>0.084190</td>\n",
       "      <td>0.627524</td>\n",
       "      <td>0.081644</td>\n",
       "      <td>0.064546</td>\n",
       "      <td>0.217431</td>\n",
       "      <td>0.864488</td>\n",
       "    </tr>\n",
       "  </tbody>\n",
       "</table>\n",
       "</div>"
      ],
      "text/plain": [
       "                                                                                                                                                                                                                                                                                                                                                                                                                                                                                                                                                                                                                                                                                                                                                                                                                                                                                                                                                                                                                                                                                                                                                                                                                                                                                                                                                                                                                                                                                                                                                                                                                                                                                                                                                                                                                                                                                                                                                                                                                                                                                                     text  \\\n",
       "0  Great trimmming sissors for a great priceGets right in were i needto go to trim with out getting my hands dirty and snips off cleanlyLovem                                                                                                                                                                                                                                                                                                                                                                                                                                                                                                                                                                                                                                                                                                                                                                                                                                                                                                                                                                                                                                                                                                                                                                                                                                                                                                                                                                                                                                                                                                                                                                                                                                                                                                                                                                                                                                                                                                                                                               \n",
       "1  I have this attached to my rails on my back porch  I just planted a bunch of geraniumsred and whiteand put the pot into the holder when I was done  Very sturdythat was one thing that I was afraid of was that it was going to fall over But the brackets are very firmdont think I will have a problem with them this summerNice product It looks better when you get it When I saw it on Amazon it looked very cheap but not when you get itMight buy a couple more to match the one I just got                                                                                                                                                                                                                                                                                                                                                                                                                                                                                                                                                                                                                                                                                                                                                                                                                                                                                                                                                                                                                                                                                                                                                                                                                                                                                                                                                                                                                                                                                                                                                                                                       \n",
       "2  I've been using this brand of fly trap for about 5  years now and it's never disappointed me It will catch all the nasty types of flies you normally find during the summer time This is perfect for pet owners like myself in case the dog dumps its love bundles and I don't see it which can atrack fliesA couple of things you should know about this productFirst it will probably not catch any flies the first day and let me explain why the material in the trap and water that you add need to mix for about a day at which type a very strong smell will start to come out of the trap which means it is now working After the first day and during the hot ones trust me it will be gross yet amazing thing what this trap can doSecond you have to constantly add water to the level indicated on the bag specially during the hot days and if the trap is under direct sun light This is easy to do with a paper cup or any other small cupThird when hanging it place it away from your doors and windows or be ready for some nasty smells The trap has a mixture of eggsdried and other products to create a strong odor that flies can't resistIn conclusion this product DOES NOT USE chemicals at all it is all natural and catches a great number of fly species it won't let you down It works                                                                                                                                                                                                                                                                                                                                                                                                                                                                                                                                                                                                                                                                                                                                                                                     \n",
       "3  Never splitting wood before I went into this venture a bit nervous  But I did end up splitting a 14 cord of wood from big logs rather easily  I heard the trick was speed However I found just the normal almost over the head with 34no extra push34 but having good control worked every time  The bade did exhibit tiny chips but I kept it sharpened as several recommended  The price is great and it feels virtually impossible to break Although I read some had broken the handle I did over swing once but it did not seem to mark the handle It did make me concentrate that much harder I did find stepping back a half of step kept me from compensating as I bent coming forward I am sure each person swing is a bit different                                                                                                                                                                                                                                                                                                                                                                                                                                                                                                                                                                                                                                                                                                                                                                                                                                                                                                                                                                                                                                                                                                                                                                                                                                                                                                                                                             \n",
       "4  I have tried two of these hoses at this pointfirst of all I would like to say that they do indeed work as advertised  When no water is running to them they can be made very compact and stored almost in a cargo shorts pocket spacewhen you turn the water on you get a nice thin lightweight 50ft hose  All great  Rumford even includes a carrying pouch so you can store the hose when not in useI started using these as someone normally wouldfor light duty yard work cleaning the deck etcnothing major  The hose was always around a wooden deck or a soil filled flower bednever near brick or concrete  The first hose ripped after about 3 weeks and the Rumford after about 4 weeks  DisappointingIt should be duly noted that I live in a home that has WELL water with very little pressure  Yes it was enough to expand this hosebut not enough to make it rip apartPersonally I feel that this is a great product that may need a bit more work before I would recommend it  I give it 2 stars because it does work and because Rumford is the only company that includes a carrying pouch25                                                                                                                                                                                                                                                                                                                                                                                                                                                                                                                                                                                                                                                                                                                                                                                                                                                                                                                                                                                           \n",
       "5  After splitting hundreds of cords of firewood this is the best splitting maul that I've used  The hollow handle cuts down on the weight and the efficient design of the wedge make splitting wood much easier  I was able to split 3foot cedar rounds relatively easily after failing to be able to with my old splitting maul  I use the 36 inch handle but sometimes choke up a bit to get more force  This is an excellent design that allows you to split wood more quickly with less effort                                                                                                                                                                                                                                                                                                                                                                                                                                                                                                                                                                                                                                                                                                                                                                                                                                                                                                                                                                                                                                                                                                                                                                                                                                                                                                                                                                                                                                                                                                                                                                                                         \n",
       "6  I wanted to use this Havahart Spray Away Elite II Motion Detector Sprinkler Animal Repeller for one reason to keep freeroaming cats away from my bird feeders and squirrels while at the same time not frightening off my birds and squirrelsFrom a behavior perspective the device has a lot going for it  It provides a sudden negative sound visual and tactile experience for an animal  The theory of effective animal harassment encourages multiple unpredictable negative sensory experiences to provoke fear and reduce the onset of habituation  So the spray of water tactile and certainly unpleasant for cats and the sight and sound of the water along with the fact that the spray doesn't occur at regular pulsed intervals should help in the effectiveness of this device  And I like that it isn't connected to a hose and is solar poweredUnfortunately I am having difficulty in getting the sensors to work for smaller animals like cats I want it to be like those automated guns in the movie Aliens  I will keep trying                                                                                                                                                                                                                                                                                                                                                                                                                                                                                                                                                                                                                                                                                                                                                                                                                                                                                                                                                                                                                                                       \n",
       "7  I've had this bird feeder for about two years and like it so much that I got another  The feeder gets a lot of clinging bird action much more than other wired feeders in our yard  The birds seem to prefer the flythrough openings and they have no problems pulling out sunflower seed through the wires  Squirrels extract seeds too but with difficulty  They can wriggle through two circular holes at once with a tail poking out one end and a head sticking out the other  While that's comical to watch it's not fun seeing determined squirrels try to bend and break the wire mesh  The feeder is now offlimits to themI like the easyfill cap allmetal construction and the fact birds can land anywhere to get a seed  It does create somewhat of a mess on the ground but that goes with the territory of bird feeding  I never tire watching birds at this feeder especially during wintertime when activity is highUPDATE  While the second feeder I just received resembles the first feeder in looks it is apparent PerkyPet has cut some corners  The wire construction particularly where connecting with the metal framework is shoddy workmanship  I can easily push the interior wires in leaving an open gap  They used to be solidly connected soldered to the metal square and circle framework  Just imagine what a pesky squirrel could do with those wires now  The wire itself is no longer coated either so I wonder how long it will take before rusting begins  The easy fill cap design has also changed for the worse  My original feeder's roof clamped down on the body so no thieving varmints could pry it off  This new one has one of those awful buttons that supposedly locks the roof in place but every feeder I've used that has one operates poorlyI'm disappointed PerkyPet took a good product and turned it into junk  Even though my first feeder is a little beat up I have the feeling it will outlast the second one I just received  Five stars for an entertaining feeder that birds actively like and use but two stars for inferior quality   \n",
       "8  Put this around our fenced in back yard  Still had a snake crawl over it into the yard  It's just 'okay'                                                                                                                                                                                                                                                                                                                                                                                                                                                                                                                                                                                                                                                                                                                                                                                                                                                                                                                                                                                                                                                                                                                                                                                                                                                                                                                                                                                                                                                                                                                                                                                                                                                                                                                                                                                                                                                                                                                                                                                                 \n",
       "9  I see some reviews state that this is just a smaller version of the larger kettle grills8230 and that8217s not quite true This one is not portable unless you grab the whole grill8230 there8217s no way to pick up the whole unit by the handle The kettles have a handle and wheels so you can roll it around8230once lit this unit isn8217t going anywhere Also there8217s no place to put the lid once it8217s removed8230 the kettles have a hook so you can hang the lid right on the kettle but all you can do with this one is lay it on a table or the ground Other than that8230 it8217s a perfect grill for the two of us it8217s easy to assemble it8217s built rugged and it8217s easily worth 5stars I would have given it 4stars had I not known beforehand that it cannot be moved with the handle8230 when it8217s cold you can just throw a bungee cord on and you8217re good to go                                                                                                                                                                                                                                                                                                                                                                                                                                                                                                                                                                                                                                                                                                                                                                                                                                                                                                                                                                                                                                                                                                                                                                                                    \n",
       "\n",
       "      Anger       Joy   Sadness      Fear   Disgust  Sentiment  \n",
       "0  0.018103  0.698583  0.039579  0.072911  0.215349  0.539652   \n",
       "1  0.086083  0.107491  0.361607  0.572950  0.101869 -0.532535   \n",
       "2  0.037353  0.781848  0.035392  0.074048  0.125214  0.942827   \n",
       "3  0.118855  0.042156  0.667298  0.399193  0.018477 -0.814318   \n",
       "4  0.187293  0.273684  0.433226  0.228026  0.011968  0.000000   \n",
       "5  0.137045  0.439042  0.290218  0.154726  0.059720  0.733052   \n",
       "6  0.249734  0.116538  0.212687  0.513592  0.167886 -0.695427   \n",
       "7  0.169854  0.122575  0.734224  0.064832  0.065693  0.000000   \n",
       "8  0.196076  0.071238  0.144916  0.483341  0.426467  0.000000   \n",
       "9  0.084190  0.627524  0.081644  0.064546  0.217431  0.864488   "
      ]
     },
     "execution_count": 67,
     "metadata": {},
     "output_type": "execute_result"
    }
   ],
   "source": [
    "dataNLU.select(dataNLU['text'], dataNLU['Anger'], dataNLU['Joy'], dataNLU['Sadness'], dataNLU['Fear'], dataNLU['Disgust'], dataNLU['Sentiment']).toPandas().head(10)"
   ]
  },
  {
   "cell_type": "markdown",
   "metadata": {},
   "source": [
    "## 3. Retrain Model with NLU Features Added"
   ]
  },
  {
   "cell_type": "markdown",
   "metadata": {},
   "source": [
    "### Split the dataset into training and test data sets"
   ]
  },
  {
   "cell_type": "code",
   "execution_count": 68,
   "metadata": {},
   "outputs": [],
   "source": [
    "trainNLU, testNLU = dataNLU.randomSplit([70.0,30.0], seed=1)"
   ]
  },
  {
   "cell_type": "markdown",
   "metadata": {},
   "source": [
    "### Bucketize the NLU features"
   ]
  },
  {
   "cell_type": "code",
   "execution_count": 69,
   "metadata": {},
   "outputs": [],
   "source": [
    "from pyspark.ml.feature import Bucketizer\n",
    "AngerBucketSplits = [0.0, 0.1, 0.2, 0.3, 0.4, 0.5, 0.6, 0.7, 0.8, 0.9, 1.0]\n",
    "AngerBucket = Bucketizer(splits=AngerBucketSplits, inputCol=\"Anger\", outputCol=\"AngerBucket\")\n",
    "JoyBucketSplits = [0.0, 0.1, 0.2, 0.3, 0.4, 0.5, 0.6, 0.7, 0.8, 0.9, 1.0]\n",
    "JoyBucket = Bucketizer(splits=JoyBucketSplits, inputCol=\"Joy\", outputCol=\"JoyBucket\")\n",
    "SadnessBucketSplits = [0.0, 0.1, 0.2, 0.3, 0.4, 0.5, 0.6, 0.7, 0.8, 0.9, 1.0]\n",
    "SadnessBucket = Bucketizer(splits=SadnessBucketSplits, inputCol=\"Sadness\", outputCol=\"SadnessBucket\")\n",
    "FearBucketSplits = [0.0, 0.1, 0.2, 0.3, 0.4, 0.5, 0.6, 0.7, 0.8, 0.9, 1.0]\n",
    "FearBucket = Bucketizer(splits=FearBucketSplits, inputCol=\"Fear\", outputCol=\"FearBucket\")\n",
    "DisgustBucketSplits = [0.0, 0.1, 0.2, 0.3, 0.4, 0.5, 0.6, 0.7, 0.8, 0.9, 1.0]\n",
    "DisgustBucket = Bucketizer(splits=DisgustBucketSplits, inputCol=\"Disgust\", outputCol=\"DisgustBucket\")\n",
    "SentimentBucketSplits = [-1.0, -0.9, -0.8, -0.7, -0.6, -0.5, -0.4, -0.3, -0.2, -0.1, 0.0, 0.1, 0.2, 0.3, 0.4, 0.5, 0.6, 0.7, 0.8, 0.9, 1.0]\n",
    "SentimentBucket = Bucketizer(splits=SentimentBucketSplits, inputCol=\"Sentiment\", outputCol=\"SentimentBucket\")"
   ]
  },
  {
   "cell_type": "markdown",
   "metadata": {},
   "source": [
    "### Create a feature vector"
   ]
  },
  {
   "cell_type": "code",
   "execution_count": 70,
   "metadata": {},
   "outputs": [],
   "source": [
    "from pyspark.ml.feature import VectorAssembler\n",
    "assembler = (VectorAssembler(inputCols=[\"features\", \"AngerBucket\", \"JoyBucket\", \"SadnessBucket\", \"FearBucket\", \"DisgustBucket\",\"SentimentBucket\"], \n",
    "             outputCol=\"featuresNLU\"))"
   ]
  },
  {
   "cell_type": "markdown",
   "metadata": {},
   "source": [
    "### Create a revised machine learning pipeline utilizing the new bucketed NLU feaures"
   ]
  },
  {
   "cell_type": "code",
   "execution_count": 71,
   "metadata": {},
   "outputs": [],
   "source": [
    "lrNLU = LogisticRegression(labelCol = \"label\", featuresCol= \"featuresNLU\", maxIter=10, regParam=0.3, threshold=0.5)\n",
    "stagesNLU = ([removePunctuationTrans, tokenizer, remover, hashingTF, idf, AngerBucket, JoyBucket, SadnessBucket, FearBucket, DisgustBucket, SentimentBucket,\n",
    "            assembler, lrNLU])\n",
    "pipelineNLU = Pipeline(stages = stagesNLU)"
   ]
  },
  {
   "cell_type": "markdown",
   "metadata": {},
   "source": [
    "### Train the new model using the training data set"
   ]
  },
  {
   "cell_type": "code",
   "execution_count": 72,
   "metadata": {},
   "outputs": [],
   "source": [
    "modelNLU = pipelineNLU.fit(trainNLU)"
   ]
  },
  {
   "cell_type": "markdown",
   "metadata": {},
   "source": [
    "## 4. Evaluate the Model Learned with NLU Features\n",
    "### Make updated predictions using the test data set"
   ]
  },
  {
   "cell_type": "code",
   "execution_count": 73,
   "metadata": {},
   "outputs": [],
   "source": [
    "predictionsNLU = modelNLU.transform(testNLU)"
   ]
  },
  {
   "cell_type": "code",
   "execution_count": 74,
   "metadata": {},
   "outputs": [
    {
     "name": "stdout",
     "output_type": "stream",
     "text": [
      "The number of rows with prediction of 0.0 is 27.\n",
      "The number of rows with prediction of 1.0 is 28.\n"
     ]
    }
   ],
   "source": [
    "print('The number of rows with prediction of 0.0 is {}.'.format(predictionsNLU.filter(predictionsNLU['prediction'] == 0.0).count()))\n",
    "print('The number of rows with prediction of 1.0 is {}.'.format(predictionsNLU.filter(predictionsNLU['prediction'] == 1.0).count()))"
   ]
  },
  {
   "cell_type": "code",
   "execution_count": 75,
   "metadata": {},
   "outputs": [
    {
     "data": {
      "text/html": [
       "<div>\n",
       "<table border=\"1\" class=\"dataframe\">\n",
       "  <thead>\n",
       "    <tr style=\"text-align: right;\">\n",
       "      <th></th>\n",
       "      <th>label</th>\n",
       "      <th>prediction</th>\n",
       "      <th>probability</th>\n",
       "    </tr>\n",
       "  </thead>\n",
       "  <tbody>\n",
       "    <tr>\n",
       "      <th>0</th>\n",
       "      <td>0</td>\n",
       "      <td>0</td>\n",
       "      <td>[0.946949762212, 0.0530502377878]</td>\n",
       "    </tr>\n",
       "    <tr>\n",
       "      <th>1</th>\n",
       "      <td>1</td>\n",
       "      <td>1</td>\n",
       "      <td>[0.2149567858, 0.7850432142]</td>\n",
       "    </tr>\n",
       "    <tr>\n",
       "      <th>2</th>\n",
       "      <td>0</td>\n",
       "      <td>0</td>\n",
       "      <td>[0.522408378138, 0.477591621862]</td>\n",
       "    </tr>\n",
       "    <tr>\n",
       "      <th>3</th>\n",
       "      <td>1</td>\n",
       "      <td>1</td>\n",
       "      <td>[0.171359319329, 0.828640680671]</td>\n",
       "    </tr>\n",
       "    <tr>\n",
       "      <th>4</th>\n",
       "      <td>0</td>\n",
       "      <td>1</td>\n",
       "      <td>[0.181779736665, 0.818220263335]</td>\n",
       "    </tr>\n",
       "  </tbody>\n",
       "</table>\n",
       "</div>"
      ],
      "text/plain": [
       "   label  prediction                        probability\n",
       "0  0      0           [0.946949762212, 0.0530502377878]\n",
       "1  1      1           [0.2149567858, 0.7850432142]     \n",
       "2  0      0           [0.522408378138, 0.477591621862] \n",
       "3  1      1           [0.171359319329, 0.828640680671] \n",
       "4  0      1           [0.181779736665, 0.818220263335] "
      ]
     },
     "execution_count": 75,
     "metadata": {},
     "output_type": "execute_result"
    }
   ],
   "source": [
    "predictionsNLU.select(\"label\", \"prediction\", \"probability\").toPandas().head()"
   ]
  },
  {
   "cell_type": "markdown",
   "metadata": {},
   "source": [
    "### Evaluate the updated model performance by calculating the accuracy"
   ]
  },
  {
   "cell_type": "code",
   "execution_count": 76,
   "metadata": {},
   "outputs": [
    {
     "name": "stdout",
     "output_type": "stream",
     "text": [
      "Accuracy with NLU = 72.73%.\n",
      "Area under the ROC curve with NLU = 0.71.\n"
     ]
    }
   ],
   "source": [
    "evaluatorNLU = MulticlassClassificationEvaluator(labelCol = \"label\", predictionCol=\"prediction\").setMetricName(\"accuracy\")\n",
    "print('Accuracy with NLU = {:0.2f}%.'.format(evaluatorNLU.evaluate(predictionsNLU)*100))\n",
    "\n",
    "evaluatorNLU = BinaryClassificationEvaluator().setLabelCol(\"label\").setMetricName(\"areaUnderROC\")\n",
    "print('Area under the ROC curve with NLU = {:0.2f}.'.format(evaluatorNLU.evaluate(predictionsNLU)))"
   ]
  },
  {
   "cell_type": "markdown",
   "metadata": {
    "collapsed": true
   },
   "source": [
    "![IBM Logo](http://www-03.ibm.com/press/img/Large_IBM_Logo_TN.jpg)\n",
    "\n",
    "Rich Tarro  \n",
    "Solutions Architect, IBM Corporation  \n",
    "rtarro@us.ibm.com\n",
    "\n",
    "January 16, 2018"
   ]
  },
  {
   "cell_type": "code",
   "execution_count": null,
   "metadata": {},
   "outputs": [],
   "source": []
  }
 ],
 "metadata": {
  "kernelspec": {
   "display_name": "Python 2 with Spark 2.1",
   "language": "python",
   "name": "python2-spark21"
  },
  "language_info": {
   "codemirror_mode": {
    "name": "ipython",
    "version": 2
   },
   "file_extension": ".py",
   "mimetype": "text/x-python",
   "name": "python",
   "nbconvert_exporter": "python",
   "pygments_lexer": "ipython2",
   "version": "2.7.11"
  }
 },
 "nbformat": 4,
 "nbformat_minor": 1
}
