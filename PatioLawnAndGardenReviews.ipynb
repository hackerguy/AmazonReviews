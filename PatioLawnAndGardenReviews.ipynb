{
 "cells": [
  {
   "cell_type": "markdown",
   "metadata": {},
   "source": [
    "<img src=\"data:image/png;base64,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\" style=\"width:200px; float: left; padding-right: 10px\"/>\n",
    "<h2 style=\"font-face: verdana; font-size: 32px;\">Amazon Reviews</h2>\n",
    "<h3 style=\"font-face: verdana; font-size: 16px;\">Derive rich features for Machine Learning with the Watson Cognitive APIs</h3>\n",
    "<br><br>\n",
    "\n",
    "<h3 style=\"font-face: verdana; font-size: 16px;\">The objective of this machine learning model is to predict the rating a user would give a product based on his or her customer review.</h3>\n",
    "\n",
    "The dataset contains ID of the reviewer, the product ID, the reviewer's name, a helpfulness rating of the review by other users, the review text, an overall rating of the product, a summary of the review and the time of the review. In this machine learning model, we will only be using the review text and the user's overall rating of the product.\n",
    "<br><br>\n",
    "\n",
    "Data fields in the dataset:\n",
    "\n",
    "\n",
    "    reviewerID - ID of the reviewer, e.g. A2SUAM1J3GNN3B\n",
    "    asin - ID of the product, e.g. 0000013714\n",
    "    reviewerName - name of the reviewer\n",
    "    helpful - helpfulness rating of the review, e.g. 2/3\n",
    "    reviewText - text of the review\n",
    "    overall - rating of the product\n",
    "    summary - summary of the review\n",
    "    unixReviewTime - time of the review (unix time)\n",
    "    reviewTime - time of the review (raw)\n",
    "\n",
    "<br><br>\n",
    "<img src=\"https://github.com/hackerguy/Amazon/blob/master/SampleReview.jpg?raw=true/\">\n",
    "<br><br>\n",
    "\n",
    "<h3 style=\"font-face: verdana; font-size: 16px;\">Approach</h3>\n",
    "\n",
    "We will approach this challenge by first using a traditional multiclassification machine learning approach. We will then explore using IBM Watson Natural Language Understanding to derive additional enhanced features on which to learn a machine learning model.\n",
    "\n",
    "<h3 style=\"font-face: verdana; font-size: 16px;\">IBM Watson Natural Language Understanding</h3>\n",
    "\n",
    "IBM Watson™ Natural Language Understanding (NLU) can analyze semantic features of text input, including categories, concepts, emotion, entities, keywords, metadata, relations, semantic roles, and sentiment. In this example, we will utilize the emotion and sentiment features of NLU to create enhanced machine learning features.\n",
    "\n",
    "\n",
    "<h4 style=\"font-face: verdana; font-size: 16px;\">Emotion</h4>\n",
    "\n",
    "The emotion feature of NLU allows you to analyze emotion conveyed by specific target phrases or by the document as a whole. You can also enable emotion analysis for entities and keywords that are automatically detected by the service. In this example, we will simply analyze the spooky excerpt as a whole. The emotions we will derive features for are \n",
    "\n",
    "- Anger\n",
    "- Joy\n",
    "- Sadness\n",
    "- Fear\n",
    "- Disgust\n",
    "\n",
    "Emotion scores range from 0 to 1 for sadness, joy, fear, disgust, and anger. A 0 means the text doesn't convey the emotion, and a 1 means the text definitely carries the emotion.\n",
    "\n",
    "<h4 style=\"font-face: verdana; font-size: 16px;\">Sentiment</h4>\n",
    "\n",
    "The sentiment feature of NLU allows you to analyze the sentiment toward specific target phrases and the sentiment of the document as a whole. You can also get sentiment information for detected entities and keywords by enabling the sentiment option for those features. In this example, we will simply analyze the spooky excerpt as a whole.\n",
    "\n",
    "The sentiment score ranges from -1 (negative sentiment) to 1 (positive sentiment).\n",
    "\n"
   ]
  },
  {
   "cell_type": "markdown",
   "metadata": {},
   "source": [
    "# Notebook Flow\n",
    "\n",
    "\n",
    "**Part 1: [Traditional Machine Learning](#Part-1:-Traditional-Machine-Learning)**\n",
    "  1. [Read in the Data](#1.-Read-in-the-Data)<br>\n",
    "  2. [Clean the Data](#2.-Clean-the-Data)<br>\n",
    "  3. [Feature Engineering](#3.-Feature-Engineering)<br>\n",
    "  4. [Build ML Pipeline and Learn a Model](#4.-Build-ML-Pipeline-and-Learn-a-Model)<br>\n",
    "  5. [Evaluate the Model](#5.-Evaluate-the-Model)\n",
    "    \n",
    "**Part 2: [Machine Learning using Watson Cognitive APIs](#Part-2:-Machine-Learning-using-Watson-Cognitive-APIs)**\n",
    "  1. [Set up for Use of the Natural Language Understanding Service](#1.-Set-up-for-Use-of-the-Natural-Language-Understanding-Service)<br>\n",
    "  2. [Create Enhanced Features using the NLU Service](#2.-Create-Enhanced-Features-using-the-NLU-Service)<br>\n",
    "  3. [Retrain Model with NLU Features Added](#3.-Retrain-Model-with-NLU-Features-Added)\n",
    "  4. [Evaluate the Model Learned with NLU Features](#4.-Evaluate-the-Model-Learned-with-NLU-Features)\n"
   ]
  },
  {
   "cell_type": "markdown",
   "metadata": {},
   "source": [
    "# Part 1: Traditional Machine Learning\n",
    "\n",
    "This section will employ a traditional multiclassification machine learning approach to learning a model."
   ]
  },
  {
   "cell_type": "markdown",
   "metadata": {},
   "source": [
    "## 1. Read in the Data"
   ]
  },
  {
   "cell_type": "markdown",
   "metadata": {},
   "source": [
    "### Download and unzip the dataset"
   ]
  },
  {
   "cell_type": "code",
   "execution_count": 1,
   "metadata": {},
   "outputs": [],
   "source": [
    "import os\n",
    "if os.path.isfile('reviews_Patio_Lawn_and_Garden_5.gz'):\n",
    "    os.remove(\"reviews_Patio_Lawn_and_Garden_5.gz\")\n",
    "if os.path.isfile('reviews_Patio_Lawn_and_Garden_5.json'):\n",
    "    os.remove(\"reviews_Patio_Lawn_and_Garden_5.json\")\n",
    "import wget\n",
    "url = 'https://github.com/hackerguy/Amazon/blob/master/reviews_Patio_Lawn_and_Garden_5.gz?raw=true?raw=true -O reviews_Patio_Lawn_and_Garden_5.json'\n",
    "wget.download(url)\n",
    "\n",
    "import gzip\n",
    "with gzip.open('reviews_Patio_Lawn_and_Garden_5.gz', 'rb') as f:\n",
    "    file_content = f.read() \n",
    "\n",
    "file = open('reviews_Patio_Lawn_and_Garden_5.json','w') \n",
    "file.write(file_content) \n",
    "file.close() "
   ]
  },
  {
   "cell_type": "markdown",
   "metadata": {},
   "source": [
    "### Read in the data set as a Spark DataFrame\n",
    "#### Infer schema and column names"
   ]
  },
  {
   "cell_type": "code",
   "execution_count": 2,
   "metadata": {},
   "outputs": [],
   "source": [
    "from pyspark.sql import SparkSession\n",
    "spark = SparkSession.builder.getOrCreate()\n",
    "\n",
    "data = (spark.read\n",
    "  .format('json')\n",
    "  .option(\"inferSchema\", \"true\")\n",
    "  .load('reviews_Patio_Lawn_and_Garden_5.json'))"
   ]
  },
  {
   "cell_type": "markdown",
   "metadata": {},
   "source": [
    "### Display the dataframe"
   ]
  },
  {
   "cell_type": "code",
   "execution_count": 3,
   "metadata": {
    "scrolled": true
   },
   "outputs": [
    {
     "data": {
      "text/html": [
       "<div>\n",
       "<table border=\"1\" class=\"dataframe\">\n",
       "  <thead>\n",
       "    <tr style=\"text-align: right;\">\n",
       "      <th></th>\n",
       "      <th>asin</th>\n",
       "      <th>helpful</th>\n",
       "      <th>overall</th>\n",
       "      <th>reviewText</th>\n",
       "      <th>reviewTime</th>\n",
       "      <th>reviewerID</th>\n",
       "      <th>reviewerName</th>\n",
       "      <th>summary</th>\n",
       "      <th>unixReviewTime</th>\n",
       "    </tr>\n",
       "  </thead>\n",
       "  <tbody>\n",
       "    <tr>\n",
       "      <th>0</th>\n",
       "      <td>B00002N674</td>\n",
       "      <td>[4, 4]</td>\n",
       "      <td>4</td>\n",
       "      <td>Good USA company that stands behind their products. I have had to warranty two hoses and they send replacements right out to you. I had one burst after awhile, you could see it buldge for weeks before it went so no suprises. The other one was winter related as I am bad and leave them out most of the time. Highly reccomend. Note the hundred footer is heavy and like wresting an anaconda when its time to put away, but it does have a far reach.</td>\n",
       "      <td>06 21, 2011</td>\n",
       "      <td>A1JZFGZEZVWQPY</td>\n",
       "      <td>Carter H \"1amazonreviewer@gmail . com\"</td>\n",
       "      <td>Great Hoses</td>\n",
       "      <td>1308614400</td>\n",
       "    </tr>\n",
       "    <tr>\n",
       "      <th>1</th>\n",
       "      <td>B00002N674</td>\n",
       "      <td>[0, 0]</td>\n",
       "      <td>5</td>\n",
       "      <td>This is a high quality 8 ply hose. I have had good luck with Gilmour hoses in the past. A good choice in hoses.</td>\n",
       "      <td>06 9, 2014</td>\n",
       "      <td>A32JCI4AK2JTTG</td>\n",
       "      <td>Darryl Bennett \"Fuzzy342\"</td>\n",
       "      <td>Gilmour 10-58050 8-ply Flexogen Hose 5/8-Inch by 50-Foot, Green</td>\n",
       "      <td>1402272000</td>\n",
       "    </tr>\n",
       "    <tr>\n",
       "      <th>2</th>\n",
       "      <td>B00002N674</td>\n",
       "      <td>[2, 3]</td>\n",
       "      <td>4</td>\n",
       "      <td>It's probably one of the best hoses I've ever had.Pro's:- It's good enough for most front yards, or small back yards.- It has enough flow (and with the right head) to water plants 25ft away from the nozzle, and water your garden.- It's light weight, and flexible (it does not pose as much of a problem unrolling this hose with kinks as with other hoses I've owned)- The hose is flexible, yet strong. I haven't cut the outside yet.- This hose has been in full sunlight for more than 3 months, and the rubber hasn't cracked yet! I believe it's good quality rubber.cons:- Like with every hose, keeping it outside in the sunshine, the water warms up and starts smelling.My dog don't want to drink from the water coming from this hose.- The hose is only in one color (I wished it was a little less visible in the gardenOtherwise this hose is an excellent garden tool!I bought 2 of them, one 25ft for my front garden, and 50ft for my rear garden.3-4months and still in excellent condition!</td>\n",
       "      <td>05 5, 2012</td>\n",
       "      <td>A3N0P5AAMP6XD2</td>\n",
       "      <td>H B</td>\n",
       "      <td>Very satisfied!</td>\n",
       "      <td>1336176000</td>\n",
       "    </tr>\n",
       "    <tr>\n",
       "      <th>3</th>\n",
       "      <td>B00002N674</td>\n",
       "      <td>[0, 0]</td>\n",
       "      <td>5</td>\n",
       "      <td>I probably should have bought something a bit more flexible and less rugged since I constantly coil/uncoil it for washing cars, but that's my fault not a product fault.</td>\n",
       "      <td>07 15, 2013</td>\n",
       "      <td>A2QK7UNJ857YG</td>\n",
       "      <td>Jason</td>\n",
       "      <td>Very high quality</td>\n",
       "      <td>1373846400</td>\n",
       "    </tr>\n",
       "    <tr>\n",
       "      <th>4</th>\n",
       "      <td>B00002N674</td>\n",
       "      <td>[1, 1]</td>\n",
       "      <td>5</td>\n",
       "      <td>I bought three of these 5/8-inch Flexogen hoses--50, 75, and 100 feet--for different areas of yard around the house.  After a season of use they've proven to be good hoses.  Of course, it's very favorable that they don't leak.  But what particularly impresses me about them is their notably light weight and flexibility, which make them a lot easier to handle than my previous hoses.  The flexibility diminishes in cold weather, but a garden hose is less useful then anyway.They're not especially prone to kinking, but they're not kink-proof, either, nor do they claim to be.  They kink a lot less than one of my old hoses and more than a couple of others, but the latter were fairly stiff, so there was a trade-off.Bottom line:  this was a good purchase.</td>\n",
       "      <td>08 5, 2013</td>\n",
       "      <td>AS0CYBAN6EM06</td>\n",
       "      <td>jimmy</td>\n",
       "      <td>Good Hoses</td>\n",
       "      <td>1375660800</td>\n",
       "    </tr>\n",
       "  </tbody>\n",
       "</table>\n",
       "</div>"
      ],
      "text/plain": [
       "         asin helpful  overall  \\\n",
       "0  B00002N674  [4, 4]  4         \n",
       "1  B00002N674  [0, 0]  5         \n",
       "2  B00002N674  [2, 3]  4         \n",
       "3  B00002N674  [0, 0]  5         \n",
       "4  B00002N674  [1, 1]  5         \n",
       "\n",
       "                                                                                                                                                                                                                                                                                                                                                                                                                                                                                                                                                                                                                                                                                                                                                                                                                                                                                                                                                                                                                reviewText  \\\n",
       "0  Good USA company that stands behind their products. I have had to warranty two hoses and they send replacements right out to you. I had one burst after awhile, you could see it buldge for weeks before it went so no suprises. The other one was winter related as I am bad and leave them out most of the time. Highly reccomend. Note the hundred footer is heavy and like wresting an anaconda when its time to put away, but it does have a far reach.                                                                                                                                                                                                                                                                                                                                                                                                                                                                                                                                                              \n",
       "1  This is a high quality 8 ply hose. I have had good luck with Gilmour hoses in the past. A good choice in hoses.                                                                                                                                                                                                                                                                                                                                                                                                                                                                                                                                                                                                                                                                                                                                                                                                                                                                                                           \n",
       "2  It's probably one of the best hoses I've ever had.Pro's:- It's good enough for most front yards, or small back yards.- It has enough flow (and with the right head) to water plants 25ft away from the nozzle, and water your garden.- It's light weight, and flexible (it does not pose as much of a problem unrolling this hose with kinks as with other hoses I've owned)- The hose is flexible, yet strong. I haven't cut the outside yet.- This hose has been in full sunlight for more than 3 months, and the rubber hasn't cracked yet! I believe it's good quality rubber.cons:- Like with every hose, keeping it outside in the sunshine, the water warms up and starts smelling.My dog don't want to drink from the water coming from this hose.- The hose is only in one color (I wished it was a little less visible in the gardenOtherwise this hose is an excellent garden tool!I bought 2 of them, one 25ft for my front garden, and 50ft for my rear garden.3-4months and still in excellent condition!   \n",
       "3  I probably should have bought something a bit more flexible and less rugged since I constantly coil/uncoil it for washing cars, but that's my fault not a product fault.                                                                                                                                                                                                                                                                                                                                                                                                                                                                                                                                                                                                                                                                                                                                                                                                                                                  \n",
       "4  I bought three of these 5/8-inch Flexogen hoses--50, 75, and 100 feet--for different areas of yard around the house.  After a season of use they've proven to be good hoses.  Of course, it's very favorable that they don't leak.  But what particularly impresses me about them is their notably light weight and flexibility, which make them a lot easier to handle than my previous hoses.  The flexibility diminishes in cold weather, but a garden hose is less useful then anyway.They're not especially prone to kinking, but they're not kink-proof, either, nor do they claim to be.  They kink a lot less than one of my old hoses and more than a couple of others, but the latter were fairly stiff, so there was a trade-off.Bottom line:  this was a good purchase.                                                                                                                                                                                                                                       \n",
       "\n",
       "    reviewTime      reviewerID                            reviewerName  \\\n",
       "0  06 21, 2011  A1JZFGZEZVWQPY  Carter H \"1amazonreviewer@gmail . com\"   \n",
       "1  06 9, 2014   A32JCI4AK2JTTG  Darryl Bennett \"Fuzzy342\"                \n",
       "2  05 5, 2012   A3N0P5AAMP6XD2  H B                                      \n",
       "3  07 15, 2013  A2QK7UNJ857YG   Jason                                    \n",
       "4  08 5, 2013   AS0CYBAN6EM06   jimmy                                    \n",
       "\n",
       "                                                           summary  \\\n",
       "0  Great Hoses                                                       \n",
       "1  Gilmour 10-58050 8-ply Flexogen Hose 5/8-Inch by 50-Foot, Green   \n",
       "2  Very satisfied!                                                   \n",
       "3  Very high quality                                                 \n",
       "4  Good Hoses                                                        \n",
       "\n",
       "   unixReviewTime  \n",
       "0  1308614400      \n",
       "1  1402272000      \n",
       "2  1336176000      \n",
       "3  1373846400      \n",
       "4  1375660800      "
      ]
     },
     "execution_count": 3,
     "metadata": {},
     "output_type": "execute_result"
    }
   ],
   "source": [
    "import pandas as pd\n",
    "pd.set_option('display.max_colwidth', -1)\n",
    "data.toPandas().head()"
   ]
  },
  {
   "cell_type": "code",
   "execution_count": 4,
   "metadata": {},
   "outputs": [],
   "source": [
    "data = data.select('reviewText', 'overall')\n",
    "data = data.withColumnRenamed('reviewText', 'text')\n",
    "data = data.withColumnRenamed('overall', 'label')"
   ]
  },
  {
   "cell_type": "markdown",
   "metadata": {},
   "source": [
    "### Show the schema of the data including data types"
   ]
  },
  {
   "cell_type": "code",
   "execution_count": 5,
   "metadata": {},
   "outputs": [
    {
     "name": "stdout",
     "output_type": "stream",
     "text": [
      "root\n",
      " |-- text: string (nullable = true)\n",
      " |-- label: double (nullable = true)\n",
      "\n"
     ]
    }
   ],
   "source": [
    "data.printSchema()"
   ]
  },
  {
   "cell_type": "markdown",
   "metadata": {},
   "source": [
    "### Dataset Overview - number of rows and columns"
   ]
  },
  {
   "cell_type": "code",
   "execution_count": 6,
   "metadata": {},
   "outputs": [
    {
     "name": "stdout",
     "output_type": "stream",
     "text": [
      "There are 13272 rows in the dataset.\n",
      "There are 2 columns in the dataset.\n"
     ]
    }
   ],
   "source": [
    "print(\"There are {} rows in the dataset.\".format(str(data.count())))\n",
    "print(\"There are {} columns in the dataset.\".format(str(len(data.columns))))"
   ]
  },
  {
   "cell_type": "code",
   "execution_count": 7,
   "metadata": {},
   "outputs": [
    {
     "name": "stdout",
     "output_type": "stream",
     "text": [
      "There are 13272 rows in the dataset.\n",
      "There are 2 columns in the dataset.\n"
     ]
    }
   ],
   "source": [
    "data = data.na.drop()\n",
    "print(\"There are {} rows in the dataset.\".format(str(data.count())))\n",
    "print(\"There are {} columns in the dataset.\".format(str(len(data.columns))))"
   ]
  },
  {
   "cell_type": "markdown",
   "metadata": {},
   "source": [
    "### Balance the data and use a subset of the data for processing efficiency"
   ]
  },
  {
   "cell_type": "code",
   "execution_count": 53,
   "metadata": {},
   "outputs": [
    {
     "name": "stdout",
     "output_type": "stream",
     "text": [
      "The number of records in the original data set is 500.\n",
      "The number of rows labeled 1 in the original data set is 100.\n",
      "The number of rows labeled 2 in the original data set is 100.\n",
      "The number of rows labeled 3 in the original data set is 100.\n",
      "The number of rows labeled 4 in the original data set is 100.\n",
      "The number of rows labeled 5 in the original data set is 100.\n"
     ]
    }
   ],
   "source": [
    "print('The number of records in the original data set is {}.'.format(data.count()))\n",
    "print('The number of rows labeled 1 in the original data set is {}.'.format(data.filter(data['label'] == 1).count()))\n",
    "print('The number of rows labeled 2 in the original data set is {}.'.format(data.filter(data['label'] == 2).count()))\n",
    "print('The number of rows labeled 3 in the original data set is {}.'.format(data.filter(data['label'] == 3).count()))\n",
    "print('The number of rows labeled 4 in the original data set is {}.'.format(data.filter(data['label'] == 4).count()))\n",
    "print('The number of rows labeled 5 in the original data set is {}.'.format(data.filter(data['label'] == 5).count()))"
   ]
  },
  {
   "cell_type": "code",
   "execution_count": 55,
   "metadata": {},
   "outputs": [],
   "source": [
    "# Set a limit to the number of rows used across each overall score value, which is our label for the model\n",
    "limit = 100"
   ]
  },
  {
   "cell_type": "code",
   "execution_count": 10,
   "metadata": {},
   "outputs": [],
   "source": [
    "data1 = data.filter(data['label'] == 1).limit(limit)\n",
    "data2 = data.filter(data['label'] == 2).limit(limit)\n",
    "data3 = data.filter(data['label'] == 3).limit(limit)\n",
    "data4 = data.filter(data['label'] == 4).limit(limit)\n",
    "data5 = data.filter(data['label'] == 5).limit(limit)\n",
    "data = data1.union(data2).union(data3).union(data4).union(data5)"
   ]
  },
  {
   "cell_type": "code",
   "execution_count": 54,
   "metadata": {},
   "outputs": [
    {
     "name": "stdout",
     "output_type": "stream",
     "text": [
      "The number of records in the data set is now 500.\n",
      "The number of rows labeled 1 in the data set is now 100.\n",
      "The number of rows labeled 2 in the data set is now 100.\n",
      "The number of rows labeled 3 in the data set is now 100.\n",
      "The number of rows labeled 4 in the data set is now 100.\n",
      "The number of rows labeled 5 in the data set is now 100.\n"
     ]
    }
   ],
   "source": [
    "print('The number of records in the data set is now {}.'.format(data.count()))\n",
    "print('The number of rows labeled 1 in the data set is now {}.'.format(data.filter(data['label'] == 1).count()))\n",
    "print('The number of rows labeled 2 in the data set is now {}.'.format(data.filter(data['label'] == 2).count()))\n",
    "print('The number of rows labeled 3 in the data set is now {}.'.format(data.filter(data['label'] == 3).count()))\n",
    "print('The number of rows labeled 4 in the data set is now {}.'.format(data.filter(data['label'] == 4).count()))\n",
    "print('The number of rows labeled 5 in the data set is now {}.'.format(data.filter(data['label'] == 5).count()))"
   ]
  },
  {
   "cell_type": "markdown",
   "metadata": {},
   "source": [
    "## 2. Clean the Data"
   ]
  },
  {
   "cell_type": "markdown",
   "metadata": {},
   "source": [
    "### Drop rows with null values"
   ]
  },
  {
   "cell_type": "code",
   "execution_count": 12,
   "metadata": {},
   "outputs": [
    {
     "name": "stdout",
     "output_type": "stream",
     "text": [
      "There are 500 rows in the dataset.\n",
      "There are 2 columns in the dataset.\n"
     ]
    }
   ],
   "source": [
    "data = data.na.drop()\n",
    "print(\"There are {} rows in the dataset.\".format(str(data.count())))\n",
    "print(\"There are {} columns in the dataset.\".format(str(len(data.columns))))"
   ]
  },
  {
   "cell_type": "markdown",
   "metadata": {},
   "source": [
    "### Remove punctuation from the text"
   ]
  },
  {
   "cell_type": "code",
   "execution_count": 13,
   "metadata": {},
   "outputs": [
    {
     "data": {
      "text/html": [
       "<div>\n",
       "<table border=\"1\" class=\"dataframe\">\n",
       "  <thead>\n",
       "    <tr style=\"text-align: right;\">\n",
       "      <th></th>\n",
       "      <th>text</th>\n",
       "      <th>textNoPunctuation</th>\n",
       "    </tr>\n",
       "  </thead>\n",
       "  <tbody>\n",
       "    <tr>\n",
       "      <th>0</th>\n",
       "      <td>UPDATE:  Originally, I gave this hose 5 stars but after using them (I bought 3) for a while, I've changed my opinion. Yes, the hoses appear to be well made and are lighter weight than my old professional grade rubber hoses, but Flexogens are still heavy. These Flexogen hoses DO kink, and they kink easily. The only way to reduce the kinking is to completely unroll the entire 100 feet of hose from the reel, lay it flat on the grund, and then turn and turn and turn (twist/rotate) it until it lays completely flat -- make sure there are no \"waves\" or loops. I pulled about 50 feet off the hose reel and, holding the end, walked across my yard. I did not stop to twist out the waves and loops that it formed while unrolling. The hose formed 9 kinks! What a pain in the hand, elbow and shoulder to straighten it! This process wastes time.The second problem is after I screw on my hose wand and turn on the water, this hose becomes unwieldy. The hose turns so that my wand is upside down. It requires a LOT of effort to twist the hose and hold it so the wand sprays downward--requires using both hands. Fighting this hose is painful, very tiring and aggravating.When you rewind it onto a hose reel, the hose twists and turns, causing it to again form waves and loops, which become kinks. Again, you have to twist, rotate, etc. to get all the waves/loops out so the hose lays flat and straight on the ground. As you reel it in, you have to stop and repeat the process. My old commercial-grade hose never did anything like this. You can buy the professional/commercial grade hoses (100 ft) at big box stores and clubs for about $25. Don't buy the Flexogen.Due to age and arthritis in my hands, I needed to replace my heavy, rubber commercial-grade garden hoses with lighter weight, easier-to-maneuver hoses. I was barely able to wind the old rubber hoses on the hose reel or drag them around the yard. After reading reviews on Amazon and other places for garden hoses, I chose this hose. I'm glad I did. While it's still heavy, it weighs considerably less than my commercial-grade rubber hose. It's easier to wind on the reel and easier to drag around the yard.The Amazon description calls this a \"lightweight\" hose. It is NOT  light. It's substantial. I found a local store that  had this hose in 25-, 50- and 75-ft lengths. I was able to lift each and compare to heavy duty hoses of the same length. I couldn't feel much of a difference, so I definitely would call this a medium- to heavy-weight hose (but lighter than my rubber one).This hose is easier to handle than my old rubber ones because it's more flexible. (I suspect that my old hoses have stiffened over the years.)I've only used one (I bought 3 of these) for about 1.5 weeks. It's been too hot, too muggy and too rainy to use it much, but I'm pleased so far. I believe this hose is a very good quality and should last many years. The solid brass fittings are thick so they won't get dents that cause leaks. Because I haven't dragged it around the yard yet, I cannot say whether it really is a \"no-kink\" hose. I recommend this hose because o the quality.</td>\n",
       "      <td>UPDATE  Originally I gave this hose 5 stars but after using them I bought 3 for a while I've changed my opinion Yes the hoses appear to be well made and are lighter weight than my old professional grade rubber hoses but Flexogens are still heavy These Flexogen hoses DO kink and they kink easily The only way to reduce the kinking is to completely unroll the entire 100 feet of hose from the reel lay it flat on the grund and then turn and turn and turn twistrotate it until it lays completely flat  make sure there are no waves or loops I pulled about 50 feet off the hose reel and holding the end walked across my yard I did not stop to twist out the waves and loops that it formed while unrolling The hose formed 9 kinks What a pain in the hand elbow and shoulder to straighten it This process wastes timeThe second problem is after I screw on my hose wand and turn on the water this hose becomes unwieldy The hose turns so that my wand is upside down It requires a LOT of effort to twist the hose and hold it so the wand sprays downwardrequires using both hands Fighting this hose is painful very tiring and aggravatingWhen you rewind it onto a hose reel the hose twists and turns causing it to again form waves and loops which become kinks Again you have to twist rotate etc to get all the wavesloops out so the hose lays flat and straight on the ground As you reel it in you have to stop and repeat the process My old commercialgrade hose never did anything like this You can buy the professionalcommercial grade hoses 100 ft at big box stores and clubs for about 25 Don't buy the FlexogenDue to age and arthritis in my hands I needed to replace my heavy rubber commercialgrade garden hoses with lighter weight easiertomaneuver hoses I was barely able to wind the old rubber hoses on the hose reel or drag them around the yard After reading reviews on Amazon and other places for garden hoses I chose this hose I'm glad I did While it's still heavy it weighs considerably less than my commercialgrade rubber hose It's easier to wind on the reel and easier to drag around the yardThe Amazon description calls this a lightweight hose It is NOT  light It's substantial I found a local store that  had this hose in 25 50 and 75ft lengths I was able to lift each and compare to heavy duty hoses of the same length I couldn't feel much of a difference so I definitely would call this a medium to heavyweight hose but lighter than my rubber oneThis hose is easier to handle than my old rubber ones because it's more flexible I suspect that my old hoses have stiffened over the yearsI've only used one I bought 3 of these for about 15 weeks It's been too hot too muggy and too rainy to use it much but I'm pleased so far I believe this hose is a very good quality and should last many years The solid brass fittings are thick so they won't get dents that cause leaks Because I haven't dragged it around the yard yet I cannot say whether it really is a nokink hose I recommend this hose because o the quality</td>\n",
       "    </tr>\n",
       "    <tr>\n",
       "      <th>1</th>\n",
       "      <td>I purchased 6 of these hoses with what was supposed to be a lifetime guarantee. After a short time, the end on one of the hoses started leaking so I contacted the manufacturer and got a replacement. A year later another hose started leaking and I got another replacement. Then another hose started leaking but the company would no longer honor the warranty! Now Gilmour is selling them. But it's the same hose - \"Flexogen\". The hose itself it actually quite good if you don't mind replacing the hose ends eventually, I've had to replace every end on every Flexogen hose that I have.Keep in mind that I bought hoses from Flexogen but that company no longer exists and Gilmour would not honor the warranty on those hoses even though Gilmour is now selling them. Also note that Flexogen is a patented hose. Lifetime warranty isn't much good when the company gets bought or taken over by another company and the new company (Gilmour) won't honor the warranty. And who wants to have to keep sending in hose parts to get a replacement every year or two.Let me reiterate, Gilmour would not honor the warranty on my Flexogen hoses. I wrote to them multiple times and was told (without explanation) that Gilmour would not replace the defective hoses. If you buy these hoses expecting a lifetime warranty, you may not get it.On the Gilmour website, there is no longer any information relating to Flexogen hose warranty or on how to have a Flexogen hose replaced.  On Amazon, it does say \"This heavy-duty garden hose is made in the USA and backed by a lifetime guarantee\". It also says Lifetime Guarantee on the front of the hose package. Gilmour is now owned by the Robert Bosch Corp., so probably even less chance of getting a warranty replacement.</td>\n",
       "      <td>I purchased 6 of these hoses with what was supposed to be a lifetime guarantee After a short time the end on one of the hoses started leaking so I contacted the manufacturer and got a replacement A year later another hose started leaking and I got another replacement Then another hose started leaking but the company would no longer honor the warranty Now Gilmour is selling them But it's the same hose  Flexogen The hose itself it actually quite good if you don't mind replacing the hose ends eventually I've had to replace every end on every Flexogen hose that I haveKeep in mind that I bought hoses from Flexogen but that company no longer exists and Gilmour would not honor the warranty on those hoses even though Gilmour is now selling them Also note that Flexogen is a patented hose Lifetime warranty isn't much good when the company gets bought or taken over by another company and the new company Gilmour won't honor the warranty And who wants to have to keep sending in hose parts to get a replacement every year or twoLet me reiterate Gilmour would not honor the warranty on my Flexogen hoses I wrote to them multiple times and was told without explanation that Gilmour would not replace the defective hoses If you buy these hoses expecting a lifetime warranty you may not get itOn the Gilmour website there is no longer any information relating to Flexogen hose warranty or on how to have a Flexogen hose replaced  On Amazon it does say This heavyduty garden hose is made in the USA and backed by a lifetime guarantee It also says Lifetime Guarantee on the front of the hose package Gilmour is now owned by the Robert Bosch Corp so probably even less chance of getting a warranty replacement</td>\n",
       "    </tr>\n",
       "    <tr>\n",
       "      <th>2</th>\n",
       "      <td>I am with a very small number of reviewers here that I have to wonder how this silly thing got that many positive reviews. I have a small backyard, but was constantly attacked by mosquitoes everytime I went out. I have no standing water or what so ever. My neighbors might, but this thing is supposed to cover an whole acre.I followed the instruction, hung it a good distance from the porch and let it go. Oh, I also add the flowtron tape that came with the device to the bottom. A few zaps here and there, but nothing spectacular. I left it on out there for a week, and saw no difference. Still got attacked by mosquitoes. Two weeks, same thing. After a month, I gave up and took it down. There is no point to waste electricity. Oh, it served one purpose: light up that corner of the yard some.So, don't waste your hard-earned money on this thing and electricity. I am almost sure you will be disappointed. This thing will go on my next trip to Goodwill.</td>\n",
       "      <td>I am with a very small number of reviewers here that I have to wonder how this silly thing got that many positive reviews I have a small backyard but was constantly attacked by mosquitoes everytime I went out I have no standing water or what so ever My neighbors might but this thing is supposed to cover an whole acreI followed the instruction hung it a good distance from the porch and let it go Oh I also add the flowtron tape that came with the device to the bottom A few zaps here and there but nothing spectacular I left it on out there for a week and saw no difference Still got attacked by mosquitoes Two weeks same thing After a month I gave up and took it down There is no point to waste electricity Oh it served one purpose light up that corner of the yard someSo don't waste your hardearned money on this thing and electricity I am almost sure you will be disappointed This thing will go on my next trip to Goodwill</td>\n",
       "    </tr>\n",
       "    <tr>\n",
       "      <th>3</th>\n",
       "      <td>This light is pretty worthless.  It kills lots of moths and other non-biting bugs but didn't put a dent in the mosquito or fly population.  I got this as an alternative to my unreliable SkeeterVac but it does not work and is equally unreliable.  The bulbs blew after 1 season.  Replacement bulbs are $40 each plus shipping.  It takes 2.  That is $90 for 2 bulbs and I only paid $80 for the whole unit.  Thanks but no thanks.Unfortunately, the only thing I've found that actually catches mosquitoes is the propane powered devices.  They are all unreliable too.  Skip the zappers and traps and use deet.</td>\n",
       "      <td>This light is pretty worthless  It kills lots of moths and other nonbiting bugs but didn't put a dent in the mosquito or fly population  I got this as an alternative to my unreliable SkeeterVac but it does not work and is equally unreliable  The bulbs blew after 1 season  Replacement bulbs are 40 each plus shipping  It takes 2  That is 90 for 2 bulbs and I only paid 80 for the whole unit  Thanks but no thanksUnfortunately the only thing I've found that actually catches mosquitoes is the propane powered devices  They are all unreliable too  Skip the zappers and traps and use deet</td>\n",
       "    </tr>\n",
       "    <tr>\n",
       "      <th>4</th>\n",
       "      <td>Currently I hate this thing.  I may need to oil it/adjust it or make some other modifications but it squeaks of metal on metal and cuts about 1/3rd of the grass I pass over with it.  I found a manual mower like this in the yard of the first home I bought and used it for years.  It was better than any mower I've ever owned.  This seems to perform like a cereal box toy imitation of what a manual push mower is supposed to be like.  Pooptastic.  I will update this review if I am able to modify it to actually cut grass, but out of the box it seems to make far too many blade passes per distance traveled to ever perform well.  Also the last model I had had two counter-rotating blades and this only has one rotating in one direction against a stationary blade/block.</td>\n",
       "      <td>Currently I hate this thing  I may need to oil itadjust it or make some other modifications but it squeaks of metal on metal and cuts about 13rd of the grass I pass over with it  I found a manual mower like this in the yard of the first home I bought and used it for years  It was better than any mower I've ever owned  This seems to perform like a cereal box toy imitation of what a manual push mower is supposed to be like  Pooptastic  I will update this review if I am able to modify it to actually cut grass but out of the box it seems to make far too many blade passes per distance traveled to ever perform well  Also the last model I had had two counterrotating blades and this only has one rotating in one direction against a stationary bladeblock</td>\n",
       "    </tr>\n",
       "  </tbody>\n",
       "</table>\n",
       "</div>"
      ],
      "text/plain": [
       "                                                                                                                                                                                                                                                                                                                                                                                                                                                                                                                                                                                                                                                                                                                                                                                                                                                                                                                                                                                                                                                                                                                                                                                                                                                                                                                                                                                                                                                                                                                                                                                                                                                                                                                                                                                                                                                                                                                                                                                                                                                                                                                                                                                                                                                                                                                                                                                                                                                                                                                                                                                                                                                                                                                                                                                                                                                                                                                                                                                                                                                                                                                                                                                                                                        text  \\\n",
       "0  UPDATE:  Originally, I gave this hose 5 stars but after using them (I bought 3) for a while, I've changed my opinion. Yes, the hoses appear to be well made and are lighter weight than my old professional grade rubber hoses, but Flexogens are still heavy. These Flexogen hoses DO kink, and they kink easily. The only way to reduce the kinking is to completely unroll the entire 100 feet of hose from the reel, lay it flat on the grund, and then turn and turn and turn (twist/rotate) it until it lays completely flat -- make sure there are no \"waves\" or loops. I pulled about 50 feet off the hose reel and, holding the end, walked across my yard. I did not stop to twist out the waves and loops that it formed while unrolling. The hose formed 9 kinks! What a pain in the hand, elbow and shoulder to straighten it! This process wastes time.The second problem is after I screw on my hose wand and turn on the water, this hose becomes unwieldy. The hose turns so that my wand is upside down. It requires a LOT of effort to twist the hose and hold it so the wand sprays downward--requires using both hands. Fighting this hose is painful, very tiring and aggravating.When you rewind it onto a hose reel, the hose twists and turns, causing it to again form waves and loops, which become kinks. Again, you have to twist, rotate, etc. to get all the waves/loops out so the hose lays flat and straight on the ground. As you reel it in, you have to stop and repeat the process. My old commercial-grade hose never did anything like this. You can buy the professional/commercial grade hoses (100 ft) at big box stores and clubs for about $25. Don't buy the Flexogen.Due to age and arthritis in my hands, I needed to replace my heavy, rubber commercial-grade garden hoses with lighter weight, easier-to-maneuver hoses. I was barely able to wind the old rubber hoses on the hose reel or drag them around the yard. After reading reviews on Amazon and other places for garden hoses, I chose this hose. I'm glad I did. While it's still heavy, it weighs considerably less than my commercial-grade rubber hose. It's easier to wind on the reel and easier to drag around the yard.The Amazon description calls this a \"lightweight\" hose. It is NOT  light. It's substantial. I found a local store that  had this hose in 25-, 50- and 75-ft lengths. I was able to lift each and compare to heavy duty hoses of the same length. I couldn't feel much of a difference, so I definitely would call this a medium- to heavy-weight hose (but lighter than my rubber one).This hose is easier to handle than my old rubber ones because it's more flexible. (I suspect that my old hoses have stiffened over the years.)I've only used one (I bought 3 of these) for about 1.5 weeks. It's been too hot, too muggy and too rainy to use it much, but I'm pleased so far. I believe this hose is a very good quality and should last many years. The solid brass fittings are thick so they won't get dents that cause leaks. Because I haven't dragged it around the yard yet, I cannot say whether it really is a \"no-kink\" hose. I recommend this hose because o the quality.   \n",
       "1  I purchased 6 of these hoses with what was supposed to be a lifetime guarantee. After a short time, the end on one of the hoses started leaking so I contacted the manufacturer and got a replacement. A year later another hose started leaking and I got another replacement. Then another hose started leaking but the company would no longer honor the warranty! Now Gilmour is selling them. But it's the same hose - \"Flexogen\". The hose itself it actually quite good if you don't mind replacing the hose ends eventually, I've had to replace every end on every Flexogen hose that I have.Keep in mind that I bought hoses from Flexogen but that company no longer exists and Gilmour would not honor the warranty on those hoses even though Gilmour is now selling them. Also note that Flexogen is a patented hose. Lifetime warranty isn't much good when the company gets bought or taken over by another company and the new company (Gilmour) won't honor the warranty. And who wants to have to keep sending in hose parts to get a replacement every year or two.Let me reiterate, Gilmour would not honor the warranty on my Flexogen hoses. I wrote to them multiple times and was told (without explanation) that Gilmour would not replace the defective hoses. If you buy these hoses expecting a lifetime warranty, you may not get it.On the Gilmour website, there is no longer any information relating to Flexogen hose warranty or on how to have a Flexogen hose replaced.  On Amazon, it does say \"This heavy-duty garden hose is made in the USA and backed by a lifetime guarantee\". It also says Lifetime Guarantee on the front of the hose package. Gilmour is now owned by the Robert Bosch Corp., so probably even less chance of getting a warranty replacement.                                                                                                                                                                                                                                                                                                                                                                                                                                                                                                                                                                                                                                                                                                                                                                                                                                                                                                                                                                                                                                                                                                                                                                                                                                                                                                                                                                                                                                 \n",
       "2  I am with a very small number of reviewers here that I have to wonder how this silly thing got that many positive reviews. I have a small backyard, but was constantly attacked by mosquitoes everytime I went out. I have no standing water or what so ever. My neighbors might, but this thing is supposed to cover an whole acre.I followed the instruction, hung it a good distance from the porch and let it go. Oh, I also add the flowtron tape that came with the device to the bottom. A few zaps here and there, but nothing spectacular. I left it on out there for a week, and saw no difference. Still got attacked by mosquitoes. Two weeks, same thing. After a month, I gave up and took it down. There is no point to waste electricity. Oh, it served one purpose: light up that corner of the yard some.So, don't waste your hard-earned money on this thing and electricity. I am almost sure you will be disappointed. This thing will go on my next trip to Goodwill.                                                                                                                                                                                                                                                                                                                                                                                                                                                                                                                                                                                                                                                                                                                                                                                                                                                                                                                                                                                                                                                                                                                                                                                                                                                                                                                                                                                                                                                                                                                                                                                                                                                                                                                                                                                                                                                                                                                                                                                                                                                                                                                                                                                                                                                 \n",
       "3  This light is pretty worthless.  It kills lots of moths and other non-biting bugs but didn't put a dent in the mosquito or fly population.  I got this as an alternative to my unreliable SkeeterVac but it does not work and is equally unreliable.  The bulbs blew after 1 season.  Replacement bulbs are $40 each plus shipping.  It takes 2.  That is $90 for 2 bulbs and I only paid $80 for the whole unit.  Thanks but no thanks.Unfortunately, the only thing I've found that actually catches mosquitoes is the propane powered devices.  They are all unreliable too.  Skip the zappers and traps and use deet.                                                                                                                                                                                                                                                                                                                                                                                                                                                                                                                                                                                                                                                                                                                                                                                                                                                                                                                                                                                                                                                                                                                                                                                                                                                                                                                                                                                                                                                                                                                                                                                                                                                                                                                                                                                                                                                                                                                                                                                                                                                                                                                                                                                                                                                                                                                                                                                                                                                                                                                                                                                                                   \n",
       "4  Currently I hate this thing.  I may need to oil it/adjust it or make some other modifications but it squeaks of metal on metal and cuts about 1/3rd of the grass I pass over with it.  I found a manual mower like this in the yard of the first home I bought and used it for years.  It was better than any mower I've ever owned.  This seems to perform like a cereal box toy imitation of what a manual push mower is supposed to be like.  Pooptastic.  I will update this review if I am able to modify it to actually cut grass, but out of the box it seems to make far too many blade passes per distance traveled to ever perform well.  Also the last model I had had two counter-rotating blades and this only has one rotating in one direction against a stationary blade/block.                                                                                                                                                                                                                                                                                                                                                                                                                                                                                                                                                                                                                                                                                                                                                                                                                                                                                                                                                                                                                                                                                                                                                                                                                                                                                                                                                                                                                                                                                                                                                                                                                                                                                                                                                                                                                                                                                                                                                                                                                                                                                                                                                                                                                                                                                                                                                                                                                                             \n",
       "\n",
       "                                                                                                                                                                                                                                                                                                                                                                                                                                                                                                                                                                                                                                                                                                                                                                                                                                                                                                                                                                                                                                                                                                                                                                                                                                                                                                                                                                                                                                                                                                                                                                                                                                                                                                                                                                                                                                                                                                                                                                                                                                                                                                                                                                                                                                                                                                                                                                                                                                                                                                                                                                                                                                                                                                                                                                                                                                                                                                                                                                                                                                                                                                               textNoPunctuation  \n",
       "0  UPDATE  Originally I gave this hose 5 stars but after using them I bought 3 for a while I've changed my opinion Yes the hoses appear to be well made and are lighter weight than my old professional grade rubber hoses but Flexogens are still heavy These Flexogen hoses DO kink and they kink easily The only way to reduce the kinking is to completely unroll the entire 100 feet of hose from the reel lay it flat on the grund and then turn and turn and turn twistrotate it until it lays completely flat  make sure there are no waves or loops I pulled about 50 feet off the hose reel and holding the end walked across my yard I did not stop to twist out the waves and loops that it formed while unrolling The hose formed 9 kinks What a pain in the hand elbow and shoulder to straighten it This process wastes timeThe second problem is after I screw on my hose wand and turn on the water this hose becomes unwieldy The hose turns so that my wand is upside down It requires a LOT of effort to twist the hose and hold it so the wand sprays downwardrequires using both hands Fighting this hose is painful very tiring and aggravatingWhen you rewind it onto a hose reel the hose twists and turns causing it to again form waves and loops which become kinks Again you have to twist rotate etc to get all the wavesloops out so the hose lays flat and straight on the ground As you reel it in you have to stop and repeat the process My old commercialgrade hose never did anything like this You can buy the professionalcommercial grade hoses 100 ft at big box stores and clubs for about 25 Don't buy the FlexogenDue to age and arthritis in my hands I needed to replace my heavy rubber commercialgrade garden hoses with lighter weight easiertomaneuver hoses I was barely able to wind the old rubber hoses on the hose reel or drag them around the yard After reading reviews on Amazon and other places for garden hoses I chose this hose I'm glad I did While it's still heavy it weighs considerably less than my commercialgrade rubber hose It's easier to wind on the reel and easier to drag around the yardThe Amazon description calls this a lightweight hose It is NOT  light It's substantial I found a local store that  had this hose in 25 50 and 75ft lengths I was able to lift each and compare to heavy duty hoses of the same length I couldn't feel much of a difference so I definitely would call this a medium to heavyweight hose but lighter than my rubber oneThis hose is easier to handle than my old rubber ones because it's more flexible I suspect that my old hoses have stiffened over the yearsI've only used one I bought 3 of these for about 15 weeks It's been too hot too muggy and too rainy to use it much but I'm pleased so far I believe this hose is a very good quality and should last many years The solid brass fittings are thick so they won't get dents that cause leaks Because I haven't dragged it around the yard yet I cannot say whether it really is a nokink hose I recommend this hose because o the quality  \n",
       "1  I purchased 6 of these hoses with what was supposed to be a lifetime guarantee After a short time the end on one of the hoses started leaking so I contacted the manufacturer and got a replacement A year later another hose started leaking and I got another replacement Then another hose started leaking but the company would no longer honor the warranty Now Gilmour is selling them But it's the same hose  Flexogen The hose itself it actually quite good if you don't mind replacing the hose ends eventually I've had to replace every end on every Flexogen hose that I haveKeep in mind that I bought hoses from Flexogen but that company no longer exists and Gilmour would not honor the warranty on those hoses even though Gilmour is now selling them Also note that Flexogen is a patented hose Lifetime warranty isn't much good when the company gets bought or taken over by another company and the new company Gilmour won't honor the warranty And who wants to have to keep sending in hose parts to get a replacement every year or twoLet me reiterate Gilmour would not honor the warranty on my Flexogen hoses I wrote to them multiple times and was told without explanation that Gilmour would not replace the defective hoses If you buy these hoses expecting a lifetime warranty you may not get itOn the Gilmour website there is no longer any information relating to Flexogen hose warranty or on how to have a Flexogen hose replaced  On Amazon it does say This heavyduty garden hose is made in the USA and backed by a lifetime guarantee It also says Lifetime Guarantee on the front of the hose package Gilmour is now owned by the Robert Bosch Corp so probably even less chance of getting a warranty replacement                                                                                                                                                                                                                                                                                                                                                                                                                                                                                                                                                                                                                                                                                                                                                                                                                                                                                                                                                                                                                                                                                                                                                                                                                                                                                                                                                        \n",
       "2  I am with a very small number of reviewers here that I have to wonder how this silly thing got that many positive reviews I have a small backyard but was constantly attacked by mosquitoes everytime I went out I have no standing water or what so ever My neighbors might but this thing is supposed to cover an whole acreI followed the instruction hung it a good distance from the porch and let it go Oh I also add the flowtron tape that came with the device to the bottom A few zaps here and there but nothing spectacular I left it on out there for a week and saw no difference Still got attacked by mosquitoes Two weeks same thing After a month I gave up and took it down There is no point to waste electricity Oh it served one purpose light up that corner of the yard someSo don't waste your hardearned money on this thing and electricity I am almost sure you will be disappointed This thing will go on my next trip to Goodwill                                                                                                                                                                                                                                                                                                                                                                                                                                                                                                                                                                                                                                                                                                                                                                                                                                                                                                                                                                                                                                                                                                                                                                                                                                                                                                                                                                                                                                                                                                                                                                                                                                                                                                                                                                                                                                                                                                                                                                                                                                                                                                                                                                \n",
       "3  This light is pretty worthless  It kills lots of moths and other nonbiting bugs but didn't put a dent in the mosquito or fly population  I got this as an alternative to my unreliable SkeeterVac but it does not work and is equally unreliable  The bulbs blew after 1 season  Replacement bulbs are 40 each plus shipping  It takes 2  That is 90 for 2 bulbs and I only paid 80 for the whole unit  Thanks but no thanksUnfortunately the only thing I've found that actually catches mosquitoes is the propane powered devices  They are all unreliable too  Skip the zappers and traps and use deet                                                                                                                                                                                                                                                                                                                                                                                                                                                                                                                                                                                                                                                                                                                                                                                                                                                                                                                                                                                                                                                                                                                                                                                                                                                                                                                                                                                                                                                                                                                                                                                                                                                                                                                                                                                                                                                                                                                                                                                                                                                                                                                                                                                                                                                                                                                                                                                                                                                                                                                      \n",
       "4  Currently I hate this thing  I may need to oil itadjust it or make some other modifications but it squeaks of metal on metal and cuts about 13rd of the grass I pass over with it  I found a manual mower like this in the yard of the first home I bought and used it for years  It was better than any mower I've ever owned  This seems to perform like a cereal box toy imitation of what a manual push mower is supposed to be like  Pooptastic  I will update this review if I am able to modify it to actually cut grass but out of the box it seems to make far too many blade passes per distance traveled to ever perform well  Also the last model I had had two counterrotating blades and this only has one rotating in one direction against a stationary bladeblock                                                                                                                                                                                                                                                                                                                                                                                                                                                                                                                                                                                                                                                                                                                                                                                                                                                                                                                                                                                                                                                                                                                                                                                                                                                                                                                                                                                                                                                                                                                                                                                                                                                                                                                                                                                                                                                                                                                                                                                                                                                                                                                                                                                                                                                                                                                                             "
      ]
     },
     "execution_count": 13,
     "metadata": {},
     "output_type": "execute_result"
    }
   ],
   "source": [
    "from pyspark.ml.feature import SQLTransformer\n",
    "removePunctuationTrans = SQLTransformer(\n",
    "    statement=\"\"\"SELECT *, TRANSLATE(text,',.:;!?@#$%^&*()+=-`~{}[]|\\/''\"<>','') AS textNoPunctuation FROM __THIS__\"\"\")\n",
    "data = removePunctuationTrans.transform(data)\n",
    "data.select('text', 'textNoPunctuation').toPandas().head()"
   ]
  },
  {
   "cell_type": "code",
   "execution_count": 14,
   "metadata": {},
   "outputs": [
    {
     "data": {
      "text/html": [
       "<div>\n",
       "<table border=\"1\" class=\"dataframe\">\n",
       "  <thead>\n",
       "    <tr style=\"text-align: right;\">\n",
       "      <th></th>\n",
       "      <th>label</th>\n",
       "      <th>text</th>\n",
       "    </tr>\n",
       "  </thead>\n",
       "  <tbody>\n",
       "    <tr>\n",
       "      <th>0</th>\n",
       "      <td>1</td>\n",
       "      <td>UPDATE  Originally I gave this hose 5 stars but after using them I bought 3 for a while I've changed my opinion Yes the hoses appear to be well made and are lighter weight than my old professional grade rubber hoses but Flexogens are still heavy These Flexogen hoses DO kink and they kink easily The only way to reduce the kinking is to completely unroll the entire 100 feet of hose from the reel lay it flat on the grund and then turn and turn and turn twistrotate it until it lays completely flat  make sure there are no waves or loops I pulled about 50 feet off the hose reel and holding the end walked across my yard I did not stop to twist out the waves and loops that it formed while unrolling The hose formed 9 kinks What a pain in the hand elbow and shoulder to straighten it This process wastes timeThe second problem is after I screw on my hose wand and turn on the water this hose becomes unwieldy The hose turns so that my wand is upside down It requires a LOT of effort to twist the hose and hold it so the wand sprays downwardrequires using both hands Fighting this hose is painful very tiring and aggravatingWhen you rewind it onto a hose reel the hose twists and turns causing it to again form waves and loops which become kinks Again you have to twist rotate etc to get all the wavesloops out so the hose lays flat and straight on the ground As you reel it in you have to stop and repeat the process My old commercialgrade hose never did anything like this You can buy the professionalcommercial grade hoses 100 ft at big box stores and clubs for about 25 Don't buy the FlexogenDue to age and arthritis in my hands I needed to replace my heavy rubber commercialgrade garden hoses with lighter weight easiertomaneuver hoses I was barely able to wind the old rubber hoses on the hose reel or drag them around the yard After reading reviews on Amazon and other places for garden hoses I chose this hose I'm glad I did While it's still heavy it weighs considerably less than my commercialgrade rubber hose It's easier to wind on the reel and easier to drag around the yardThe Amazon description calls this a lightweight hose It is NOT  light It's substantial I found a local store that  had this hose in 25 50 and 75ft lengths I was able to lift each and compare to heavy duty hoses of the same length I couldn't feel much of a difference so I definitely would call this a medium to heavyweight hose but lighter than my rubber oneThis hose is easier to handle than my old rubber ones because it's more flexible I suspect that my old hoses have stiffened over the yearsI've only used one I bought 3 of these for about 15 weeks It's been too hot too muggy and too rainy to use it much but I'm pleased so far I believe this hose is a very good quality and should last many years The solid brass fittings are thick so they won't get dents that cause leaks Because I haven't dragged it around the yard yet I cannot say whether it really is a nokink hose I recommend this hose because o the quality</td>\n",
       "    </tr>\n",
       "    <tr>\n",
       "      <th>1</th>\n",
       "      <td>1</td>\n",
       "      <td>I purchased 6 of these hoses with what was supposed to be a lifetime guarantee After a short time the end on one of the hoses started leaking so I contacted the manufacturer and got a replacement A year later another hose started leaking and I got another replacement Then another hose started leaking but the company would no longer honor the warranty Now Gilmour is selling them But it's the same hose  Flexogen The hose itself it actually quite good if you don't mind replacing the hose ends eventually I've had to replace every end on every Flexogen hose that I haveKeep in mind that I bought hoses from Flexogen but that company no longer exists and Gilmour would not honor the warranty on those hoses even though Gilmour is now selling them Also note that Flexogen is a patented hose Lifetime warranty isn't much good when the company gets bought or taken over by another company and the new company Gilmour won't honor the warranty And who wants to have to keep sending in hose parts to get a replacement every year or twoLet me reiterate Gilmour would not honor the warranty on my Flexogen hoses I wrote to them multiple times and was told without explanation that Gilmour would not replace the defective hoses If you buy these hoses expecting a lifetime warranty you may not get itOn the Gilmour website there is no longer any information relating to Flexogen hose warranty or on how to have a Flexogen hose replaced  On Amazon it does say This heavyduty garden hose is made in the USA and backed by a lifetime guarantee It also says Lifetime Guarantee on the front of the hose package Gilmour is now owned by the Robert Bosch Corp so probably even less chance of getting a warranty replacement</td>\n",
       "    </tr>\n",
       "    <tr>\n",
       "      <th>2</th>\n",
       "      <td>1</td>\n",
       "      <td>I am with a very small number of reviewers here that I have to wonder how this silly thing got that many positive reviews I have a small backyard but was constantly attacked by mosquitoes everytime I went out I have no standing water or what so ever My neighbors might but this thing is supposed to cover an whole acreI followed the instruction hung it a good distance from the porch and let it go Oh I also add the flowtron tape that came with the device to the bottom A few zaps here and there but nothing spectacular I left it on out there for a week and saw no difference Still got attacked by mosquitoes Two weeks same thing After a month I gave up and took it down There is no point to waste electricity Oh it served one purpose light up that corner of the yard someSo don't waste your hardearned money on this thing and electricity I am almost sure you will be disappointed This thing will go on my next trip to Goodwill</td>\n",
       "    </tr>\n",
       "    <tr>\n",
       "      <th>3</th>\n",
       "      <td>1</td>\n",
       "      <td>This light is pretty worthless  It kills lots of moths and other nonbiting bugs but didn't put a dent in the mosquito or fly population  I got this as an alternative to my unreliable SkeeterVac but it does not work and is equally unreliable  The bulbs blew after 1 season  Replacement bulbs are 40 each plus shipping  It takes 2  That is 90 for 2 bulbs and I only paid 80 for the whole unit  Thanks but no thanksUnfortunately the only thing I've found that actually catches mosquitoes is the propane powered devices  They are all unreliable too  Skip the zappers and traps and use deet</td>\n",
       "    </tr>\n",
       "    <tr>\n",
       "      <th>4</th>\n",
       "      <td>1</td>\n",
       "      <td>Currently I hate this thing  I may need to oil itadjust it or make some other modifications but it squeaks of metal on metal and cuts about 13rd of the grass I pass over with it  I found a manual mower like this in the yard of the first home I bought and used it for years  It was better than any mower I've ever owned  This seems to perform like a cereal box toy imitation of what a manual push mower is supposed to be like  Pooptastic  I will update this review if I am able to modify it to actually cut grass but out of the box it seems to make far too many blade passes per distance traveled to ever perform well  Also the last model I had had two counterrotating blades and this only has one rotating in one direction against a stationary bladeblock</td>\n",
       "    </tr>\n",
       "  </tbody>\n",
       "</table>\n",
       "</div>"
      ],
      "text/plain": [
       "   label  \\\n",
       "0  1       \n",
       "1  1       \n",
       "2  1       \n",
       "3  1       \n",
       "4  1       \n",
       "\n",
       "                                                                                                                                                                                                                                                                                                                                                                                                                                                                                                                                                                                                                                                                                                                                                                                                                                                                                                                                                                                                                                                                                                                                                                                                                                                                                                                                                                                                                                                                                                                                                                                                                                                                                                                                                                                                                                                                                                                                                                                                                                                                                                                                                                                                                                                                                                                                                                                                                                                                                                                                                                                                                                                                                                                                                                                                                                                                                                                                                                                                                                                                                                                            text  \n",
       "0  UPDATE  Originally I gave this hose 5 stars but after using them I bought 3 for a while I've changed my opinion Yes the hoses appear to be well made and are lighter weight than my old professional grade rubber hoses but Flexogens are still heavy These Flexogen hoses DO kink and they kink easily The only way to reduce the kinking is to completely unroll the entire 100 feet of hose from the reel lay it flat on the grund and then turn and turn and turn twistrotate it until it lays completely flat  make sure there are no waves or loops I pulled about 50 feet off the hose reel and holding the end walked across my yard I did not stop to twist out the waves and loops that it formed while unrolling The hose formed 9 kinks What a pain in the hand elbow and shoulder to straighten it This process wastes timeThe second problem is after I screw on my hose wand and turn on the water this hose becomes unwieldy The hose turns so that my wand is upside down It requires a LOT of effort to twist the hose and hold it so the wand sprays downwardrequires using both hands Fighting this hose is painful very tiring and aggravatingWhen you rewind it onto a hose reel the hose twists and turns causing it to again form waves and loops which become kinks Again you have to twist rotate etc to get all the wavesloops out so the hose lays flat and straight on the ground As you reel it in you have to stop and repeat the process My old commercialgrade hose never did anything like this You can buy the professionalcommercial grade hoses 100 ft at big box stores and clubs for about 25 Don't buy the FlexogenDue to age and arthritis in my hands I needed to replace my heavy rubber commercialgrade garden hoses with lighter weight easiertomaneuver hoses I was barely able to wind the old rubber hoses on the hose reel or drag them around the yard After reading reviews on Amazon and other places for garden hoses I chose this hose I'm glad I did While it's still heavy it weighs considerably less than my commercialgrade rubber hose It's easier to wind on the reel and easier to drag around the yardThe Amazon description calls this a lightweight hose It is NOT  light It's substantial I found a local store that  had this hose in 25 50 and 75ft lengths I was able to lift each and compare to heavy duty hoses of the same length I couldn't feel much of a difference so I definitely would call this a medium to heavyweight hose but lighter than my rubber oneThis hose is easier to handle than my old rubber ones because it's more flexible I suspect that my old hoses have stiffened over the yearsI've only used one I bought 3 of these for about 15 weeks It's been too hot too muggy and too rainy to use it much but I'm pleased so far I believe this hose is a very good quality and should last many years The solid brass fittings are thick so they won't get dents that cause leaks Because I haven't dragged it around the yard yet I cannot say whether it really is a nokink hose I recommend this hose because o the quality  \n",
       "1  I purchased 6 of these hoses with what was supposed to be a lifetime guarantee After a short time the end on one of the hoses started leaking so I contacted the manufacturer and got a replacement A year later another hose started leaking and I got another replacement Then another hose started leaking but the company would no longer honor the warranty Now Gilmour is selling them But it's the same hose  Flexogen The hose itself it actually quite good if you don't mind replacing the hose ends eventually I've had to replace every end on every Flexogen hose that I haveKeep in mind that I bought hoses from Flexogen but that company no longer exists and Gilmour would not honor the warranty on those hoses even though Gilmour is now selling them Also note that Flexogen is a patented hose Lifetime warranty isn't much good when the company gets bought or taken over by another company and the new company Gilmour won't honor the warranty And who wants to have to keep sending in hose parts to get a replacement every year or twoLet me reiterate Gilmour would not honor the warranty on my Flexogen hoses I wrote to them multiple times and was told without explanation that Gilmour would not replace the defective hoses If you buy these hoses expecting a lifetime warranty you may not get itOn the Gilmour website there is no longer any information relating to Flexogen hose warranty or on how to have a Flexogen hose replaced  On Amazon it does say This heavyduty garden hose is made in the USA and backed by a lifetime guarantee It also says Lifetime Guarantee on the front of the hose package Gilmour is now owned by the Robert Bosch Corp so probably even less chance of getting a warranty replacement                                                                                                                                                                                                                                                                                                                                                                                                                                                                                                                                                                                                                                                                                                                                                                                                                                                                                                                                                                                                                                                                                                                                                                                                                                                                                                                                                        \n",
       "2  I am with a very small number of reviewers here that I have to wonder how this silly thing got that many positive reviews I have a small backyard but was constantly attacked by mosquitoes everytime I went out I have no standing water or what so ever My neighbors might but this thing is supposed to cover an whole acreI followed the instruction hung it a good distance from the porch and let it go Oh I also add the flowtron tape that came with the device to the bottom A few zaps here and there but nothing spectacular I left it on out there for a week and saw no difference Still got attacked by mosquitoes Two weeks same thing After a month I gave up and took it down There is no point to waste electricity Oh it served one purpose light up that corner of the yard someSo don't waste your hardearned money on this thing and electricity I am almost sure you will be disappointed This thing will go on my next trip to Goodwill                                                                                                                                                                                                                                                                                                                                                                                                                                                                                                                                                                                                                                                                                                                                                                                                                                                                                                                                                                                                                                                                                                                                                                                                                                                                                                                                                                                                                                                                                                                                                                                                                                                                                                                                                                                                                                                                                                                                                                                                                                                                                                                                                                \n",
       "3  This light is pretty worthless  It kills lots of moths and other nonbiting bugs but didn't put a dent in the mosquito or fly population  I got this as an alternative to my unreliable SkeeterVac but it does not work and is equally unreliable  The bulbs blew after 1 season  Replacement bulbs are 40 each plus shipping  It takes 2  That is 90 for 2 bulbs and I only paid 80 for the whole unit  Thanks but no thanksUnfortunately the only thing I've found that actually catches mosquitoes is the propane powered devices  They are all unreliable too  Skip the zappers and traps and use deet                                                                                                                                                                                                                                                                                                                                                                                                                                                                                                                                                                                                                                                                                                                                                                                                                                                                                                                                                                                                                                                                                                                                                                                                                                                                                                                                                                                                                                                                                                                                                                                                                                                                                                                                                                                                                                                                                                                                                                                                                                                                                                                                                                                                                                                                                                                                                                                                                                                                                                                      \n",
       "4  Currently I hate this thing  I may need to oil itadjust it or make some other modifications but it squeaks of metal on metal and cuts about 13rd of the grass I pass over with it  I found a manual mower like this in the yard of the first home I bought and used it for years  It was better than any mower I've ever owned  This seems to perform like a cereal box toy imitation of what a manual push mower is supposed to be like  Pooptastic  I will update this review if I am able to modify it to actually cut grass but out of the box it seems to make far too many blade passes per distance traveled to ever perform well  Also the last model I had had two counterrotating blades and this only has one rotating in one direction against a stationary bladeblock                                                                                                                                                                                                                                                                                                                                                                                                                                                                                                                                                                                                                                                                                                                                                                                                                                                                                                                                                                                                                                                                                                                                                                                                                                                                                                                                                                                                                                                                                                                                                                                                                                                                                                                                                                                                                                                                                                                                                                                                                                                                                                                                                                                                                                                                                                                                             "
      ]
     },
     "execution_count": 14,
     "metadata": {},
     "output_type": "execute_result"
    }
   ],
   "source": [
    "data = data.drop('text').withColumnRenamed('textNoPunctuation', 'text')\n",
    "data.toPandas().head()"
   ]
  },
  {
   "cell_type": "markdown",
   "metadata": {},
   "source": [
    "## 3. Feature Engineering"
   ]
  },
  {
   "cell_type": "markdown",
   "metadata": {},
   "source": [
    "### Tokenize the text"
   ]
  },
  {
   "cell_type": "code",
   "execution_count": 15,
   "metadata": {},
   "outputs": [
    {
     "data": {
      "text/html": [
       "<div>\n",
       "<table border=\"1\" class=\"dataframe\">\n",
       "  <thead>\n",
       "    <tr style=\"text-align: right;\">\n",
       "      <th></th>\n",
       "      <th>text</th>\n",
       "      <th>words</th>\n",
       "      <th>#tokens</th>\n",
       "    </tr>\n",
       "  </thead>\n",
       "  <tbody>\n",
       "    <tr>\n",
       "      <th>0</th>\n",
       "      <td>I received this yesterday  While waiting for it to arrive I read other reviews on it so was curious to find out what my own experience would be  I wasted no time setting itThe device consists of a clear plastic tube nestled into a black plastic tray  The first step on the instructions said to remove the clear tube from the black plastic tray and put bait in the bait tray  I could not make head nor tail of their diagram to figure out exactly where I was supposed to put the bait but took a guess and shoved a little peanut butter in  Next I loaded the ring which actually was much easier than I had anticipated based on reviews  The next step said to hold the lever with my thumb while inserting it back into the black plastic tray  The problem is it is not that easy to get it back in  I had had some difficulty getting it out in the first place and now I couldn't figure out how to get it back in  While trying my thumb released the trigger and the ring flew off  Now my hands were slightly greasy from the peanut butter and getting the ring back on was next to impossible  I tried drying everything off with a towel and eventually with the help of the towel was able to thread the ring back on  In the middle of all this I realized I had guessed wrong about where to put the bait  So now I had to clear the peanut butter out of where I had put it and move it to the new location again  a better diagram or marking ON the plastic where to put the bait would be enormously helpful  I again tried to set the clear plastic tube into the tray while holding the trigger with my thumb  I almost had it in when it triggered again planting the ring on my index finger  On the plus side there was no discomfort  On the minus side I had to reset the ring a third time  Finally on the third try I got the ring to stay on AND got the clear tube set into the black tray  FINALLY 20 minutes and a lot of frustration after starting the thing was set and ready to catch miceI've had a mouse problem in my chicken coop and the trail of mouse poop indicates where they spend a lot of time  So I set the trap up against a wall on the floor in the middle of one of their paths  I was mildly disappointed when locking up the chickens for the night last night to find that it had not yet killed a mouse  But I figured they are probably more active by night than by day so by morning it would have done the job  Not so  by this morning the thing is still sitting there triggered and ready to go  no dead mice anywhereSo needless to say my experience with this mouse trap has not been one that would allow me to recommend it  While working on it another thought occurred to me which is that it can only kill one at a time before needing to be reset  Prior to ordering this I had been looking at a Victor trap that can hold up to 30  A friend who also needed a trap for her chicken coop ordered the Victor trap and reported catching 16 the first night 13 the second and 15 the third  And she doesn't have to reorder any parts to get it to keep catching mice  When I compare that to the single mouse this trap could kill IF it did it at allthe choice is easyOff to order the Victor trapUpdate  After sitting in the chicken coop for 8 days the trap finally killed a mouse  As a matter of interest I tried removing the ring from the dead mouse and although it is tight and therefore not easy it is doable  I was able to reuse the ring to reset the trap and feed the mouse to the chickens  The next morning there was another dead mouse and I was able to repeat  It seems that now they are used to the trap sitting there it is starting to be effective  I also thought others might be interested to know it is possible to reuse the rings with a little bit of work</td>\n",
       "      <td>[i, received, this, yesterday, , while, waiting, for, it, to, arrive, i, read, other, reviews, on, it, so, was, curious, to, find, out, what, my, own, experience, would, be, , i, wasted, no, time, setting, itthe, device, consists, of, a, clear, plastic, tube, nestled, into, a, black, plastic, tray, , the, first, step, on, the, instructions, said, to, remove, the, clear, tube, from, the, black, plastic, tray, and, put, bait, in, the, bait, tray, , i, could, not, make, head, nor, tail, of, their, diagram, to, figure, out, exactly, where, i, was, supposed, to, put, the, bait, but, took, a, ...]</td>\n",
       "      <td>781</td>\n",
       "    </tr>\n",
       "    <tr>\n",
       "      <th>1</th>\n",
       "      <td>Number one I don't like how in humane this is Since the mouse ran across the entire room 14 feet after it got the ring on it's neck it was obvious it did not die instantly and then I still had to pick it up to throw away so nasty that way too The whole thing is also too expensive if you have a lot of mice I still say the old wood trap is just as good and cheaper than anything else out there and you can reuse it over and over I just pick the end of the trap up with that so I don't need to touch the dead mouse to open it and drop it in the garbage Much more sanitary Also I had a hard time getting this crazy thing put together with the ring on after the one that came already installed was used Anyone with big hands and fingersor weak hands and fingers will find it almost impossible to get it set again Just go buy the old wood traps they never let you down and are cheap and seem to never wear out I have one that is about 30 years old and works as well now as the day I bought it and I never need to buy anything extra to make it work They may try to make it look like it is hard to use but that's just negative advertising Like anything else once you've set it a few times it's a breeze</td>\n",
       "      <td>[number, one, i, don't, like, how, in, humane, this, is, since, the, mouse, ran, across, the, entire, room, 14, feet, after, it, got, the, ring, on, it's, neck, it, was, obvious, it, did, not, die, instantly, and, then, i, still, had, to, pick, it, up, to, throw, away, so, nasty, that, way, too, the, whole, thing, is, also, too, expensive, if, you, have, a, lot, of, mice, i, still, say, the, old, wood, trap, is, just, as, good, and, cheaper, than, anything, else, out, there, and, you, can, reuse, it, over, and, over, i, just, pick, the, end, of, the, ...]</td>\n",
       "      <td>254</td>\n",
       "    </tr>\n",
       "    <tr>\n",
       "      <th>2</th>\n",
       "      <td>I've had this outside in a highly travelled mouse highway for about a month and a half already and we haven't caught one mouse with it  Meanwhile one standard trap 2 feet away and another standard trap 2 feet away in the other direction have both given me kills repeatedly</td>\n",
       "      <td>[i've, had, this, outside, in, a, highly, travelled, mouse, highway, for, about, a, month, and, a, half, already, and, we, haven't, caught, one, mouse, with, it, , meanwhile, one, standard, trap, 2, feet, away, and, another, standard, trap, 2, feet, away, in, the, other, direction, have, both, given, me, kills, repeatedly]</td>\n",
       "      <td>51</td>\n",
       "    </tr>\n",
       "    <tr>\n",
       "      <th>3</th>\n",
       "      <td>I live on a farm in the middle of fields  During winter mice invade our barn and basement looking for food and warmth  So I know a thing or two about mouse traps  I buy a lot of them  In fact I buy them by the case  I was interested in trying a new oneBeing new is the only thing the Nooski mouse trap has going for it  It's miserable to set not terribly effective and when it works it's inhumane  First you have to set the trap  This involves rolling a very tight rubber ring around the trap  That's a pain and I ended up needing my son's help  We tried tripping the trap and it tripped one time out of three attempts  We placed the trap in a high mouse traffic zone  It was located by plain old sticky boards  The first two nights all the sticky boards had a mouse but not the nooski  The third night the nooski caught a mouse  Kind of  It actually ended up not around his neck but kind of around his head  He made it a good distance  We only found him because of the bright green ring  I really hate mice and I will kill them to keep them out of my grain chicken coops and especially house  But there is no way I can justify doing that to an animal  I'll stick with using One Bite and sticky boards</td>\n",
       "      <td>[i, live, on, a, farm, in, the, middle, of, fields, , during, winter, mice, invade, our, barn, and, basement, looking, for, food, and, warmth, , so, i, know, a, thing, or, two, about, mouse, traps, , i, buy, a, lot, of, them, , in, fact, i, buy, them, by, the, case, , i, was, interested, in, trying, a, new, onebeing, new, is, the, only, thing, the, nooski, mouse, trap, has, going, for, it, , it's, miserable, to, set, not, terribly, effective, and, when, it, works, it's, inhumane, , first, you, have, to, set, the, trap, , this, involves, rolling, a, ...]</td>\n",
       "      <td>261</td>\n",
       "    </tr>\n",
       "    <tr>\n",
       "      <th>4</th>\n",
       "      <td>As you probably are aware by now the idea of this mousetrap is to snap a rubber band around the neck of the mouse to strangle it or perhaps break its neck Either way you end up with a mouse on the floor with a thick rubber band around its neck And if you have a dog or a cat they're more than likely going to eat the mouse AND the rubber band This is not something I want to riskAnother bad idea for us good for the company is that you would have to keep buying more rubber bands to keep using the trap It's not like so many other traps that are simply reusableSorry not only can't I recommend it I recommend against it</td>\n",
       "      <td>[as, you, probably, are, aware, by, now, the, idea, of, this, mousetrap, is, to, snap, a, rubber, band, around, the, neck, of, the, mouse, to, strangle, it, or, perhaps, break, its, neck, either, way, you, end, up, with, a, mouse, on, the, floor, with, a, thick, rubber, band, around, its, neck, and, if, you, have, a, dog, or, a, cat, they're, more, than, likely, going, to, eat, the, mouse, and, the, rubber, band, this, is, not, something, i, want, to, riskanother, bad, idea, for, us, good, for, the, company, is, that, you, would, have, to, keep, buying, more, rubber, bands, ...]</td>\n",
       "      <td>126</td>\n",
       "    </tr>\n",
       "  </tbody>\n",
       "</table>\n",
       "</div>"
      ],
      "text/plain": [
       "                                                                                                                                                                                                                                                                                                                                                                                                                                                                                                                                                                                                                                                                                                                                                                                                                                                                                                                                                                                                                                                                                                                                                                                                                                                                                                                                                                                                                                                                                                                                                                                                                                                                                                                                                                                                                                                                                                                                                                                                                                                                                                                                                                                                                                                                                                                                                                                                                                                                                                                                                                                                                                                                                                                                                                                                                                                                                                                                                                                                                                                                                                                                                                                                                                                                                                                                                                                                                                                                                                                                                                                                                                                                                                                                                                                                                                                                                        text  \\\n",
       "0  I received this yesterday  While waiting for it to arrive I read other reviews on it so was curious to find out what my own experience would be  I wasted no time setting itThe device consists of a clear plastic tube nestled into a black plastic tray  The first step on the instructions said to remove the clear tube from the black plastic tray and put bait in the bait tray  I could not make head nor tail of their diagram to figure out exactly where I was supposed to put the bait but took a guess and shoved a little peanut butter in  Next I loaded the ring which actually was much easier than I had anticipated based on reviews  The next step said to hold the lever with my thumb while inserting it back into the black plastic tray  The problem is it is not that easy to get it back in  I had had some difficulty getting it out in the first place and now I couldn't figure out how to get it back in  While trying my thumb released the trigger and the ring flew off  Now my hands were slightly greasy from the peanut butter and getting the ring back on was next to impossible  I tried drying everything off with a towel and eventually with the help of the towel was able to thread the ring back on  In the middle of all this I realized I had guessed wrong about where to put the bait  So now I had to clear the peanut butter out of where I had put it and move it to the new location again  a better diagram or marking ON the plastic where to put the bait would be enormously helpful  I again tried to set the clear plastic tube into the tray while holding the trigger with my thumb  I almost had it in when it triggered again planting the ring on my index finger  On the plus side there was no discomfort  On the minus side I had to reset the ring a third time  Finally on the third try I got the ring to stay on AND got the clear tube set into the black tray  FINALLY 20 minutes and a lot of frustration after starting the thing was set and ready to catch miceI've had a mouse problem in my chicken coop and the trail of mouse poop indicates where they spend a lot of time  So I set the trap up against a wall on the floor in the middle of one of their paths  I was mildly disappointed when locking up the chickens for the night last night to find that it had not yet killed a mouse  But I figured they are probably more active by night than by day so by morning it would have done the job  Not so  by this morning the thing is still sitting there triggered and ready to go  no dead mice anywhereSo needless to say my experience with this mouse trap has not been one that would allow me to recommend it  While working on it another thought occurred to me which is that it can only kill one at a time before needing to be reset  Prior to ordering this I had been looking at a Victor trap that can hold up to 30  A friend who also needed a trap for her chicken coop ordered the Victor trap and reported catching 16 the first night 13 the second and 15 the third  And she doesn't have to reorder any parts to get it to keep catching mice  When I compare that to the single mouse this trap could kill IF it did it at allthe choice is easyOff to order the Victor trapUpdate  After sitting in the chicken coop for 8 days the trap finally killed a mouse  As a matter of interest I tried removing the ring from the dead mouse and although it is tight and therefore not easy it is doable  I was able to reuse the ring to reset the trap and feed the mouse to the chickens  The next morning there was another dead mouse and I was able to repeat  It seems that now they are used to the trap sitting there it is starting to be effective  I also thought others might be interested to know it is possible to reuse the rings with a little bit of work   \n",
       "1  Number one I don't like how in humane this is Since the mouse ran across the entire room 14 feet after it got the ring on it's neck it was obvious it did not die instantly and then I still had to pick it up to throw away so nasty that way too The whole thing is also too expensive if you have a lot of mice I still say the old wood trap is just as good and cheaper than anything else out there and you can reuse it over and over I just pick the end of the trap up with that so I don't need to touch the dead mouse to open it and drop it in the garbage Much more sanitary Also I had a hard time getting this crazy thing put together with the ring on after the one that came already installed was used Anyone with big hands and fingersor weak hands and fingers will find it almost impossible to get it set again Just go buy the old wood traps they never let you down and are cheap and seem to never wear out I have one that is about 30 years old and works as well now as the day I bought it and I never need to buy anything extra to make it work They may try to make it look like it is hard to use but that's just negative advertising Like anything else once you've set it a few times it's a breeze                                                                                                                                                                                                                                                                                                                                                                                                                                                                                                                                                                                                                                                                                                                                                                                                                                                                                                                                                                                                                                                                                                                                                                                                                                                                                                                                                                                                                                                                                                                                                                                                                                                                                                                                                                                                                                                                                                                                                                                                                                                                                                                                                                                                                                                                                                                                                                                                                                                                                                                                                                                                                                                \n",
       "2  I've had this outside in a highly travelled mouse highway for about a month and a half already and we haven't caught one mouse with it  Meanwhile one standard trap 2 feet away and another standard trap 2 feet away in the other direction have both given me kills repeatedly                                                                                                                                                                                                                                                                                                                                                                                                                                                                                                                                                                                                                                                                                                                                                                                                                                                                                                                                                                                                                                                                                                                                                                                                                                                                                                                                                                                                                                                                                                                                                                                                                                                                                                                                                                                                                                                                                                                                                                                                                                                                                                                                                                                                                                                                                                                                                                                                                                                                                                                                                                                                                                                                                                                                                                                                                                                                                                                                                                                                                                                                                                                                                                                                                                                                                                                                                                                                                                                                                                                                                                                                            \n",
       "3  I live on a farm in the middle of fields  During winter mice invade our barn and basement looking for food and warmth  So I know a thing or two about mouse traps  I buy a lot of them  In fact I buy them by the case  I was interested in trying a new oneBeing new is the only thing the Nooski mouse trap has going for it  It's miserable to set not terribly effective and when it works it's inhumane  First you have to set the trap  This involves rolling a very tight rubber ring around the trap  That's a pain and I ended up needing my son's help  We tried tripping the trap and it tripped one time out of three attempts  We placed the trap in a high mouse traffic zone  It was located by plain old sticky boards  The first two nights all the sticky boards had a mouse but not the nooski  The third night the nooski caught a mouse  Kind of  It actually ended up not around his neck but kind of around his head  He made it a good distance  We only found him because of the bright green ring  I really hate mice and I will kill them to keep them out of my grain chicken coops and especially house  But there is no way I can justify doing that to an animal  I'll stick with using One Bite and sticky boards                                                                                                                                                                                                                                                                                                                                                                                                                                                                                                                                                                                                                                                                                                                                                                                                                                                                                                                                                                                                                                                                                                                                                                                                                                                                                                                                                                                                                                                                                                                                                                                                                                                                                                                                                                                                                                                                                                                                                                                                                                                                                                                                                                                                                                                                                                                                                                                                                                                                                                                                                                                                                                           \n",
       "4  As you probably are aware by now the idea of this mousetrap is to snap a rubber band around the neck of the mouse to strangle it or perhaps break its neck Either way you end up with a mouse on the floor with a thick rubber band around its neck And if you have a dog or a cat they're more than likely going to eat the mouse AND the rubber band This is not something I want to riskAnother bad idea for us good for the company is that you would have to keep buying more rubber bands to keep using the trap It's not like so many other traps that are simply reusableSorry not only can't I recommend it I recommend against it                                                                                                                                                                                                                                                                                                                                                                                                                                                                                                                                                                                                                                                                                                                                                                                                                                                                                                                                                                                                                                                                                                                                                                                                                                                                                                                                                                                                                                                                                                                                                                                                                                                                                                                                                                                                                                                                                                                                                                                                                                                                                                                                                                                                                                                                                                                                                                                                                                                                                                                                                                                                                                                                                                                                                                                                                                                                                                                                                                                                                                                                                                                                                                                                                                                 \n",
       "\n",
       "                                                                                                                                                                                                                                                                                                                                                                                                                                                                                                                                                                                                                    words  \\\n",
       "0  [i, received, this, yesterday, , while, waiting, for, it, to, arrive, i, read, other, reviews, on, it, so, was, curious, to, find, out, what, my, own, experience, would, be, , i, wasted, no, time, setting, itthe, device, consists, of, a, clear, plastic, tube, nestled, into, a, black, plastic, tray, , the, first, step, on, the, instructions, said, to, remove, the, clear, tube, from, the, black, plastic, tray, and, put, bait, in, the, bait, tray, , i, could, not, make, head, nor, tail, of, their, diagram, to, figure, out, exactly, where, i, was, supposed, to, put, the, bait, but, took, a, ...]   \n",
       "1  [number, one, i, don't, like, how, in, humane, this, is, since, the, mouse, ran, across, the, entire, room, 14, feet, after, it, got, the, ring, on, it's, neck, it, was, obvious, it, did, not, die, instantly, and, then, i, still, had, to, pick, it, up, to, throw, away, so, nasty, that, way, too, the, whole, thing, is, also, too, expensive, if, you, have, a, lot, of, mice, i, still, say, the, old, wood, trap, is, just, as, good, and, cheaper, than, anything, else, out, there, and, you, can, reuse, it, over, and, over, i, just, pick, the, end, of, the, ...]                                        \n",
       "2  [i've, had, this, outside, in, a, highly, travelled, mouse, highway, for, about, a, month, and, a, half, already, and, we, haven't, caught, one, mouse, with, it, , meanwhile, one, standard, trap, 2, feet, away, and, another, standard, trap, 2, feet, away, in, the, other, direction, have, both, given, me, kills, repeatedly]                                                                                                                                                                                                                                                                                     \n",
       "3  [i, live, on, a, farm, in, the, middle, of, fields, , during, winter, mice, invade, our, barn, and, basement, looking, for, food, and, warmth, , so, i, know, a, thing, or, two, about, mouse, traps, , i, buy, a, lot, of, them, , in, fact, i, buy, them, by, the, case, , i, was, interested, in, trying, a, new, onebeing, new, is, the, only, thing, the, nooski, mouse, trap, has, going, for, it, , it's, miserable, to, set, not, terribly, effective, and, when, it, works, it's, inhumane, , first, you, have, to, set, the, trap, , this, involves, rolling, a, ...]                                          \n",
       "4  [as, you, probably, are, aware, by, now, the, idea, of, this, mousetrap, is, to, snap, a, rubber, band, around, the, neck, of, the, mouse, to, strangle, it, or, perhaps, break, its, neck, either, way, you, end, up, with, a, mouse, on, the, floor, with, a, thick, rubber, band, around, its, neck, and, if, you, have, a, dog, or, a, cat, they're, more, than, likely, going, to, eat, the, mouse, and, the, rubber, band, this, is, not, something, i, want, to, riskanother, bad, idea, for, us, good, for, the, company, is, that, you, would, have, to, keep, buying, more, rubber, bands, ...]                \n",
       "\n",
       "   #tokens  \n",
       "0  781      \n",
       "1  254      \n",
       "2  51       \n",
       "3  261      \n",
       "4  126      "
      ]
     },
     "execution_count": 15,
     "metadata": {},
     "output_type": "execute_result"
    }
   ],
   "source": [
    "from pyspark.ml.feature import Tokenizer\n",
    "from pyspark.sql.functions import col, udf\n",
    "from pyspark.sql.types import IntegerType\n",
    "\n",
    "tokenizer = Tokenizer(inputCol=\"text\", outputCol=\"words\")\n",
    "\n",
    "countTokens = udf(lambda words: len(words), IntegerType())\n",
    "\n",
    "tokenized = tokenizer.transform(data)\n",
    "(tokenized.select(\"text\", \"words\")\n",
    "    .withColumn(\"#tokens\", countTokens(col(\"words\"))).toPandas().head())"
   ]
  },
  {
   "cell_type": "markdown",
   "metadata": {},
   "source": [
    "### Remove common words"
   ]
  },
  {
   "cell_type": "code",
   "execution_count": 16,
   "metadata": {},
   "outputs": [
    {
     "data": {
      "text/html": [
       "<div>\n",
       "<table border=\"1\" class=\"dataframe\">\n",
       "  <thead>\n",
       "    <tr style=\"text-align: right;\">\n",
       "      <th></th>\n",
       "      <th>text</th>\n",
       "      <th>words</th>\n",
       "      <th>filtered</th>\n",
       "    </tr>\n",
       "  </thead>\n",
       "  <tbody>\n",
       "    <tr>\n",
       "      <th>0</th>\n",
       "      <td>UPDATE  Originally I gave this hose 5 stars but after using them I bought 3 for a while I've changed my opinion Yes the hoses appear to be well made and are lighter weight than my old professional grade rubber hoses but Flexogens are still heavy These Flexogen hoses DO kink and they kink easily The only way to reduce the kinking is to completely unroll the entire 100 feet of hose from the reel lay it flat on the grund and then turn and turn and turn twistrotate it until it lays completely flat  make sure there are no waves or loops I pulled about 50 feet off the hose reel and holding the end walked across my yard I did not stop to twist out the waves and loops that it formed while unrolling The hose formed 9 kinks What a pain in the hand elbow and shoulder to straighten it This process wastes timeThe second problem is after I screw on my hose wand and turn on the water this hose becomes unwieldy The hose turns so that my wand is upside down It requires a LOT of effort to twist the hose and hold it so the wand sprays downwardrequires using both hands Fighting this hose is painful very tiring and aggravatingWhen you rewind it onto a hose reel the hose twists and turns causing it to again form waves and loops which become kinks Again you have to twist rotate etc to get all the wavesloops out so the hose lays flat and straight on the ground As you reel it in you have to stop and repeat the process My old commercialgrade hose never did anything like this You can buy the professionalcommercial grade hoses 100 ft at big box stores and clubs for about 25 Don't buy the FlexogenDue to age and arthritis in my hands I needed to replace my heavy rubber commercialgrade garden hoses with lighter weight easiertomaneuver hoses I was barely able to wind the old rubber hoses on the hose reel or drag them around the yard After reading reviews on Amazon and other places for garden hoses I chose this hose I'm glad I did While it's still heavy it weighs considerably less than my commercialgrade rubber hose It's easier to wind on the reel and easier to drag around the yardThe Amazon description calls this a lightweight hose It is NOT  light It's substantial I found a local store that  had this hose in 25 50 and 75ft lengths I was able to lift each and compare to heavy duty hoses of the same length I couldn't feel much of a difference so I definitely would call this a medium to heavyweight hose but lighter than my rubber oneThis hose is easier to handle than my old rubber ones because it's more flexible I suspect that my old hoses have stiffened over the yearsI've only used one I bought 3 of these for about 15 weeks It's been too hot too muggy and too rainy to use it much but I'm pleased so far I believe this hose is a very good quality and should last many years The solid brass fittings are thick so they won't get dents that cause leaks Because I haven't dragged it around the yard yet I cannot say whether it really is a nokink hose I recommend this hose because o the quality</td>\n",
       "      <td>[update, , originally, i, gave, this, hose, 5, stars, but, after, using, them, i, bought, 3, for, a, while, i've, changed, my, opinion, yes, the, hoses, appear, to, be, well, made, and, are, lighter, weight, than, my, old, professional, grade, rubber, hoses, but, flexogens, are, still, heavy, these, flexogen, hoses, do, kink, and, they, kink, easily, the, only, way, to, reduce, the, kinking, is, to, completely, unroll, the, entire, 100, feet, of, hose, from, the, reel, lay, it, flat, on, the, grund, and, then, turn, and, turn, and, turn, twistrotate, it, until, it, lays, completely, flat, , make, sure, there, ...]</td>\n",
       "      <td>[update, , originally, gave, hose, 5, stars, using, bought, 3, i've, changed, opinion, yes, hoses, appear, well, made, lighter, weight, old, professional, grade, rubber, hoses, flexogens, still, heavy, flexogen, hoses, kink, kink, easily, way, reduce, kinking, completely, unroll, entire, 100, feet, hose, reel, lay, flat, grund, turn, turn, turn, twistrotate, lays, completely, flat, , make, sure, waves, loops, pulled, 50, feet, hose, reel, holding, end, walked, across, yard, stop, twist, waves, loops, formed, unrolling, hose, formed, 9, kinks, pain, hand, elbow, shoulder, straighten, process, wastes, timethe, second, problem, screw, hose, wand, turn, water, hose, becomes, unwieldy, hose, turns, wand, upside, ...]</td>\n",
       "    </tr>\n",
       "    <tr>\n",
       "      <th>1</th>\n",
       "      <td>I purchased 6 of these hoses with what was supposed to be a lifetime guarantee After a short time the end on one of the hoses started leaking so I contacted the manufacturer and got a replacement A year later another hose started leaking and I got another replacement Then another hose started leaking but the company would no longer honor the warranty Now Gilmour is selling them But it's the same hose  Flexogen The hose itself it actually quite good if you don't mind replacing the hose ends eventually I've had to replace every end on every Flexogen hose that I haveKeep in mind that I bought hoses from Flexogen but that company no longer exists and Gilmour would not honor the warranty on those hoses even though Gilmour is now selling them Also note that Flexogen is a patented hose Lifetime warranty isn't much good when the company gets bought or taken over by another company and the new company Gilmour won't honor the warranty And who wants to have to keep sending in hose parts to get a replacement every year or twoLet me reiterate Gilmour would not honor the warranty on my Flexogen hoses I wrote to them multiple times and was told without explanation that Gilmour would not replace the defective hoses If you buy these hoses expecting a lifetime warranty you may not get itOn the Gilmour website there is no longer any information relating to Flexogen hose warranty or on how to have a Flexogen hose replaced  On Amazon it does say This heavyduty garden hose is made in the USA and backed by a lifetime guarantee It also says Lifetime Guarantee on the front of the hose package Gilmour is now owned by the Robert Bosch Corp so probably even less chance of getting a warranty replacement</td>\n",
       "      <td>[i, purchased, 6, of, these, hoses, with, what, was, supposed, to, be, a, lifetime, guarantee, after, a, short, time, the, end, on, one, of, the, hoses, started, leaking, so, i, contacted, the, manufacturer, and, got, a, replacement, a, year, later, another, hose, started, leaking, and, i, got, another, replacement, then, another, hose, started, leaking, but, the, company, would, no, longer, honor, the, warranty, now, gilmour, is, selling, them, but, it's, the, same, hose, , flexogen, the, hose, itself, it, actually, quite, good, if, you, don't, mind, replacing, the, hose, ends, eventually, i've, had, to, replace, every, end, on, every, flexogen, ...]</td>\n",
       "      <td>[purchased, 6, hoses, supposed, lifetime, guarantee, short, time, end, one, hoses, started, leaking, contacted, manufacturer, got, replacement, year, later, another, hose, started, leaking, got, another, replacement, another, hose, started, leaking, company, would, longer, honor, warranty, gilmour, selling, it's, hose, , flexogen, hose, actually, quite, good, don't, mind, replacing, hose, ends, eventually, i've, replace, every, end, every, flexogen, hose, havekeep, mind, bought, hoses, flexogen, company, longer, exists, gilmour, would, honor, warranty, hoses, even, though, gilmour, selling, also, note, flexogen, patented, hose, lifetime, warranty, isn't, much, good, company, gets, bought, taken, another, company, new, company, gilmour, won't, honor, warranty, wants, keep, sending, ...]</td>\n",
       "    </tr>\n",
       "    <tr>\n",
       "      <th>2</th>\n",
       "      <td>I am with a very small number of reviewers here that I have to wonder how this silly thing got that many positive reviews I have a small backyard but was constantly attacked by mosquitoes everytime I went out I have no standing water or what so ever My neighbors might but this thing is supposed to cover an whole acreI followed the instruction hung it a good distance from the porch and let it go Oh I also add the flowtron tape that came with the device to the bottom A few zaps here and there but nothing spectacular I left it on out there for a week and saw no difference Still got attacked by mosquitoes Two weeks same thing After a month I gave up and took it down There is no point to waste electricity Oh it served one purpose light up that corner of the yard someSo don't waste your hardearned money on this thing and electricity I am almost sure you will be disappointed This thing will go on my next trip to Goodwill</td>\n",
       "      <td>[i, am, with, a, very, small, number, of, reviewers, here, that, i, have, to, wonder, how, this, silly, thing, got, that, many, positive, reviews, i, have, a, small, backyard, but, was, constantly, attacked, by, mosquitoes, everytime, i, went, out, i, have, no, standing, water, or, what, so, ever, my, neighbors, might, but, this, thing, is, supposed, to, cover, an, whole, acrei, followed, the, instruction, hung, it, a, good, distance, from, the, porch, and, let, it, go, oh, i, also, add, the, flowtron, tape, that, came, with, the, device, to, the, bottom, a, few, zaps, here, and, there, but, nothing, spectacular, ...]</td>\n",
       "      <td>[small, number, reviewers, wonder, silly, thing, got, many, positive, reviews, small, backyard, constantly, attacked, mosquitoes, everytime, went, standing, water, ever, neighbors, might, thing, supposed, cover, whole, acrei, followed, instruction, hung, good, distance, porch, let, go, oh, also, add, flowtron, tape, came, device, bottom, zaps, nothing, spectacular, left, week, saw, difference, still, got, attacked, mosquitoes, two, weeks, thing, month, gave, took, point, waste, electricity, oh, served, one, purpose, light, corner, yard, someso, don't, waste, hardearned, money, thing, electricity, almost, sure, disappointed, thing, go, next, trip, goodwill]</td>\n",
       "    </tr>\n",
       "    <tr>\n",
       "      <th>3</th>\n",
       "      <td>This light is pretty worthless  It kills lots of moths and other nonbiting bugs but didn't put a dent in the mosquito or fly population  I got this as an alternative to my unreliable SkeeterVac but it does not work and is equally unreliable  The bulbs blew after 1 season  Replacement bulbs are 40 each plus shipping  It takes 2  That is 90 for 2 bulbs and I only paid 80 for the whole unit  Thanks but no thanksUnfortunately the only thing I've found that actually catches mosquitoes is the propane powered devices  They are all unreliable too  Skip the zappers and traps and use deet</td>\n",
       "      <td>[this, light, is, pretty, worthless, , it, kills, lots, of, moths, and, other, nonbiting, bugs, but, didn't, put, a, dent, in, the, mosquito, or, fly, population, , i, got, this, as, an, alternative, to, my, unreliable, skeetervac, but, it, does, not, work, and, is, equally, unreliable, , the, bulbs, blew, after, 1, season, , replacement, bulbs, are, 40, each, plus, shipping, , it, takes, 2, , that, is, 90, for, 2, bulbs, and, i, only, paid, 80, for, the, whole, unit, , thanks, but, no, thanksunfortunately, the, only, thing, i've, found, that, actually, catches, mosquitoes, is, the, propane, powered, devices, ...]</td>\n",
       "      <td>[light, pretty, worthless, , kills, lots, moths, nonbiting, bugs, didn't, put, dent, mosquito, fly, population, , got, alternative, unreliable, skeetervac, work, equally, unreliable, , bulbs, blew, 1, season, , replacement, bulbs, 40, plus, shipping, , takes, 2, , 90, 2, bulbs, paid, 80, whole, unit, , thanks, thanksunfortunately, thing, i've, found, actually, catches, mosquitoes, propane, powered, devices, , unreliable, , skip, zappers, traps, use, deet]</td>\n",
       "    </tr>\n",
       "    <tr>\n",
       "      <th>4</th>\n",
       "      <td>Currently I hate this thing  I may need to oil itadjust it or make some other modifications but it squeaks of metal on metal and cuts about 13rd of the grass I pass over with it  I found a manual mower like this in the yard of the first home I bought and used it for years  It was better than any mower I've ever owned  This seems to perform like a cereal box toy imitation of what a manual push mower is supposed to be like  Pooptastic  I will update this review if I am able to modify it to actually cut grass but out of the box it seems to make far too many blade passes per distance traveled to ever perform well  Also the last model I had had two counterrotating blades and this only has one rotating in one direction against a stationary bladeblock</td>\n",
       "      <td>[currently, i, hate, this, thing, , i, may, need, to, oil, itadjust, it, or, make, some, other, modifications, but, it, squeaks, of, metal, on, metal, and, cuts, about, 13rd, of, the, grass, i, pass, over, with, it, , i, found, a, manual, mower, like, this, in, the, yard, of, the, first, home, i, bought, and, used, it, for, years, , it, was, better, than, any, mower, i've, ever, owned, , this, seems, to, perform, like, a, cereal, box, toy, imitation, of, what, a, manual, push, mower, is, supposed, to, be, like, , pooptastic, , i, will, update, this, review, if, ...]</td>\n",
       "      <td>[currently, hate, thing, , may, need, oil, itadjust, make, modifications, squeaks, metal, metal, cuts, 13rd, grass, pass, , found, manual, mower, like, yard, first, home, bought, used, years, , better, mower, i've, ever, owned, , seems, perform, like, cereal, box, toy, imitation, manual, push, mower, supposed, like, , pooptastic, , update, review, able, modify, actually, cut, grass, box, seems, make, far, many, blade, passes, per, distance, traveled, ever, perform, well, , also, last, model, two, counterrotating, blades, one, rotating, one, direction, stationary, bladeblock]</td>\n",
       "    </tr>\n",
       "  </tbody>\n",
       "</table>\n",
       "</div>"
      ],
      "text/plain": [
       "                                                                                                                                                                                                                                                                                                                                                                                                                                                                                                                                                                                                                                                                                                                                                                                                                                                                                                                                                                                                                                                                                                                                                                                                                                                                                                                                                                                                                                                                                                                                                                                                                                                                                                                                                                                                                                                                                                                                                                                                                                                                                                                                                                                                                                                                                                                                                                                                                                                                                                                                                                                                                                                                                                                                                                                                                                                                                                                                                                                                                                                                                                                            text  \\\n",
       "0  UPDATE  Originally I gave this hose 5 stars but after using them I bought 3 for a while I've changed my opinion Yes the hoses appear to be well made and are lighter weight than my old professional grade rubber hoses but Flexogens are still heavy These Flexogen hoses DO kink and they kink easily The only way to reduce the kinking is to completely unroll the entire 100 feet of hose from the reel lay it flat on the grund and then turn and turn and turn twistrotate it until it lays completely flat  make sure there are no waves or loops I pulled about 50 feet off the hose reel and holding the end walked across my yard I did not stop to twist out the waves and loops that it formed while unrolling The hose formed 9 kinks What a pain in the hand elbow and shoulder to straighten it This process wastes timeThe second problem is after I screw on my hose wand and turn on the water this hose becomes unwieldy The hose turns so that my wand is upside down It requires a LOT of effort to twist the hose and hold it so the wand sprays downwardrequires using both hands Fighting this hose is painful very tiring and aggravatingWhen you rewind it onto a hose reel the hose twists and turns causing it to again form waves and loops which become kinks Again you have to twist rotate etc to get all the wavesloops out so the hose lays flat and straight on the ground As you reel it in you have to stop and repeat the process My old commercialgrade hose never did anything like this You can buy the professionalcommercial grade hoses 100 ft at big box stores and clubs for about 25 Don't buy the FlexogenDue to age and arthritis in my hands I needed to replace my heavy rubber commercialgrade garden hoses with lighter weight easiertomaneuver hoses I was barely able to wind the old rubber hoses on the hose reel or drag them around the yard After reading reviews on Amazon and other places for garden hoses I chose this hose I'm glad I did While it's still heavy it weighs considerably less than my commercialgrade rubber hose It's easier to wind on the reel and easier to drag around the yardThe Amazon description calls this a lightweight hose It is NOT  light It's substantial I found a local store that  had this hose in 25 50 and 75ft lengths I was able to lift each and compare to heavy duty hoses of the same length I couldn't feel much of a difference so I definitely would call this a medium to heavyweight hose but lighter than my rubber oneThis hose is easier to handle than my old rubber ones because it's more flexible I suspect that my old hoses have stiffened over the yearsI've only used one I bought 3 of these for about 15 weeks It's been too hot too muggy and too rainy to use it much but I'm pleased so far I believe this hose is a very good quality and should last many years The solid brass fittings are thick so they won't get dents that cause leaks Because I haven't dragged it around the yard yet I cannot say whether it really is a nokink hose I recommend this hose because o the quality   \n",
       "1  I purchased 6 of these hoses with what was supposed to be a lifetime guarantee After a short time the end on one of the hoses started leaking so I contacted the manufacturer and got a replacement A year later another hose started leaking and I got another replacement Then another hose started leaking but the company would no longer honor the warranty Now Gilmour is selling them But it's the same hose  Flexogen The hose itself it actually quite good if you don't mind replacing the hose ends eventually I've had to replace every end on every Flexogen hose that I haveKeep in mind that I bought hoses from Flexogen but that company no longer exists and Gilmour would not honor the warranty on those hoses even though Gilmour is now selling them Also note that Flexogen is a patented hose Lifetime warranty isn't much good when the company gets bought or taken over by another company and the new company Gilmour won't honor the warranty And who wants to have to keep sending in hose parts to get a replacement every year or twoLet me reiterate Gilmour would not honor the warranty on my Flexogen hoses I wrote to them multiple times and was told without explanation that Gilmour would not replace the defective hoses If you buy these hoses expecting a lifetime warranty you may not get itOn the Gilmour website there is no longer any information relating to Flexogen hose warranty or on how to have a Flexogen hose replaced  On Amazon it does say This heavyduty garden hose is made in the USA and backed by a lifetime guarantee It also says Lifetime Guarantee on the front of the hose package Gilmour is now owned by the Robert Bosch Corp so probably even less chance of getting a warranty replacement                                                                                                                                                                                                                                                                                                                                                                                                                                                                                                                                                                                                                                                                                                                                                                                                                                                                                                                                                                                                                                                                                                                                                                                                                                                                                                                                                         \n",
       "2  I am with a very small number of reviewers here that I have to wonder how this silly thing got that many positive reviews I have a small backyard but was constantly attacked by mosquitoes everytime I went out I have no standing water or what so ever My neighbors might but this thing is supposed to cover an whole acreI followed the instruction hung it a good distance from the porch and let it go Oh I also add the flowtron tape that came with the device to the bottom A few zaps here and there but nothing spectacular I left it on out there for a week and saw no difference Still got attacked by mosquitoes Two weeks same thing After a month I gave up and took it down There is no point to waste electricity Oh it served one purpose light up that corner of the yard someSo don't waste your hardearned money on this thing and electricity I am almost sure you will be disappointed This thing will go on my next trip to Goodwill                                                                                                                                                                                                                                                                                                                                                                                                                                                                                                                                                                                                                                                                                                                                                                                                                                                                                                                                                                                                                                                                                                                                                                                                                                                                                                                                                                                                                                                                                                                                                                                                                                                                                                                                                                                                                                                                                                                                                                                                                                                                                                                                                                 \n",
       "3  This light is pretty worthless  It kills lots of moths and other nonbiting bugs but didn't put a dent in the mosquito or fly population  I got this as an alternative to my unreliable SkeeterVac but it does not work and is equally unreliable  The bulbs blew after 1 season  Replacement bulbs are 40 each plus shipping  It takes 2  That is 90 for 2 bulbs and I only paid 80 for the whole unit  Thanks but no thanksUnfortunately the only thing I've found that actually catches mosquitoes is the propane powered devices  They are all unreliable too  Skip the zappers and traps and use deet                                                                                                                                                                                                                                                                                                                                                                                                                                                                                                                                                                                                                                                                                                                                                                                                                                                                                                                                                                                                                                                                                                                                                                                                                                                                                                                                                                                                                                                                                                                                                                                                                                                                                                                                                                                                                                                                                                                                                                                                                                                                                                                                                                                                                                                                                                                                                                                                                                                                                                                       \n",
       "4  Currently I hate this thing  I may need to oil itadjust it or make some other modifications but it squeaks of metal on metal and cuts about 13rd of the grass I pass over with it  I found a manual mower like this in the yard of the first home I bought and used it for years  It was better than any mower I've ever owned  This seems to perform like a cereal box toy imitation of what a manual push mower is supposed to be like  Pooptastic  I will update this review if I am able to modify it to actually cut grass but out of the box it seems to make far too many blade passes per distance traveled to ever perform well  Also the last model I had had two counterrotating blades and this only has one rotating in one direction against a stationary bladeblock                                                                                                                                                                                                                                                                                                                                                                                                                                                                                                                                                                                                                                                                                                                                                                                                                                                                                                                                                                                                                                                                                                                                                                                                                                                                                                                                                                                                                                                                                                                                                                                                                                                                                                                                                                                                                                                                                                                                                                                                                                                                                                                                                                                                                                                                                                                                              \n",
       "\n",
       "                                                                                                                                                                                                                                                                                                                                                                                                                                                                                                                                                                                                                                                                                 words  \\\n",
       "0  [update, , originally, i, gave, this, hose, 5, stars, but, after, using, them, i, bought, 3, for, a, while, i've, changed, my, opinion, yes, the, hoses, appear, to, be, well, made, and, are, lighter, weight, than, my, old, professional, grade, rubber, hoses, but, flexogens, are, still, heavy, these, flexogen, hoses, do, kink, and, they, kink, easily, the, only, way, to, reduce, the, kinking, is, to, completely, unroll, the, entire, 100, feet, of, hose, from, the, reel, lay, it, flat, on, the, grund, and, then, turn, and, turn, and, turn, twistrotate, it, until, it, lays, completely, flat, , make, sure, there, ...]                                         \n",
       "1  [i, purchased, 6, of, these, hoses, with, what, was, supposed, to, be, a, lifetime, guarantee, after, a, short, time, the, end, on, one, of, the, hoses, started, leaking, so, i, contacted, the, manufacturer, and, got, a, replacement, a, year, later, another, hose, started, leaking, and, i, got, another, replacement, then, another, hose, started, leaking, but, the, company, would, no, longer, honor, the, warranty, now, gilmour, is, selling, them, but, it's, the, same, hose, , flexogen, the, hose, itself, it, actually, quite, good, if, you, don't, mind, replacing, the, hose, ends, eventually, i've, had, to, replace, every, end, on, every, flexogen, ...]   \n",
       "2  [i, am, with, a, very, small, number, of, reviewers, here, that, i, have, to, wonder, how, this, silly, thing, got, that, many, positive, reviews, i, have, a, small, backyard, but, was, constantly, attacked, by, mosquitoes, everytime, i, went, out, i, have, no, standing, water, or, what, so, ever, my, neighbors, might, but, this, thing, is, supposed, to, cover, an, whole, acrei, followed, the, instruction, hung, it, a, good, distance, from, the, porch, and, let, it, go, oh, i, also, add, the, flowtron, tape, that, came, with, the, device, to, the, bottom, a, few, zaps, here, and, there, but, nothing, spectacular, ...]                                     \n",
       "3  [this, light, is, pretty, worthless, , it, kills, lots, of, moths, and, other, nonbiting, bugs, but, didn't, put, a, dent, in, the, mosquito, or, fly, population, , i, got, this, as, an, alternative, to, my, unreliable, skeetervac, but, it, does, not, work, and, is, equally, unreliable, , the, bulbs, blew, after, 1, season, , replacement, bulbs, are, 40, each, plus, shipping, , it, takes, 2, , that, is, 90, for, 2, bulbs, and, i, only, paid, 80, for, the, whole, unit, , thanks, but, no, thanksunfortunately, the, only, thing, i've, found, that, actually, catches, mosquitoes, is, the, propane, powered, devices, ...]                                         \n",
       "4  [currently, i, hate, this, thing, , i, may, need, to, oil, itadjust, it, or, make, some, other, modifications, but, it, squeaks, of, metal, on, metal, and, cuts, about, 13rd, of, the, grass, i, pass, over, with, it, , i, found, a, manual, mower, like, this, in, the, yard, of, the, first, home, i, bought, and, used, it, for, years, , it, was, better, than, any, mower, i've, ever, owned, , this, seems, to, perform, like, a, cereal, box, toy, imitation, of, what, a, manual, push, mower, is, supposed, to, be, like, , pooptastic, , i, will, update, this, review, if, ...]                                                                                          \n",
       "\n",
       "                                                                                                                                                                                                                                                                                                                                                                                                                                                                                                                                                                                                                                                                                                                                                                                                                       filtered  \n",
       "0  [update, , originally, gave, hose, 5, stars, using, bought, 3, i've, changed, opinion, yes, hoses, appear, well, made, lighter, weight, old, professional, grade, rubber, hoses, flexogens, still, heavy, flexogen, hoses, kink, kink, easily, way, reduce, kinking, completely, unroll, entire, 100, feet, hose, reel, lay, flat, grund, turn, turn, turn, twistrotate, lays, completely, flat, , make, sure, waves, loops, pulled, 50, feet, hose, reel, holding, end, walked, across, yard, stop, twist, waves, loops, formed, unrolling, hose, formed, 9, kinks, pain, hand, elbow, shoulder, straighten, process, wastes, timethe, second, problem, screw, hose, wand, turn, water, hose, becomes, unwieldy, hose, turns, wand, upside, ...]                                                                             \n",
       "1  [purchased, 6, hoses, supposed, lifetime, guarantee, short, time, end, one, hoses, started, leaking, contacted, manufacturer, got, replacement, year, later, another, hose, started, leaking, got, another, replacement, another, hose, started, leaking, company, would, longer, honor, warranty, gilmour, selling, it's, hose, , flexogen, hose, actually, quite, good, don't, mind, replacing, hose, ends, eventually, i've, replace, every, end, every, flexogen, hose, havekeep, mind, bought, hoses, flexogen, company, longer, exists, gilmour, would, honor, warranty, hoses, even, though, gilmour, selling, also, note, flexogen, patented, hose, lifetime, warranty, isn't, much, good, company, gets, bought, taken, another, company, new, company, gilmour, won't, honor, warranty, wants, keep, sending, ...]  \n",
       "2  [small, number, reviewers, wonder, silly, thing, got, many, positive, reviews, small, backyard, constantly, attacked, mosquitoes, everytime, went, standing, water, ever, neighbors, might, thing, supposed, cover, whole, acrei, followed, instruction, hung, good, distance, porch, let, go, oh, also, add, flowtron, tape, came, device, bottom, zaps, nothing, spectacular, left, week, saw, difference, still, got, attacked, mosquitoes, two, weeks, thing, month, gave, took, point, waste, electricity, oh, served, one, purpose, light, corner, yard, someso, don't, waste, hardearned, money, thing, electricity, almost, sure, disappointed, thing, go, next, trip, goodwill]                                                                                                                                      \n",
       "3  [light, pretty, worthless, , kills, lots, moths, nonbiting, bugs, didn't, put, dent, mosquito, fly, population, , got, alternative, unreliable, skeetervac, work, equally, unreliable, , bulbs, blew, 1, season, , replacement, bulbs, 40, plus, shipping, , takes, 2, , 90, 2, bulbs, paid, 80, whole, unit, , thanks, thanksunfortunately, thing, i've, found, actually, catches, mosquitoes, propane, powered, devices, , unreliable, , skip, zappers, traps, use, deet]                                                                                                                                                                                                                                                                                                                                                   \n",
       "4  [currently, hate, thing, , may, need, oil, itadjust, make, modifications, squeaks, metal, metal, cuts, 13rd, grass, pass, , found, manual, mower, like, yard, first, home, bought, used, years, , better, mower, i've, ever, owned, , seems, perform, like, cereal, box, toy, imitation, manual, push, mower, supposed, like, , pooptastic, , update, review, able, modify, actually, cut, grass, box, seems, make, far, many, blade, passes, per, distance, traveled, ever, perform, well, , also, last, model, two, counterrotating, blades, one, rotating, one, direction, stationary, bladeblock]                                                                                                                                                                                                                         "
      ]
     },
     "execution_count": 16,
     "metadata": {},
     "output_type": "execute_result"
    }
   ],
   "source": [
    "from pyspark.ml.feature import StopWordsRemover\n",
    "\n",
    "remover = StopWordsRemover(inputCol=\"words\", outputCol=\"filtered\").setCaseSensitive(False)\n",
    "removed = remover.transform(tokenized)\n",
    "removed.select(\"text\", \"words\", \"filtered\" ).toPandas().head()"
   ]
  },
  {
   "cell_type": "markdown",
   "metadata": {},
   "source": [
    "### Show list of common words removed"
   ]
  },
  {
   "cell_type": "code",
   "execution_count": 17,
   "metadata": {},
   "outputs": [
    {
     "name": "stdout",
     "output_type": "stream",
     "text": [
      "i\n",
      "me\n",
      "my\n",
      "myself\n",
      "we\n",
      "our\n",
      "ours\n",
      "ourselves\n",
      "you\n",
      "your\n",
      "yours\n",
      "yourself\n",
      "yourselves\n",
      "he\n",
      "him\n",
      "his\n",
      "himself\n",
      "she\n",
      "her\n",
      "hers\n",
      "herself\n",
      "it\n",
      "its\n",
      "itself\n",
      "they\n",
      "them\n",
      "their\n",
      "theirs\n",
      "themselves\n",
      "what\n",
      "which\n",
      "who\n",
      "whom\n",
      "this\n",
      "that\n",
      "these\n",
      "those\n",
      "am\n",
      "is\n",
      "are\n",
      "was\n",
      "were\n",
      "be\n",
      "been\n",
      "being\n",
      "have\n",
      "has\n",
      "had\n",
      "having\n",
      "do\n",
      "does\n",
      "did\n",
      "doing\n",
      "a\n",
      "an\n",
      "the\n",
      "and\n",
      "but\n",
      "if\n",
      "or\n",
      "because\n",
      "as\n",
      "until\n",
      "while\n",
      "of\n",
      "at\n",
      "by\n",
      "for\n",
      "with\n",
      "about\n",
      "against\n",
      "between\n",
      "into\n",
      "through\n",
      "during\n",
      "before\n",
      "after\n",
      "above\n",
      "below\n",
      "to\n",
      "from\n",
      "up\n",
      "down\n",
      "in\n",
      "out\n",
      "on\n",
      "off\n",
      "over\n",
      "under\n",
      "again\n",
      "further\n",
      "then\n",
      "once\n",
      "here\n",
      "there\n",
      "when\n",
      "where\n",
      "why\n",
      "how\n",
      "all\n",
      "any\n",
      "both\n",
      "each\n",
      "few\n",
      "more\n",
      "most\n",
      "other\n",
      "some\n",
      "such\n",
      "no\n",
      "nor\n",
      "not\n",
      "only\n",
      "own\n",
      "same\n",
      "so\n",
      "than\n",
      "too\n",
      "very\n",
      "s\n",
      "t\n",
      "can\n",
      "will\n",
      "just\n",
      "don\n",
      "should\n",
      "now\n",
      "d\n",
      "ll\n",
      "m\n",
      "o\n",
      "re\n",
      "ve\n",
      "y\n",
      "ain\n",
      "aren\n",
      "couldn\n",
      "didn\n",
      "doesn\n",
      "hadn\n",
      "hasn\n",
      "haven\n",
      "isn\n",
      "ma\n",
      "mightn\n",
      "mustn\n",
      "needn\n",
      "shan\n",
      "shouldn\n",
      "wasn\n",
      "weren\n",
      "won\n",
      "wouldn\n"
     ]
    },
    {
     "data": {
      "text/plain": [
       "[None,\n",
       " None,\n",
       " None,\n",
       " None,\n",
       " None,\n",
       " None,\n",
       " None,\n",
       " None,\n",
       " None,\n",
       " None,\n",
       " None,\n",
       " None,\n",
       " None,\n",
       " None,\n",
       " None,\n",
       " None,\n",
       " None,\n",
       " None,\n",
       " None,\n",
       " None,\n",
       " None,\n",
       " None,\n",
       " None,\n",
       " None,\n",
       " None,\n",
       " None,\n",
       " None,\n",
       " None,\n",
       " None,\n",
       " None,\n",
       " None,\n",
       " None,\n",
       " None,\n",
       " None,\n",
       " None,\n",
       " None,\n",
       " None,\n",
       " None,\n",
       " None,\n",
       " None,\n",
       " None,\n",
       " None,\n",
       " None,\n",
       " None,\n",
       " None,\n",
       " None,\n",
       " None,\n",
       " None,\n",
       " None,\n",
       " None,\n",
       " None,\n",
       " None,\n",
       " None,\n",
       " None,\n",
       " None,\n",
       " None,\n",
       " None,\n",
       " None,\n",
       " None,\n",
       " None,\n",
       " None,\n",
       " None,\n",
       " None,\n",
       " None,\n",
       " None,\n",
       " None,\n",
       " None,\n",
       " None,\n",
       " None,\n",
       " None,\n",
       " None,\n",
       " None,\n",
       " None,\n",
       " None,\n",
       " None,\n",
       " None,\n",
       " None,\n",
       " None,\n",
       " None,\n",
       " None,\n",
       " None,\n",
       " None,\n",
       " None,\n",
       " None,\n",
       " None,\n",
       " None,\n",
       " None,\n",
       " None,\n",
       " None,\n",
       " None,\n",
       " None,\n",
       " None,\n",
       " None,\n",
       " None,\n",
       " None,\n",
       " None,\n",
       " None,\n",
       " None,\n",
       " None,\n",
       " None,\n",
       " None,\n",
       " None,\n",
       " None,\n",
       " None,\n",
       " None,\n",
       " None,\n",
       " None,\n",
       " None,\n",
       " None,\n",
       " None,\n",
       " None,\n",
       " None,\n",
       " None,\n",
       " None,\n",
       " None,\n",
       " None,\n",
       " None,\n",
       " None,\n",
       " None,\n",
       " None,\n",
       " None,\n",
       " None,\n",
       " None,\n",
       " None,\n",
       " None,\n",
       " None,\n",
       " None,\n",
       " None,\n",
       " None,\n",
       " None,\n",
       " None,\n",
       " None,\n",
       " None,\n",
       " None,\n",
       " None,\n",
       " None,\n",
       " None,\n",
       " None,\n",
       " None,\n",
       " None,\n",
       " None,\n",
       " None,\n",
       " None,\n",
       " None,\n",
       " None,\n",
       " None,\n",
       " None,\n",
       " None,\n",
       " None,\n",
       " None,\n",
       " None,\n",
       " None,\n",
       " None]"
      ]
     },
     "execution_count": 17,
     "metadata": {},
     "output_type": "execute_result"
    }
   ],
   "source": [
    "from __future__ import print_function\n",
    "[print(x) for x in remover.getStopWords()]"
   ]
  },
  {
   "cell_type": "markdown",
   "metadata": {},
   "source": [
    "### Hash the words"
   ]
  },
  {
   "cell_type": "code",
   "execution_count": 18,
   "metadata": {},
   "outputs": [
    {
     "data": {
      "text/html": [
       "<div>\n",
       "<table border=\"1\" class=\"dataframe\">\n",
       "  <thead>\n",
       "    <tr style=\"text-align: right;\">\n",
       "      <th></th>\n",
       "      <th>text</th>\n",
       "      <th>filtered</th>\n",
       "      <th>rawFeatures</th>\n",
       "    </tr>\n",
       "  </thead>\n",
       "  <tbody>\n",
       "    <tr>\n",
       "      <th>0</th>\n",
       "      <td>UPDATE  Originally I gave this hose 5 stars but after using them I bought 3 for a while I've changed my opinion Yes the hoses appear to be well made and are lighter weight than my old professional grade rubber hoses but Flexogens are still heavy These Flexogen hoses DO kink and they kink easily The only way to reduce the kinking is to completely unroll the entire 100 feet of hose from the reel lay it flat on the grund and then turn and turn and turn twistrotate it until it lays completely flat  make sure there are no waves or loops I pulled about 50 feet off the hose reel and holding the end walked across my yard I did not stop to twist out the waves and loops that it formed while unrolling The hose formed 9 kinks What a pain in the hand elbow and shoulder to straighten it This process wastes timeThe second problem is after I screw on my hose wand and turn on the water this hose becomes unwieldy The hose turns so that my wand is upside down It requires a LOT of effort to twist the hose and hold it so the wand sprays downwardrequires using both hands Fighting this hose is painful very tiring and aggravatingWhen you rewind it onto a hose reel the hose twists and turns causing it to again form waves and loops which become kinks Again you have to twist rotate etc to get all the wavesloops out so the hose lays flat and straight on the ground As you reel it in you have to stop and repeat the process My old commercialgrade hose never did anything like this You can buy the professionalcommercial grade hoses 100 ft at big box stores and clubs for about 25 Don't buy the FlexogenDue to age and arthritis in my hands I needed to replace my heavy rubber commercialgrade garden hoses with lighter weight easiertomaneuver hoses I was barely able to wind the old rubber hoses on the hose reel or drag them around the yard After reading reviews on Amazon and other places for garden hoses I chose this hose I'm glad I did While it's still heavy it weighs considerably less than my commercialgrade rubber hose It's easier to wind on the reel and easier to drag around the yardThe Amazon description calls this a lightweight hose It is NOT  light It's substantial I found a local store that  had this hose in 25 50 and 75ft lengths I was able to lift each and compare to heavy duty hoses of the same length I couldn't feel much of a difference so I definitely would call this a medium to heavyweight hose but lighter than my rubber oneThis hose is easier to handle than my old rubber ones because it's more flexible I suspect that my old hoses have stiffened over the yearsI've only used one I bought 3 of these for about 15 weeks It's been too hot too muggy and too rainy to use it much but I'm pleased so far I believe this hose is a very good quality and should last many years The solid brass fittings are thick so they won't get dents that cause leaks Because I haven't dragged it around the yard yet I cannot say whether it really is a nokink hose I recommend this hose because o the quality</td>\n",
       "      <td>[update, , originally, gave, hose, 5, stars, using, bought, 3, i've, changed, opinion, yes, hoses, appear, well, made, lighter, weight, old, professional, grade, rubber, hoses, flexogens, still, heavy, flexogen, hoses, kink, kink, easily, way, reduce, kinking, completely, unroll, entire, 100, feet, hose, reel, lay, flat, grund, turn, turn, turn, twistrotate, lays, completely, flat, , make, sure, waves, loops, pulled, 50, feet, hose, reel, holding, end, walked, across, yard, stop, twist, waves, loops, formed, unrolling, hose, formed, 9, kinks, pain, hand, elbow, shoulder, straighten, process, wastes, timethe, second, problem, screw, hose, wand, turn, water, hose, becomes, unwieldy, hose, turns, wand, upside, ...]</td>\n",
       "      <td>(2.0, 7.0, 4.0, 2.0, 1.0, 5.0, 1.0, 4.0, 2.0, 24.0, 6.0, 9.0, 12.0, 4.0, 3.0, 2.0, 2.0, 1.0, 6.0, 2.0, 1.0, 3.0, 2.0, 2.0, 7.0, 2.0, 3.0, 2.0, 2.0, 0.0, 1.0, 4.0, 1.0, 2.0, 2.0, 4.0, 2.0, 9.0, 2.0, 2.0, 3.0, 1.0, 0.0, 3.0, 4.0, 1.0, 1.0, 1.0, 3.0, 2.0, 1.0, 3.0, 1.0, 5.0, 0.0, 4.0, 3.0, 2.0, 3.0, 6.0, 2.0, 0.0, 0.0, 1.0, 2.0, 4.0, 2.0, 2.0, 12.0, 3.0, 3.0, 0.0, 9.0, 1.0, 4.0, 0.0, 1.0, 0.0, 1.0, 2.0, 7.0, 1.0, 0.0, 1.0, 2.0, 1.0, 6.0, 1.0, 5.0, 9.0, 3.0, 0.0, 4.0, 4.0, 0.0, 6.0, 4.0, 1.0, 4.0, 4.0)</td>\n",
       "    </tr>\n",
       "    <tr>\n",
       "      <th>1</th>\n",
       "      <td>I purchased 6 of these hoses with what was supposed to be a lifetime guarantee After a short time the end on one of the hoses started leaking so I contacted the manufacturer and got a replacement A year later another hose started leaking and I got another replacement Then another hose started leaking but the company would no longer honor the warranty Now Gilmour is selling them But it's the same hose  Flexogen The hose itself it actually quite good if you don't mind replacing the hose ends eventually I've had to replace every end on every Flexogen hose that I haveKeep in mind that I bought hoses from Flexogen but that company no longer exists and Gilmour would not honor the warranty on those hoses even though Gilmour is now selling them Also note that Flexogen is a patented hose Lifetime warranty isn't much good when the company gets bought or taken over by another company and the new company Gilmour won't honor the warranty And who wants to have to keep sending in hose parts to get a replacement every year or twoLet me reiterate Gilmour would not honor the warranty on my Flexogen hoses I wrote to them multiple times and was told without explanation that Gilmour would not replace the defective hoses If you buy these hoses expecting a lifetime warranty you may not get itOn the Gilmour website there is no longer any information relating to Flexogen hose warranty or on how to have a Flexogen hose replaced  On Amazon it does say This heavyduty garden hose is made in the USA and backed by a lifetime guarantee It also says Lifetime Guarantee on the front of the hose package Gilmour is now owned by the Robert Bosch Corp so probably even less chance of getting a warranty replacement</td>\n",
       "      <td>[purchased, 6, hoses, supposed, lifetime, guarantee, short, time, end, one, hoses, started, leaking, contacted, manufacturer, got, replacement, year, later, another, hose, started, leaking, got, another, replacement, another, hose, started, leaking, company, would, longer, honor, warranty, gilmour, selling, it's, hose, , flexogen, hose, actually, quite, good, don't, mind, replacing, hose, ends, eventually, i've, replace, every, end, every, flexogen, hose, havekeep, mind, bought, hoses, flexogen, company, longer, exists, gilmour, would, honor, warranty, hoses, even, though, gilmour, selling, also, note, flexogen, patented, hose, lifetime, warranty, isn't, much, good, company, gets, bought, taken, another, company, new, company, gilmour, won't, honor, warranty, wants, keep, sending, ...]</td>\n",
       "      <td>(0.0, 1.0, 0.0, 2.0, 0.0, 0.0, 2.0, 2.0, 0.0, 13.0, 1.0, 2.0, 0.0, 2.0, 0.0, 0.0, 0.0, 0.0, 5.0, 2.0, 1.0, 0.0, 0.0, 0.0, 1.0, 1.0, 1.0, 0.0, 1.0, 4.0, 1.0, 0.0, 1.0, 0.0, 0.0, 0.0, 3.0, 2.0, 1.0, 5.0, 4.0, 16.0, 1.0, 0.0, 2.0, 0.0, 0.0, 1.0, 1.0, 0.0, 1.0, 0.0, 2.0, 1.0, 0.0, 1.0, 0.0, 6.0, 1.0, 3.0, 0.0, 1.0, 2.0, 5.0, 1.0, 1.0, 8.0, 0.0, 12.0, 0.0, 0.0, 1.0, 3.0, 8.0, 1.0, 1.0, 0.0, 0.0, 2.0, 5.0, 0.0, 0.0, 1.0, 0.0, 5.0, 0.0, 0.0, 3.0, 1.0, 1.0, 0.0, 1.0, 8.0, 1.0, 1.0, 1.0, 2.0, 1.0, 0.0, 3.0)</td>\n",
       "    </tr>\n",
       "    <tr>\n",
       "      <th>2</th>\n",
       "      <td>I am with a very small number of reviewers here that I have to wonder how this silly thing got that many positive reviews I have a small backyard but was constantly attacked by mosquitoes everytime I went out I have no standing water or what so ever My neighbors might but this thing is supposed to cover an whole acreI followed the instruction hung it a good distance from the porch and let it go Oh I also add the flowtron tape that came with the device to the bottom A few zaps here and there but nothing spectacular I left it on out there for a week and saw no difference Still got attacked by mosquitoes Two weeks same thing After a month I gave up and took it down There is no point to waste electricity Oh it served one purpose light up that corner of the yard someSo don't waste your hardearned money on this thing and electricity I am almost sure you will be disappointed This thing will go on my next trip to Goodwill</td>\n",
       "      <td>[small, number, reviewers, wonder, silly, thing, got, many, positive, reviews, small, backyard, constantly, attacked, mosquitoes, everytime, went, standing, water, ever, neighbors, might, thing, supposed, cover, whole, acrei, followed, instruction, hung, good, distance, porch, let, go, oh, also, add, flowtron, tape, came, device, bottom, zaps, nothing, spectacular, left, week, saw, difference, still, got, attacked, mosquitoes, two, weeks, thing, month, gave, took, point, waste, electricity, oh, served, one, purpose, light, corner, yard, someso, don't, waste, hardearned, money, thing, electricity, almost, sure, disappointed, thing, go, next, trip, goodwill]</td>\n",
       "      <td>(1.0, 4.0, 0.0, 2.0, 0.0, 0.0, 0.0, 2.0, 1.0, 2.0, 1.0, 0.0, 0.0, 0.0, 0.0, 0.0, 2.0, 0.0, 0.0, 0.0, 0.0, 1.0, 2.0, 1.0, 1.0, 0.0, 1.0, 0.0, 0.0, 2.0, 1.0, 0.0, 1.0, 0.0, 0.0, 0.0, 0.0, 1.0, 0.0, 0.0, 0.0, 0.0, 3.0, 0.0, 1.0, 0.0, 2.0, 0.0, 0.0, 1.0, 0.0, 1.0, 0.0, 1.0, 2.0, 0.0, 1.0, 0.0, 0.0, 0.0, 1.0, 0.0, 1.0, 0.0, 2.0, 0.0, 3.0, 0.0, 2.0, 2.0, 0.0, 1.0, 0.0, 1.0, 2.0, 7.0, 1.0, 3.0, 3.0, 0.0, 1.0, 0.0, 2.0, 2.0, 1.0, 1.0, 0.0, 0.0, 1.0, 0.0, 1.0, 0.0, 3.0, 0.0, 1.0, 0.0, 2.0, 1.0, 2.0, 0.0)</td>\n",
       "    </tr>\n",
       "    <tr>\n",
       "      <th>3</th>\n",
       "      <td>This light is pretty worthless  It kills lots of moths and other nonbiting bugs but didn't put a dent in the mosquito or fly population  I got this as an alternative to my unreliable SkeeterVac but it does not work and is equally unreliable  The bulbs blew after 1 season  Replacement bulbs are 40 each plus shipping  It takes 2  That is 90 for 2 bulbs and I only paid 80 for the whole unit  Thanks but no thanksUnfortunately the only thing I've found that actually catches mosquitoes is the propane powered devices  They are all unreliable too  Skip the zappers and traps and use deet</td>\n",
       "      <td>[light, pretty, worthless, , kills, lots, moths, nonbiting, bugs, didn't, put, dent, mosquito, fly, population, , got, alternative, unreliable, skeetervac, work, equally, unreliable, , bulbs, blew, 1, season, , replacement, bulbs, 40, plus, shipping, , takes, 2, , 90, 2, bulbs, paid, 80, whole, unit, , thanks, thanksunfortunately, thing, i've, found, actually, catches, mosquitoes, propane, powered, devices, , unreliable, , skip, zappers, traps, use, deet]</td>\n",
       "      <td>(0.0, 0.0, 0.0, 1.0, 0.0, 1.0, 0.0, 2.0, 1.0, 0.0, 1.0, 1.0, 1.0, 0.0, 1.0, 0.0, 0.0, 0.0, 1.0, 0.0, 0.0, 2.0, 0.0, 0.0, 0.0, 0.0, 1.0, 1.0, 0.0, 1.0, 2.0, 0.0, 0.0, 0.0, 1.0, 1.0, 1.0, 0.0, 1.0, 0.0, 1.0, 0.0, 0.0, 0.0, 1.0, 0.0, 0.0, 1.0, 1.0, 0.0, 0.0, 0.0, 0.0, 1.0, 1.0, 2.0, 0.0, 0.0, 0.0, 3.0, 3.0, 0.0, 1.0, 0.0, 0.0, 0.0, 0.0, 1.0, 0.0, 0.0, 0.0, 0.0, 9.0, 1.0, 1.0, 1.0, 0.0, 0.0, 0.0, 0.0, 0.0, 0.0, 1.0, 0.0, 0.0, 0.0, 1.0, 0.0, 1.0, 4.0, 0.0, 1.0, 1.0, 1.0, 0.0, 1.0, 0.0, 0.0, 1.0, 4.0)</td>\n",
       "    </tr>\n",
       "    <tr>\n",
       "      <th>4</th>\n",
       "      <td>Currently I hate this thing  I may need to oil itadjust it or make some other modifications but it squeaks of metal on metal and cuts about 13rd of the grass I pass over with it  I found a manual mower like this in the yard of the first home I bought and used it for years  It was better than any mower I've ever owned  This seems to perform like a cereal box toy imitation of what a manual push mower is supposed to be like  Pooptastic  I will update this review if I am able to modify it to actually cut grass but out of the box it seems to make far too many blade passes per distance traveled to ever perform well  Also the last model I had had two counterrotating blades and this only has one rotating in one direction against a stationary bladeblock</td>\n",
       "      <td>[currently, hate, thing, , may, need, oil, itadjust, make, modifications, squeaks, metal, metal, cuts, 13rd, grass, pass, , found, manual, mower, like, yard, first, home, bought, used, years, , better, mower, i've, ever, owned, , seems, perform, like, cereal, box, toy, imitation, manual, push, mower, supposed, like, , pooptastic, , update, review, able, modify, actually, cut, grass, box, seems, make, far, many, blade, passes, per, distance, traveled, ever, perform, well, , also, last, model, two, counterrotating, blades, one, rotating, one, direction, stationary, bladeblock]</td>\n",
       "      <td>(1.0, 1.0, 0.0, 1.0, 0.0, 1.0, 0.0, 0.0, 1.0, 1.0, 1.0, 0.0, 3.0, 1.0, 0.0, 0.0, 0.0, 1.0, 0.0, 0.0, 0.0, 0.0, 0.0, 0.0, 1.0, 2.0, 0.0, 0.0, 0.0, 2.0, 3.0, 0.0, 2.0, 0.0, 0.0, 0.0, 0.0, 2.0, 1.0, 0.0, 1.0, 1.0, 0.0, 1.0, 3.0, 0.0, 0.0, 1.0, 3.0, 0.0, 0.0, 0.0, 0.0, 0.0, 1.0, 2.0, 0.0, 2.0, 0.0, 0.0, 3.0, 1.0, 0.0, 3.0, 0.0, 4.0, 2.0, 0.0, 0.0, 1.0, 0.0, 0.0, 7.0, 0.0, 0.0, 2.0, 0.0, 0.0, 1.0, 0.0, 0.0, 0.0, 0.0, 1.0, 1.0, 0.0, 0.0, 1.0, 2.0, 1.0, 3.0, 1.0, 3.0, 1.0, 2.0, 0.0, 1.0, 2.0, 0.0, 0.0)</td>\n",
       "    </tr>\n",
       "  </tbody>\n",
       "</table>\n",
       "</div>"
      ],
      "text/plain": [
       "                                                                                                                                                                                                                                                                                                                                                                                                                                                                                                                                                                                                                                                                                                                                                                                                                                                                                                                                                                                                                                                                                                                                                                                                                                                                                                                                                                                                                                                                                                                                                                                                                                                                                                                                                                                                                                                                                                                                                                                                                                                                                                                                                                                                                                                                                                                                                                                                                                                                                                                                                                                                                                                                                                                                                                                                                                                                                                                                                                                                                                                                                                                            text  \\\n",
       "0  UPDATE  Originally I gave this hose 5 stars but after using them I bought 3 for a while I've changed my opinion Yes the hoses appear to be well made and are lighter weight than my old professional grade rubber hoses but Flexogens are still heavy These Flexogen hoses DO kink and they kink easily The only way to reduce the kinking is to completely unroll the entire 100 feet of hose from the reel lay it flat on the grund and then turn and turn and turn twistrotate it until it lays completely flat  make sure there are no waves or loops I pulled about 50 feet off the hose reel and holding the end walked across my yard I did not stop to twist out the waves and loops that it formed while unrolling The hose formed 9 kinks What a pain in the hand elbow and shoulder to straighten it This process wastes timeThe second problem is after I screw on my hose wand and turn on the water this hose becomes unwieldy The hose turns so that my wand is upside down It requires a LOT of effort to twist the hose and hold it so the wand sprays downwardrequires using both hands Fighting this hose is painful very tiring and aggravatingWhen you rewind it onto a hose reel the hose twists and turns causing it to again form waves and loops which become kinks Again you have to twist rotate etc to get all the wavesloops out so the hose lays flat and straight on the ground As you reel it in you have to stop and repeat the process My old commercialgrade hose never did anything like this You can buy the professionalcommercial grade hoses 100 ft at big box stores and clubs for about 25 Don't buy the FlexogenDue to age and arthritis in my hands I needed to replace my heavy rubber commercialgrade garden hoses with lighter weight easiertomaneuver hoses I was barely able to wind the old rubber hoses on the hose reel or drag them around the yard After reading reviews on Amazon and other places for garden hoses I chose this hose I'm glad I did While it's still heavy it weighs considerably less than my commercialgrade rubber hose It's easier to wind on the reel and easier to drag around the yardThe Amazon description calls this a lightweight hose It is NOT  light It's substantial I found a local store that  had this hose in 25 50 and 75ft lengths I was able to lift each and compare to heavy duty hoses of the same length I couldn't feel much of a difference so I definitely would call this a medium to heavyweight hose but lighter than my rubber oneThis hose is easier to handle than my old rubber ones because it's more flexible I suspect that my old hoses have stiffened over the yearsI've only used one I bought 3 of these for about 15 weeks It's been too hot too muggy and too rainy to use it much but I'm pleased so far I believe this hose is a very good quality and should last many years The solid brass fittings are thick so they won't get dents that cause leaks Because I haven't dragged it around the yard yet I cannot say whether it really is a nokink hose I recommend this hose because o the quality   \n",
       "1  I purchased 6 of these hoses with what was supposed to be a lifetime guarantee After a short time the end on one of the hoses started leaking so I contacted the manufacturer and got a replacement A year later another hose started leaking and I got another replacement Then another hose started leaking but the company would no longer honor the warranty Now Gilmour is selling them But it's the same hose  Flexogen The hose itself it actually quite good if you don't mind replacing the hose ends eventually I've had to replace every end on every Flexogen hose that I haveKeep in mind that I bought hoses from Flexogen but that company no longer exists and Gilmour would not honor the warranty on those hoses even though Gilmour is now selling them Also note that Flexogen is a patented hose Lifetime warranty isn't much good when the company gets bought or taken over by another company and the new company Gilmour won't honor the warranty And who wants to have to keep sending in hose parts to get a replacement every year or twoLet me reiterate Gilmour would not honor the warranty on my Flexogen hoses I wrote to them multiple times and was told without explanation that Gilmour would not replace the defective hoses If you buy these hoses expecting a lifetime warranty you may not get itOn the Gilmour website there is no longer any information relating to Flexogen hose warranty or on how to have a Flexogen hose replaced  On Amazon it does say This heavyduty garden hose is made in the USA and backed by a lifetime guarantee It also says Lifetime Guarantee on the front of the hose package Gilmour is now owned by the Robert Bosch Corp so probably even less chance of getting a warranty replacement                                                                                                                                                                                                                                                                                                                                                                                                                                                                                                                                                                                                                                                                                                                                                                                                                                                                                                                                                                                                                                                                                                                                                                                                                                                                                                                                                         \n",
       "2  I am with a very small number of reviewers here that I have to wonder how this silly thing got that many positive reviews I have a small backyard but was constantly attacked by mosquitoes everytime I went out I have no standing water or what so ever My neighbors might but this thing is supposed to cover an whole acreI followed the instruction hung it a good distance from the porch and let it go Oh I also add the flowtron tape that came with the device to the bottom A few zaps here and there but nothing spectacular I left it on out there for a week and saw no difference Still got attacked by mosquitoes Two weeks same thing After a month I gave up and took it down There is no point to waste electricity Oh it served one purpose light up that corner of the yard someSo don't waste your hardearned money on this thing and electricity I am almost sure you will be disappointed This thing will go on my next trip to Goodwill                                                                                                                                                                                                                                                                                                                                                                                                                                                                                                                                                                                                                                                                                                                                                                                                                                                                                                                                                                                                                                                                                                                                                                                                                                                                                                                                                                                                                                                                                                                                                                                                                                                                                                                                                                                                                                                                                                                                                                                                                                                                                                                                                                 \n",
       "3  This light is pretty worthless  It kills lots of moths and other nonbiting bugs but didn't put a dent in the mosquito or fly population  I got this as an alternative to my unreliable SkeeterVac but it does not work and is equally unreliable  The bulbs blew after 1 season  Replacement bulbs are 40 each plus shipping  It takes 2  That is 90 for 2 bulbs and I only paid 80 for the whole unit  Thanks but no thanksUnfortunately the only thing I've found that actually catches mosquitoes is the propane powered devices  They are all unreliable too  Skip the zappers and traps and use deet                                                                                                                                                                                                                                                                                                                                                                                                                                                                                                                                                                                                                                                                                                                                                                                                                                                                                                                                                                                                                                                                                                                                                                                                                                                                                                                                                                                                                                                                                                                                                                                                                                                                                                                                                                                                                                                                                                                                                                                                                                                                                                                                                                                                                                                                                                                                                                                                                                                                                                                       \n",
       "4  Currently I hate this thing  I may need to oil itadjust it or make some other modifications but it squeaks of metal on metal and cuts about 13rd of the grass I pass over with it  I found a manual mower like this in the yard of the first home I bought and used it for years  It was better than any mower I've ever owned  This seems to perform like a cereal box toy imitation of what a manual push mower is supposed to be like  Pooptastic  I will update this review if I am able to modify it to actually cut grass but out of the box it seems to make far too many blade passes per distance traveled to ever perform well  Also the last model I had had two counterrotating blades and this only has one rotating in one direction against a stationary bladeblock                                                                                                                                                                                                                                                                                                                                                                                                                                                                                                                                                                                                                                                                                                                                                                                                                                                                                                                                                                                                                                                                                                                                                                                                                                                                                                                                                                                                                                                                                                                                                                                                                                                                                                                                                                                                                                                                                                                                                                                                                                                                                                                                                                                                                                                                                                                                              \n",
       "\n",
       "                                                                                                                                                                                                                                                                                                                                                                                                                                                                                                                                                                                                                                                                                                                                                                                                                       filtered  \\\n",
       "0  [update, , originally, gave, hose, 5, stars, using, bought, 3, i've, changed, opinion, yes, hoses, appear, well, made, lighter, weight, old, professional, grade, rubber, hoses, flexogens, still, heavy, flexogen, hoses, kink, kink, easily, way, reduce, kinking, completely, unroll, entire, 100, feet, hose, reel, lay, flat, grund, turn, turn, turn, twistrotate, lays, completely, flat, , make, sure, waves, loops, pulled, 50, feet, hose, reel, holding, end, walked, across, yard, stop, twist, waves, loops, formed, unrolling, hose, formed, 9, kinks, pain, hand, elbow, shoulder, straighten, process, wastes, timethe, second, problem, screw, hose, wand, turn, water, hose, becomes, unwieldy, hose, turns, wand, upside, ...]                                                                              \n",
       "1  [purchased, 6, hoses, supposed, lifetime, guarantee, short, time, end, one, hoses, started, leaking, contacted, manufacturer, got, replacement, year, later, another, hose, started, leaking, got, another, replacement, another, hose, started, leaking, company, would, longer, honor, warranty, gilmour, selling, it's, hose, , flexogen, hose, actually, quite, good, don't, mind, replacing, hose, ends, eventually, i've, replace, every, end, every, flexogen, hose, havekeep, mind, bought, hoses, flexogen, company, longer, exists, gilmour, would, honor, warranty, hoses, even, though, gilmour, selling, also, note, flexogen, patented, hose, lifetime, warranty, isn't, much, good, company, gets, bought, taken, another, company, new, company, gilmour, won't, honor, warranty, wants, keep, sending, ...]   \n",
       "2  [small, number, reviewers, wonder, silly, thing, got, many, positive, reviews, small, backyard, constantly, attacked, mosquitoes, everytime, went, standing, water, ever, neighbors, might, thing, supposed, cover, whole, acrei, followed, instruction, hung, good, distance, porch, let, go, oh, also, add, flowtron, tape, came, device, bottom, zaps, nothing, spectacular, left, week, saw, difference, still, got, attacked, mosquitoes, two, weeks, thing, month, gave, took, point, waste, electricity, oh, served, one, purpose, light, corner, yard, someso, don't, waste, hardearned, money, thing, electricity, almost, sure, disappointed, thing, go, next, trip, goodwill]                                                                                                                                       \n",
       "3  [light, pretty, worthless, , kills, lots, moths, nonbiting, bugs, didn't, put, dent, mosquito, fly, population, , got, alternative, unreliable, skeetervac, work, equally, unreliable, , bulbs, blew, 1, season, , replacement, bulbs, 40, plus, shipping, , takes, 2, , 90, 2, bulbs, paid, 80, whole, unit, , thanks, thanksunfortunately, thing, i've, found, actually, catches, mosquitoes, propane, powered, devices, , unreliable, , skip, zappers, traps, use, deet]                                                                                                                                                                                                                                                                                                                                                    \n",
       "4  [currently, hate, thing, , may, need, oil, itadjust, make, modifications, squeaks, metal, metal, cuts, 13rd, grass, pass, , found, manual, mower, like, yard, first, home, bought, used, years, , better, mower, i've, ever, owned, , seems, perform, like, cereal, box, toy, imitation, manual, push, mower, supposed, like, , pooptastic, , update, review, able, modify, actually, cut, grass, box, seems, make, far, many, blade, passes, per, distance, traveled, ever, perform, well, , also, last, model, two, counterrotating, blades, one, rotating, one, direction, stationary, bladeblock]                                                                                                                                                                                                                          \n",
       "\n",
       "                                                                                                                                                                                                                                                                                                                                                                                                                                                                                                               rawFeatures  \n",
       "0  (2.0, 7.0, 4.0, 2.0, 1.0, 5.0, 1.0, 4.0, 2.0, 24.0, 6.0, 9.0, 12.0, 4.0, 3.0, 2.0, 2.0, 1.0, 6.0, 2.0, 1.0, 3.0, 2.0, 2.0, 7.0, 2.0, 3.0, 2.0, 2.0, 0.0, 1.0, 4.0, 1.0, 2.0, 2.0, 4.0, 2.0, 9.0, 2.0, 2.0, 3.0, 1.0, 0.0, 3.0, 4.0, 1.0, 1.0, 1.0, 3.0, 2.0, 1.0, 3.0, 1.0, 5.0, 0.0, 4.0, 3.0, 2.0, 3.0, 6.0, 2.0, 0.0, 0.0, 1.0, 2.0, 4.0, 2.0, 2.0, 12.0, 3.0, 3.0, 0.0, 9.0, 1.0, 4.0, 0.0, 1.0, 0.0, 1.0, 2.0, 7.0, 1.0, 0.0, 1.0, 2.0, 1.0, 6.0, 1.0, 5.0, 9.0, 3.0, 0.0, 4.0, 4.0, 0.0, 6.0, 4.0, 1.0, 4.0, 4.0)  \n",
       "1  (0.0, 1.0, 0.0, 2.0, 0.0, 0.0, 2.0, 2.0, 0.0, 13.0, 1.0, 2.0, 0.0, 2.0, 0.0, 0.0, 0.0, 0.0, 5.0, 2.0, 1.0, 0.0, 0.0, 0.0, 1.0, 1.0, 1.0, 0.0, 1.0, 4.0, 1.0, 0.0, 1.0, 0.0, 0.0, 0.0, 3.0, 2.0, 1.0, 5.0, 4.0, 16.0, 1.0, 0.0, 2.0, 0.0, 0.0, 1.0, 1.0, 0.0, 1.0, 0.0, 2.0, 1.0, 0.0, 1.0, 0.0, 6.0, 1.0, 3.0, 0.0, 1.0, 2.0, 5.0, 1.0, 1.0, 8.0, 0.0, 12.0, 0.0, 0.0, 1.0, 3.0, 8.0, 1.0, 1.0, 0.0, 0.0, 2.0, 5.0, 0.0, 0.0, 1.0, 0.0, 5.0, 0.0, 0.0, 3.0, 1.0, 1.0, 0.0, 1.0, 8.0, 1.0, 1.0, 1.0, 2.0, 1.0, 0.0, 3.0)  \n",
       "2  (1.0, 4.0, 0.0, 2.0, 0.0, 0.0, 0.0, 2.0, 1.0, 2.0, 1.0, 0.0, 0.0, 0.0, 0.0, 0.0, 2.0, 0.0, 0.0, 0.0, 0.0, 1.0, 2.0, 1.0, 1.0, 0.0, 1.0, 0.0, 0.0, 2.0, 1.0, 0.0, 1.0, 0.0, 0.0, 0.0, 0.0, 1.0, 0.0, 0.0, 0.0, 0.0, 3.0, 0.0, 1.0, 0.0, 2.0, 0.0, 0.0, 1.0, 0.0, 1.0, 0.0, 1.0, 2.0, 0.0, 1.0, 0.0, 0.0, 0.0, 1.0, 0.0, 1.0, 0.0, 2.0, 0.0, 3.0, 0.0, 2.0, 2.0, 0.0, 1.0, 0.0, 1.0, 2.0, 7.0, 1.0, 3.0, 3.0, 0.0, 1.0, 0.0, 2.0, 2.0, 1.0, 1.0, 0.0, 0.0, 1.0, 0.0, 1.0, 0.0, 3.0, 0.0, 1.0, 0.0, 2.0, 1.0, 2.0, 0.0)     \n",
       "3  (0.0, 0.0, 0.0, 1.0, 0.0, 1.0, 0.0, 2.0, 1.0, 0.0, 1.0, 1.0, 1.0, 0.0, 1.0, 0.0, 0.0, 0.0, 1.0, 0.0, 0.0, 2.0, 0.0, 0.0, 0.0, 0.0, 1.0, 1.0, 0.0, 1.0, 2.0, 0.0, 0.0, 0.0, 1.0, 1.0, 1.0, 0.0, 1.0, 0.0, 1.0, 0.0, 0.0, 0.0, 1.0, 0.0, 0.0, 1.0, 1.0, 0.0, 0.0, 0.0, 0.0, 1.0, 1.0, 2.0, 0.0, 0.0, 0.0, 3.0, 3.0, 0.0, 1.0, 0.0, 0.0, 0.0, 0.0, 1.0, 0.0, 0.0, 0.0, 0.0, 9.0, 1.0, 1.0, 1.0, 0.0, 0.0, 0.0, 0.0, 0.0, 0.0, 1.0, 0.0, 0.0, 0.0, 1.0, 0.0, 1.0, 4.0, 0.0, 1.0, 1.0, 1.0, 0.0, 1.0, 0.0, 0.0, 1.0, 4.0)     \n",
       "4  (1.0, 1.0, 0.0, 1.0, 0.0, 1.0, 0.0, 0.0, 1.0, 1.0, 1.0, 0.0, 3.0, 1.0, 0.0, 0.0, 0.0, 1.0, 0.0, 0.0, 0.0, 0.0, 0.0, 0.0, 1.0, 2.0, 0.0, 0.0, 0.0, 2.0, 3.0, 0.0, 2.0, 0.0, 0.0, 0.0, 0.0, 2.0, 1.0, 0.0, 1.0, 1.0, 0.0, 1.0, 3.0, 0.0, 0.0, 1.0, 3.0, 0.0, 0.0, 0.0, 0.0, 0.0, 1.0, 2.0, 0.0, 2.0, 0.0, 0.0, 3.0, 1.0, 0.0, 3.0, 0.0, 4.0, 2.0, 0.0, 0.0, 1.0, 0.0, 0.0, 7.0, 0.0, 0.0, 2.0, 0.0, 0.0, 1.0, 0.0, 0.0, 0.0, 0.0, 1.0, 1.0, 0.0, 0.0, 1.0, 2.0, 1.0, 3.0, 1.0, 3.0, 1.0, 2.0, 0.0, 1.0, 2.0, 0.0, 0.0)     "
      ]
     },
     "execution_count": 18,
     "metadata": {},
     "output_type": "execute_result"
    }
   ],
   "source": [
    "from pyspark.ml.feature import HashingTF\n",
    "\n",
    "hashingTF = HashingTF(inputCol=\"filtered\", outputCol=\"rawFeatures\", numFeatures=100)\n",
    "featurizedData = hashingTF.transform(removed)\n",
    "featurizedData.select(\"text\", \"filtered\", \"rawFeatures\").toPandas().head()"
   ]
  },
  {
   "cell_type": "markdown",
   "metadata": {},
   "source": [
    "### Inverse weight words that occur frequently across all text"
   ]
  },
  {
   "cell_type": "code",
   "execution_count": 19,
   "metadata": {},
   "outputs": [
    {
     "data": {
      "text/html": [
       "<div>\n",
       "<table border=\"1\" class=\"dataframe\">\n",
       "  <thead>\n",
       "    <tr style=\"text-align: right;\">\n",
       "      <th></th>\n",
       "      <th>text</th>\n",
       "      <th>rawFeatures</th>\n",
       "      <th>features</th>\n",
       "    </tr>\n",
       "  </thead>\n",
       "  <tbody>\n",
       "    <tr>\n",
       "      <th>0</th>\n",
       "      <td>UPDATE  Originally I gave this hose 5 stars but after using them I bought 3 for a while I've changed my opinion Yes the hoses appear to be well made and are lighter weight than my old professional grade rubber hoses but Flexogens are still heavy These Flexogen hoses DO kink and they kink easily The only way to reduce the kinking is to completely unroll the entire 100 feet of hose from the reel lay it flat on the grund and then turn and turn and turn twistrotate it until it lays completely flat  make sure there are no waves or loops I pulled about 50 feet off the hose reel and holding the end walked across my yard I did not stop to twist out the waves and loops that it formed while unrolling The hose formed 9 kinks What a pain in the hand elbow and shoulder to straighten it This process wastes timeThe second problem is after I screw on my hose wand and turn on the water this hose becomes unwieldy The hose turns so that my wand is upside down It requires a LOT of effort to twist the hose and hold it so the wand sprays downwardrequires using both hands Fighting this hose is painful very tiring and aggravatingWhen you rewind it onto a hose reel the hose twists and turns causing it to again form waves and loops which become kinks Again you have to twist rotate etc to get all the wavesloops out so the hose lays flat and straight on the ground As you reel it in you have to stop and repeat the process My old commercialgrade hose never did anything like this You can buy the professionalcommercial grade hoses 100 ft at big box stores and clubs for about 25 Don't buy the FlexogenDue to age and arthritis in my hands I needed to replace my heavy rubber commercialgrade garden hoses with lighter weight easiertomaneuver hoses I was barely able to wind the old rubber hoses on the hose reel or drag them around the yard After reading reviews on Amazon and other places for garden hoses I chose this hose I'm glad I did While it's still heavy it weighs considerably less than my commercialgrade rubber hose It's easier to wind on the reel and easier to drag around the yardThe Amazon description calls this a lightweight hose It is NOT  light It's substantial I found a local store that  had this hose in 25 50 and 75ft lengths I was able to lift each and compare to heavy duty hoses of the same length I couldn't feel much of a difference so I definitely would call this a medium to heavyweight hose but lighter than my rubber oneThis hose is easier to handle than my old rubber ones because it's more flexible I suspect that my old hoses have stiffened over the yearsI've only used one I bought 3 of these for about 15 weeks It's been too hot too muggy and too rainy to use it much but I'm pleased so far I believe this hose is a very good quality and should last many years The solid brass fittings are thick so they won't get dents that cause leaks Because I haven't dragged it around the yard yet I cannot say whether it really is a nokink hose I recommend this hose because o the quality</td>\n",
       "      <td>(2.0, 7.0, 4.0, 2.0, 1.0, 5.0, 1.0, 4.0, 2.0, 24.0, 6.0, 9.0, 12.0, 4.0, 3.0, 2.0, 2.0, 1.0, 6.0, 2.0, 1.0, 3.0, 2.0, 2.0, 7.0, 2.0, 3.0, 2.0, 2.0, 0.0, 1.0, 4.0, 1.0, 2.0, 2.0, 4.0, 2.0, 9.0, 2.0, 2.0, 3.0, 1.0, 0.0, 3.0, 4.0, 1.0, 1.0, 1.0, 3.0, 2.0, 1.0, 3.0, 1.0, 5.0, 0.0, 4.0, 3.0, 2.0, 3.0, 6.0, 2.0, 0.0, 0.0, 1.0, 2.0, 4.0, 2.0, 2.0, 12.0, 3.0, 3.0, 0.0, 9.0, 1.0, 4.0, 0.0, 1.0, 0.0, 1.0, 2.0, 7.0, 1.0, 0.0, 1.0, 2.0, 1.0, 6.0, 1.0, 5.0, 9.0, 3.0, 0.0, 4.0, 4.0, 0.0, 6.0, 4.0, 1.0, 4.0, 4.0)</td>\n",
       "      <td>(1.88721308504, 4.53783118127, 5.88669589089, 1.70126017213, 0.864747967609, 3.61772328872, 0.869498570367, 3.8783281157, 1.87698288371, 24.1708787578, 3.88956958394, 9.06407953419, 9.60606838657, 2.37035437959, 3.12136910553, 1.78719224389, 2.49358560302, 1.01259941401, 4.69730458518, 2.2580195317, 0.731809167594, 2.97257828211, 2.56426433591, 2.10364025432, 4.81023909501, 1.35854366813, 1.93335620672, 1.35854366813, 2.14988508916, 0.0, 0.621894721483, 3.32844415318, 0.809434329625, 2.02519882802, 1.53973745884, 3.31013748507, 1.64595710947, 4.73621982085, 2.13822324854, 1.43069578108, 2.40151709664, 0.78726047213, 0.0, 3.02135984473, 1.86885246071, 0.980164138255, 1.14770189886, 1.03482255079, 2.0378155022, 1.81667680737, 1.12285590028, 3.80353863212, 1.07494254458, 4.30009913206, 0.0, 3.29191421893, 2.75486620361, 0.986041998265, 2.87733218717, 3.34274331195, 1.28131399588, 0.0, 0.0, 0.574699030147, 1.39830640924, 3.18428440725, 1.30417138752, 2.50752294165, 9.23842475302, 3.13836631814, 2.80020711704, 0.0, 2.89982940138, 0.860019826413, 3.67315493815, 0.0, 1.32625697286, 0.0, 1.02922029524, 1.77745986459, 6.02013878489, 1.09264212168, 0.0, 0.827534371268, 1.33506003238, 0.943606542521, 5.42040073226, 0.969582028924, 3.12809560287, 3.81233243431, 2.94049241476, 0.0, 2.47273656835, 2.82887105783, 0.0, 5.36157673168, 3.32844415318, 0.774188390563, 3.8783281157, 3.44007930565)</td>\n",
       "    </tr>\n",
       "    <tr>\n",
       "      <th>1</th>\n",
       "      <td>I purchased 6 of these hoses with what was supposed to be a lifetime guarantee After a short time the end on one of the hoses started leaking so I contacted the manufacturer and got a replacement A year later another hose started leaking and I got another replacement Then another hose started leaking but the company would no longer honor the warranty Now Gilmour is selling them But it's the same hose  Flexogen The hose itself it actually quite good if you don't mind replacing the hose ends eventually I've had to replace every end on every Flexogen hose that I haveKeep in mind that I bought hoses from Flexogen but that company no longer exists and Gilmour would not honor the warranty on those hoses even though Gilmour is now selling them Also note that Flexogen is a patented hose Lifetime warranty isn't much good when the company gets bought or taken over by another company and the new company Gilmour won't honor the warranty And who wants to have to keep sending in hose parts to get a replacement every year or twoLet me reiterate Gilmour would not honor the warranty on my Flexogen hoses I wrote to them multiple times and was told without explanation that Gilmour would not replace the defective hoses If you buy these hoses expecting a lifetime warranty you may not get itOn the Gilmour website there is no longer any information relating to Flexogen hose warranty or on how to have a Flexogen hose replaced  On Amazon it does say This heavyduty garden hose is made in the USA and backed by a lifetime guarantee It also says Lifetime Guarantee on the front of the hose package Gilmour is now owned by the Robert Bosch Corp so probably even less chance of getting a warranty replacement</td>\n",
       "      <td>(0.0, 1.0, 0.0, 2.0, 0.0, 0.0, 2.0, 2.0, 0.0, 13.0, 1.0, 2.0, 0.0, 2.0, 0.0, 0.0, 0.0, 0.0, 5.0, 2.0, 1.0, 0.0, 0.0, 0.0, 1.0, 1.0, 1.0, 0.0, 1.0, 4.0, 1.0, 0.0, 1.0, 0.0, 0.0, 0.0, 3.0, 2.0, 1.0, 5.0, 4.0, 16.0, 1.0, 0.0, 2.0, 0.0, 0.0, 1.0, 1.0, 0.0, 1.0, 0.0, 2.0, 1.0, 0.0, 1.0, 0.0, 6.0, 1.0, 3.0, 0.0, 1.0, 2.0, 5.0, 1.0, 1.0, 8.0, 0.0, 12.0, 0.0, 0.0, 1.0, 3.0, 8.0, 1.0, 1.0, 0.0, 0.0, 2.0, 5.0, 0.0, 0.0, 1.0, 0.0, 5.0, 0.0, 0.0, 3.0, 1.0, 1.0, 0.0, 1.0, 8.0, 1.0, 1.0, 1.0, 2.0, 1.0, 0.0, 3.0)</td>\n",
       "      <td>(0.0, 0.648261597324, 0.0, 1.70126017213, 0.0, 0.0, 1.73899714073, 1.93916405785, 0.0, 13.0925593272, 0.648261597324, 2.01423989649, 0.0, 1.1851771898, 0.0, 0.0, 0.0, 0.0, 3.91442048765, 2.2580195317, 0.731809167594, 0.0, 0.0, 0.0, 0.687177013573, 0.679271834066, 0.644452068907, 0.0, 1.07494254458, 4.16182547404, 0.621894721483, 0.0, 0.809434329625, 0.0, 0.0, 0.0, 2.4689356642, 1.05249329352, 1.06911162427, 3.5767394527, 3.20202279552, 12.5961675541, 0.879068021384, 0.0, 0.934426230353, 0.0, 0.0, 1.03482255079, 0.679271834066, 0.0, 1.12285590028, 0.0, 2.14988508916, 0.860019826413, 0.0, 0.822978554733, 0.0, 2.95812599479, 0.959110729057, 1.67137165598, 0.0, 1.12285590028, 1.83657746907, 2.87349515073, 0.69915320462, 0.796071101813, 5.2166855501, 0.0, 9.23842475302, 0.0, 0.0, 1.00167034348, 0.96660980046, 6.8801586113, 0.918288734537, 0.864747967609, 0.0, 0.0, 2.05844059049, 4.44364966148, 0.0, 0.0, 0.87427184912, 0.0, 3.33765008095, 0.0, 0.0, 2.90874608677, 0.625619120574, 0.423592492701, 0.0, 0.744335427413, 4.94547313669, 0.707217764457, 0.778526792162, 0.893596121946, 1.66422207659, 0.774188390563, 0.0, 2.58005947924)</td>\n",
       "    </tr>\n",
       "    <tr>\n",
       "      <th>2</th>\n",
       "      <td>I am with a very small number of reviewers here that I have to wonder how this silly thing got that many positive reviews I have a small backyard but was constantly attacked by mosquitoes everytime I went out I have no standing water or what so ever My neighbors might but this thing is supposed to cover an whole acreI followed the instruction hung it a good distance from the porch and let it go Oh I also add the flowtron tape that came with the device to the bottom A few zaps here and there but nothing spectacular I left it on out there for a week and saw no difference Still got attacked by mosquitoes Two weeks same thing After a month I gave up and took it down There is no point to waste electricity Oh it served one purpose light up that corner of the yard someSo don't waste your hardearned money on this thing and electricity I am almost sure you will be disappointed This thing will go on my next trip to Goodwill</td>\n",
       "      <td>(1.0, 4.0, 0.0, 2.0, 0.0, 0.0, 0.0, 2.0, 1.0, 2.0, 1.0, 0.0, 0.0, 0.0, 0.0, 0.0, 2.0, 0.0, 0.0, 0.0, 0.0, 1.0, 2.0, 1.0, 1.0, 0.0, 1.0, 0.0, 0.0, 2.0, 1.0, 0.0, 1.0, 0.0, 0.0, 0.0, 0.0, 1.0, 0.0, 0.0, 0.0, 0.0, 3.0, 0.0, 1.0, 0.0, 2.0, 0.0, 0.0, 1.0, 0.0, 1.0, 0.0, 1.0, 2.0, 0.0, 1.0, 0.0, 0.0, 0.0, 1.0, 0.0, 1.0, 0.0, 2.0, 0.0, 3.0, 0.0, 2.0, 2.0, 0.0, 1.0, 0.0, 1.0, 2.0, 7.0, 1.0, 3.0, 3.0, 0.0, 1.0, 0.0, 2.0, 2.0, 1.0, 1.0, 0.0, 0.0, 1.0, 0.0, 1.0, 0.0, 3.0, 0.0, 1.0, 0.0, 2.0, 1.0, 2.0, 0.0)</td>\n",
       "      <td>(0.943606542521, 2.5930463893, 0.0, 1.70126017213, 0.0, 0.0, 0.0, 1.93916405785, 0.938491441854, 2.01423989649, 0.648261597324, 0.0, 0.0, 0.0, 0.0, 0.0, 2.49358560302, 0.0, 0.0, 0.0, 0.0, 0.990859427372, 2.56426433591, 1.05182012716, 0.687177013573, 0.0, 0.644452068907, 0.0, 0.0, 2.08091273702, 0.621894721483, 0.0, 0.809434329625, 0.0, 0.0, 0.0, 0.0, 0.526246646761, 0.0, 0.0, 0.0, 0.0, 2.63720406415, 0.0, 0.467213115177, 0.0, 2.29540379773, 0.0, 0.0, 0.908338403684, 0.0, 1.26784621071, 0.0, 0.860019826413, 2.29540379773, 0.0, 0.918288734537, 0.0, 0.0, 0.0, 0.640656997939, 0.0, 0.918288734537, 0.0, 1.39830640924, 0.0, 1.95625708129, 0.0, 1.53973745884, 2.09224421209, 0.0, 1.00167034348, 0.0, 0.860019826413, 1.83657746907, 6.05323577326, 1.32625697286, 2.65166192346, 3.08766088573, 0.0, 0.860019826413, 0.0, 1.74854369824, 1.65506874254, 0.66753001619, 0.943606542521, 0.0, 0.0, 0.625619120574, 0.0, 0.980164138255, 0.0, 1.85455242626, 0.0, 0.778526792162, 0.0, 1.66422207659, 0.774188390563, 1.93916405785, 0.0)</td>\n",
       "    </tr>\n",
       "    <tr>\n",
       "      <th>3</th>\n",
       "      <td>This light is pretty worthless  It kills lots of moths and other nonbiting bugs but didn't put a dent in the mosquito or fly population  I got this as an alternative to my unreliable SkeeterVac but it does not work and is equally unreliable  The bulbs blew after 1 season  Replacement bulbs are 40 each plus shipping  It takes 2  That is 90 for 2 bulbs and I only paid 80 for the whole unit  Thanks but no thanksUnfortunately the only thing I've found that actually catches mosquitoes is the propane powered devices  They are all unreliable too  Skip the zappers and traps and use deet</td>\n",
       "      <td>(0.0, 0.0, 0.0, 1.0, 0.0, 1.0, 0.0, 2.0, 1.0, 0.0, 1.0, 1.0, 1.0, 0.0, 1.0, 0.0, 0.0, 0.0, 1.0, 0.0, 0.0, 2.0, 0.0, 0.0, 0.0, 0.0, 1.0, 1.0, 0.0, 1.0, 2.0, 0.0, 0.0, 0.0, 1.0, 1.0, 1.0, 0.0, 1.0, 0.0, 1.0, 0.0, 0.0, 0.0, 1.0, 0.0, 0.0, 1.0, 1.0, 0.0, 0.0, 0.0, 0.0, 1.0, 1.0, 2.0, 0.0, 0.0, 0.0, 3.0, 3.0, 0.0, 1.0, 0.0, 0.0, 0.0, 0.0, 1.0, 0.0, 0.0, 0.0, 0.0, 9.0, 1.0, 1.0, 1.0, 0.0, 0.0, 0.0, 0.0, 0.0, 0.0, 1.0, 0.0, 0.0, 0.0, 1.0, 0.0, 1.0, 4.0, 0.0, 1.0, 1.0, 1.0, 0.0, 1.0, 0.0, 0.0, 1.0, 4.0)</td>\n",
       "      <td>(0.0, 0.0, 0.0, 0.850630086063, 0.0, 0.723544657744, 0.0, 1.93916405785, 0.938491441854, 0.0, 0.648261597324, 1.00711994824, 0.80050569888, 0.0, 1.04045636851, 0.0, 0.0, 0.0, 0.782884097531, 0.0, 0.0, 1.98171885474, 0.0, 0.0, 0.0, 0.0, 0.644452068907, 0.679271834066, 0.0, 1.04045636851, 1.24378944297, 0.0, 0.0, 0.0, 0.769868729419, 0.827534371268, 0.822978554733, 0.0, 1.06911162427, 0.0, 0.80050569888, 0.0, 0.0, 0.0, 0.467213115177, 0.0, 0.0, 1.03482255079, 0.679271834066, 0.0, 0.0, 0.0, 0.0, 0.860019826413, 1.14770189886, 1.64595710947, 0.0, 0.0, 0.0, 1.67137165598, 1.92197099382, 0.0, 0.918288734537, 0.0, 0.0, 0.0, 0.0, 1.25376147082, 0.0, 0.0, 0.0, 0.0, 2.89982940138, 0.860019826413, 0.918288734537, 0.864747967609, 0.0, 0.0, 0.0, 0.0, 0.0, 0.0, 0.87427184912, 0.0, 0.0, 0.0, 0.903400122043, 0.0, 0.625619120574, 1.6943699708, 0.0, 0.744335427413, 0.618184142086, 0.707217764457, 0.0, 0.893596121946, 0.0, 0.0, 0.969582028924, 3.44007930565)</td>\n",
       "    </tr>\n",
       "    <tr>\n",
       "      <th>4</th>\n",
       "      <td>Currently I hate this thing  I may need to oil itadjust it or make some other modifications but it squeaks of metal on metal and cuts about 13rd of the grass I pass over with it  I found a manual mower like this in the yard of the first home I bought and used it for years  It was better than any mower I've ever owned  This seems to perform like a cereal box toy imitation of what a manual push mower is supposed to be like  Pooptastic  I will update this review if I am able to modify it to actually cut grass but out of the box it seems to make far too many blade passes per distance traveled to ever perform well  Also the last model I had had two counterrotating blades and this only has one rotating in one direction against a stationary bladeblock</td>\n",
       "      <td>(1.0, 1.0, 0.0, 1.0, 0.0, 1.0, 0.0, 0.0, 1.0, 1.0, 1.0, 0.0, 3.0, 1.0, 0.0, 0.0, 0.0, 1.0, 0.0, 0.0, 0.0, 0.0, 0.0, 0.0, 1.0, 2.0, 0.0, 0.0, 0.0, 2.0, 3.0, 0.0, 2.0, 0.0, 0.0, 0.0, 0.0, 2.0, 1.0, 0.0, 1.0, 1.0, 0.0, 1.0, 3.0, 0.0, 0.0, 1.0, 3.0, 0.0, 0.0, 0.0, 0.0, 0.0, 1.0, 2.0, 0.0, 2.0, 0.0, 0.0, 3.0, 1.0, 0.0, 3.0, 0.0, 4.0, 2.0, 0.0, 0.0, 1.0, 0.0, 0.0, 7.0, 0.0, 0.0, 2.0, 0.0, 0.0, 1.0, 0.0, 0.0, 0.0, 0.0, 1.0, 1.0, 0.0, 0.0, 1.0, 2.0, 1.0, 3.0, 1.0, 3.0, 1.0, 2.0, 0.0, 1.0, 2.0, 0.0, 0.0)</td>\n",
       "      <td>(0.943606542521, 0.648261597324, 0.0, 0.850630086063, 0.0, 0.723544657744, 0.0, 0.0, 0.938491441854, 1.00711994824, 0.648261597324, 0.0, 2.40151709664, 0.592588594898, 0.0, 0.0, 0.0, 1.01259941401, 0.0, 0.0, 0.0, 0.0, 0.0, 0.0, 0.687177013573, 1.35854366813, 0.0, 0.0, 0.0, 2.08091273702, 1.86568416445, 0.0, 1.61886865925, 0.0, 0.0, 0.0, 0.0, 1.05249329352, 1.06911162427, 0.0, 0.80050569888, 0.78726047213, 0.0, 1.00711994824, 1.40163934553, 0.0, 0.0, 1.03482255079, 2.0378155022, 0.0, 0.0, 0.0, 0.0, 0.0, 1.14770189886, 1.64595710947, 0.0, 0.986041998265, 0.0, 0.0, 1.92197099382, 1.12285590028, 0.0, 1.72409709044, 0.0, 3.18428440725, 1.30417138752, 0.0, 0.0, 1.04612210605, 0.0, 0.0, 2.25542286774, 0.0, 0.0, 1.72949593522, 0.0, 0.0, 1.02922029524, 0.0, 0.0, 0.0, 0.0, 0.827534371268, 0.66753001619, 0.0, 0.0, 0.969582028924, 1.25123824115, 0.423592492701, 2.94049241476, 0.744335427413, 1.85455242626, 0.707217764457, 1.55705358432, 0.0, 0.832111038296, 1.54837678113, 0.0, 0.0)</td>\n",
       "    </tr>\n",
       "  </tbody>\n",
       "</table>\n",
       "</div>"
      ],
      "text/plain": [
       "                                                                                                                                                                                                                                                                                                                                                                                                                                                                                                                                                                                                                                                                                                                                                                                                                                                                                                                                                                                                                                                                                                                                                                                                                                                                                                                                                                                                                                                                                                                                                                                                                                                                                                                                                                                                                                                                                                                                                                                                                                                                                                                                                                                                                                                                                                                                                                                                                                                                                                                                                                                                                                                                                                                                                                                                                                                                                                                                                                                                                                                                                                                            text  \\\n",
       "0  UPDATE  Originally I gave this hose 5 stars but after using them I bought 3 for a while I've changed my opinion Yes the hoses appear to be well made and are lighter weight than my old professional grade rubber hoses but Flexogens are still heavy These Flexogen hoses DO kink and they kink easily The only way to reduce the kinking is to completely unroll the entire 100 feet of hose from the reel lay it flat on the grund and then turn and turn and turn twistrotate it until it lays completely flat  make sure there are no waves or loops I pulled about 50 feet off the hose reel and holding the end walked across my yard I did not stop to twist out the waves and loops that it formed while unrolling The hose formed 9 kinks What a pain in the hand elbow and shoulder to straighten it This process wastes timeThe second problem is after I screw on my hose wand and turn on the water this hose becomes unwieldy The hose turns so that my wand is upside down It requires a LOT of effort to twist the hose and hold it so the wand sprays downwardrequires using both hands Fighting this hose is painful very tiring and aggravatingWhen you rewind it onto a hose reel the hose twists and turns causing it to again form waves and loops which become kinks Again you have to twist rotate etc to get all the wavesloops out so the hose lays flat and straight on the ground As you reel it in you have to stop and repeat the process My old commercialgrade hose never did anything like this You can buy the professionalcommercial grade hoses 100 ft at big box stores and clubs for about 25 Don't buy the FlexogenDue to age and arthritis in my hands I needed to replace my heavy rubber commercialgrade garden hoses with lighter weight easiertomaneuver hoses I was barely able to wind the old rubber hoses on the hose reel or drag them around the yard After reading reviews on Amazon and other places for garden hoses I chose this hose I'm glad I did While it's still heavy it weighs considerably less than my commercialgrade rubber hose It's easier to wind on the reel and easier to drag around the yardThe Amazon description calls this a lightweight hose It is NOT  light It's substantial I found a local store that  had this hose in 25 50 and 75ft lengths I was able to lift each and compare to heavy duty hoses of the same length I couldn't feel much of a difference so I definitely would call this a medium to heavyweight hose but lighter than my rubber oneThis hose is easier to handle than my old rubber ones because it's more flexible I suspect that my old hoses have stiffened over the yearsI've only used one I bought 3 of these for about 15 weeks It's been too hot too muggy and too rainy to use it much but I'm pleased so far I believe this hose is a very good quality and should last many years The solid brass fittings are thick so they won't get dents that cause leaks Because I haven't dragged it around the yard yet I cannot say whether it really is a nokink hose I recommend this hose because o the quality   \n",
       "1  I purchased 6 of these hoses with what was supposed to be a lifetime guarantee After a short time the end on one of the hoses started leaking so I contacted the manufacturer and got a replacement A year later another hose started leaking and I got another replacement Then another hose started leaking but the company would no longer honor the warranty Now Gilmour is selling them But it's the same hose  Flexogen The hose itself it actually quite good if you don't mind replacing the hose ends eventually I've had to replace every end on every Flexogen hose that I haveKeep in mind that I bought hoses from Flexogen but that company no longer exists and Gilmour would not honor the warranty on those hoses even though Gilmour is now selling them Also note that Flexogen is a patented hose Lifetime warranty isn't much good when the company gets bought or taken over by another company and the new company Gilmour won't honor the warranty And who wants to have to keep sending in hose parts to get a replacement every year or twoLet me reiterate Gilmour would not honor the warranty on my Flexogen hoses I wrote to them multiple times and was told without explanation that Gilmour would not replace the defective hoses If you buy these hoses expecting a lifetime warranty you may not get itOn the Gilmour website there is no longer any information relating to Flexogen hose warranty or on how to have a Flexogen hose replaced  On Amazon it does say This heavyduty garden hose is made in the USA and backed by a lifetime guarantee It also says Lifetime Guarantee on the front of the hose package Gilmour is now owned by the Robert Bosch Corp so probably even less chance of getting a warranty replacement                                                                                                                                                                                                                                                                                                                                                                                                                                                                                                                                                                                                                                                                                                                                                                                                                                                                                                                                                                                                                                                                                                                                                                                                                                                                                                                                                         \n",
       "2  I am with a very small number of reviewers here that I have to wonder how this silly thing got that many positive reviews I have a small backyard but was constantly attacked by mosquitoes everytime I went out I have no standing water or what so ever My neighbors might but this thing is supposed to cover an whole acreI followed the instruction hung it a good distance from the porch and let it go Oh I also add the flowtron tape that came with the device to the bottom A few zaps here and there but nothing spectacular I left it on out there for a week and saw no difference Still got attacked by mosquitoes Two weeks same thing After a month I gave up and took it down There is no point to waste electricity Oh it served one purpose light up that corner of the yard someSo don't waste your hardearned money on this thing and electricity I am almost sure you will be disappointed This thing will go on my next trip to Goodwill                                                                                                                                                                                                                                                                                                                                                                                                                                                                                                                                                                                                                                                                                                                                                                                                                                                                                                                                                                                                                                                                                                                                                                                                                                                                                                                                                                                                                                                                                                                                                                                                                                                                                                                                                                                                                                                                                                                                                                                                                                                                                                                                                                 \n",
       "3  This light is pretty worthless  It kills lots of moths and other nonbiting bugs but didn't put a dent in the mosquito or fly population  I got this as an alternative to my unreliable SkeeterVac but it does not work and is equally unreliable  The bulbs blew after 1 season  Replacement bulbs are 40 each plus shipping  It takes 2  That is 90 for 2 bulbs and I only paid 80 for the whole unit  Thanks but no thanksUnfortunately the only thing I've found that actually catches mosquitoes is the propane powered devices  They are all unreliable too  Skip the zappers and traps and use deet                                                                                                                                                                                                                                                                                                                                                                                                                                                                                                                                                                                                                                                                                                                                                                                                                                                                                                                                                                                                                                                                                                                                                                                                                                                                                                                                                                                                                                                                                                                                                                                                                                                                                                                                                                                                                                                                                                                                                                                                                                                                                                                                                                                                                                                                                                                                                                                                                                                                                                                       \n",
       "4  Currently I hate this thing  I may need to oil itadjust it or make some other modifications but it squeaks of metal on metal and cuts about 13rd of the grass I pass over with it  I found a manual mower like this in the yard of the first home I bought and used it for years  It was better than any mower I've ever owned  This seems to perform like a cereal box toy imitation of what a manual push mower is supposed to be like  Pooptastic  I will update this review if I am able to modify it to actually cut grass but out of the box it seems to make far too many blade passes per distance traveled to ever perform well  Also the last model I had had two counterrotating blades and this only has one rotating in one direction against a stationary bladeblock                                                                                                                                                                                                                                                                                                                                                                                                                                                                                                                                                                                                                                                                                                                                                                                                                                                                                                                                                                                                                                                                                                                                                                                                                                                                                                                                                                                                                                                                                                                                                                                                                                                                                                                                                                                                                                                                                                                                                                                                                                                                                                                                                                                                                                                                                                                                              \n",
       "\n",
       "                                                                                                                                                                                                                                                                                                                                                                                                                                                                                                               rawFeatures  \\\n",
       "0  (2.0, 7.0, 4.0, 2.0, 1.0, 5.0, 1.0, 4.0, 2.0, 24.0, 6.0, 9.0, 12.0, 4.0, 3.0, 2.0, 2.0, 1.0, 6.0, 2.0, 1.0, 3.0, 2.0, 2.0, 7.0, 2.0, 3.0, 2.0, 2.0, 0.0, 1.0, 4.0, 1.0, 2.0, 2.0, 4.0, 2.0, 9.0, 2.0, 2.0, 3.0, 1.0, 0.0, 3.0, 4.0, 1.0, 1.0, 1.0, 3.0, 2.0, 1.0, 3.0, 1.0, 5.0, 0.0, 4.0, 3.0, 2.0, 3.0, 6.0, 2.0, 0.0, 0.0, 1.0, 2.0, 4.0, 2.0, 2.0, 12.0, 3.0, 3.0, 0.0, 9.0, 1.0, 4.0, 0.0, 1.0, 0.0, 1.0, 2.0, 7.0, 1.0, 0.0, 1.0, 2.0, 1.0, 6.0, 1.0, 5.0, 9.0, 3.0, 0.0, 4.0, 4.0, 0.0, 6.0, 4.0, 1.0, 4.0, 4.0)   \n",
       "1  (0.0, 1.0, 0.0, 2.0, 0.0, 0.0, 2.0, 2.0, 0.0, 13.0, 1.0, 2.0, 0.0, 2.0, 0.0, 0.0, 0.0, 0.0, 5.0, 2.0, 1.0, 0.0, 0.0, 0.0, 1.0, 1.0, 1.0, 0.0, 1.0, 4.0, 1.0, 0.0, 1.0, 0.0, 0.0, 0.0, 3.0, 2.0, 1.0, 5.0, 4.0, 16.0, 1.0, 0.0, 2.0, 0.0, 0.0, 1.0, 1.0, 0.0, 1.0, 0.0, 2.0, 1.0, 0.0, 1.0, 0.0, 6.0, 1.0, 3.0, 0.0, 1.0, 2.0, 5.0, 1.0, 1.0, 8.0, 0.0, 12.0, 0.0, 0.0, 1.0, 3.0, 8.0, 1.0, 1.0, 0.0, 0.0, 2.0, 5.0, 0.0, 0.0, 1.0, 0.0, 5.0, 0.0, 0.0, 3.0, 1.0, 1.0, 0.0, 1.0, 8.0, 1.0, 1.0, 1.0, 2.0, 1.0, 0.0, 3.0)   \n",
       "2  (1.0, 4.0, 0.0, 2.0, 0.0, 0.0, 0.0, 2.0, 1.0, 2.0, 1.0, 0.0, 0.0, 0.0, 0.0, 0.0, 2.0, 0.0, 0.0, 0.0, 0.0, 1.0, 2.0, 1.0, 1.0, 0.0, 1.0, 0.0, 0.0, 2.0, 1.0, 0.0, 1.0, 0.0, 0.0, 0.0, 0.0, 1.0, 0.0, 0.0, 0.0, 0.0, 3.0, 0.0, 1.0, 0.0, 2.0, 0.0, 0.0, 1.0, 0.0, 1.0, 0.0, 1.0, 2.0, 0.0, 1.0, 0.0, 0.0, 0.0, 1.0, 0.0, 1.0, 0.0, 2.0, 0.0, 3.0, 0.0, 2.0, 2.0, 0.0, 1.0, 0.0, 1.0, 2.0, 7.0, 1.0, 3.0, 3.0, 0.0, 1.0, 0.0, 2.0, 2.0, 1.0, 1.0, 0.0, 0.0, 1.0, 0.0, 1.0, 0.0, 3.0, 0.0, 1.0, 0.0, 2.0, 1.0, 2.0, 0.0)      \n",
       "3  (0.0, 0.0, 0.0, 1.0, 0.0, 1.0, 0.0, 2.0, 1.0, 0.0, 1.0, 1.0, 1.0, 0.0, 1.0, 0.0, 0.0, 0.0, 1.0, 0.0, 0.0, 2.0, 0.0, 0.0, 0.0, 0.0, 1.0, 1.0, 0.0, 1.0, 2.0, 0.0, 0.0, 0.0, 1.0, 1.0, 1.0, 0.0, 1.0, 0.0, 1.0, 0.0, 0.0, 0.0, 1.0, 0.0, 0.0, 1.0, 1.0, 0.0, 0.0, 0.0, 0.0, 1.0, 1.0, 2.0, 0.0, 0.0, 0.0, 3.0, 3.0, 0.0, 1.0, 0.0, 0.0, 0.0, 0.0, 1.0, 0.0, 0.0, 0.0, 0.0, 9.0, 1.0, 1.0, 1.0, 0.0, 0.0, 0.0, 0.0, 0.0, 0.0, 1.0, 0.0, 0.0, 0.0, 1.0, 0.0, 1.0, 4.0, 0.0, 1.0, 1.0, 1.0, 0.0, 1.0, 0.0, 0.0, 1.0, 4.0)      \n",
       "4  (1.0, 1.0, 0.0, 1.0, 0.0, 1.0, 0.0, 0.0, 1.0, 1.0, 1.0, 0.0, 3.0, 1.0, 0.0, 0.0, 0.0, 1.0, 0.0, 0.0, 0.0, 0.0, 0.0, 0.0, 1.0, 2.0, 0.0, 0.0, 0.0, 2.0, 3.0, 0.0, 2.0, 0.0, 0.0, 0.0, 0.0, 2.0, 1.0, 0.0, 1.0, 1.0, 0.0, 1.0, 3.0, 0.0, 0.0, 1.0, 3.0, 0.0, 0.0, 0.0, 0.0, 0.0, 1.0, 2.0, 0.0, 2.0, 0.0, 0.0, 3.0, 1.0, 0.0, 3.0, 0.0, 4.0, 2.0, 0.0, 0.0, 1.0, 0.0, 0.0, 7.0, 0.0, 0.0, 2.0, 0.0, 0.0, 1.0, 0.0, 0.0, 0.0, 0.0, 1.0, 1.0, 0.0, 0.0, 1.0, 2.0, 1.0, 3.0, 1.0, 3.0, 1.0, 2.0, 0.0, 1.0, 2.0, 0.0, 0.0)      \n",
       "\n",
       "                                                                                                                                                                                                                                                                                                                                                                                                                                                                                                                                                                                                                                                                                                                                                                                                                                                                                                                                                                                                                                                                                                                                                                                                                                                                                                                                                                                                                                                  features  \n",
       "0  (1.88721308504, 4.53783118127, 5.88669589089, 1.70126017213, 0.864747967609, 3.61772328872, 0.869498570367, 3.8783281157, 1.87698288371, 24.1708787578, 3.88956958394, 9.06407953419, 9.60606838657, 2.37035437959, 3.12136910553, 1.78719224389, 2.49358560302, 1.01259941401, 4.69730458518, 2.2580195317, 0.731809167594, 2.97257828211, 2.56426433591, 2.10364025432, 4.81023909501, 1.35854366813, 1.93335620672, 1.35854366813, 2.14988508916, 0.0, 0.621894721483, 3.32844415318, 0.809434329625, 2.02519882802, 1.53973745884, 3.31013748507, 1.64595710947, 4.73621982085, 2.13822324854, 1.43069578108, 2.40151709664, 0.78726047213, 0.0, 3.02135984473, 1.86885246071, 0.980164138255, 1.14770189886, 1.03482255079, 2.0378155022, 1.81667680737, 1.12285590028, 3.80353863212, 1.07494254458, 4.30009913206, 0.0, 3.29191421893, 2.75486620361, 0.986041998265, 2.87733218717, 3.34274331195, 1.28131399588, 0.0, 0.0, 0.574699030147, 1.39830640924, 3.18428440725, 1.30417138752, 2.50752294165, 9.23842475302, 3.13836631814, 2.80020711704, 0.0, 2.89982940138, 0.860019826413, 3.67315493815, 0.0, 1.32625697286, 0.0, 1.02922029524, 1.77745986459, 6.02013878489, 1.09264212168, 0.0, 0.827534371268, 1.33506003238, 0.943606542521, 5.42040073226, 0.969582028924, 3.12809560287, 3.81233243431, 2.94049241476, 0.0, 2.47273656835, 2.82887105783, 0.0, 5.36157673168, 3.32844415318, 0.774188390563, 3.8783281157, 3.44007930565)  \n",
       "1  (0.0, 0.648261597324, 0.0, 1.70126017213, 0.0, 0.0, 1.73899714073, 1.93916405785, 0.0, 13.0925593272, 0.648261597324, 2.01423989649, 0.0, 1.1851771898, 0.0, 0.0, 0.0, 0.0, 3.91442048765, 2.2580195317, 0.731809167594, 0.0, 0.0, 0.0, 0.687177013573, 0.679271834066, 0.644452068907, 0.0, 1.07494254458, 4.16182547404, 0.621894721483, 0.0, 0.809434329625, 0.0, 0.0, 0.0, 2.4689356642, 1.05249329352, 1.06911162427, 3.5767394527, 3.20202279552, 12.5961675541, 0.879068021384, 0.0, 0.934426230353, 0.0, 0.0, 1.03482255079, 0.679271834066, 0.0, 1.12285590028, 0.0, 2.14988508916, 0.860019826413, 0.0, 0.822978554733, 0.0, 2.95812599479, 0.959110729057, 1.67137165598, 0.0, 1.12285590028, 1.83657746907, 2.87349515073, 0.69915320462, 0.796071101813, 5.2166855501, 0.0, 9.23842475302, 0.0, 0.0, 1.00167034348, 0.96660980046, 6.8801586113, 0.918288734537, 0.864747967609, 0.0, 0.0, 2.05844059049, 4.44364966148, 0.0, 0.0, 0.87427184912, 0.0, 3.33765008095, 0.0, 0.0, 2.90874608677, 0.625619120574, 0.423592492701, 0.0, 0.744335427413, 4.94547313669, 0.707217764457, 0.778526792162, 0.893596121946, 1.66422207659, 0.774188390563, 0.0, 2.58005947924)                                                                                                                                                                                                                                                                       \n",
       "2  (0.943606542521, 2.5930463893, 0.0, 1.70126017213, 0.0, 0.0, 0.0, 1.93916405785, 0.938491441854, 2.01423989649, 0.648261597324, 0.0, 0.0, 0.0, 0.0, 0.0, 2.49358560302, 0.0, 0.0, 0.0, 0.0, 0.990859427372, 2.56426433591, 1.05182012716, 0.687177013573, 0.0, 0.644452068907, 0.0, 0.0, 2.08091273702, 0.621894721483, 0.0, 0.809434329625, 0.0, 0.0, 0.0, 0.0, 0.526246646761, 0.0, 0.0, 0.0, 0.0, 2.63720406415, 0.0, 0.467213115177, 0.0, 2.29540379773, 0.0, 0.0, 0.908338403684, 0.0, 1.26784621071, 0.0, 0.860019826413, 2.29540379773, 0.0, 0.918288734537, 0.0, 0.0, 0.0, 0.640656997939, 0.0, 0.918288734537, 0.0, 1.39830640924, 0.0, 1.95625708129, 0.0, 1.53973745884, 2.09224421209, 0.0, 1.00167034348, 0.0, 0.860019826413, 1.83657746907, 6.05323577326, 1.32625697286, 2.65166192346, 3.08766088573, 0.0, 0.860019826413, 0.0, 1.74854369824, 1.65506874254, 0.66753001619, 0.943606542521, 0.0, 0.0, 0.625619120574, 0.0, 0.980164138255, 0.0, 1.85455242626, 0.0, 0.778526792162, 0.0, 1.66422207659, 0.774188390563, 1.93916405785, 0.0)                                                                                                                                                                                                                                                                                                                                                                                            \n",
       "3  (0.0, 0.0, 0.0, 0.850630086063, 0.0, 0.723544657744, 0.0, 1.93916405785, 0.938491441854, 0.0, 0.648261597324, 1.00711994824, 0.80050569888, 0.0, 1.04045636851, 0.0, 0.0, 0.0, 0.782884097531, 0.0, 0.0, 1.98171885474, 0.0, 0.0, 0.0, 0.0, 0.644452068907, 0.679271834066, 0.0, 1.04045636851, 1.24378944297, 0.0, 0.0, 0.0, 0.769868729419, 0.827534371268, 0.822978554733, 0.0, 1.06911162427, 0.0, 0.80050569888, 0.0, 0.0, 0.0, 0.467213115177, 0.0, 0.0, 1.03482255079, 0.679271834066, 0.0, 0.0, 0.0, 0.0, 0.860019826413, 1.14770189886, 1.64595710947, 0.0, 0.0, 0.0, 1.67137165598, 1.92197099382, 0.0, 0.918288734537, 0.0, 0.0, 0.0, 0.0, 1.25376147082, 0.0, 0.0, 0.0, 0.0, 2.89982940138, 0.860019826413, 0.918288734537, 0.864747967609, 0.0, 0.0, 0.0, 0.0, 0.0, 0.0, 0.87427184912, 0.0, 0.0, 0.0, 0.903400122043, 0.0, 0.625619120574, 1.6943699708, 0.0, 0.744335427413, 0.618184142086, 0.707217764457, 0.0, 0.893596121946, 0.0, 0.0, 0.969582028924, 3.44007930565)                                                                                                                                                                                                                                                                                                                                                                                                                                                                \n",
       "4  (0.943606542521, 0.648261597324, 0.0, 0.850630086063, 0.0, 0.723544657744, 0.0, 0.0, 0.938491441854, 1.00711994824, 0.648261597324, 0.0, 2.40151709664, 0.592588594898, 0.0, 0.0, 0.0, 1.01259941401, 0.0, 0.0, 0.0, 0.0, 0.0, 0.0, 0.687177013573, 1.35854366813, 0.0, 0.0, 0.0, 2.08091273702, 1.86568416445, 0.0, 1.61886865925, 0.0, 0.0, 0.0, 0.0, 1.05249329352, 1.06911162427, 0.0, 0.80050569888, 0.78726047213, 0.0, 1.00711994824, 1.40163934553, 0.0, 0.0, 1.03482255079, 2.0378155022, 0.0, 0.0, 0.0, 0.0, 0.0, 1.14770189886, 1.64595710947, 0.0, 0.986041998265, 0.0, 0.0, 1.92197099382, 1.12285590028, 0.0, 1.72409709044, 0.0, 3.18428440725, 1.30417138752, 0.0, 0.0, 1.04612210605, 0.0, 0.0, 2.25542286774, 0.0, 0.0, 1.72949593522, 0.0, 0.0, 1.02922029524, 0.0, 0.0, 0.0, 0.0, 0.827534371268, 0.66753001619, 0.0, 0.0, 0.969582028924, 1.25123824115, 0.423592492701, 2.94049241476, 0.744335427413, 1.85455242626, 0.707217764457, 1.55705358432, 0.0, 0.832111038296, 1.54837678113, 0.0, 0.0)                                                                                                                                                                                                                                                                                                                                                                                                                                 "
      ]
     },
     "execution_count": 19,
     "metadata": {},
     "output_type": "execute_result"
    }
   ],
   "source": [
    "from pyspark.ml.feature import IDF\n",
    "\n",
    "idf = IDF(inputCol=\"rawFeatures\", outputCol=\"features\")\n",
    "idfModel = idf.fit(featurizedData)\n",
    "rescaledData = idfModel.transform(featurizedData)\n",
    "\n",
    "rescaledData.select(\"text\", \"rawFeatures\", \"features\").toPandas().head()"
   ]
  },
  {
   "cell_type": "markdown",
   "metadata": {},
   "source": [
    "## 4. Build ML Pipeline and Learn a Model"
   ]
  },
  {
   "cell_type": "markdown",
   "metadata": {},
   "source": [
    "### Use Logistic Regression Algorithm to predict author"
   ]
  },
  {
   "cell_type": "code",
   "execution_count": 20,
   "metadata": {},
   "outputs": [],
   "source": [
    "from pyspark.ml.classification import LogisticRegression\n",
    "lr = LogisticRegression(labelCol = \"label\", regParam=0.3, threshold=0.5)"
   ]
  },
  {
   "cell_type": "markdown",
   "metadata": {},
   "source": [
    "### Define the machine learning pipeline"
   ]
  },
  {
   "cell_type": "code",
   "execution_count": 21,
   "metadata": {},
   "outputs": [],
   "source": [
    "stages = [removePunctuationTrans, tokenizer, remover, hashingTF, idf, lr]\n",
    "from pyspark.ml import Pipeline\n",
    "pipeline = Pipeline(stages = stages)"
   ]
  },
  {
   "cell_type": "markdown",
   "metadata": {},
   "source": [
    "### Display the parameter setting of the pipeline stages"
   ]
  },
  {
   "cell_type": "code",
   "execution_count": 22,
   "metadata": {
    "scrolled": true
   },
   "outputs": [
    {
     "name": "stdout",
     "output_type": "stream",
     "text": [
      "Remove Punctuation SQL Transformer:\n",
      "statement: SQL statement (current: SELECT *, TRANSLATE(text,',.:;!?@#$%^&*()+=-`~{}[]|\\/''\"<>','') AS textNoPunctuation FROM __THIS__)\n",
      "*************************\n",
      "inputCol: input column name. (current: text)\n",
      "outputCol: output column name. (default: Tokenizer_4f19b87d2d6cf4edc90c__output, current: words)\n",
      "*************************\n",
      "Tokenizer:\n",
      "inputCol: input column name. (current: text)\n",
      "outputCol: output column name. (default: Tokenizer_4f19b87d2d6cf4edc90c__output, current: words)\n",
      "*************************\n",
      "Remover:\n",
      "caseSensitive: whether to do a case sensitive comparison over the stop words (default: False, current: False)\n",
      "inputCol: input column name. (current: words)\n",
      "outputCol: output column name. (default: StopWordsRemover_4a8ea86c84fe975a042b__output, current: filtered)\n",
      "stopWords: The words to be filtered out (default: [u'i', u'me', u'my', u'myself', u'we', u'our', u'ours', u'ourselves', u'you', u'your', u'yours', u'yourself', u'yourselves', u'he', u'him', u'his', u'himself', u'she', u'her', u'hers', u'herself', u'it', u'its', u'itself', u'they', u'them', u'their', u'theirs', u'themselves', u'what', u'which', u'who', u'whom', u'this', u'that', u'these', u'those', u'am', u'is', u'are', u'was', u'were', u'be', u'been', u'being', u'have', u'has', u'had', u'having', u'do', u'does', u'did', u'doing', u'a', u'an', u'the', u'and', u'but', u'if', u'or', u'because', u'as', u'until', u'while', u'of', u'at', u'by', u'for', u'with', u'about', u'against', u'between', u'into', u'through', u'during', u'before', u'after', u'above', u'below', u'to', u'from', u'up', u'down', u'in', u'out', u'on', u'off', u'over', u'under', u'again', u'further', u'then', u'once', u'here', u'there', u'when', u'where', u'why', u'how', u'all', u'any', u'both', u'each', u'few', u'more', u'most', u'other', u'some', u'such', u'no', u'nor', u'not', u'only', u'own', u'same', u'so', u'than', u'too', u'very', u's', u't', u'can', u'will', u'just', u'don', u'should', u'now', u'd', u'll', u'm', u'o', u're', u've', u'y', u'ain', u'aren', u'couldn', u'didn', u'doesn', u'hadn', u'hasn', u'haven', u'isn', u'ma', u'mightn', u'mustn', u'needn', u'shan', u'shouldn', u'wasn', u'weren', u'won', u'wouldn'])\n",
      "*************************\n",
      "HashingTF:\n",
      "binary: If True, all non zero counts are set to 1. This is useful for discrete probabilistic models that model binary events rather than integer counts. Default False. (default: False)\n",
      "inputCol: input column name. (current: filtered)\n",
      "numFeatures: number of features. (default: 262144, current: 100)\n",
      "outputCol: output column name. (default: HashingTF_44f7b7b51f0a946766c9__output, current: rawFeatures)\n",
      "*************************\n",
      "IDF:\n",
      "inputCol: input column name. (current: rawFeatures)\n",
      "minDocFreq: minimum number of documents in which a term should appear for filtering (default: 0)\n",
      "outputCol: output column name. (default: IDF_45039f96c409c64c0dea__output, current: features)\n",
      "*************************\n",
      "LogisticRegression:\n",
      "aggregationDepth: suggested depth for treeAggregate (>= 2). (default: 2)\n",
      "elasticNetParam: the ElasticNet mixing parameter, in range [0, 1]. For alpha = 0, the penalty is an L2 penalty. For alpha = 1, it is an L1 penalty. (default: 0.0)\n",
      "family: The name of family which is a description of the label distribution to be used in the model. Supported options: auto, binomial, multinomial (default: auto)\n",
      "featuresCol: features column name. (default: features)\n",
      "fitIntercept: whether to fit an intercept term. (default: True)\n",
      "labelCol: label column name. (default: label, current: label)\n",
      "maxIter: max number of iterations (>= 0). (default: 100)\n",
      "predictionCol: prediction column name. (default: prediction)\n",
      "probabilityCol: Column name for predicted class conditional probabilities. Note: Not all models output well-calibrated probability estimates! These probabilities should be treated as confidences, not precise probabilities. (default: probability)\n",
      "rawPredictionCol: raw prediction (a.k.a. confidence) column name. (default: rawPrediction)\n",
      "regParam: regularization parameter (>= 0). (default: 0.0, current: 0.3)\n",
      "standardization: whether to standardize the training features before fitting the model. (default: True)\n",
      "threshold: Threshold in binary classification prediction, in range [0, 1]. If threshold and thresholds are both set, they must match.e.g. if threshold is p, then thresholds must be equal to [1-p, p]. (default: 0.5, current: 0.5)\n",
      "thresholds: Thresholds in multi-class classification to adjust the probability of predicting each class. Array must have length equal to the number of classes, with values > 0, excepting that at most one value may be 0. The class with largest value p/t is predicted, where p is the original probability of that class and t is the class's threshold. (undefined)\n",
      "tol: the convergence tolerance for iterative algorithms (>= 0). (default: 1e-06)\n",
      "weightCol: weight column name. If this is not set or empty, we treat all instance weights as 1.0. (undefined)\n",
      "*************************\n",
      "Pipeline:\n",
      "stages: a list of pipeline stages (current: [SQLTransformer_4e8fb9dfb3fbebc30778, Tokenizer_4f19b87d2d6cf4edc90c, StopWordsRemover_4a8ea86c84fe975a042b, HashingTF_44f7b7b51f0a946766c9, IDF_45039f96c409c64c0dea, LogisticRegression_41e388a6eee9ca602025])\n"
     ]
    }
   ],
   "source": [
    "print(\"Remove Punctuation SQL Transformer:\")\n",
    "print(removePunctuationTrans.explainParams())\n",
    "print(\"*************************\")\n",
    "print(tokenizer.explainParams())\n",
    "print(\"*************************\")\n",
    "print(\"Tokenizer:\")\n",
    "print(tokenizer.explainParams())\n",
    "print(\"*************************\")\n",
    "print(\"Remover:\")\n",
    "print(remover.explainParams())\n",
    "print(\"*************************\")\n",
    "print(\"HashingTF:\")\n",
    "print(hashingTF.explainParams())\n",
    "print(\"*************************\")\n",
    "print(\"IDF:\")\n",
    "print(idf.explainParams())\n",
    "print(\"*************************\")\n",
    "print(\"LogisticRegression:\")\n",
    "print(lr.explainParams())\n",
    "print(\"*************************\")\n",
    "print(\"Pipeline:\")\n",
    "print(pipeline.explainParams())"
   ]
  },
  {
   "cell_type": "markdown",
   "metadata": {},
   "source": [
    "### Split the dataset into training and test data sets"
   ]
  },
  {
   "cell_type": "code",
   "execution_count": 23,
   "metadata": {},
   "outputs": [
    {
     "name": "stdout",
     "output_type": "stream",
     "text": [
      "The number of records in the training data set is 347.\n",
      "The number of rows labeled 1 in the training data set is 77.\n",
      "The number of rows labeled 2 in the training data set is 67.\n",
      "The number of rows labeled 3 in the training data set is 70.\n",
      "The number of rows labeled 4 in the training data set is 66.\n",
      "The number of rows labeled 5 in the training data set is 67.\n",
      "\n",
      "The number of records in the test data set is 153.\n",
      "The number of rows labeled 1 in the test data set is 23.\n",
      "The number of rows labeled 2 in the test data set is 33.\n",
      "The number of rows labeled 3 in the test data set is 30.\n",
      "The number of rows labeled 4 in the test data set is 34.\n",
      "The number of rows labeled 5 in the test data set is 33.\n"
     ]
    }
   ],
   "source": [
    "train, test = data.randomSplit([70.0,30.0], seed=1)\n",
    "print('The number of records in the training data set is {}.'.format(train.count()))\n",
    "print('The number of rows labeled 1 in the training data set is {}.'.format(train.filter(train['label'] == 1).count()))\n",
    "print('The number of rows labeled 2 in the training data set is {}.'.format(train.filter(train['label'] == 2).count()))\n",
    "print('The number of rows labeled 3 in the training data set is {}.'.format(train.filter(train['label'] == 3).count()))\n",
    "print('The number of rows labeled 4 in the training data set is {}.'.format(train.filter(train['label'] == 4).count()))\n",
    "print('The number of rows labeled 5 in the training data set is {}.'.format(train.filter(train['label'] == 5).count()))\n",
    "print(\"\")\n",
    "print('The number of records in the test data set is {}.'.format(test.count()))\n",
    "print('The number of rows labeled 1 in the test data set is {}.'.format(test.filter(test['label'] == 1).count()))\n",
    "print('The number of rows labeled 2 in the test data set is {}.'.format(test.filter(test['label'] == 2).count()))\n",
    "print('The number of rows labeled 3 in the test data set is {}.'.format(test.filter(test['label'] == 3).count()))\n",
    "print('The number of rows labeled 4 in the test data set is {}.'.format(test.filter(test['label'] == 4).count()))\n",
    "print('The number of rows labeled 5 in the test data set is {}.'.format(test.filter(test['label'] == 5).count()))"
   ]
  },
  {
   "cell_type": "markdown",
   "metadata": {},
   "source": [
    "### Train the model using the training data set"
   ]
  },
  {
   "cell_type": "code",
   "execution_count": 24,
   "metadata": {},
   "outputs": [],
   "source": [
    "model = pipeline.fit(train)"
   ]
  },
  {
   "cell_type": "markdown",
   "metadata": {},
   "source": [
    "## 5. Evaluate the Model"
   ]
  },
  {
   "cell_type": "markdown",
   "metadata": {},
   "source": [
    "### Make predictions using the test data set"
   ]
  },
  {
   "cell_type": "code",
   "execution_count": 25,
   "metadata": {},
   "outputs": [],
   "source": [
    "predictions = model.transform(test)"
   ]
  },
  {
   "cell_type": "code",
   "execution_count": 26,
   "metadata": {},
   "outputs": [
    {
     "name": "stdout",
     "output_type": "stream",
     "text": [
      "The number of rows with prediction of 1 is 32.\n",
      "The number of rows with prediction of 2 is 32.\n",
      "The number of rows with prediction of 3 is 34.\n",
      "The number of rows with prediction of 4 is 14.\n",
      "The number of rows with prediction of 5 is 28.\n"
     ]
    }
   ],
   "source": [
    "print('The number of rows with prediction of 1 is {}.'.format(predictions.filter(predictions['prediction'] == 1).count()))\n",
    "print('The number of rows with prediction of 2 is {}.'.format(predictions.filter(predictions['prediction'] == 2).count()))\n",
    "print('The number of rows with prediction of 3 is {}.'.format(predictions.filter(predictions['prediction'] == 3).count()))\n",
    "print('The number of rows with prediction of 4 is {}.'.format(predictions.filter(predictions['prediction'] == 4).count()))\n",
    "print('The number of rows with prediction of 5 is {}.'.format(predictions.filter(predictions['prediction'] == 5).count()))"
   ]
  },
  {
   "cell_type": "code",
   "execution_count": 27,
   "metadata": {},
   "outputs": [
    {
     "data": {
      "text/html": [
       "<div>\n",
       "<table border=\"1\" class=\"dataframe\">\n",
       "  <thead>\n",
       "    <tr style=\"text-align: right;\">\n",
       "      <th></th>\n",
       "      <th>label</th>\n",
       "      <th>prediction</th>\n",
       "      <th>text</th>\n",
       "    </tr>\n",
       "  </thead>\n",
       "  <tbody>\n",
       "    <tr>\n",
       "      <th>0</th>\n",
       "      <td>1</td>\n",
       "      <td>3</td>\n",
       "      <td>We've had this mouse trap in a problem mouse area at our front entryway for several weeks now We know there are mice because because we see droppingslots of them So I knew the optimal location to place this mouse trap Our hope was that we'd catch the little pests and then be able to safely and humanely release them in an empty field far from homeWe followed the directions to a T Setting the trap isn't difficult though the directions call for precision when winding up the mechanism that is supposed to usher mice in Unfortunately we have quite a bit of evidence that mice have been around the trap There are droppings around it and even on it But nary a mouse has been caught This is supposed to be a bait free trap and we followed directions and didn't use any bait As the mouse problem is in a location that doesn't actually have a food source we don't want to add one Likewise we don't want to exacerbate our problem by attracting ants so this baitless trap is completely ineffective at our house</td>\n",
       "    </tr>\n",
       "    <tr>\n",
       "      <th>1</th>\n",
       "      <td>2</td>\n",
       "      <td>2</td>\n",
       "      <td>For every soil sample I tested this powder with it indicated it was 75 ph  I even tried some of my almost pure peat mix in it and it said it was 75 which is the highest the meter will go so I'm assuming it's just bad powder  I tested the same soil in the other compartment with my liquid ph tester also bought on here good stuff and it showed the real PH values 50 for my peat mix 65 for my other regular soil  So it gets to keep a star because I'll use the container for testing with my liquid ph tester</td>\n",
       "    </tr>\n",
       "    <tr>\n",
       "      <th>2</th>\n",
       "      <td>2</td>\n",
       "      <td>5</td>\n",
       "      <td>I have found less expensive and higher quality products at stores nearby The birds don't seem to like it and I will be looking elsewhere for my next carton of suet</td>\n",
       "    </tr>\n",
       "    <tr>\n",
       "      <th>3</th>\n",
       "      <td>2</td>\n",
       "      <td>1</td>\n",
       "      <td>I thought that a plastic quick connect might turn out to be cheesy but I gave them a try anywayAfter only one month at the end of a light duty hose the male end just snapped in half The plastic sheared in half at the middle of the fitting with the male end still engaged into the female snap Yup it was under normal water pressure but it wasn't like I was using the hose as a tow rope or pumping benzene through itI've had both brass and aluminum hose quick connects wear out over the years but never snap in half like thatNext time I'll listen to that little voice</td>\n",
       "    </tr>\n",
       "    <tr>\n",
       "      <th>4</th>\n",
       "      <td>2</td>\n",
       "      <td>1</td>\n",
       "      <td>This review reminds me of the old joke about the box of baking soda in the fridge put their to keep away elephants  The rationale is that if there are no elephants in the fridge it must be working  I like the delivery system on this it beats the heck out of the squeeze pump  I only saw deer once in my yard and after I sprayed I haven't seen them since  The big but is that I don't have empirical evidence that the reason I haven't seen them again is the spray  It is easy to use and I guess it is working but I am hard pressed to offer any proofaddendum  6813  I went to use this again and the battery spray no longer works  I ran it in warm water thinking it may have gotten gummed up but to no avail  So one use it worked the second use the battery spray failed  I did replace the batteries although it was making noises with the old batteries I gave that a shot anyway  Still didn't work Since my primary reason for liking this was the delivery system I have downgraded my review rating</td>\n",
       "    </tr>\n",
       "  </tbody>\n",
       "</table>\n",
       "</div>"
      ],
      "text/plain": [
       "   label  prediction  \\\n",
       "0  1      3            \n",
       "1  2      2            \n",
       "2  2      5            \n",
       "3  2      1            \n",
       "4  2      1            \n",
       "\n",
       "                                                                                                                                                                                                                                                                                                                                                                                                                                                                                                                                                                                                                                                                                                                                                                                                                                                                                                                                                                                                                                          text  \n",
       "0  We've had this mouse trap in a problem mouse area at our front entryway for several weeks now We know there are mice because because we see droppingslots of them So I knew the optimal location to place this mouse trap Our hope was that we'd catch the little pests and then be able to safely and humanely release them in an empty field far from homeWe followed the directions to a T Setting the trap isn't difficult though the directions call for precision when winding up the mechanism that is supposed to usher mice in Unfortunately we have quite a bit of evidence that mice have been around the trap There are droppings around it and even on it But nary a mouse has been caught This is supposed to be a bait free trap and we followed directions and didn't use any bait As the mouse problem is in a location that doesn't actually have a food source we don't want to add one Likewise we don't want to exacerbate our problem by attracting ants so this baitless trap is completely ineffective at our house  \n",
       "1  For every soil sample I tested this powder with it indicated it was 75 ph  I even tried some of my almost pure peat mix in it and it said it was 75 which is the highest the meter will go so I'm assuming it's just bad powder  I tested the same soil in the other compartment with my liquid ph tester also bought on here good stuff and it showed the real PH values 50 for my peat mix 65 for my other regular soil  So it gets to keep a star because I'll use the container for testing with my liquid ph tester                                                                                                                                                                                                                                                                                                                                                                                                                                                                                                                     \n",
       "2  I have found less expensive and higher quality products at stores nearby The birds don't seem to like it and I will be looking elsewhere for my next carton of suet                                                                                                                                                                                                                                                                                                                                                                                                                                                                                                                                                                                                                                                                                                                                                                                                                                                                          \n",
       "3  I thought that a plastic quick connect might turn out to be cheesy but I gave them a try anywayAfter only one month at the end of a light duty hose the male end just snapped in half The plastic sheared in half at the middle of the fitting with the male end still engaged into the female snap Yup it was under normal water pressure but it wasn't like I was using the hose as a tow rope or pumping benzene through itI've had both brass and aluminum hose quick connects wear out over the years but never snap in half like thatNext time I'll listen to that little voice                                                                                                                                                                                                                                                                                                                                                                                                                                                        \n",
       "4  This review reminds me of the old joke about the box of baking soda in the fridge put their to keep away elephants  The rationale is that if there are no elephants in the fridge it must be working  I like the delivery system on this it beats the heck out of the squeeze pump  I only saw deer once in my yard and after I sprayed I haven't seen them since  The big but is that I don't have empirical evidence that the reason I haven't seen them again is the spray  It is easy to use and I guess it is working but I am hard pressed to offer any proofaddendum  6813  I went to use this again and the battery spray no longer works  I ran it in warm water thinking it may have gotten gummed up but to no avail  So one use it worked the second use the battery spray failed  I did replace the batteries although it was making noises with the old batteries I gave that a shot anyway  Still didn't work Since my primary reason for liking this was the delivery system I have downgraded my review rating              "
      ]
     },
     "execution_count": 27,
     "metadata": {},
     "output_type": "execute_result"
    }
   ],
   "source": [
    "predictions.select('label', 'prediction', 'text').sample(False, 0.1, 0).toPandas().head()"
   ]
  },
  {
   "cell_type": "markdown",
   "metadata": {},
   "source": [
    "### Evaluate the model performance by calculating the accuracy"
   ]
  },
  {
   "cell_type": "code",
   "execution_count": 28,
   "metadata": {},
   "outputs": [
    {
     "name": "stdout",
     "output_type": "stream",
     "text": [
      "Accuracy = 18.30%.\n"
     ]
    }
   ],
   "source": [
    "from pyspark.ml.evaluation import MulticlassClassificationEvaluator\n",
    "evaluator = MulticlassClassificationEvaluator(labelCol = \"label\", predictionCol=\"prediction\").setMetricName(\"accuracy\")\n",
    "print('Accuracy = {:0.2f}%.'.format(evaluator.evaluate(predictions)*100))"
   ]
  },
  {
   "cell_type": "markdown",
   "metadata": {},
   "source": [
    "# Part 2: Machine Learning using Watson Cognitive APIs"
   ]
  },
  {
   "cell_type": "markdown",
   "metadata": {},
   "source": [
    "This section will employ Watson Natrual Language Understanding to create rich features and learn a new model."
   ]
  },
  {
   "cell_type": "markdown",
   "metadata": {},
   "source": [
    "## 1. Set up for Use of the Natural Language Understanding Service"
   ]
  },
  {
   "cell_type": "markdown",
   "metadata": {},
   "source": [
    "### Setup configuration for the Watson Natural Language Understanding (NLU) service"
   ]
  },
  {
   "cell_type": "code",
   "execution_count": 29,
   "metadata": {},
   "outputs": [],
   "source": [
    "import watson_developer_cloud\n",
    "from watson_developer_cloud import NaturalLanguageUnderstandingV1\n",
    "import watson_developer_cloud.natural_language_understanding.features.v1 as Features\n",
    "import json"
   ]
  },
  {
   "cell_type": "code",
   "execution_count": 30,
   "metadata": {},
   "outputs": [],
   "source": [
    "NLU_USERNAME = '07b62cfc-5bb7-4bdf-bcf4-566349dcc748'\n",
    "NLU_PASSWORD = '6T0VNRSLytuz'\n",
    "natural_language_understanding = NaturalLanguageUnderstandingV1(\n",
    "  username=NLU_USERNAME,\n",
    "  password=NLU_PASSWORD,\n",
    "  version=\"2017-02-27\")"
   ]
  },
  {
   "cell_type": "markdown",
   "metadata": {
    "collapsed": true
   },
   "source": [
    "### Split up the dataframe - this will be important in order to limit the API call rate to the NLU Service"
   ]
  },
  {
   "cell_type": "code",
   "execution_count": 31,
   "metadata": {},
   "outputs": [],
   "source": [
    "data00,data01,data02,data03,data04,data05,data06,data07,data08,data09,data10,data11,data12,data13,data14,data15,data16,data17,data18,data19, \\\n",
    "data20,data21,data22,data23,data24,data25,data26,data27,data28,data29,data30,data31,data32,data33,data34,data35,data36,data37,data38,data39, \\\n",
    "data40,data41,data42,data43,data44,data45,data46,data47,data48,data49,data50,data51,data52,data53,data54,data55,data56,data57,data58,data59, \\\n",
    "data60,data61,data62,data63,data64,data65,data66,data67,data68,data69,data70,data71,data72,data73,data74,data75,data76,data77,data78,data79, \\\n",
    "data80,data81,data82,data83,data84,data85,data86,data87,data88,data89,data90,data91,data92,data93,data94,data95,data96,data97,data98,data99 \\\n",
    " = data.randomSplit([1.0]*100, 0)"
   ]
  },
  {
   "cell_type": "markdown",
   "metadata": {},
   "source": [
    "### Show example of employing NLU API on single row of the data set"
   ]
  },
  {
   "cell_type": "code",
   "execution_count": 32,
   "metadata": {
    "scrolled": false
   },
   "outputs": [
    {
     "name": "stdout",
     "output_type": "stream",
     "text": [
      "\"I am a Master Gardener which in my state means I need to have continuing education each year and teach minimum amount of hours  We can't teach old wive's tales just scientifically proven plant info but some of the old wive's tales have been proven so they are OK   These upsidedown planters have been a big discussion point and unbiased studies have been done on their effectiveness  They have been proven to produce less than conventionally grown plants  I am giving two stars for the novelty factor but I would never recommend them for anyone who actually wants tomatoesMore work  more expensive  less fruit  thumbs down\"\n",
      "\n",
      "Anger = 0.119071\n",
      "Joy = 0.249668\n",
      "Sadness = 0.564676\n",
      "Fear = 0.075958\n",
      "Disgust = 0.126124\n",
      "Sentiment = 0.0\n",
      "\n",
      "{\n",
      "  \"usage\": {\n",
      "    \"text_characters\": 624, \n",
      "    \"features\": 2, \n",
      "    \"text_units\": 1\n",
      "  }, \n",
      "  \"emotion\": {\n",
      "    \"document\": {\n",
      "      \"emotion\": {\n",
      "        \"anger\": 0.119071, \n",
      "        \"joy\": 0.249668, \n",
      "        \"sadness\": 0.564676, \n",
      "        \"fear\": 0.075958, \n",
      "        \"disgust\": 0.126124\n",
      "      }\n",
      "    }\n",
      "  }, \n",
      "  \"language\": \"en\", \n",
      "  \"sentiment\": {\n",
      "    \"document\": {\n",
      "      \"score\": 0.0, \n",
      "      \"label\": \"neutral\"\n",
      "    }\n",
      "  }\n",
      "}\n"
     ]
    }
   ],
   "source": [
    "dataNLUtest = data00.select(data00[\"text\"]).toJSON().collect()[0][8:-1]\n",
    "print(dataNLUtest)\n",
    "import json\n",
    "features=[\n",
    "    Features.Emotion(),\n",
    "    Features.Sentiment()\n",
    "  ]\n",
    "nlu = natural_language_understanding.analyze(text=dataNLUtest, features=features, language='en', clean='true')\n",
    "anger = nlu['emotion']['document']['emotion']['anger']\n",
    "joy = nlu['emotion']['document']['emotion']['joy']\n",
    "sadness = nlu['emotion']['document']['emotion']['sadness']\n",
    "fear = nlu['emotion']['document']['emotion']['fear']\n",
    "disgust = nlu['emotion']['document']['emotion']['disgust']\n",
    "sentiment = nlu['sentiment']['document']['score']\n",
    "\n",
    "print(\"\")\n",
    "print(\"Anger = {}\".format(anger))\n",
    "print(\"Joy = {}\".format(joy))\n",
    "print(\"Sadness = {}\".format(sadness))\n",
    "print(\"Fear = {}\".format(fear))\n",
    "print(\"Disgust = {}\".format(disgust))\n",
    "print(\"Sentiment = {}\".format(sentiment))\n",
    "print(\"\")\n",
    "print(json.dumps(nlu, indent=2))"
   ]
  },
  {
   "cell_type": "markdown",
   "metadata": {},
   "source": [
    "## 2. Create Enhanced Features using the NLU Service"
   ]
  },
  {
   "cell_type": "markdown",
   "metadata": {},
   "source": [
    "### Define UDF to create NLU derived features"
   ]
  },
  {
   "cell_type": "code",
   "execution_count": 33,
   "metadata": {},
   "outputs": [],
   "source": [
    "from pyspark.sql.functions import udf\n",
    "udfNLU = (udf(lambda text: json.dumps(NaturalLanguageUnderstandingV1(\n",
    "    username=NLU_USERNAME, password=NLU_PASSWORD, version=\"2017-02-27\")\n",
    "    .analyze(text=text, features=features, language='en', clean='true'))))"
   ]
  },
  {
   "cell_type": "markdown",
   "metadata": {},
   "source": [
    "### Invoke UDF to create new column with NLU output"
   ]
  },
  {
   "cell_type": "code",
   "execution_count": 34,
   "metadata": {},
   "outputs": [],
   "source": [
    "data00NLU = data00.withColumn('nlu', udfNLU(data00['text']))\n",
    "data01NLU = data01.withColumn('nlu', udfNLU(data01['text']))\n",
    "data02NLU = data02.withColumn('nlu', udfNLU(data02['text']))\n",
    "data03NLU = data03.withColumn('nlu', udfNLU(data03['text']))\n",
    "data04NLU = data04.withColumn('nlu', udfNLU(data04['text']))\n",
    "data05NLU = data05.withColumn('nlu', udfNLU(data05['text']))\n",
    "data06NLU = data06.withColumn('nlu', udfNLU(data06['text']))\n",
    "data07NLU = data07.withColumn('nlu', udfNLU(data07['text']))\n",
    "data08NLU = data08.withColumn('nlu', udfNLU(data08['text']))\n",
    "data09NLU = data09.withColumn('nlu', udfNLU(data09['text']))\n",
    "data10NLU = data10.withColumn('nlu', udfNLU(data10['text']))\n",
    "data11NLU = data11.withColumn('nlu', udfNLU(data11['text']))\n",
    "data12NLU = data12.withColumn('nlu', udfNLU(data12['text']))\n",
    "data13NLU = data13.withColumn('nlu', udfNLU(data13['text']))\n",
    "data14NLU = data14.withColumn('nlu', udfNLU(data14['text']))\n",
    "data15NLU = data15.withColumn('nlu', udfNLU(data15['text']))\n",
    "data16NLU = data16.withColumn('nlu', udfNLU(data16['text']))\n",
    "data17NLU = data17.withColumn('nlu', udfNLU(data17['text']))\n",
    "data18NLU = data18.withColumn('nlu', udfNLU(data18['text']))\n",
    "data19NLU = data19.withColumn('nlu', udfNLU(data19['text']))\n",
    "data20NLU = data20.withColumn('nlu', udfNLU(data20['text']))\n",
    "data21NLU = data21.withColumn('nlu', udfNLU(data21['text']))\n",
    "data22NLU = data22.withColumn('nlu', udfNLU(data22['text']))\n",
    "data23NLU = data23.withColumn('nlu', udfNLU(data23['text']))\n",
    "data24NLU = data24.withColumn('nlu', udfNLU(data24['text']))\n",
    "data25NLU = data25.withColumn('nlu', udfNLU(data25['text']))\n",
    "data26NLU = data26.withColumn('nlu', udfNLU(data26['text']))\n",
    "data27NLU = data27.withColumn('nlu', udfNLU(data27['text']))\n",
    "data28NLU = data28.withColumn('nlu', udfNLU(data28['text']))\n",
    "data29NLU = data29.withColumn('nlu', udfNLU(data29['text']))\n",
    "data30NLU = data30.withColumn('nlu', udfNLU(data30['text']))\n",
    "data31NLU = data31.withColumn('nlu', udfNLU(data31['text']))\n",
    "data32NLU = data32.withColumn('nlu', udfNLU(data32['text']))\n",
    "data33NLU = data33.withColumn('nlu', udfNLU(data33['text']))\n",
    "data34NLU = data34.withColumn('nlu', udfNLU(data34['text']))\n",
    "data35NLU = data35.withColumn('nlu', udfNLU(data35['text']))\n",
    "data36NLU = data36.withColumn('nlu', udfNLU(data36['text']))\n",
    "data37NLU = data37.withColumn('nlu', udfNLU(data37['text']))\n",
    "data38NLU = data38.withColumn('nlu', udfNLU(data38['text']))\n",
    "data39NLU = data39.withColumn('nlu', udfNLU(data39['text']))\n",
    "data40NLU = data40.withColumn('nlu', udfNLU(data40['text']))\n",
    "data41NLU = data41.withColumn('nlu', udfNLU(data41['text']))\n",
    "data42NLU = data42.withColumn('nlu', udfNLU(data42['text']))\n",
    "data43NLU = data43.withColumn('nlu', udfNLU(data43['text']))\n",
    "data44NLU = data44.withColumn('nlu', udfNLU(data44['text']))\n",
    "data45NLU = data45.withColumn('nlu', udfNLU(data45['text']))\n",
    "data46NLU = data46.withColumn('nlu', udfNLU(data46['text']))\n",
    "data47NLU = data47.withColumn('nlu', udfNLU(data47['text']))\n",
    "data48NLU = data48.withColumn('nlu', udfNLU(data48['text']))\n",
    "data49NLU = data49.withColumn('nlu', udfNLU(data49['text']))\n",
    "data50NLU = data50.withColumn('nlu', udfNLU(data50['text']))\n",
    "data51NLU = data51.withColumn('nlu', udfNLU(data51['text']))\n",
    "data52NLU = data52.withColumn('nlu', udfNLU(data52['text']))\n",
    "data53NLU = data53.withColumn('nlu', udfNLU(data53['text']))\n",
    "data54NLU = data54.withColumn('nlu', udfNLU(data54['text']))\n",
    "data55NLU = data55.withColumn('nlu', udfNLU(data55['text']))\n",
    "data56NLU = data56.withColumn('nlu', udfNLU(data56['text']))\n",
    "data57NLU = data57.withColumn('nlu', udfNLU(data57['text']))\n",
    "data58NLU = data58.withColumn('nlu', udfNLU(data58['text']))\n",
    "data59NLU = data59.withColumn('nlu', udfNLU(data59['text']))\n",
    "data60NLU = data60.withColumn('nlu', udfNLU(data60['text']))\n",
    "data61NLU = data61.withColumn('nlu', udfNLU(data61['text']))\n",
    "data62NLU = data62.withColumn('nlu', udfNLU(data62['text']))\n",
    "data63NLU = data63.withColumn('nlu', udfNLU(data63['text']))\n",
    "data64NLU = data64.withColumn('nlu', udfNLU(data64['text']))\n",
    "data65NLU = data65.withColumn('nlu', udfNLU(data65['text']))\n",
    "data66NLU = data66.withColumn('nlu', udfNLU(data66['text']))\n",
    "data67NLU = data67.withColumn('nlu', udfNLU(data67['text']))\n",
    "data68NLU = data68.withColumn('nlu', udfNLU(data68['text']))\n",
    "data69NLU = data69.withColumn('nlu', udfNLU(data69['text']))\n",
    "data70NLU = data70.withColumn('nlu', udfNLU(data70['text']))\n",
    "data71NLU = data71.withColumn('nlu', udfNLU(data71['text']))\n",
    "data72NLU = data72.withColumn('nlu', udfNLU(data72['text']))\n",
    "data73NLU = data73.withColumn('nlu', udfNLU(data73['text']))\n",
    "data74NLU = data74.withColumn('nlu', udfNLU(data74['text']))\n",
    "data75NLU = data75.withColumn('nlu', udfNLU(data75['text']))\n",
    "data76NLU = data76.withColumn('nlu', udfNLU(data76['text']))\n",
    "data77NLU = data77.withColumn('nlu', udfNLU(data77['text']))\n",
    "data78NLU = data78.withColumn('nlu', udfNLU(data78['text']))\n",
    "data79NLU = data79.withColumn('nlu', udfNLU(data79['text']))\n",
    "data80NLU = data80.withColumn('nlu', udfNLU(data80['text']))\n",
    "data81NLU = data81.withColumn('nlu', udfNLU(data81['text']))\n",
    "data82NLU = data82.withColumn('nlu', udfNLU(data82['text']))\n",
    "data83NLU = data83.withColumn('nlu', udfNLU(data83['text']))\n",
    "data84NLU = data84.withColumn('nlu', udfNLU(data84['text']))\n",
    "data85NLU = data85.withColumn('nlu', udfNLU(data85['text']))\n",
    "data86NLU = data86.withColumn('nlu', udfNLU(data86['text']))\n",
    "data87NLU = data87.withColumn('nlu', udfNLU(data87['text']))\n",
    "data88NLU = data88.withColumn('nlu', udfNLU(data88['text']))\n",
    "data89NLU = data89.withColumn('nlu', udfNLU(data89['text']))\n",
    "data90NLU = data90.withColumn('nlu', udfNLU(data90['text']))\n",
    "data91NLU = data91.withColumn('nlu', udfNLU(data91['text']))\n",
    "data92NLU = data92.withColumn('nlu', udfNLU(data92['text']))\n",
    "data93NLU = data93.withColumn('nlu', udfNLU(data93['text']))\n",
    "data94NLU = data94.withColumn('nlu', udfNLU(data94['text']))\n",
    "data95NLU = data95.withColumn('nlu', udfNLU(data95['text']))\n",
    "data96NLU = data96.withColumn('nlu', udfNLU(data96['text']))\n",
    "data97NLU = data97.withColumn('nlu', udfNLU(data97['text']))\n",
    "data98NLU = data98.withColumn('nlu', udfNLU(data98['text']))\n",
    "data99NLU = data99.withColumn('nlu', udfNLU(data99['text']))"
   ]
  },
  {
   "cell_type": "code",
   "execution_count": 35,
   "metadata": {},
   "outputs": [
    {
     "name": "stdout",
     "output_type": "stream",
     "text": [
      "The combined dataset contains 500 rows.\n"
     ]
    }
   ],
   "source": [
    "dataNLU= (data00NLU.union(data01NLU).union(data02NLU).union(data03NLU).union(data04NLU).union(data05NLU).union(data06NLU).union(data07NLU).union(data08NLU).union(data09NLU)\n",
    "            .union(data10NLU).union(data11NLU).union(data12NLU).union(data13NLU).union(data14NLU).union(data15NLU).union(data16NLU).union(data17NLU).union(data18NLU).union(data19NLU)\n",
    "            .union(data20NLU).union(data21NLU).union(data22NLU).union(data23NLU).union(data24NLU).union(data25NLU).union(data26NLU).union(data27NLU).union(data28NLU).union(data29NLU)\n",
    "            .union(data30NLU).union(data31NLU).union(data32NLU).union(data33NLU).union(data34NLU).union(data35NLU).union(data36NLU).union(data37NLU).union(data38NLU).union(data39NLU)\n",
    "            .union(data40NLU).union(data41NLU).union(data42NLU).union(data43NLU).union(data44NLU).union(data45NLU).union(data46NLU).union(data47NLU).union(data48NLU).union(data49NLU)\n",
    "            .union(data50NLU).union(data51NLU).union(data52NLU).union(data53NLU).union(data54NLU).union(data55NLU).union(data56NLU).union(data57NLU).union(data58NLU).union(data59NLU)\n",
    "            .union(data60NLU).union(data61NLU).union(data62NLU).union(data63NLU).union(data64NLU).union(data65NLU).union(data66NLU).union(data67NLU).union(data68NLU).union(data69NLU)\n",
    "            .union(data70NLU).union(data71NLU).union(data72NLU).union(data73NLU).union(data74NLU).union(data75NLU).union(data76NLU).union(data77NLU).union(data78NLU).union(data79NLU)\n",
    "            .union(data80NLU).union(data81NLU).union(data82NLU).union(data83NLU).union(data84NLU).union(data85NLU).union(data86NLU).union(data87NLU).union(data88NLU).union(data89NLU)\n",
    "            .union(data90NLU).union(data91NLU).union(data92NLU).union(data93NLU).union(data94NLU).union(data95NLU).union(data96NLU).union(data97NLU).union(data98NLU).union(data99NLU)\n",
    "            .cache())\n",
    "\n",
    "print(\"The combined dataset contains {} rows.\".format(dataNLU.count()))"
   ]
  },
  {
   "cell_type": "markdown",
   "metadata": {},
   "source": [
    "### Define UDFs to identify bad rows retuned by NLU"
   ]
  },
  {
   "cell_type": "code",
   "execution_count": 36,
   "metadata": {},
   "outputs": [],
   "source": [
    "from pyspark.sql.types import DoubleType\n",
    "udfAngerTest = udf(lambda nlu: json.loads(nlu))\n",
    "udfJoyTest = udf(lambda nlu: json.loads(nlu))\n",
    "udfSadnessTest = udf(lambda nlu: json.loads(nlu))\n",
    "udfFearTest = udf(lambda nlu: json.loads(nlu))\n",
    "udfDisgustTest = udf(lambda nlu: json.loads(nlu))\n",
    "udfSentimentTest = udf(lambda nlu: json.loads(nlu))"
   ]
  },
  {
   "cell_type": "code",
   "execution_count": 37,
   "metadata": {},
   "outputs": [],
   "source": [
    "dataNLUtest = (dataNLU.withColumn('AngerTest', udfAngerTest(dataNLU['nlu']))\n",
    "        .withColumn('JoyTest', udfJoyTest(dataNLU['nlu']))\n",
    "        .withColumn('SadnessTest', udfSadnessTest(dataNLU['nlu']))\n",
    "        .withColumn('FearTest', udfFearTest(dataNLU['nlu']))\n",
    "        .withColumn('DisgustTest', udfDisgustTest(dataNLU['nlu']))\n",
    "        .withColumn('SentimentTest', udfSentimentTest(dataNLU['nlu'])))"
   ]
  },
  {
   "cell_type": "code",
   "execution_count": 38,
   "metadata": {},
   "outputs": [
    {
     "name": "stdout",
     "output_type": "stream",
     "text": [
      "Number of bad rows found = 0\n",
      "Number of bad rows found = 0\n",
      "Number of bad rows found = 0\n",
      "Number of bad rows found = 0\n",
      "Number of bad rows found = 0\n",
      "Number of bad rows found = 0\n"
     ]
    }
   ],
   "source": [
    "print(\"Number of bad rows found = {}\".format(dataNLUtest.filter(~ col('AngerTest').like('%anger%')).count()))\n",
    "print(\"Number of bad rows found = {}\".format(dataNLUtest.filter(~ col('JoyTest').like('%joy%')).count()))\n",
    "print(\"Number of bad rows found = {}\".format(dataNLUtest.filter(~ col('SadnessTest').like('%sadness%')).count()))\n",
    "print(\"Number of bad rows found = {}\".format(dataNLUtest.filter(~ col('FearTest').like('%fear%')).count()))\n",
    "print(\"Number of bad rows found = {}\".format(dataNLUtest.filter(~ col('DisgustTest').like('%disgust%')).count()))\n",
    "print(\"Number of bad rows found = {}\".format(dataNLUtest.filter(~ col('SentimentTest').like('%sentiment%')).count()))"
   ]
  },
  {
   "cell_type": "markdown",
   "metadata": {},
   "source": [
    "### Remove bad rows returned from NLU"
   ]
  },
  {
   "cell_type": "code",
   "execution_count": 39,
   "metadata": {},
   "outputs": [],
   "source": [
    "dataNLU = (dataNLUtest.filter(col('AngerTest').like('%anger%'))\n",
    "            .filter(col('JoyTest').like('%joy%'))\n",
    "            .filter(col('SadnessTest').like('%sadness%'))\n",
    "            .filter(col('FearTest').like('%fear%'))\n",
    "            .filter(col('DisgustTest').like('%disgust%'))\n",
    "            .filter(col('SentimentTest').like('%sentiment%')))"
   ]
  },
  {
   "cell_type": "code",
   "execution_count": 40,
   "metadata": {},
   "outputs": [
    {
     "name": "stdout",
     "output_type": "stream",
     "text": [
      "Number of bad rows removed = 0\n",
      "Number of bad rows removed = 0\n",
      "Number of bad rows removed = 0\n",
      "Number of bad rows removed = 0\n",
      "Number of bad rows removed = 0\n",
      "Number of bad rows removed = 0\n"
     ]
    }
   ],
   "source": [
    "print(\"Number of bad rows removed = {}\".format(dataNLU.filter(~ col('AngerTest').like('%anger%')).count()))\n",
    "print(\"Number of bad rows removed = {}\".format(dataNLU.filter(~ col('JoyTest').like('%joy%')).count()))\n",
    "print(\"Number of bad rows removed = {}\".format(dataNLU.filter(~ col('SadnessTest').like('%sadness%')).count()))\n",
    "print(\"Number of bad rows removed = {}\".format(dataNLU.filter(~ col('FearTest').like('%fear%')).count()))\n",
    "print(\"Number of bad rows removed = {}\".format(dataNLU.filter(~ col('DisgustTest').like('%disgust%')).count()))\n",
    "print(\"Number of bad rows removed = {}\".format(dataNLU.filter(~ col('SentimentTest').like('%sentiment%')).count()))"
   ]
  },
  {
   "cell_type": "code",
   "execution_count": 41,
   "metadata": {},
   "outputs": [],
   "source": [
    "#Drop NLU test columns\n",
    "dataNLU = dataNLU.drop('AngerTest','JoyTest', 'SadnessTest', 'FearTest', 'DisgustTest', 'SentimentTest')"
   ]
  },
  {
   "cell_type": "markdown",
   "metadata": {},
   "source": [
    "### Define UDFs to extract NLU derived features"
   ]
  },
  {
   "cell_type": "code",
   "execution_count": 42,
   "metadata": {},
   "outputs": [],
   "source": [
    "from pyspark.sql.types import DoubleType\n",
    "udfAnger = udf(lambda nlu: json.loads(nlu)[\"emotion\"][\"document\"][\"emotion\"][\"anger\"], DoubleType())\n",
    "udfJoy = udf(lambda nlu: json.loads(nlu)[\"emotion\"][\"document\"][\"emotion\"][\"joy\"], DoubleType())\n",
    "udfSadness = udf(lambda nlu: json.loads(nlu)[\"emotion\"][\"document\"][\"emotion\"][\"sadness\"], DoubleType())\n",
    "udfFear = udf(lambda nlu: json.loads(nlu)[\"emotion\"][\"document\"][\"emotion\"][\"fear\"], DoubleType())\n",
    "udfDisgust = udf(lambda nlu: json.loads(nlu)[\"emotion\"][\"document\"][\"emotion\"][\"disgust\"], DoubleType())\n",
    "udfSentiment = udf(lambda nlu: json.loads(nlu)['sentiment']['document']['score'], DoubleType())"
   ]
  },
  {
   "cell_type": "markdown",
   "metadata": {},
   "source": [
    "### Invoke UDFs to create new columns for the enhanced emotion and sentiment features"
   ]
  },
  {
   "cell_type": "code",
   "execution_count": 43,
   "metadata": {},
   "outputs": [],
   "source": [
    "dataNLU = (dataNLU.withColumn('Anger', udfAnger(dataNLU['nlu']))\n",
    "        .withColumn('Joy', udfJoy(dataNLU['nlu']))\n",
    "        .withColumn('Sadness', udfSadness(dataNLU['nlu']))\n",
    "        .withColumn('Fear', udfFear(dataNLU['nlu']))\n",
    "        .withColumn('Disgust', udfDisgust(dataNLU['nlu']))\n",
    "        .withColumn('Sentiment', udfSentiment(dataNLU['nlu'])))"
   ]
  },
  {
   "cell_type": "code",
   "execution_count": 44,
   "metadata": {},
   "outputs": [
    {
     "data": {
      "text/html": [
       "<div>\n",
       "<table border=\"1\" class=\"dataframe\">\n",
       "  <thead>\n",
       "    <tr style=\"text-align: right;\">\n",
       "      <th></th>\n",
       "      <th>text</th>\n",
       "      <th>Anger</th>\n",
       "      <th>Joy</th>\n",
       "      <th>Sadness</th>\n",
       "      <th>Fear</th>\n",
       "      <th>Disgust</th>\n",
       "      <th>Sentiment</th>\n",
       "    </tr>\n",
       "  </thead>\n",
       "  <tbody>\n",
       "    <tr>\n",
       "      <th>0</th>\n",
       "      <td>I have an almost 100 organic garden and yard and overall I don't have that big an issue with weeds I use a lot of black plastic mulch in my veggies for exampleyou'll never see weeds again but I have a few areas like my patio where they are just out of control I despise the thought of adding any weedkilling chemicals to my yard for many reasons I eat a lot of what comes out of my yard I have a lot of wildlife that has a hard enough time surviving I worry about harm to pollinators etc But again for a few areas I thought this might be a potentially good idea and actually Preen came highly recommended by a local landscaper After reading the label and precautions however I decided to ONLY use it far away from any area where food is grown or where pets might roam I would not want my pets licking this off their paws sorryThe primary place that I wanted to use the Preen was on my patio which is made of pavers like 8 x 1234 the weeds grow like wildfire in the cracks between the pavers and it make me nuts Since no other plants grow there I thought it might be safe to use The trouble in using a powdered form of Preen I found is that the stuff just bounces off of the pavers and there' no way to make sure it goes in the crack So that's no fault of the product or spreader but that experiment was a failureI did find a few border areas that are largely gravel weeds seem to love gravel beds where I tried spreader and it worked as far as distribution fine But since it's still early spring here in New England I have no idea whether or not this stuff will prevent any weeds I tried to use it very sparingly because as I said I have no desire to bomb the yard with any chemicals The thing is the power spreader actually does work and you can go through a 25 jug of this stuff PDQ which is the source of my headline above What a clever idea add a batterypowered spreader to make sure that you're blowing through the stuff quickly Give that guy a raiseOverall while I can see the convenience value of this to someone who doesn't mind using a weed killer in garden beds and who has no pets but for me I felt guilty using it I think I'll go back to yanking the weeds or using vinegar to kill them I don't like the idea of hurting wildlife I think many weeds are good for the pollinators whose populations are declining I don't want poison in my yard and this stuff is way too expensive I would never buy this product sorry Please before you buy it read the labels and the warnings If you have a gravel parking area or some other nonnatural place where weeds are an issue perhaps this is a safe product But in the garden I don't think so</td>\n",
       "      <td>0.106499</td>\n",
       "      <td>0.010314</td>\n",
       "      <td>0.583821</td>\n",
       "      <td>0.560058</td>\n",
       "      <td>0.058305</td>\n",
       "      <td>-0.737788</td>\n",
       "    </tr>\n",
       "    <tr>\n",
       "      <th>1</th>\n",
       "      <td>I love how this is small and light I HATE large heavy bulky hoses with every fiber of my being With that said the flow on this hose isn't that great and the connectors suck They really should have fixed these issues before coming out with this product Mine hasn't sprung a leak yet but unfortunately I'm waiting for it to happen</td>\n",
       "      <td>0.530225</td>\n",
       "      <td>0.072203</td>\n",
       "      <td>0.405293</td>\n",
       "      <td>0.237732</td>\n",
       "      <td>0.064071</td>\n",
       "      <td>-0.924424</td>\n",
       "    </tr>\n",
       "    <tr>\n",
       "      <th>2</th>\n",
       "      <td>I've had this up for a couple weeks now and have yet to see any birds on it  The problem seems to be that the perches are quite small and there isn't a lot of drinking space the design requires that the bird sort of duck under the jug  We'll see what we'll see but so far this has been a bust for me  on my wooded property most avian visitors are woodpecker or cardinal size birds  this seems designed for small finchesThe design of the thing is pretty clever but you WILL lose some water when turning it upsidedown  Once upright the water wicks out somehow  provided you screwed the jug in fullyIt's pretty small  Maybe if you are trying to encourage sparrows and drive pigeons away it would be good</td>\n",
       "      <td>0.177403</td>\n",
       "      <td>0.270644</td>\n",
       "      <td>0.450372</td>\n",
       "      <td>0.126051</td>\n",
       "      <td>0.151649</td>\n",
       "      <td>0.000000</td>\n",
       "    </tr>\n",
       "    <tr>\n",
       "      <th>3</th>\n",
       "      <td>Revised 20130609  beginning of week 5 when the chickadees starting to use it regularlyAdditional updates on progressMy situation I have a variety of small birds  chickadees titmice bushtits wrens  that drink out of the ant traps on myHummingbird Feeders both integral and supplementary Trapit Ant Trap for Hummingbird Feeders I was interested in something better Because of the leaping ability of the neighborhood cats I will not locate feeders or this product with less than 55 foot bottom clearance higher in many locationsThis requirement for hanging at this height requires using a small ladder and made this product inconvenient for me unless I see some subsequent advice hence the rating I currently have it in a location that I would not have otherwise chosen in order to make the use of a ladder practical although still somewhat inconvenient Even if you don't have my situation this product may still be inconvenient for you to hangIt has taken the chickadees 4 full weeks to become accustomed to using this waterer details below I have _observed_ none of the other small birds using it but that may simply be that the chickadees call more attention to themselves I have just observed the titmice which are somewhat larger landing _vertically_ on the perch but don't seem to know how to access the water tray yet As for the wrens they may not have the right type of athletic ability to land on the perchUpdate Week 7 The chickadees are now using it enthusiastically but still none of the other birds that visit the adjacent feeder have been observed using it The visits of the titmice and wrens to the feeder often overlap those of the chickadees so it isn't for lack of examples for using the watererUpdate In Week 8 which was a very hot spell the titmice started making occasional tentative sips In Week 9 they are becoming somewhat more confident In Week 11 titmice have become enthusiastic It is an amazingly slow process especially compared to the quick adoption of new feeders The wrens that visit the feeder still haven't tried it nor have any of the flock of bushtits that daily pass within feet of itThe hanging loop is too small and impossible to see from below Even practicing with the container empty I couldn't put it on a typical screwin hanging hook much above eyelevel on the first or second try It has to be tilted at a considerable angle and wiggled about to find the hole With a full container I was unable to get it onto the hook without several inches of water pouring down my arm and usually most of the water in the jug spilled With the hook at eyelevel putting it on a stationary screwin hook typically spilled about an inch of water Spillless hanging seems to require a large Shook and since that precludes your holding the container from the side or bottom that in turn limits how high you can hang with without using a ladder or other deviceBird useI hung this close to a popular bird feeder peanuts where it would be a convenient perch for birds waiting their turn  the hanging flower pot that it replaced was used for just that It was over two weeks before first known use  I hear the chirping as the birds arrive at the feeder and usually get a secondary alert from my cat To supplement direct observation I put newspapers under a quarterfull jug and looked for speckling from the water drips that I expected would happen when birds landed Note I switched back to a full jug before observing the first arrival and that chickadee didn't produce enough movement to spill any water During weeks 3 and 4 only the larger adult chickadee used the waterer  the smaller adult mate who feeds second continued to drink from the nearby anttrap even though it was in a somewhat more exposed location there are Cooper's Hawks so they switch off on lookout duties At the beginning of week 5 the juvenile chickadees started showing up at the feeder and they quickly adopted the waterer and the smaller adult started using it as wellMy suspicion is that the perch is just too close to the water jug for even small birds to land comfortably The adult chickadees that I have seen using it land not headin but vertically or sideways on the perch appearing to also use a connector bar between the perching circle and the tray The adult chickadees also drink predominantly sideways  they duck down and turns their heads sideways to get at the tray The juvenile chickadees are small enough to drink headonThis observation screams that the trayperch is much too small relative to the jugCleaning questionable adviceThe typical advice for cleaning hummingbird feeders is to use vinegar and to avoid soap Some claim that hummingbirds hate soap's taste other that it causes problems with their digestive system or they may hate the taste because of those problemsConsequently I was surprised that the advice was to clean with mild soap Soap and vinegar have very different roles Detergents such a soaps are molecules that have one end that binds to water and the other to a oil or grease molecule and thus allows water flow to pull off not just that oilgrease but everything else that is attached to it Vinegar is a weak acid that tears apart or dissolves other types of contaminants This is why you will find both in many cleaning products My understanding of the types of problems likely to occur  minerals and harmful biologics  are ones dealt with by vinegar and on which soap has littleno effect There is no mention of bleach either wayApparent theory of operation beyond the basicsThe slots that release the water into the tray are very thin When I first turned over the feeder the water released didn't even completely cover the bottom But rock the feeder even slightly  as it would in the wind or from birds landing  and more water is released This has the potential to do more than just replenish the water in the tray  the currents _might_ help float debris up and over the sides I could simulate a little of this by hitting the perch with my finger but it would take actual birds landing to confirm this speculationObservation from current use With evaporation and without periodic rocking the water in the tray can become very depleted  not completely covering the bottom  which might then not provide sufficient attraction for birds to land and providing the rocking to do the replenishmentSuggestion One might want to periodically give this product a tap to release a bit more water into the tray Douglas B Moran</td>\n",
       "      <td>0.426352</td>\n",
       "      <td>0.015580</td>\n",
       "      <td>0.594996</td>\n",
       "      <td>0.139459</td>\n",
       "      <td>0.169231</td>\n",
       "      <td>0.000000</td>\n",
       "    </tr>\n",
       "    <tr>\n",
       "      <th>4</th>\n",
       "      <td>A nice garden hose reel that's built for both quality and some attractiveness  While this is fairly heavyduty I found that using 34light duty34 or 34medium duty34 hoses worked best as the heavy duty variety don't like to bend in quite a small of a diameter as this gives  As long as your hose isn't rigid as some heavy duty ones are you should be able to reel it up easilyAssembly  it was easy but the little wrench thing that's included didn't even fit the nuts  At least the manual even suggests you may need to use your own pliersOverall this looks nice is solid and based on limited usage thus far is a quality product  It would've been nice if it would have some with mounting hardware come on it's four screws and you're charging over 100 bucks I'm not convinced even after having this that I would buy it again based on price alone  Good unit but feels pricey compared to other options</td>\n",
       "      <td>0.083954</td>\n",
       "      <td>0.681931</td>\n",
       "      <td>0.206365</td>\n",
       "      <td>0.044620</td>\n",
       "      <td>0.012238</td>\n",
       "      <td>0.598601</td>\n",
       "    </tr>\n",
       "    <tr>\n",
       "      <th>5</th>\n",
       "      <td>I've gone through a few power washers  I don't use them often so I don't get new ones to replace a broken one just usually I see one and it has a feature I'd like so I give my old one to a friend or family member and get the new oneThis one looked interesting when it came up in the Vine program so I thought I'd give it a try  It was winter time when I ordered it and living in Wisconsin with the winter we've had I've got so much salt in the garage that I've never seen it look like this before  In about a 2 foot oval around the entire area the car sits it's like a small white beach there are literally small salt dunes in many placesThis was probably the biggest pain of any I have purchased to unbox and put together  There are 19 pieces you pull out 21 if you count the two wheel covers that were slipped on the wheels but not fully in place yet and had to be removed to put the wheels on anyway  Some things didn't line up very easily and required a bit of force to get them into place and this was mostly due to the barrels the screws went through not going into the holes set in the receiving piece without a bunch of elbow grease and slightly bending things to align them  There's a little design quality there they could improve uponI don't like that the connector for the hose is all plastic  Plastic for the screw threads plastic for the little rollers that pop out to secure it to the nozzle on the power washer just plastic plastic plastic  I've had far too many of these break in the past from other manufacturers I also don't like the wand's connector  The hose from the washer to the wand actually slides up inside a deep recessed hole with a cover totally shrouding it  The hose has to line up a specific way because of the shape of the plug on it and there is no marking on the hose to show 34line up with this spot34 on the wand  So you have to look into the 34tunnel34 on the hose to the hole inside see where the parts are supposed to be lined up then get the hose oriented this way and then push it up inside while maintaining that orientation  Slightly cocking it to one side or the other will mean you won't get it inserted  So there's some give and take there  Most places just use round retaining flanges that can be inserted regardless but this one is rectangular so it HAS to go in the right wayI was able to do a good stress test of the unit for my first run though cleaning out that aforementioned garage full of salt and gunk from the winter roads here  Since we've had an insanely brutal winter compared to normal for the last couple decades between more snow and more days below zero we've used a LOT of salt on our roads  Now that we're in April and I finally saw a day break 50 degrees I thought I would finally clean my garage  Since I didn't even have hoses outside yet and the faucets outside are still turned off I bought a short 15 foot hose to run from my wash tub in the laundry room off my garage to the power washer and just snaked the hose through the garage door and left it openOnce I got past the reset safety on the plug I saw that it had apparently been shipped in the 34on34 position  It's a large 334 or so circle on the BOTTOM of the front of the washer that rotates to turn this on and off  I like the large oversized swtich I just don't like the position  So I got it going and spent some time working on the concrete floor in my garageIt performed very well as good as any power washer I've had in the past and actually better than most  OnOff with the wand's handle was quick and flawless  I know my stationary tub does not put out as much water as quickly when compared to the hose bibs outside  I've had other power washers when using something with less than 34full water34 flow like I was using today would kind of squirt out a little water until you released the handle on the wand pulled it released it and pulled it again getting enough water pressure to the pump again and finally the pump would kick in again and it would start actually using power  I've had that happen here previously using this very stationary tub  But it never happened once with this unit  Full power the entire time despite the lesser inflow of water to the unitNoise levels were about on par with any power washer I've ever owned  The hose straightened out easily when I 34unscrewed34 it by twisting the wand to get rid of all the spirals in it from being rolled up it didn't try to hold it's old 34wound34 position like many do  The hose seems to be better than most of the really bad plastic feeling hoses the other washers I've had usedThe wand twists to give you control over the size of the spray and there's a setting for using the detergent mixer as well  That was another piece of this that just disappointed me as far as the poor engineering  The instructions show clearly that you are supposed to run the line from the top back of the power washer to the detergent container underneath the handle where this snaps in  But if you do that it would kink the unit  going to the side wasn't a good option either  I ended up pulling the little line apart and feeding it through one of the other cutouts in the handle since that way it wasn't compressed and didn't interfere with getting the container on and off  I've posted a couple pictures of what I'm talking about so you can see what I meanI also miss the wind up crank my other one had since there was a hose reel built into the top of it  But ultimately I prefer this one since as I said the hose doesn't seem to be forcing itself to stay in a coiled up spiral shape I can actually get this completely straight and flat while I'm using it  I find that far more useful than an easy way to roll it up when I'm doneThe AC cord has plenty of length and the hose is a usable length as wellAll told this is a good little unit  Engineering issues would've made me give this just 3 stars most likely if it performed as adequately as the other power washers I've used in the past but I had to give it another star for how well it actually worked  It had no problems stripping the gunk off my concrete floor or the Weathertech floor mats of my Jeep or even the floor mats I dragged outside to hose down now that the winter season has mostly passed us up  If it weren't for how the hose has to line up just the right way without being able to visually see it while you do it for the connector to the wand or the assembly issues with things not lining up right before you screwed them in the performance would've earned this 5 stars  So it balances out to 4 and it's certainly earned all of them</td>\n",
       "      <td>0.451451</td>\n",
       "      <td>0.008650</td>\n",
       "      <td>0.639120</td>\n",
       "      <td>0.176251</td>\n",
       "      <td>0.062215</td>\n",
       "      <td>0.913875</td>\n",
       "    </tr>\n",
       "    <tr>\n",
       "      <th>6</th>\n",
       "      <td>We seem to have a hard time finding a decent hose reel Over the year we've own expensive ones that looked great but wore out far too fast cheap ones that we planned to toss after each year but which performed so badly we still didn't get out money's worth moderate ones that seemed to be the worst of all possible worldstoo expensive to toss out and inferior in almost every way We store one hose in a hose bucketbasket which is less unsightly but still a pain to wind We have a couple portable reels that are more trouble than they are worth When this came up for review I thought 'what the heck'so very glad to try this outFirst this is smartly designed Really like the added shelf to store accessories which often end up in the shed and out of reach or laying in windowsills Next the heft and weight are much more substantial than mostcombined with a powder coating this FEELs far superior to most hose reelsSize is terrific  holds ample hose length for the average homeowner Function is superb  easy to use handle that is ergonomically stable PLUS and this is a big one a builtin swivel so the hose goes where you need it to go with less effortStable  you will need to secure this to the house or other designated area but comes complete with brackets All in all VERY impressive Finally an attractive functional and easy to use hose reel</td>\n",
       "      <td>0.089150</td>\n",
       "      <td>0.353016</td>\n",
       "      <td>0.508904</td>\n",
       "      <td>0.152256</td>\n",
       "      <td>0.022385</td>\n",
       "      <td>0.989653</td>\n",
       "    </tr>\n",
       "    <tr>\n",
       "      <th>7</th>\n",
       "      <td>I had hopes for it being the type of guy that would rather chase the critters away than kill them  But after several tries I had no success</td>\n",
       "      <td>0.228872</td>\n",
       "      <td>0.002853</td>\n",
       "      <td>0.610703</td>\n",
       "      <td>0.184236</td>\n",
       "      <td>0.331134</td>\n",
       "      <td>-0.799613</td>\n",
       "    </tr>\n",
       "    <tr>\n",
       "      <th>8</th>\n",
       "      <td>A lot of trouble for very little result I followed instructions closely and I've been using this for several weeks In that time I've only trapped a total of six wasps and zero yellow jackets  I finally threw it in the trash yesterday  Not worth the time to maintain it</td>\n",
       "      <td>0.527400</td>\n",
       "      <td>0.032515</td>\n",
       "      <td>0.448283</td>\n",
       "      <td>0.248499</td>\n",
       "      <td>0.078126</td>\n",
       "      <td>-0.891521</td>\n",
       "    </tr>\n",
       "    <tr>\n",
       "      <th>9</th>\n",
       "      <td>I hate having to be the executioner but after reading about how mice and their droppings can harm my beloved pups it was time to explore getting rid of themI've had good experiences with electronic traps in that they get the critters quickly and kill in an instantIt's something akin to Texas prison electric chair but smaller and the mice don't have little black hoods onUnfortunately the Mouseville 'Old Sparky' is very sensitive The metal plate must be free of even the slightest bit of dust or else it thinks it already has a victim and therefore won't carry out the electrocution Like a reprive from the governorThe Nooski is the noose method A good old fashioned hanging if you willLoad the noose and waitIn no time flat the gruesome deed was doneI wonder if it was as quick and therefore as humane as the electronic trapsAt least they get a last meal</td>\n",
       "      <td>0.264608</td>\n",
       "      <td>0.089833</td>\n",
       "      <td>0.571250</td>\n",
       "      <td>0.140357</td>\n",
       "      <td>0.243099</td>\n",
       "      <td>0.812818</td>\n",
       "    </tr>\n",
       "  </tbody>\n",
       "</table>\n",
       "</div>"
      ],
      "text/plain": [
       "                                                                                                                                                                                                                                                                                                                                                                                                                                                                                                                                                                                                                                                                                                                                                                                                                                                                                                                                                                                                                                                                                                                                                                                                                                                                                                                                                                                                                                                                                                                                                                                                                                                                                                                                                                                                                                                                                                                                                                                                                                                                                                                                                                                                                                                                                                                                                                                                                                                                                                                                                                                                                                                                                                                                                                                                                                                                                                                                                                                                                                                                                                                                                                                                                                                                                                                                                                                                                                                                                                                                                                                                                                                                                                                                                                                                                                                                                                                                                                                                                                                                                                                                                                                                                                                                                                                                                                                                                                                                                                                                                                                                                                                                                                                                                                                                                                                                                                                                                                                                                                                                                                                                                                                                                                                                                                                                                                                                                                                                                                                                                                                                                                                                                                                                                                                                                                                                                                                                                                                                                                                                                                                                                                                                                                                                                                                                                                                                                                                                                                                                                                                                                                                                                                                                                                                                                                                          text  \\\n",
       "0  I have an almost 100 organic garden and yard and overall I don't have that big an issue with weeds I use a lot of black plastic mulch in my veggies for exampleyou'll never see weeds again but I have a few areas like my patio where they are just out of control I despise the thought of adding any weedkilling chemicals to my yard for many reasons I eat a lot of what comes out of my yard I have a lot of wildlife that has a hard enough time surviving I worry about harm to pollinators etc But again for a few areas I thought this might be a potentially good idea and actually Preen came highly recommended by a local landscaper After reading the label and precautions however I decided to ONLY use it far away from any area where food is grown or where pets might roam I would not want my pets licking this off their paws sorryThe primary place that I wanted to use the Preen was on my patio which is made of pavers like 8 x 1234 the weeds grow like wildfire in the cracks between the pavers and it make me nuts Since no other plants grow there I thought it might be safe to use The trouble in using a powdered form of Preen I found is that the stuff just bounces off of the pavers and there' no way to make sure it goes in the crack So that's no fault of the product or spreader but that experiment was a failureI did find a few border areas that are largely gravel weeds seem to love gravel beds where I tried spreader and it worked as far as distribution fine But since it's still early spring here in New England I have no idea whether or not this stuff will prevent any weeds I tried to use it very sparingly because as I said I have no desire to bomb the yard with any chemicals The thing is the power spreader actually does work and you can go through a 25 jug of this stuff PDQ which is the source of my headline above What a clever idea add a batterypowered spreader to make sure that you're blowing through the stuff quickly Give that guy a raiseOverall while I can see the convenience value of this to someone who doesn't mind using a weed killer in garden beds and who has no pets but for me I felt guilty using it I think I'll go back to yanking the weeds or using vinegar to kill them I don't like the idea of hurting wildlife I think many weeds are good for the pollinators whose populations are declining I don't want poison in my yard and this stuff is way too expensive I would never buy this product sorry Please before you buy it read the labels and the warnings If you have a gravel parking area or some other nonnatural place where weeds are an issue perhaps this is a safe product But in the garden I don't think so                                                                                                                                                                                                                                                                                                                                                                                                                                                                                                                                                                                                                                                                                                                                                                                                                                                                                                                                                                                                                                                                                                                                                                                                                                                                                                                                                                                                                                                                                                                                                                                                                                                                                                                                                                                                                                                                                                                                                                                                                                                                                                                                                                                                                                                                                                                                                                                                                                                                                                                                                                                                                                                                                                                                                                                                                                                                                                                                                                                                                                                                                                                                                                                                                                                                                                                                                                                                                                                                                                                                                                                                                                                                                                                                                                                                                                                                                                                                                                                                                                                                                                                 \n",
       "1  I love how this is small and light I HATE large heavy bulky hoses with every fiber of my being With that said the flow on this hose isn't that great and the connectors suck They really should have fixed these issues before coming out with this product Mine hasn't sprung a leak yet but unfortunately I'm waiting for it to happen                                                                                                                                                                                                                                                                                                                                                                                                                                                                                                                                                                                                                                                                                                                                                                                                                                                                                                                                                                                                                                                                                                                                                                                                                                                                                                                                                                                                                                                                                                                                                                                                                                                                                                                                                                                                                                                                                                                                                                                                                                                                                                                                                                                                                                                                                                                                                                                                                                                                                                                                                                                                                                                                                                                                                                                                                                                                                                                                                                                                                                                                                                                                                                                                                                                                                                                                                                                                                                                                                                                                                                                                                                                                                                                                                                                                                                                                                                                                                                                                                                                                                                                                                                                                                                                                                                                                                                                                                                                                                                                                                                                                                                                                                                                                                                                                                                                                                                                                                                                                                                                                                                                                                                                                                                                                                                                                                                                                                                                                                                                                                                                                                                                                                                                                                                                                                                                                                                                                                                                                                                                                                                                                                                                                                                                                                                                                                                                                                                                                                                                      \n",
       "2  I've had this up for a couple weeks now and have yet to see any birds on it  The problem seems to be that the perches are quite small and there isn't a lot of drinking space the design requires that the bird sort of duck under the jug  We'll see what we'll see but so far this has been a bust for me  on my wooded property most avian visitors are woodpecker or cardinal size birds  this seems designed for small finchesThe design of the thing is pretty clever but you WILL lose some water when turning it upsidedown  Once upright the water wicks out somehow  provided you screwed the jug in fullyIt's pretty small  Maybe if you are trying to encourage sparrows and drive pigeons away it would be good                                                                                                                                                                                                                                                                                                                                                                                                                                                                                                                                                                                                                                                                                                                                                                                                                                                                                                                                                                                                                                                                                                                                                                                                                                                                                                                                                                                                                                                                                                                                                                                                                                                                                                                                                                                                                                                                                                                                                                                                                                                                                                                                                                                                                                                                                                                                                                                                                                                                                                                                                                                                                                                                                                                                                                                                                                                                                                                                                                                                                                                                                                                                                                                                                                                                                                                                                                                                                                                                                                                                                                                                                                                                                                                                                                                                                                                                                                                                                                                                                                                                                                                                                                                                                                                                                                                                                                                                                                                                                                                                                                                                                                                                                                                                                                                                                                                                                                                                                                                                                                                                                                                                                                                                                                                                                                                                                                                                                                                                                                                                                                                                                                                                                                                                                                                                                                                                                                                                                                                                                                                                                                                                  \n",
       "3  Revised 20130609  beginning of week 5 when the chickadees starting to use it regularlyAdditional updates on progressMy situation I have a variety of small birds  chickadees titmice bushtits wrens  that drink out of the ant traps on myHummingbird Feeders both integral and supplementary Trapit Ant Trap for Hummingbird Feeders I was interested in something better Because of the leaping ability of the neighborhood cats I will not locate feeders or this product with less than 55 foot bottom clearance higher in many locationsThis requirement for hanging at this height requires using a small ladder and made this product inconvenient for me unless I see some subsequent advice hence the rating I currently have it in a location that I would not have otherwise chosen in order to make the use of a ladder practical although still somewhat inconvenient Even if you don't have my situation this product may still be inconvenient for you to hangIt has taken the chickadees 4 full weeks to become accustomed to using this waterer details below I have _observed_ none of the other small birds using it but that may simply be that the chickadees call more attention to themselves I have just observed the titmice which are somewhat larger landing _vertically_ on the perch but don't seem to know how to access the water tray yet As for the wrens they may not have the right type of athletic ability to land on the perchUpdate Week 7 The chickadees are now using it enthusiastically but still none of the other birds that visit the adjacent feeder have been observed using it The visits of the titmice and wrens to the feeder often overlap those of the chickadees so it isn't for lack of examples for using the watererUpdate In Week 8 which was a very hot spell the titmice started making occasional tentative sips In Week 9 they are becoming somewhat more confident In Week 11 titmice have become enthusiastic It is an amazingly slow process especially compared to the quick adoption of new feeders The wrens that visit the feeder still haven't tried it nor have any of the flock of bushtits that daily pass within feet of itThe hanging loop is too small and impossible to see from below Even practicing with the container empty I couldn't put it on a typical screwin hanging hook much above eyelevel on the first or second try It has to be tilted at a considerable angle and wiggled about to find the hole With a full container I was unable to get it onto the hook without several inches of water pouring down my arm and usually most of the water in the jug spilled With the hook at eyelevel putting it on a stationary screwin hook typically spilled about an inch of water Spillless hanging seems to require a large Shook and since that precludes your holding the container from the side or bottom that in turn limits how high you can hang with without using a ladder or other deviceBird useI hung this close to a popular bird feeder peanuts where it would be a convenient perch for birds waiting their turn  the hanging flower pot that it replaced was used for just that It was over two weeks before first known use  I hear the chirping as the birds arrive at the feeder and usually get a secondary alert from my cat To supplement direct observation I put newspapers under a quarterfull jug and looked for speckling from the water drips that I expected would happen when birds landed Note I switched back to a full jug before observing the first arrival and that chickadee didn't produce enough movement to spill any water During weeks 3 and 4 only the larger adult chickadee used the waterer  the smaller adult mate who feeds second continued to drink from the nearby anttrap even though it was in a somewhat more exposed location there are Cooper's Hawks so they switch off on lookout duties At the beginning of week 5 the juvenile chickadees started showing up at the feeder and they quickly adopted the waterer and the smaller adult started using it as wellMy suspicion is that the perch is just too close to the water jug for even small birds to land comfortably The adult chickadees that I have seen using it land not headin but vertically or sideways on the perch appearing to also use a connector bar between the perching circle and the tray The adult chickadees also drink predominantly sideways  they duck down and turns their heads sideways to get at the tray The juvenile chickadees are small enough to drink headonThis observation screams that the trayperch is much too small relative to the jugCleaning questionable adviceThe typical advice for cleaning hummingbird feeders is to use vinegar and to avoid soap Some claim that hummingbirds hate soap's taste other that it causes problems with their digestive system or they may hate the taste because of those problemsConsequently I was surprised that the advice was to clean with mild soap Soap and vinegar have very different roles Detergents such a soaps are molecules that have one end that binds to water and the other to a oil or grease molecule and thus allows water flow to pull off not just that oilgrease but everything else that is attached to it Vinegar is a weak acid that tears apart or dissolves other types of contaminants This is why you will find both in many cleaning products My understanding of the types of problems likely to occur  minerals and harmful biologics  are ones dealt with by vinegar and on which soap has littleno effect There is no mention of bleach either wayApparent theory of operation beyond the basicsThe slots that release the water into the tray are very thin When I first turned over the feeder the water released didn't even completely cover the bottom But rock the feeder even slightly  as it would in the wind or from birds landing  and more water is released This has the potential to do more than just replenish the water in the tray  the currents _might_ help float debris up and over the sides I could simulate a little of this by hitting the perch with my finger but it would take actual birds landing to confirm this speculationObservation from current use With evaporation and without periodic rocking the water in the tray can become very depleted  not completely covering the bottom  which might then not provide sufficient attraction for birds to land and providing the rocking to do the replenishmentSuggestion One might want to periodically give this product a tap to release a bit more water into the tray Douglas B Moran                                                                                                                                                       \n",
       "4  A nice garden hose reel that's built for both quality and some attractiveness  While this is fairly heavyduty I found that using 34light duty34 or 34medium duty34 hoses worked best as the heavy duty variety don't like to bend in quite a small of a diameter as this gives  As long as your hose isn't rigid as some heavy duty ones are you should be able to reel it up easilyAssembly  it was easy but the little wrench thing that's included didn't even fit the nuts  At least the manual even suggests you may need to use your own pliersOverall this looks nice is solid and based on limited usage thus far is a quality product  It would've been nice if it would have some with mounting hardware come on it's four screws and you're charging over 100 bucks I'm not convinced even after having this that I would buy it again based on price alone  Good unit but feels pricey compared to other options                                                                                                                                                                                                                                                                                                                                                                                                                                                                                                                                                                                                                                                                                                                                                                                                                                                                                                                                                                                                                                                                                                                                                                                                                                                                                                                                                                                                                                                                                                                                                                                                                                                                                                                                                                                                                                                                                                                                                                                                                                                                                                                                                                                                                                                                                                                                                                                                                                                                                                                                                                                                                                                                                                                                                                                                                                                                                                                                                                                                                                                                                                                                                                                                                                                                                                                                                                                                                                                                                                                                                                                                                                                                                                                                                                                                                                                                                                                                                                                                                                                                                                                                                                                                                                                                                                                                                                                                                                                                                                                                                                                                                                                                                                                                                                                                                                                                                                                                                                                                                                                                                                                                                                                                                                                                                                                                                                                                                                                                                                                                                                                                                                                                                                                                                                                                                                                                                                                                  \n",
       "5  I've gone through a few power washers  I don't use them often so I don't get new ones to replace a broken one just usually I see one and it has a feature I'd like so I give my old one to a friend or family member and get the new oneThis one looked interesting when it came up in the Vine program so I thought I'd give it a try  It was winter time when I ordered it and living in Wisconsin with the winter we've had I've got so much salt in the garage that I've never seen it look like this before  In about a 2 foot oval around the entire area the car sits it's like a small white beach there are literally small salt dunes in many placesThis was probably the biggest pain of any I have purchased to unbox and put together  There are 19 pieces you pull out 21 if you count the two wheel covers that were slipped on the wheels but not fully in place yet and had to be removed to put the wheels on anyway  Some things didn't line up very easily and required a bit of force to get them into place and this was mostly due to the barrels the screws went through not going into the holes set in the receiving piece without a bunch of elbow grease and slightly bending things to align them  There's a little design quality there they could improve uponI don't like that the connector for the hose is all plastic  Plastic for the screw threads plastic for the little rollers that pop out to secure it to the nozzle on the power washer just plastic plastic plastic  I've had far too many of these break in the past from other manufacturers I also don't like the wand's connector  The hose from the washer to the wand actually slides up inside a deep recessed hole with a cover totally shrouding it  The hose has to line up a specific way because of the shape of the plug on it and there is no marking on the hose to show 34line up with this spot34 on the wand  So you have to look into the 34tunnel34 on the hose to the hole inside see where the parts are supposed to be lined up then get the hose oriented this way and then push it up inside while maintaining that orientation  Slightly cocking it to one side or the other will mean you won't get it inserted  So there's some give and take there  Most places just use round retaining flanges that can be inserted regardless but this one is rectangular so it HAS to go in the right wayI was able to do a good stress test of the unit for my first run though cleaning out that aforementioned garage full of salt and gunk from the winter roads here  Since we've had an insanely brutal winter compared to normal for the last couple decades between more snow and more days below zero we've used a LOT of salt on our roads  Now that we're in April and I finally saw a day break 50 degrees I thought I would finally clean my garage  Since I didn't even have hoses outside yet and the faucets outside are still turned off I bought a short 15 foot hose to run from my wash tub in the laundry room off my garage to the power washer and just snaked the hose through the garage door and left it openOnce I got past the reset safety on the plug I saw that it had apparently been shipped in the 34on34 position  It's a large 334 or so circle on the BOTTOM of the front of the washer that rotates to turn this on and off  I like the large oversized swtich I just don't like the position  So I got it going and spent some time working on the concrete floor in my garageIt performed very well as good as any power washer I've had in the past and actually better than most  OnOff with the wand's handle was quick and flawless  I know my stationary tub does not put out as much water as quickly when compared to the hose bibs outside  I've had other power washers when using something with less than 34full water34 flow like I was using today would kind of squirt out a little water until you released the handle on the wand pulled it released it and pulled it again getting enough water pressure to the pump again and finally the pump would kick in again and it would start actually using power  I've had that happen here previously using this very stationary tub  But it never happened once with this unit  Full power the entire time despite the lesser inflow of water to the unitNoise levels were about on par with any power washer I've ever owned  The hose straightened out easily when I 34unscrewed34 it by twisting the wand to get rid of all the spirals in it from being rolled up it didn't try to hold it's old 34wound34 position like many do  The hose seems to be better than most of the really bad plastic feeling hoses the other washers I've had usedThe wand twists to give you control over the size of the spray and there's a setting for using the detergent mixer as well  That was another piece of this that just disappointed me as far as the poor engineering  The instructions show clearly that you are supposed to run the line from the top back of the power washer to the detergent container underneath the handle where this snaps in  But if you do that it would kink the unit  going to the side wasn't a good option either  I ended up pulling the little line apart and feeding it through one of the other cutouts in the handle since that way it wasn't compressed and didn't interfere with getting the container on and off  I've posted a couple pictures of what I'm talking about so you can see what I meanI also miss the wind up crank my other one had since there was a hose reel built into the top of it  But ultimately I prefer this one since as I said the hose doesn't seem to be forcing itself to stay in a coiled up spiral shape I can actually get this completely straight and flat while I'm using it  I find that far more useful than an easy way to roll it up when I'm doneThe AC cord has plenty of length and the hose is a usable length as wellAll told this is a good little unit  Engineering issues would've made me give this just 3 stars most likely if it performed as adequately as the other power washers I've used in the past but I had to give it another star for how well it actually worked  It had no problems stripping the gunk off my concrete floor or the Weathertech floor mats of my Jeep or even the floor mats I dragged outside to hose down now that the winter season has mostly passed us up  If it weren't for how the hose has to line up just the right way without being able to visually see it while you do it for the connector to the wand or the assembly issues with things not lining up right before you screwed them in the performance would've earned this 5 stars  So it balances out to 4 and it's certainly earned all of them   \n",
       "6  We seem to have a hard time finding a decent hose reel Over the year we've own expensive ones that looked great but wore out far too fast cheap ones that we planned to toss after each year but which performed so badly we still didn't get out money's worth moderate ones that seemed to be the worst of all possible worldstoo expensive to toss out and inferior in almost every way We store one hose in a hose bucketbasket which is less unsightly but still a pain to wind We have a couple portable reels that are more trouble than they are worth When this came up for review I thought 'what the heck'so very glad to try this outFirst this is smartly designed Really like the added shelf to store accessories which often end up in the shed and out of reach or laying in windowsills Next the heft and weight are much more substantial than mostcombined with a powder coating this FEELs far superior to most hose reelsSize is terrific  holds ample hose length for the average homeowner Function is superb  easy to use handle that is ergonomically stable PLUS and this is a big one a builtin swivel so the hose goes where you need it to go with less effortStable  you will need to secure this to the house or other designated area but comes complete with brackets All in all VERY impressive Finally an attractive functional and easy to use hose reel                                                                                                                                                                                                                                                                                                                                                                                                                                                                                                                                                                                                                                                                                                                                                                                                                                                                                                                                                                                                                                                                                                                                                                                                                                                                                                                                                                                                                                                                                                                                                                                                                                                                                                                                                                                                                                                                                                                                                                                                                                                                                                                                                                                                                                                                                                                                                                                                                                                                                                                                                                                                                                                                                                                                                                                                                                                                                                                                                                                                                                                                                                                                                                                                                                                                                                                                                                                                                                                                                                                                                                                                                                                                                                                                                                                                                                                                                                                                                                                                                                                                                                                                                                                                                                                                                                                                                                                                                                                                                                                                                                                                                                                                                                                                                                                                                                                                                                                                                                                                                                                                                                                                                                                                                                                                                                                                                                                                                                                                 \n",
       "7  I had hopes for it being the type of guy that would rather chase the critters away than kill them  But after several tries I had no success                                                                                                                                                                                                                                                                                                                                                                                                                                                                                                                                                                                                                                                                                                                                                                                                                                                                                                                                                                                                                                                                                                                                                                                                                                                                                                                                                                                                                                                                                                                                                                                                                                                                                                                                                                                                                                                                                                                                                                                                                                                                                                                                                                                                                                                                                                                                                                                                                                                                                                                                                                                                                                                                                                                                                                                                                                                                                                                                                                                                                                                                                                                                                                                                                                                                                                                                                                                                                                                                                                                                                                                                                                                                                                                                                                                                                                                                                                                                                                                                                                                                                                                                                                                                                                                                                                                                                                                                                                                                                                                                                                                                                                                                                                                                                                                                                                                                                                                                                                                                                                                                                                                                                                                                                                                                                                                                                                                                                                                                                                                                                                                                                                                                                                                                                                                                                                                                                                                                                                                                                                                                                                                                                                                                                                                                                                                                                                                                                                                                                                                                                                                                                                                                                                                   \n",
       "8  A lot of trouble for very little result I followed instructions closely and I've been using this for several weeks In that time I've only trapped a total of six wasps and zero yellow jackets  I finally threw it in the trash yesterday  Not worth the time to maintain it                                                                                                                                                                                                                                                                                                                                                                                                                                                                                                                                                                                                                                                                                                                                                                                                                                                                                                                                                                                                                                                                                                                                                                                                                                                                                                                                                                                                                                                                                                                                                                                                                                                                                                                                                                                                                                                                                                                                                                                                                                                                                                                                                                                                                                                                                                                                                                                                                                                                                                                                                                                                                                                                                                                                                                                                                                                                                                                                                                                                                                                                                                                                                                                                                                                                                                                                                                                                                                                                                                                                                                                                                                                                                                                                                                                                                                                                                                                                                                                                                                                                                                                                                                                                                                                                                                                                                                                                                                                                                                                                                                                                                                                                                                                                                                                                                                                                                                                                                                                                                                                                                                                                                                                                                                                                                                                                                                                                                                                                                                                                                                                                                                                                                                                                                                                                                                                                                                                                                                                                                                                                                                                                                                                                                                                                                                                                                                                                                                                                                                                                                                                  \n",
       "9  I hate having to be the executioner but after reading about how mice and their droppings can harm my beloved pups it was time to explore getting rid of themI've had good experiences with electronic traps in that they get the critters quickly and kill in an instantIt's something akin to Texas prison electric chair but smaller and the mice don't have little black hoods onUnfortunately the Mouseville 'Old Sparky' is very sensitive The metal plate must be free of even the slightest bit of dust or else it thinks it already has a victim and therefore won't carry out the electrocution Like a reprive from the governorThe Nooski is the noose method A good old fashioned hanging if you willLoad the noose and waitIn no time flat the gruesome deed was doneI wonder if it was as quick and therefore as humane as the electronic trapsAt least they get a last meal                                                                                                                                                                                                                                                                                                                                                                                                                                                                                                                                                                                                                                                                                                                                                                                                                                                                                                                                                                                                                                                                                                                                                                                                                                                                                                                                                                                                                                                                                                                                                                                                                                                                                                                                                                                                                                                                                                                                                                                                                                                                                                                                                                                                                                                                                                                                                                                                                                                                                                                                                                                                                                                                                                                                                                                                                                                                                                                                                                                                                                                                                                                                                                                                                                                                                                                                                                                                                                                                                                                                                                                                                                                                                                                                                                                                                                                                                                                                                                                                                                                                                                                                                                                                                                                                                                                                                                                                                                                                                                                                                                                                                                                                                                                                                                                                                                                                                                                                                                                                                                                                                                                                                                                                                                                                                                                                                                                                                                                                                                                                                                                                                                                                                                                                                                                                                                                                                                                                                                     \n",
       "\n",
       "      Anger       Joy   Sadness      Fear   Disgust  Sentiment  \n",
       "0  0.106499  0.010314  0.583821  0.560058  0.058305 -0.737788   \n",
       "1  0.530225  0.072203  0.405293  0.237732  0.064071 -0.924424   \n",
       "2  0.177403  0.270644  0.450372  0.126051  0.151649  0.000000   \n",
       "3  0.426352  0.015580  0.594996  0.139459  0.169231  0.000000   \n",
       "4  0.083954  0.681931  0.206365  0.044620  0.012238  0.598601   \n",
       "5  0.451451  0.008650  0.639120  0.176251  0.062215  0.913875   \n",
       "6  0.089150  0.353016  0.508904  0.152256  0.022385  0.989653   \n",
       "7  0.228872  0.002853  0.610703  0.184236  0.331134 -0.799613   \n",
       "8  0.527400  0.032515  0.448283  0.248499  0.078126 -0.891521   \n",
       "9  0.264608  0.089833  0.571250  0.140357  0.243099  0.812818   "
      ]
     },
     "execution_count": 44,
     "metadata": {},
     "output_type": "execute_result"
    }
   ],
   "source": [
    "dataNLU.select(dataNLU['text'], dataNLU['Anger'], dataNLU['Joy'], dataNLU['Sadness'], dataNLU['Fear'], dataNLU['Disgust'], dataNLU['Sentiment']).toPandas().head(10)"
   ]
  },
  {
   "cell_type": "markdown",
   "metadata": {},
   "source": [
    "## 3. Retrain Model with NLU Features Added"
   ]
  },
  {
   "cell_type": "markdown",
   "metadata": {},
   "source": [
    "### Split the dataset into training and test data sets"
   ]
  },
  {
   "cell_type": "code",
   "execution_count": 45,
   "metadata": {},
   "outputs": [],
   "source": [
    "trainNLU, testNLU = dataNLU.randomSplit([70.0,30.0], seed=1)"
   ]
  },
  {
   "cell_type": "markdown",
   "metadata": {},
   "source": [
    "### Bucketize the NLU features"
   ]
  },
  {
   "cell_type": "code",
   "execution_count": 46,
   "metadata": {},
   "outputs": [],
   "source": [
    "from pyspark.ml.feature import Bucketizer\n",
    "AngerBucketSplits = [0.0, 0.1, 0.2, 0.3, 0.4, 0.5, 0.6, 0.7, 0.8, 0.9, 1.0]\n",
    "AngerBucket = Bucketizer(splits=AngerBucketSplits, inputCol=\"Anger\", outputCol=\"AngerBucket\")\n",
    "JoyBucketSplits = [0.0, 0.1, 0.2, 0.3, 0.4, 0.5, 0.6, 0.7, 0.8, 0.9, 1.0]\n",
    "JoyBucket = Bucketizer(splits=JoyBucketSplits, inputCol=\"Joy\", outputCol=\"JoyBucket\")\n",
    "SadnessBucketSplits = [0.0, 0.1, 0.2, 0.3, 0.4, 0.5, 0.6, 0.7, 0.8, 0.9, 1.0]\n",
    "SadnessBucket = Bucketizer(splits=SadnessBucketSplits, inputCol=\"Sadness\", outputCol=\"SadnessBucket\")\n",
    "FearBucketSplits = [0.0, 0.1, 0.2, 0.3, 0.4, 0.5, 0.6, 0.7, 0.8, 0.9, 1.0]\n",
    "FearBucket = Bucketizer(splits=FearBucketSplits, inputCol=\"Fear\", outputCol=\"FearBucket\")\n",
    "DisgustBucketSplits = [0.0, 0.1, 0.2, 0.3, 0.4, 0.5, 0.6, 0.7, 0.8, 0.9, 1.0]\n",
    "DisgustBucket = Bucketizer(splits=DisgustBucketSplits, inputCol=\"Disgust\", outputCol=\"DisgustBucket\")\n",
    "SentimentBucketSplits = [-1.0, -0.9, -0.8, -0.7, -0.6, -0.5, -0.4, -0.3, -0.2, -0.1, 0.0, 0.1, 0.2, 0.3, 0.4, 0.5, 0.6, 0.7, 0.8, 0.9, 1.0]\n",
    "SentimentBucket = Bucketizer(splits=SentimentBucketSplits, inputCol=\"Sentiment\", outputCol=\"SentimentBucket\")"
   ]
  },
  {
   "cell_type": "markdown",
   "metadata": {},
   "source": [
    "### Create a feature vector"
   ]
  },
  {
   "cell_type": "code",
   "execution_count": 47,
   "metadata": {},
   "outputs": [],
   "source": [
    "from pyspark.ml.feature import VectorAssembler\n",
    "assembler = (VectorAssembler(inputCols=[\"features\", \"AngerBucket\", \"JoyBucket\", \"SadnessBucket\", \"FearBucket\", \"DisgustBucket\",\"SentimentBucket\"], \n",
    "             outputCol=\"featuresNLU\"))"
   ]
  },
  {
   "cell_type": "markdown",
   "metadata": {},
   "source": [
    "### Create a revised machine learning pipeline utilizing the new bucketed NLU feaures"
   ]
  },
  {
   "cell_type": "code",
   "execution_count": 48,
   "metadata": {},
   "outputs": [],
   "source": [
    "lrNLU = LogisticRegression(labelCol = \"label\", featuresCol= \"featuresNLU\", maxIter=10, regParam=0.3, threshold=0.5)\n",
    "stagesNLU = ([removePunctuationTrans, tokenizer, remover, hashingTF, idf, AngerBucket, JoyBucket, SadnessBucket, FearBucket, DisgustBucket, SentimentBucket,\n",
    "            assembler, lrNLU])\n",
    "pipelineNLU = Pipeline(stages = stagesNLU)"
   ]
  },
  {
   "cell_type": "markdown",
   "metadata": {},
   "source": [
    "### Train the new model using the training data set"
   ]
  },
  {
   "cell_type": "code",
   "execution_count": 49,
   "metadata": {},
   "outputs": [],
   "source": [
    "modelNLU = pipelineNLU.fit(trainNLU)"
   ]
  },
  {
   "cell_type": "markdown",
   "metadata": {},
   "source": [
    "## 4. Evaluate the Model Learned with NLU Features\n",
    "### Make updated predictions using the test data set"
   ]
  },
  {
   "cell_type": "code",
   "execution_count": 50,
   "metadata": {},
   "outputs": [],
   "source": [
    "predictionsNLU = modelNLU.transform(testNLU)"
   ]
  },
  {
   "cell_type": "code",
   "execution_count": 51,
   "metadata": {},
   "outputs": [
    {
     "data": {
      "text/html": [
       "<div>\n",
       "<table border=\"1\" class=\"dataframe\">\n",
       "  <thead>\n",
       "    <tr style=\"text-align: right;\">\n",
       "      <th></th>\n",
       "      <th>label</th>\n",
       "      <th>prediction</th>\n",
       "      <th>probability</th>\n",
       "    </tr>\n",
       "  </thead>\n",
       "  <tbody>\n",
       "    <tr>\n",
       "      <th>0</th>\n",
       "      <td>4</td>\n",
       "      <td>2</td>\n",
       "      <td>[0.000133350466891, 0.00926691737403, 0.583212674267, 0.283061680542, 0.121227339005, 0.00309803834479]</td>\n",
       "    </tr>\n",
       "    <tr>\n",
       "      <th>1</th>\n",
       "      <td>2</td>\n",
       "      <td>1</td>\n",
       "      <td>[0.00220899585787, 0.271614699396, 0.252753340845, 0.25731918278, 0.111803657529, 0.104300123592]</td>\n",
       "    </tr>\n",
       "    <tr>\n",
       "      <th>2</th>\n",
       "      <td>4</td>\n",
       "      <td>1</td>\n",
       "      <td>[0.00196015582507, 0.280745885632, 0.204130600463, 0.235690167227, 0.146011898791, 0.131461292061]</td>\n",
       "    </tr>\n",
       "    <tr>\n",
       "      <th>3</th>\n",
       "      <td>1</td>\n",
       "      <td>2</td>\n",
       "      <td>[0.00237599281821, 0.260507102449, 0.264252257763, 0.219324727566, 0.136318217739, 0.117221701666]</td>\n",
       "    </tr>\n",
       "    <tr>\n",
       "      <th>4</th>\n",
       "      <td>5</td>\n",
       "      <td>3</td>\n",
       "      <td>[0.00245682189653, 0.174388438973, 0.179953526096, 0.250440282617, 0.166900677678, 0.225860252739]</td>\n",
       "    </tr>\n",
       "  </tbody>\n",
       "</table>\n",
       "</div>"
      ],
      "text/plain": [
       "   label  prediction  \\\n",
       "0  4      2            \n",
       "1  2      1            \n",
       "2  4      1            \n",
       "3  1      2            \n",
       "4  5      3            \n",
       "\n",
       "                                                                                               probability  \n",
       "0  [0.000133350466891, 0.00926691737403, 0.583212674267, 0.283061680542, 0.121227339005, 0.00309803834479]  \n",
       "1  [0.00220899585787, 0.271614699396, 0.252753340845, 0.25731918278, 0.111803657529, 0.104300123592]        \n",
       "2  [0.00196015582507, 0.280745885632, 0.204130600463, 0.235690167227, 0.146011898791, 0.131461292061]       \n",
       "3  [0.00237599281821, 0.260507102449, 0.264252257763, 0.219324727566, 0.136318217739, 0.117221701666]       \n",
       "4  [0.00245682189653, 0.174388438973, 0.179953526096, 0.250440282617, 0.166900677678, 0.225860252739]       "
      ]
     },
     "execution_count": 51,
     "metadata": {},
     "output_type": "execute_result"
    }
   ],
   "source": [
    "predictionsNLU.select(\"label\", \"prediction\", \"probability\").toPandas().head()"
   ]
  },
  {
   "cell_type": "markdown",
   "metadata": {},
   "source": [
    "### Evaluate the updated model performance by calculating the accuracy"
   ]
  },
  {
   "cell_type": "code",
   "execution_count": 52,
   "metadata": {},
   "outputs": [
    {
     "name": "stdout",
     "output_type": "stream",
     "text": [
      "Accuracy with NLU = 34.69%.\n"
     ]
    }
   ],
   "source": [
    "evaluatorNLU = MulticlassClassificationEvaluator(labelCol = \"label\", predictionCol=\"prediction\").setMetricName(\"accuracy\")\n",
    "print('Accuracy with NLU = {:0.2f}%.'.format(evaluatorNLU.evaluate(predictionsNLU)*100))"
   ]
  },
  {
   "cell_type": "markdown",
   "metadata": {
    "collapsed": true
   },
   "source": [
    "![IBM Logo](http://www-03.ibm.com/press/img/Large_IBM_Logo_TN.jpg)\n",
    "\n",
    "Rich Tarro  \n",
    "Solutions Architect, IBM Corporation  \n",
    "rtarro@us.ibm.com\n",
    "\n",
    "January 16, 2018"
   ]
  },
  {
   "cell_type": "code",
   "execution_count": null,
   "metadata": {},
   "outputs": [],
   "source": []
  }
 ],
 "metadata": {
  "kernelspec": {
   "display_name": "Python 2 with Spark 2.1",
   "language": "python",
   "name": "python2-spark21"
  },
  "language_info": {
   "codemirror_mode": {
    "name": "ipython",
    "version": 2
   },
   "file_extension": ".py",
   "mimetype": "text/x-python",
   "name": "python",
   "nbconvert_exporter": "python",
   "pygments_lexer": "ipython2",
   "version": "2.7.11"
  }
 },
 "nbformat": 4,
 "nbformat_minor": 1
}
